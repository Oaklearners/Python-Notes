{
 "cells": [
  {
   "cell_type": "markdown",
   "metadata": {},
   "source": [
    "<center><h1>Exception Handling in python</h1></center>\n",
    "    \n"
   ]
  },
  {
   "cell_type": "markdown",
   "metadata": {},
   "source": [
    "<h3>what is an Exception?</h3>\n",
    "\n",
    "    An exception is an unexpected and unwanted event, which occurs during the execution of a program, that disrupts the normal flow of the program's instructions exection\n",
    "    \n",
    "    "
   ]
  },
  {
   "cell_type": "markdown",
   "metadata": {},
   "source": [
    "<h3> Sample Program for understanding Exception</h3>"
   ]
  },
  {
   "cell_type": "code",
   "execution_count": 3,
   "metadata": {},
   "outputs": [
    {
     "name": "stdout",
     "output_type": "stream",
     "text": [
      "Enter First Integer10\n",
      "Enter Second Integer3\n",
      "Sum= 13\n",
      "Sub= 7\n",
      "Mul= 30\n",
      "Div= 3.3333333333333335\n",
      "Mod= 1\n",
      "Floor Div= 3\n",
      "Power= 1000\n"
     ]
    }
   ],
   "source": [
    "a = int(input(\"Enter First Integer\"))\n",
    "b = int(input(\"Enter Second Integer\"))\n",
    "\n",
    "print(\"Sum=\",(a+b))\n",
    "print(\"Sub=\",(a-b))\n",
    "print(\"Mul=\",(a*b))\n",
    "print(\"Div=\",(a/b))\n",
    "print(\"Mod=\",(a%b))\n",
    "print(\"Floor Div=\",(a//b))\n",
    "print(\"Power=\",(a**b))"
   ]
  },
  {
   "cell_type": "markdown",
   "metadata": {},
   "source": [
    "    In the above program i have given first integer as 10, and second Integer as 3. and all are executed successfully\n",
    "    \n",
    "    \n",
    "    In case, if we give first integer as 10, and second integer as 0 ; and check the output\n",
    "    \n",
    "    "
   ]
  },
  {
   "cell_type": "code",
   "execution_count": 5,
   "metadata": {},
   "outputs": [
    {
     "name": "stdout",
     "output_type": "stream",
     "text": [
      "Enter First Integer10\n",
      "Enter Second Integer0\n",
      "Sum= 10\n",
      "Sub= 10\n",
      "Mul= 0\n"
     ]
    },
    {
     "ename": "ZeroDivisionError",
     "evalue": "division by zero",
     "output_type": "error",
     "traceback": [
      "\u001b[1;31m---------------------------------------------------------------------------\u001b[0m",
      "\u001b[1;31mZeroDivisionError\u001b[0m                         Traceback (most recent call last)",
      "\u001b[1;32m<ipython-input-5-96f0feea7d57>\u001b[0m in \u001b[0;36m<module>\u001b[1;34m\u001b[0m\n\u001b[0;32m      5\u001b[0m \u001b[0mprint\u001b[0m\u001b[1;33m(\u001b[0m\u001b[1;34m\"Sub=\"\u001b[0m\u001b[1;33m,\u001b[0m\u001b[1;33m(\u001b[0m\u001b[0ma\u001b[0m\u001b[1;33m-\u001b[0m\u001b[0mb\u001b[0m\u001b[1;33m)\u001b[0m\u001b[1;33m)\u001b[0m\u001b[1;33m\u001b[0m\u001b[1;33m\u001b[0m\u001b[0m\n\u001b[0;32m      6\u001b[0m \u001b[0mprint\u001b[0m\u001b[1;33m(\u001b[0m\u001b[1;34m\"Mul=\"\u001b[0m\u001b[1;33m,\u001b[0m\u001b[1;33m(\u001b[0m\u001b[0ma\u001b[0m\u001b[1;33m*\u001b[0m\u001b[0mb\u001b[0m\u001b[1;33m)\u001b[0m\u001b[1;33m)\u001b[0m\u001b[1;33m\u001b[0m\u001b[1;33m\u001b[0m\u001b[0m\n\u001b[1;32m----> 7\u001b[1;33m \u001b[0mprint\u001b[0m\u001b[1;33m(\u001b[0m\u001b[1;34m\"Div=\"\u001b[0m\u001b[1;33m,\u001b[0m\u001b[1;33m(\u001b[0m\u001b[0ma\u001b[0m\u001b[1;33m/\u001b[0m\u001b[0mb\u001b[0m\u001b[1;33m)\u001b[0m\u001b[1;33m)\u001b[0m\u001b[1;33m\u001b[0m\u001b[1;33m\u001b[0m\u001b[0m\n\u001b[0m\u001b[0;32m      8\u001b[0m \u001b[0mprint\u001b[0m\u001b[1;33m(\u001b[0m\u001b[1;34m\"Mod=\"\u001b[0m\u001b[1;33m,\u001b[0m\u001b[1;33m(\u001b[0m\u001b[0ma\u001b[0m\u001b[1;33m%\u001b[0m\u001b[0mb\u001b[0m\u001b[1;33m)\u001b[0m\u001b[1;33m)\u001b[0m\u001b[1;33m\u001b[0m\u001b[1;33m\u001b[0m\u001b[0m\n\u001b[0;32m      9\u001b[0m \u001b[0mprint\u001b[0m\u001b[1;33m(\u001b[0m\u001b[1;34m\"Floor Div=\"\u001b[0m\u001b[1;33m,\u001b[0m\u001b[1;33m(\u001b[0m\u001b[0ma\u001b[0m\u001b[1;33m//\u001b[0m\u001b[0mb\u001b[0m\u001b[1;33m)\u001b[0m\u001b[1;33m)\u001b[0m\u001b[1;33m\u001b[0m\u001b[1;33m\u001b[0m\u001b[0m\n",
      "\u001b[1;31mZeroDivisionError\u001b[0m: division by zero"
     ]
    }
   ],
   "source": [
    "a = int(input(\"Enter First Integer\"))\n",
    "b = int(input(\"Enter Second Integer\"))\n",
    "\n",
    "print(\"Sum=\",(a+b))\n",
    "print(\"Sub=\",(a-b))\n",
    "print(\"Mul=\",(a*b))\n",
    "print(\"Div=\",(a/b))\n",
    "print(\"Mod=\",(a%b))\n",
    "print(\"Floor Div=\",(a//b))\n",
    "print(\"Power=\",(a**b))"
   ]
  },
  {
   "cell_type": "markdown",
   "metadata": {},
   "source": [
    "    > For the above program i have given a value as 10 and b value as 0. it has executed sum, subtraction and mulitiplication ;\n",
    "    when it executes divion we got an error as \"ZeroDivisionError\" and it has reproted and remaing flow has stoped even they are valid instruction\n",
    "    \n",
    "    \n",
    "    > Here,\"ZeroDivisionError\" is an exception is identifed at the time of program runnin ; once it identified it stops the program execution and it does not contined the reaming statements even they are right... "
   ]
  },
  {
   "cell_type": "markdown",
   "metadata": {},
   "source": [
    "# Exception Handling:\n",
    "    \n",
    "    if we handle the exception, then remaing part of program can execute normally\n",
    "    \n",
    "    To handle exceptions in python we use the folwing keywrods:\n",
    "        1. try\n",
    "        2. except \n",
    "        3. else\n",
    "        4. finally\n",
    "        5. raise"
   ]
  },
  {
   "cell_type": "markdown",
   "metadata": {},
   "source": [
    "    try:-\n",
    "    -----\n",
    "    \n",
    "        > it is a block of code,\n",
    "        > this block contain set of statements; which may raise an exception\n",
    "    \n",
    "    \n",
    "    except :-\n",
    "    ---------\n",
    "        \n",
    "        > this is a block of code\n",
    "        > this block contain statements to handle the exception  or it contain alternative code \n",
    "        > this block of code exceute only when exception is raised in try block; if exception does not raised in try block this block is ignored by the python virtual machine\n",
    "       \n",
    "    \n",
    "    else:-\n",
    "    ------\n",
    "        \n",
    "        > it is a block of code;\n",
    "        > this block of code execute if no exception raised in try block\n",
    "        > if exception raised in try block, then PVM ignores this block of code\n",
    "    \n",
    "    finally :-\n",
    "    ----------\n",
    "    \n",
    "        > finally is a block of code\n",
    "        > this block of code can execute even  raise exception or does not write exception \n",
    "        \n",
    "        \n",
    "    raised:\n",
    "    --------\n",
    "    \n",
    "        > raised "
   ]
  },
  {
   "cell_type": "markdown",
   "metadata": {},
   "source": [
    "# Syntax of try and except:\n",
    "\n",
    "    Syntax - 1: one try block and one except block\n",
    "    -----------\n",
    "    try:\n",
    "        block of code\n",
    "    except Exception_Name:\n",
    "        block of code"
   ]
  },
  {
   "cell_type": "code",
   "execution_count": 5,
   "metadata": {},
   "outputs": [
    {
     "name": "stdout",
     "output_type": "stream",
     "text": [
      "Statement -1\n",
      "Statement -2\n",
      "Statement -3\n",
      "Statement -4\n",
      "Statement-7\n",
      "Statement-8\n"
     ]
    }
   ],
   "source": [
    "# Example - 1: = if no Exceptions raised\n",
    "\n",
    "print(\"Statement -1\")\n",
    "try:\n",
    "    print(\"Statement -2\")\n",
    "    print(\"Statement -3\")\n",
    "    print(\"Statement -4\")\n",
    "except ZeroDivsionError:\n",
    "    print(\"Statement-5\")\n",
    "    print(\"Statement-6\")\n",
    "print(\"Statement-7\")\n",
    "print(\"Statement-8\")"
   ]
  },
  {
   "cell_type": "code",
   "execution_count": 7,
   "metadata": {},
   "outputs": [
    {
     "name": "stdout",
     "output_type": "stream",
     "text": [
      "Statement -1\n",
      "Statement -2\n",
      "Statement -3\n",
      "Statement-5\n",
      "Statement-6\n",
      "Statement-7\n",
      "Statement-8\n"
     ]
    }
   ],
   "source": [
    "# Example 2: if exception raised in Statement -4 (10/0)\n",
    "\n",
    "\n",
    "print(\"Statement -1\")\n",
    "try:\n",
    "    print(\"Statement -2\")\n",
    "    print(\"Statement -3\")\n",
    "    print(\"Statement -4\",(10/0))  # -> Manually adding 10/0 to get exception\n",
    "except ZeroDivisionError:\n",
    "    print(\"Statement-5\")\n",
    "    print(\"Statement-6\")\n",
    "print(\"Statement-7\")\n",
    "print(\"Statement-8\")\n"
   ]
  },
  {
   "cell_type": "markdown",
   "metadata": {},
   "source": [
    "    Note:\n",
    "        \n",
    "        In the above Program - Exception has raised in 4 th statement ; \n",
    "        so it executed upto statement -3 and statement - 4 raised exception then control immediately jump to except block\n",
    "        and continued statement 5 and 6 and remaing flow continued"
   ]
  },
  {
   "cell_type": "markdown",
   "metadata": {},
   "source": [
    "    Syntax - 2: multiple Except block for single Try block:\n",
    "    -------------------------------------------------------\n",
    "        \n",
    "        python allow to define multple except block for single try because , one try block may generate different kind of exception"
   ]
  },
  {
   "cell_type": "markdown",
   "metadata": {},
   "source": [
    "    Syntax:\n",
    "        \n",
    "        try:\n",
    "            block of code\n",
    "        except Exception_name_1:\n",
    "            block of code to handle exception_1\n",
    "        except Exception_name_2:\n",
    "            block of code to handle exception_2\n",
    "        except Exception_name_3:\n",
    "            block of code to handle exception_3\n",
    "            .\n",
    "            .\n",
    "            .\n",
    "            .\n",
    "            .\n",
    "        except Exception_name_n:\n",
    "            block of code to handle exception_n"
   ]
  },
  {
   "cell_type": "code",
   "execution_count": 16,
   "metadata": {},
   "outputs": [
    {
     "name": "stdout",
     "output_type": "stream",
     "text": [
      "Statement - befor try\n",
      "Handling code for ValueError\n",
      "Statement - after Except blocks\n"
     ]
    }
   ],
   "source": [
    "# Example : \n",
    "\n",
    "\n",
    "print(\"Statement - befor try\")\n",
    "try:\n",
    "    \n",
    "    # print(10/0)                   - to get ZeroDivisionError uncomment this line\n",
    "    print(int(\"abc\")) \n",
    "except ZeroDivisionError:\n",
    "    print(\"handling code for ZeroDivisionError\")\n",
    "except ValueError:\n",
    "    print(\"Handling code for ValueError\")\n",
    "print(\"Statement - after Except blocks\")\n"
   ]
  },
  {
   "cell_type": "markdown",
   "metadata": {},
   "source": [
    "# Aliasing form Exception name"
   ]
  },
  {
   "cell_type": "markdown",
   "metadata": {},
   "source": [
    "    try:\n",
    "        block of code\n",
    "    except Exception_name as msg:\n",
    "        block of code"
   ]
  },
  {
   "cell_type": "code",
   "execution_count": null,
   "metadata": {},
   "outputs": [],
   "source": [
    "# another syntax for except :\n",
    "\n",
    "#except exceptionname as message:\n",
    "\n",
    "\n",
    "\n",
    "print(\"s1\")\n",
    "\n",
    "try:\n",
    "    print(\"s2\",(10/0))\n",
    "    print(\"s3\") \n",
    "    print(\"s4\")\n",
    "except ZeroDivisionError as msg: # to know the description of our exception\n",
    "    print(\"descripton of exception is:\",msg)\n",
    "    print(\"s5\")\n",
    "    print(\"s6\")\n",
    "    \n",
    "print(\"s7\")\n",
    "print(\"s8\")\n"
   ]
  },
  {
   "cell_type": "markdown",
   "metadata": {},
   "source": [
    "# Defining multiple exception in using single except\n"
   ]
  },
  {
   "cell_type": "markdown",
   "metadata": {},
   "source": [
    "    try:\n",
    "        block of code\n",
    "    except (Exception1,Exception2,Exception3....Exception_n) as msg:\n",
    "        block of code"
   ]
  },
  {
   "cell_type": "code",
   "execution_count": 3,
   "metadata": {},
   "outputs": [
    {
     "name": "stdout",
     "output_type": "stream",
     "text": [
      "s1\n",
      "s2 10.0\n",
      "Enter integer10\n",
      "s3\n",
      "s4\n",
      "s9\n",
      "s10\n"
     ]
    }
   ],
   "source": [
    "\n",
    "\n",
    "print(\"s1\")\n",
    "\n",
    "try:\n",
    "    print(\"s2\",(10/1))               # if 1 changes to 0 , it raise - ZeroDivisionError \n",
    "    x = int(input(\"Enter integer\"))  # if we give other than integer it raise value error\n",
    "    print(\"s3\")    #type error\n",
    "    print(\"s4\")\n",
    "except ZeroDivisionError as msg: # to know the description of our exception\n",
    "    print(\"descripton of exception is:\",msg)\n",
    "    print(\"s5\")\n",
    "    print(\"s6\")\n",
    "except ValueError as msg:\n",
    "    print(\"descripton of exception is:\",msg)\n",
    "    print(\"s7\")\n",
    "    print(\"s8\")\n",
    "\n",
    "print(\"s9\")\n",
    "print(\"s10\")"
   ]
  },
  {
   "cell_type": "code",
   "execution_count": null,
   "metadata": {},
   "outputs": [],
   "source": [
    "# multple exceptions with single except\n",
    "\n",
    "# except (en1,en2,en3...enN) as msg\n",
    "\n",
    "print(\"s1\")\n",
    "\n",
    "try:\n",
    "    print(\"s2\",(10/1))\n",
    "    x = int(input(\"Enter integer\"))  # \n",
    "    print(\"s3\")    #type error\n",
    "    print(\"s4\")\n",
    "    fp = open(\"qwerty\",'r')\n",
    "except (ZeroDivisionError,ValueError) as msg: # to know the description of our exception\n",
    "    print(\"descripton of exception is:\",msg)\n",
    "    print(\"s5\")\n",
    "    print(\"s6\")\n",
    "    print(\"s7\")\n",
    "    print(\"s8\")\n",
    "\n",
    "print(\"s9\")\n",
    "print(\"s10\")"
   ]
  },
  {
   "cell_type": "markdown",
   "metadata": {},
   "source": [
    "# Accepting all types of exception "
   ]
  },
  {
   "cell_type": "markdown",
   "metadata": {},
   "source": [
    "    To accept all kinds of exception simple we write 'except' keyword with out any exception name\n",
    "    \n",
    "    Syntax:\n",
    "        \n",
    "        try:\n",
    "            block of code\n",
    "        except:                 - this can accept any kind of exception\n",
    "            block of code"
   ]
  },
  {
   "cell_type": "code",
   "execution_count": 5,
   "metadata": {},
   "outputs": [
    {
     "name": "stdout",
     "output_type": "stream",
     "text": [
      "s1\n",
      "s2 10.0\n",
      "Enter integer10\n",
      "s3\n",
      "s4\n",
      "ur input in mismatiching... please go thour ur input\n",
      "s9\n",
      "s10\n"
     ]
    }
   ],
   "source": [
    "\n",
    "\n",
    "print(\"s1\")\n",
    "\n",
    "try:\n",
    "    print(\"s2\",(10/1))\n",
    "    x = int(input(\"Enter integer\"))  # \n",
    "    print(\"s3\")    #type error\n",
    "    print(\"s4\")\n",
    "    fp = open(\"qwerty\",'r')\n",
    "except:\n",
    "    print(\"ur input in mismatiching... please go thour ur input\")\n",
    "print(\"s9\")\n",
    "print(\"s10\")"
   ]
  },
  {
   "cell_type": "markdown",
   "metadata": {},
   "source": [
    "# Role of else in Exception Handling\n",
    "\n",
    "    this else block is excecute when exception does not raise in try block\n",
    "    \n",
    "    \n",
    "    syntax:\n",
    "    \n",
    "        try:\n",
    "            block of code\n",
    "        except Exception_name as msg:\n",
    "            block of code\n",
    "        else:\n",
    "            block of code\n",
    "         "
   ]
  },
  {
   "cell_type": "code",
   "execution_count": 6,
   "metadata": {},
   "outputs": [
    {
     "name": "stdout",
     "output_type": "stream",
     "text": [
      "s1\n",
      "s3\n",
      "s5\n"
     ]
    }
   ],
   "source": [
    "# Else\n",
    "print(\"s1\")\n",
    "try:\n",
    "    print(\"s2\",(10/0))\n",
    "except:\n",
    "    print(\"s3\")\n",
    "else:\n",
    "    print(\"s4\") # when try does not raise an exception then else will exceute\n",
    "    \n",
    "print(\"s5\")"
   ]
  },
  {
   "cell_type": "markdown",
   "metadata": {},
   "source": [
    "# Role of finally"
   ]
  },
  {
   "cell_type": "markdown",
   "metadata": {},
   "source": [
    "    - finally block excecuted even exception raised in try block or not\n",
    "    \n",
    "    try:\n",
    "        block of code\n",
    "    except Exception_name as msg:\n",
    "        block of code - execute when exception raise in try block\n",
    "    else:\n",
    "        block of code - exceute when exception does not raise\n",
    "    finally:\n",
    "        block of code - it exceucte for all cases"
   ]
  },
  {
   "cell_type": "code",
   "execution_count": 9,
   "metadata": {},
   "outputs": [
    {
     "name": "stdout",
     "output_type": "stream",
     "text": [
      "s1\n",
      "s3\n",
      "s5\n",
      "Task has completed\n"
     ]
    }
   ],
   "source": [
    "# finally block = irrespective of exception\n",
    "\n",
    "# Else\n",
    "print(\"s1\")\n",
    "try:\n",
    "    print(\"s2\",(10/0))\n",
    "except:\n",
    "    print(\"s3\")\n",
    "else:\n",
    "    print(\"s4\") # when try does not raise an exception then else will exceute\n",
    "    \n",
    "finally:\n",
    "    print(\"s5\")\n",
    "    \n",
    "print(\"Task has completed\")"
   ]
  },
  {
   "cell_type": "markdown",
   "metadata": {},
   "source": [
    "# raise "
   ]
  },
  {
   "cell_type": "markdown",
   "metadata": {},
   "source": [
    "raise:\n",
    "    \n",
    "    this is a keyword ===> to raise an exception manually....."
   ]
  },
  {
   "cell_type": "code",
   "execution_count": 49,
   "metadata": {},
   "outputs": [
    {
     "name": "stdout",
     "output_type": "stream",
     "text": [
      "started\n",
      "s1\n",
      "message = manually i have thrown an excepion\n",
      "s3\n",
      "ended\n"
     ]
    }
   ],
   "source": [
    "print(\"started\")\n",
    "\n",
    "try:\n",
    "    print('s1')\n",
    "    raise ZeroDivisionError(\"manually i have thrown an excepion\")   #\n",
    "    print('s2')\n",
    "except ZeroDivisionError as msg:\n",
    "    print(\"message =\",msg)\n",
    "    print(\"s3\")\n",
    "\n",
    "print(\"ended\")"
   ]
  },
  {
   "cell_type": "code",
   "execution_count": 50,
   "metadata": {},
   "outputs": [],
   "source": [
    "# my own exception - custom exceptions/ user defined exceptions: object oriented principles : inheritnace, encluse"
   ]
  },
  {
   "cell_type": "markdown",
   "metadata": {},
   "source": [
    "# cusome exception : \n",
    "\n",
    "i wnat to check hte enterd time of a student... if 10    # timeouterror"
   ]
  },
  {
   "cell_type": "markdown",
   "metadata": {},
   "source": [
    "# Custome Exception / User Defined Exception"
   ]
  },
  {
   "cell_type": "code",
   "execution_count": null,
   "metadata": {},
   "outputs": [],
   "source": [
    "class ExceptionName(Exception) : #new exception gtting properties fromm excepion parrent class\n",
    "    def __init__(self,msg): # constructor\n",
    "        self.msg = msg\n",
    "    def __str__(self):     # method overloading\n",
    "        return self.msg"
   ]
  },
  {
   "cell_type": "code",
   "execution_count": 53,
   "metadata": {},
   "outputs": [],
   "source": [
    "class TimeOutError(Exception):\n",
    "    def __init__(self,msg):\n",
    "        self.msg=msg\n",
    "    def __str__(self):\n",
    "        return self.msg"
   ]
  },
  {
   "cell_type": "code",
   "execution_count": 59,
   "metadata": {},
   "outputs": [],
   "source": [
    "#  AgeError\n",
    "\n",
    "class AgeError(Exception):\n",
    "    def __init__(self,msg):\n",
    "        self.msg=msg\n",
    "    def __str__(self):\n",
    "        return self.msg"
   ]
  },
  {
   "cell_type": "code",
   "execution_count": 58,
   "metadata": {},
   "outputs": [
    {
     "name": "stdout",
     "output_type": "stream",
     "text": [
      "s1\n",
      "s2\n",
      "enter entered time14\n",
      "it has raised exception Student attened exam lately\n",
      "s3\n",
      "Taks has completed\n"
     ]
    }
   ],
   "source": [
    "print(\"s1\")\n",
    "print(\"s2\")\n",
    "x=int(input(\"enter entered time\"))\n",
    "try:\n",
    "    if x>10:\n",
    "        raise TimeOutError(\"Student attened exam lately\")\n",
    "except TimeOutError as msg:\n",
    "    print(\"it has raised exception\",msg)\n",
    "print(\"s3\")\n",
    "print(\"Taks has completed\")"
   ]
  },
  {
   "cell_type": "code",
   "execution_count": 63,
   "metadata": {},
   "outputs": [
    {
     "name": "stdout",
     "output_type": "stream",
     "text": [
      "Enter Your Age13\n",
      "Your are not allowed to Vote\n",
      "remaining part of the program\n"
     ]
    }
   ],
   "source": [
    "# voting : age limit 18\n",
    "\n",
    "\n",
    "age = int(input(\"Enter Your Age\"))\n",
    "try:\n",
    "    if age<18:\n",
    "        raise AgeError(\"Your are not allowed to Vote\")\n",
    "except AgeError as msg:\n",
    "    print(msg)\n",
    "    \n",
    "print(\"remaining part of the program\")\n"
   ]
  },
  {
   "cell_type": "code",
   "execution_count": null,
   "metadata": {},
   "outputs": [],
   "source": []
  }
 ],
 "metadata": {
  "kernelspec": {
   "display_name": "Python 3",
   "language": "python",
   "name": "python3"
  },
  "language_info": {
   "codemirror_mode": {
    "name": "ipython",
    "version": 3
   },
   "file_extension": ".py",
   "mimetype": "text/x-python",
   "name": "python",
   "nbconvert_exporter": "python",
   "pygments_lexer": "ipython3",
   "version": "3.8.8"
  }
 },
 "nbformat": 4,
 "nbformat_minor": 4
}

{
 "cells": [
  {
   "cell_type": "markdown",
   "metadata": {},
   "source": [
    "# importing module in python\n",
    "\n",
    "    import module_name    \n",
    "    import modulename as alias\n",
    "    from modulename import funname,funname,funname\n",
    "    from modulename import *   \n",
    "\n",
    "1. ceil(x)\n",
    "2. floor(x): greatest value among the small values of x\n",
    "3. pow : two arguemnts .. it return float value 100.0\n",
    "4. sqrt : it return the squrate root of given value .. float value\n",
    "5. isqrt : find square root.. it return integer value\n",
    "6. sin, cos, tan,  # this functions will take the radian values and return sin,cos and tan vlue\n",
    "7. sinh,cosh, tanh\n",
    "8. asinh,acosh,atanh\n",
    "9. comb\n",
    "10 factorial\n",
    "11 perm\n",
    "12 randians\n",
    "13 degrees # will take input as radins and given angle in degrees\n",
    "14 log,log10,log2\n",
    "15 remainder\n",
    "16. dist\n"
   ]
  },
  {
   "cell_type": "markdown",
   "metadata": {},
   "source": [
    "# Module: \n",
    "    \n",
    "    A python module can be defined as a python program file which contains a python code including python functions, class, or variable.\n",
    "    \n",
    "    In other words, we can say that our python code file saved with the extension (.py) is treated as the module. We may have a runnable code inside the python module.\n",
    "    "
   ]
  },
  {
   "cell_type": "markdown",
   "metadata": {},
   "source": [
    "# Types of modules:\n",
    "\n",
    "    1.built in modules:\n",
    "    \n",
    "        a large number of pre-defined functions are  available as a part of libraries bundled with Python distributions. These functions are defined in modules are called built-in modules.\n",
    "        \n",
    "        \n",
    "        Examples : math, random, os, sys, datetime, etc.,\n",
    "        \n",
    "    2.user defined modules:\n",
    "    \n",
    "    \n",
    "    "
   ]
  },
  {
   "cell_type": "markdown",
   "metadata": {},
   "source": [
    "# math module:\n",
    "\n",
    "    1. import math\n",
    "    2. import math as m\n",
    "    3. from math import ceil, floor...\n",
    "    4. from math import * "
   ]
  },
  {
   "cell_type": "markdown",
   "metadata": {},
   "source": [
    "# math module functions:\n",
    "\n",
    "    ceil(x):\n",
    "    --------\n",
    "    \n",
    "        Returns the smallest integer greater than or equal to x\n",
    "    \n",
    "    floor(x):\n",
    "    ---------\n",
    "        \n",
    "        Return the greatest integer lessthan or equal to x\n",
    "        \n",
    "    pow(x,y):\n",
    "    ---------\n",
    "    \n",
    "        it return  x to the power of y value :x**y\n",
    "    \n",
    "    exp(x):\n",
    "    -------\n",
    "        \n",
    "        it return e to the power of x : e**x\n",
    "        \n",
    "    sin(x),cos(x), tan(x):\n",
    "    ----------------------\n",
    "        \n",
    "        which takes angle in radians and return result of sin, cos,tan values\n",
    "        \n",
    "        example : \n",
    "        rad = radians(30)   : 30 degrees converted to radians\n",
    "        sin(rad)  = 0.499999999999999999\n",
    "        \n",
    "        sin(30) = 1/2\n",
    "        \n",
    "    sinh(x) , cos(h) , and tan(h):\n",
    "    -----------------------------    \n",
    "        angles for hyperbola \n",
    "    \n",
    "    asinh(x), acosh(x) and atanh(x):\n",
    "    --------------------------------\n",
    "    \n",
    "    \n",
    "    factorial(n):\n",
    "    -------------\n",
    "        \n",
    "        this function return the factorial of given number \n",
    "        \n",
    "            n x (n-1) x (n-2) x ....... x 3 x 2 x 1    \n",
    "        \n",
    "    sqrt(x):\n",
    "    --------\n",
    "    \n",
    "        it return float value of x square root\n",
    "    \n",
    "    isqrt(x):\n",
    "    ---------\n",
    "    \n",
    "        it return integer value of x square root\n",
    "   \n",
    "    perm(n,r):\n",
    "    -----------\n",
    "        \n",
    "        it return the permitations of n and r\n",
    "        \n",
    "        Example: 10P3\n",
    "        \n",
    "            10!             10 x 9 x 8 x 7!\n",
    "          --------  =    ----------------------  =    10 x 9 x 8 = 720\n",
    "          (10-3)!                  7!\n",
    "          \n",
    "          \n",
    "    comb(n,r):\n",
    "    ----------\n",
    "    \n",
    "        it return the combinations of n and r:\n",
    "        \n",
    "        Example 10 C 3\n",
    "        \n",
    "              10!             10 x 9 x 8 x 7!                 10 x 9 x 8                \n",
    "          -----------  =    ----------------------  =    ---------------------  = 5 x 3 x 8 = 120\n",
    "          (10-3)! 3!             7! x  3!                       3 x 2 x 1\n",
    "       \n",
    "       \n",
    "       \n",
    "     dist((x1,y1),(x2,y2):\n",
    "     ---------------------\n",
    "     \n",
    "             it return the distance between two coordinate points\n",
    "             \n",
    "                              ----------------------\n",
    "                            /            2          2\n",
    "                           /   ( x2 - x1)  + (y2-y1)\n",
    "                         \\/\n",
    "                         \n",
    "                         \n",
    "     radians(x):\n",
    "     -----------\n",
    "         \n",
    "         it converts the given x degrees to radians and return the floating value of radian\n",
    "         \n",
    "         \n",
    "     degrees(x):\n",
    "     ------------\n",
    "         it covert the given x angle in radians to degrees and return it in floating type\n",
    "         \n",
    "     remainder(x,y):\n",
    "     ---------------\n",
    "     \n",
    "         it return the floating value remainder of x ,y  : x%y\n",
    "         \n",
    "     prod(sequence):\n",
    "     ---------------\n",
    "     \n",
    "         it return the product of given sequence of elements \n",
    "         \n",
    "         example:\n",
    "         \n",
    "         l = [4,3,5,1,2]\n",
    "         \n",
    "         math.prod(l)  #  4 x 3 x 5 x 1 x 2\n",
    "         \n",
    "         120\n",
    "         \n",
    "     log,log10,log2:\n",
    "     ===============\n",
    "         \n",
    "         it return the logarithamic values of given value x\n",
    "         \n",
    "         log(x) -- log x base e\n",
    "         log10(x)== log x base 10\n",
    "         log2(x) == log x base 2\n",
    "         \n",
    "         \n",
    "     gcd(x, y)\n",
    "        greatest common divisor of x and y\n",
    "         \n",
    "         \n",
    "# Data:\n",
    "\n",
    "    math.pi  = it return the pi value\n",
    "    math.e    = it return the e value\n",
    "    math.inf  = it denote infinite value\n",
    "    math.nan  - it denote not a number\n",
    "    math.\n",
    "     \n",
    "\n",
    "    "
   ]
  },
  {
   "cell_type": "code",
   "execution_count": 175,
   "metadata": {},
   "outputs": [
    {
     "data": {
      "text/plain": [
       "11"
      ]
     },
     "execution_count": 175,
     "metadata": {},
     "output_type": "execute_result"
    }
   ],
   "source": [
    "import math as m\n",
    "\n",
    "m.ceil(10.4)"
   ]
  },
  {
   "cell_type": "code",
   "execution_count": 179,
   "metadata": {},
   "outputs": [
    {
     "data": {
      "text/plain": [
       "10"
      ]
     },
     "execution_count": 179,
     "metadata": {},
     "output_type": "execute_result"
    }
   ],
   "source": [
    "m.floor(10.5) #10"
   ]
  },
  {
   "cell_type": "code",
   "execution_count": 180,
   "metadata": {},
   "outputs": [
    {
     "data": {
      "text/plain": [
       "100.0"
      ]
     },
     "execution_count": 180,
     "metadata": {},
     "output_type": "execute_result"
    }
   ],
   "source": [
    "m.pow(10,2)  # 10 **2"
   ]
  },
  {
   "cell_type": "code",
   "execution_count": 181,
   "metadata": {},
   "outputs": [
    {
     "data": {
      "text/plain": [
       "20.085536923187668"
      ]
     },
     "execution_count": 181,
     "metadata": {},
     "output_type": "execute_result"
    }
   ],
   "source": [
    "m.exp(3)  # e**3"
   ]
  },
  {
   "cell_type": "code",
   "execution_count": 182,
   "metadata": {},
   "outputs": [
    {
     "data": {
      "text/plain": [
       "0.5235987755982988"
      ]
     },
     "execution_count": 182,
     "metadata": {},
     "output_type": "execute_result"
    }
   ],
   "source": [
    "# convert the 30 degrees to radians\n",
    "\n",
    "radians(30)"
   ]
  },
  {
   "cell_type": "code",
   "execution_count": 188,
   "metadata": {},
   "outputs": [
    {
     "name": "stdout",
     "output_type": "stream",
     "text": [
      "0.49999999999999994\n",
      "0.8660254037844387\n",
      "0.5773502691896257\n",
      "0.5478534738880397\n",
      "1.1402383210764286\n",
      "0.48047277815645156\n"
     ]
    }
   ],
   "source": [
    "print(sin(0.5235987755982988))    # converted 30 degrees to radians .. it has given as input\n",
    "print(cos(0.5235987755982988))\n",
    "print(tan(0.5235987755982988))\n",
    "\n",
    "print(sinh(0.5235987755982988))\n",
    "print(cosh(0.5235987755982988))\n",
    "print(tanh(0.5235987755982988))\n",
    "\n"
   ]
  },
  {
   "cell_type": "code",
   "execution_count": 189,
   "metadata": {},
   "outputs": [
    {
     "data": {
      "text/plain": [
       "120"
      ]
     },
     "execution_count": 189,
     "metadata": {},
     "output_type": "execute_result"
    }
   ],
   "source": [
    "# factorial\n",
    "\n",
    "m.factorial(5)"
   ]
  },
  {
   "cell_type": "code",
   "execution_count": 190,
   "metadata": {},
   "outputs": [
    {
     "name": "stdout",
     "output_type": "stream",
     "text": [
      "3.1622776601683795\n"
     ]
    }
   ],
   "source": [
    "# square root\n",
    "print(m.sqrt(10))"
   ]
  },
  {
   "cell_type": "code",
   "execution_count": 191,
   "metadata": {},
   "outputs": [
    {
     "name": "stdout",
     "output_type": "stream",
     "text": [
      "3\n"
     ]
    }
   ],
   "source": [
    "# integer square root\n",
    "print(m.isqrt(10))"
   ]
  },
  {
   "cell_type": "code",
   "execution_count": 192,
   "metadata": {},
   "outputs": [
    {
     "data": {
      "text/plain": [
       "720"
      ]
     },
     "execution_count": 192,
     "metadata": {},
     "output_type": "execute_result"
    }
   ],
   "source": [
    "m.perm(10,3)"
   ]
  },
  {
   "cell_type": "code",
   "execution_count": 193,
   "metadata": {},
   "outputs": [
    {
     "data": {
      "text/plain": [
       "120"
      ]
     },
     "execution_count": 193,
     "metadata": {},
     "output_type": "execute_result"
    }
   ],
   "source": [
    "m.comb(10,3)"
   ]
  },
  {
   "cell_type": "code",
   "execution_count": 194,
   "metadata": {},
   "outputs": [
    {
     "data": {
      "text/plain": [
       "2.8284271247461903"
      ]
     },
     "execution_count": 194,
     "metadata": {},
     "output_type": "execute_result"
    }
   ],
   "source": [
    "m.dist((5,3),(7,5))"
   ]
  },
  {
   "cell_type": "code",
   "execution_count": 32,
   "metadata": {},
   "outputs": [
    {
     "data": {
      "text/plain": [
       "-0.9880316240928618"
      ]
     },
     "execution_count": 32,
     "metadata": {},
     "output_type": "execute_result"
    }
   ],
   "source": [
    "sin(30)"
   ]
  },
  {
   "cell_type": "code",
   "execution_count": 33,
   "metadata": {},
   "outputs": [
    {
     "data": {
      "text/plain": [
       "120"
      ]
     },
     "execution_count": 33,
     "metadata": {},
     "output_type": "execute_result"
    }
   ],
   "source": [
    "math.comb(10,3)"
   ]
  },
  {
   "cell_type": "code",
   "execution_count": 34,
   "metadata": {},
   "outputs": [
    {
     "data": {
      "text/plain": [
       "90"
      ]
     },
     "execution_count": 34,
     "metadata": {},
     "output_type": "execute_result"
    }
   ],
   "source": [
    "math.perm(10,2)"
   ]
  },
  {
   "cell_type": "code",
   "execution_count": 36,
   "metadata": {},
   "outputs": [
    {
     "data": {
      "text/plain": [
       "1307674368000"
      ]
     },
     "execution_count": 36,
     "metadata": {},
     "output_type": "execute_result"
    }
   ],
   "source": [
    "math.factorial(15)"
   ]
  },
  {
   "cell_type": "code",
   "execution_count": 195,
   "metadata": {},
   "outputs": [
    {
     "data": {
      "text/plain": [
       "1.0"
      ]
     },
     "execution_count": 195,
     "metadata": {},
     "output_type": "execute_result"
    }
   ],
   "source": [
    "m.remainder(10,3)"
   ]
  },
  {
   "cell_type": "code",
   "execution_count": 196,
   "metadata": {},
   "outputs": [
    {
     "data": {
      "text/plain": [
       "120"
      ]
     },
     "execution_count": 196,
     "metadata": {},
     "output_type": "execute_result"
    }
   ],
   "source": [
    "l = [3,2,5,4,1]\n",
    "m.prod(l)"
   ]
  },
  {
   "cell_type": "code",
   "execution_count": 197,
   "metadata": {},
   "outputs": [
    {
     "name": "stdout",
     "output_type": "stream",
     "text": [
      "2.302585092994046\n",
      "1.0\n",
      "3.321928094887362\n"
     ]
    }
   ],
   "source": [
    "# logarithamc value\n",
    "\n",
    "print(m.log(10))\n",
    "print(m.log10(10))\n",
    "print(m.log2(10))"
   ]
  },
  {
   "cell_type": "code",
   "execution_count": 198,
   "metadata": {},
   "outputs": [
    {
     "data": {
      "text/plain": [
       "2.718281828459045"
      ]
     },
     "execution_count": 198,
     "metadata": {},
     "output_type": "execute_result"
    }
   ],
   "source": [
    "math.e"
   ]
  },
  {
   "cell_type": "code",
   "execution_count": 199,
   "metadata": {},
   "outputs": [
    {
     "data": {
      "text/plain": [
       "3.141592653589793"
      ]
     },
     "execution_count": 199,
     "metadata": {},
     "output_type": "execute_result"
    }
   ],
   "source": [
    "math.pi"
   ]
  },
  {
   "cell_type": "code",
   "execution_count": 201,
   "metadata": {},
   "outputs": [
    {
     "data": {
      "text/plain": [
       "nan"
      ]
     },
     "execution_count": 201,
     "metadata": {},
     "output_type": "execute_result"
    }
   ],
   "source": [
    "math.nan"
   ]
  },
  {
   "cell_type": "code",
   "execution_count": 202,
   "metadata": {},
   "outputs": [
    {
     "data": {
      "text/plain": [
       "inf"
      ]
     },
     "execution_count": 202,
     "metadata": {},
     "output_type": "execute_result"
    }
   ],
   "source": [
    "math.inf"
   ]
  },
  {
   "cell_type": "code",
   "execution_count": 205,
   "metadata": {},
   "outputs": [
    {
     "data": {
      "text/plain": [
       "5"
      ]
     },
     "execution_count": 205,
     "metadata": {},
     "output_type": "execute_result"
    }
   ],
   "source": [
    "math.gcd(10,5)"
   ]
  },
  {
   "cell_type": "code",
   "execution_count": 60,
   "metadata": {},
   "outputs": [
    {
     "data": {
      "text/plain": [
       "20160000"
      ]
     },
     "execution_count": 60,
     "metadata": {},
     "output_type": "execute_result"
    }
   ],
   "source": [
    "import math\n",
    "l=[20,40,60,5,2,7,6,1]\n",
    "math.prod(l)"
   ]
  }
 ],
 "metadata": {
  "kernelspec": {
   "display_name": "Python 3",
   "language": "python",
   "name": "python3"
  },
  "language_info": {
   "codemirror_mode": {
    "name": "ipython",
    "version": 3
   },
   "file_extension": ".py",
   "mimetype": "text/x-python",
   "name": "python",
   "nbconvert_exporter": "python",
   "pygments_lexer": "ipython3",
   "version": "3.8.5"
  }
 },
 "nbformat": 4,
 "nbformat_minor": 4
}

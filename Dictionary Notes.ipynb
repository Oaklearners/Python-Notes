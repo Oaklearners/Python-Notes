{
 "cells": [
  {
   "cell_type": "markdown",
   "metadata": {},
   "source": [
    "# Dictionary Datastructures:\n",
    "\n",
    "    dictionary is used to store the data as key and value pair.\n",
    "    \n",
    "    It is the mutable data-structure. we can add and delete items of dictionary\n",
    "    \n",
    "    Rule:\n",
    "    \n",
    "        key - must be the unique element\n",
    "        value - can be duplicate and any type\n",
    "       \n",
    "    \n",
    "        "
   ]
  },
  {
   "cell_type": "markdown",
   "metadata": {},
   "source": [
    "# Creating Dictionary\n",
    "\n",
    "    * The dictionary can be created by using multiple key-value pairs enclosed with the curly brackets {}\n",
    "    * Each key is separated from its value by the colon (:)\n",
    "    \n",
    "    The syntax to define the dictionary is given below\n",
    "    \n",
    "        {key1: value1, key2:value2,...}\n",
    "        \n",
    "    Dict keys:\n",
    "     except list,set, every datatype can accept\n",
    "    Dict values:\n",
    "        all types accept"
   ]
  },
  {
   "cell_type": "code",
   "execution_count": 20,
   "metadata": {},
   "outputs": [
    {
     "name": "stdout",
     "output_type": "stream",
     "text": [
      "{1: 'Raju', 2: 'Ramu', 3: 'Ramya', 4: 'Teju'}\n",
      "Type of d is <class 'dict'>\n"
     ]
    }
   ],
   "source": [
    "# example 1\n",
    "\n",
    "d = {1:\"Raju\",2:\"Ramu\",3:\"Ramya\",4:\"Teju\"}\n",
    "print(d)\n",
    "print(\"Type of d is\",type(d))"
   ]
  },
  {
   "cell_type": "code",
   "execution_count": 22,
   "metadata": {},
   "outputs": [
    {
     "name": "stdout",
     "output_type": "stream",
     "text": [
      "{10: 'Raju', (10+2j): 'Ramsh', 'Name': 'pinky', 20.4: 'Hyderabad', True: 'SRU', (1, 2, 3): 'dummy'}\n"
     ]
    }
   ],
   "source": [
    "# keys - except list, set.. every data type can accept\n",
    "\n",
    "#integer,float,string,complex,list,set,tuple,dict,boolean,range\n",
    "\n",
    "d = {10:\"Raju\",10+2j:\"Ramsh\",\"Name\":\"pinky\",20.4:\"Hyderabad\",True:\"SRU\",(1,2,3):\"dummy\"}\n",
    "print(d)"
   ]
  },
  {
   "cell_type": "code",
   "execution_count": 25,
   "metadata": {},
   "outputs": [],
   "source": [
    "#list behaviour in dict  -  we can not create a dict with list key \n",
    "#d = {10:\"Raju\",10+2j:\"Ramsh\",\"Name\":\"pinky\",20.4:\"Hyderabad\",True:\"SRU\",{1,2,3}:\"dummy\"}  #error\n"
   ]
  },
  {
   "cell_type": "code",
   "execution_count": 27,
   "metadata": {},
   "outputs": [],
   "source": [
    "#set behaviour in dict\n",
    "#d = {10:\"Raju\",10+2j:\"Ramsh\",\"Name\":\"pinky\",20.4:\"Hyderabad\",True:\"SRU\",{1,2,3}:\"dummy\"} # error"
   ]
  },
  {
   "cell_type": "code",
   "execution_count": 35,
   "metadata": {},
   "outputs": [
    {
     "name": "stdout",
     "output_type": "stream",
     "text": [
      "{10: 'raju', 20: 'ramu', True: 'Ramya'}\n",
      "{1: 'Ramya', 20: 'ramu'}\n",
      "{10: 'raju', 20: 'ramu', True: 'Ramya', False: 'Pinky'}\n",
      "{1: 'Ramya', 0: 'Pinky'}\n"
     ]
    }
   ],
   "source": [
    "#behaviour of integer and Boolean - key\n",
    "\n",
    "d1 = {10:\"raju\",20:\"ramu\",True:\"Ramya\"}\n",
    "print(d1)    # 3 key and vlaue pairs\n",
    "\n",
    "\n",
    "\n",
    "d2 = {1:\"raju\",20:\"ramu\",True:\"Ramya\"}\n",
    "print(d2)   # 2 key and value pair - because 1 and True can be same key\n",
    "\n",
    "\n",
    "\n",
    "d3 = {10:\"raju\",20:\"ramu\",True:\"Ramya\",False:\"Pinky\"}\n",
    "print(d3)    # 4 key and vlaue pairs\n",
    "\n",
    "\n",
    "\n",
    "d3 = {1:\"raju\",0:\"ramu\",True:\"Ramya\",False:\"Pinky\"}\n",
    "print(d3)    # 2 key and vlaue pairs - where 1 and True , 0 and False are same keys\n"
   ]
  },
  {
   "cell_type": "code",
   "execution_count": 54,
   "metadata": {},
   "outputs": [
    {
     "name": "stdout",
     "output_type": "stream",
     "text": [
      "{None: 10, False: 20}\n"
     ]
    }
   ],
   "source": [
    "# same thing repeat for - float, complex\n",
    "\n",
    "d = {None:10,False:20}\n",
    "print(d)"
   ]
  },
  {
   "cell_type": "markdown",
   "metadata": {},
   "source": [
    "# creating an empty Dictionary:"
   ]
  },
  {
   "cell_type": "code",
   "execution_count": 59,
   "metadata": {},
   "outputs": [
    {
     "data": {
      "text/plain": [
       "dict"
      ]
     },
     "execution_count": 59,
     "metadata": {},
     "output_type": "execute_result"
    }
   ],
   "source": [
    "d = {}\n",
    "type(d)"
   ]
  },
  {
   "cell_type": "markdown",
   "metadata": {},
   "source": [
    "# Accessing Dictionary\n",
    "\n",
    "    we can access Dictionary item following ways\n",
    "    \n",
    "        1. using key\n",
    "        \n",
    "            dict_object[key]\n",
    "            \n",
    "         Note: if key is not present in dictionary. it retrn KeyError\n",
    "            \n",
    "            \n",
    "       2. using get() method:\n",
    "           \n",
    "           dict_object.get(key)\n",
    "           \n",
    "          Note: if key is not presetn then it return None\n",
    "\n",
    "    "
   ]
  },
  {
   "cell_type": "code",
   "execution_count": 61,
   "metadata": {},
   "outputs": [
    {
     "data": {
      "text/plain": [
       "'Ramu'"
      ]
     },
     "execution_count": 61,
     "metadata": {},
     "output_type": "execute_result"
    }
   ],
   "source": [
    "d ={1:\"Raju\",2:\"Ramu\",3:\"Ramya\"}\n",
    "d[2]"
   ]
  },
  {
   "cell_type": "code",
   "execution_count": 1,
   "metadata": {},
   "outputs": [
    {
     "ename": "KeyError",
     "evalue": "100",
     "output_type": "error",
     "traceback": [
      "\u001b[1;31m---------------------------------------------------------------------------\u001b[0m",
      "\u001b[1;31mKeyError\u001b[0m                                  Traceback (most recent call last)",
      "\u001b[1;32m<ipython-input-1-41c25782c910>\u001b[0m in \u001b[0;36m<module>\u001b[1;34m\u001b[0m\n\u001b[0;32m      1\u001b[0m \u001b[0md\u001b[0m \u001b[1;33m=\u001b[0m\u001b[1;33m{\u001b[0m\u001b[1;36m1\u001b[0m\u001b[1;33m:\u001b[0m\u001b[1;34m\"Raju\"\u001b[0m\u001b[1;33m,\u001b[0m\u001b[1;36m2\u001b[0m\u001b[1;33m:\u001b[0m\u001b[1;34m\"Ramu\"\u001b[0m\u001b[1;33m,\u001b[0m\u001b[1;36m3\u001b[0m\u001b[1;33m:\u001b[0m\u001b[1;34m\"Ramya\"\u001b[0m\u001b[1;33m}\u001b[0m\u001b[1;33m\u001b[0m\u001b[1;33m\u001b[0m\u001b[0m\n\u001b[1;32m----> 2\u001b[1;33m \u001b[0md\u001b[0m\u001b[1;33m[\u001b[0m\u001b[1;36m100\u001b[0m\u001b[1;33m]\u001b[0m  \u001b[1;31m# error - bcz key is not exist\u001b[0m\u001b[1;33m\u001b[0m\u001b[1;33m\u001b[0m\u001b[0m\n\u001b[0m",
      "\u001b[1;31mKeyError\u001b[0m: 100"
     ]
    }
   ],
   "source": [
    "d ={1:\"Raju\",2:\"Ramu\",3:\"Ramya\"}\n",
    "d[100]  # error - bcz key is not exist"
   ]
  },
  {
   "cell_type": "code",
   "execution_count": 63,
   "metadata": {},
   "outputs": [
    {
     "data": {
      "text/plain": [
       "'Ramu'"
      ]
     },
     "execution_count": 63,
     "metadata": {},
     "output_type": "execute_result"
    }
   ],
   "source": [
    "d ={1:\"Raju\",2:\"Ramu\",3:\"Ramya\"}\n",
    "d.get(2)"
   ]
  },
  {
   "cell_type": "code",
   "execution_count": 70,
   "metadata": {},
   "outputs": [],
   "source": [
    "d ={1:\"Raju\",2:\"Ramu\",3:\"Ramya\"}\n",
    "d.get(20)  #None -"
   ]
  },
  {
   "cell_type": "markdown",
   "metadata": {},
   "source": [
    "# Adding new Key and Value pair to Dictionary\n",
    "\n",
    "    using key only\n",
    "    \n",
    "        using this we can update or add new pair to dictionary\n",
    "        \n",
    "        dict_object[Key] = value\n",
    "        \n",
    "        if key is already exist - it update the value\n",
    "        if key is not exist - then it create the new key and value pair\n",
    "        "
   ]
  },
  {
   "cell_type": "code",
   "execution_count": 71,
   "metadata": {},
   "outputs": [
    {
     "name": "stdout",
     "output_type": "stream",
     "text": [
      "{1: 'Raju', 2: 'SRU', 3: 'Ramya'}\n"
     ]
    }
   ],
   "source": [
    "d ={1:\"Raju\",2:\"Ramu\",3:\"Ramya\"}\n",
    "\n",
    "d[2]=\"SRU\"   # update the existing key value\n",
    "print(d)"
   ]
  },
  {
   "cell_type": "code",
   "execution_count": 72,
   "metadata": {},
   "outputs": [
    {
     "name": "stdout",
     "output_type": "stream",
     "text": [
      "{1: 'Raju', 2: 'Ramu', 3: 'Ramya', 20: 'SRU'}\n"
     ]
    }
   ],
   "source": [
    "d ={1:\"Raju\",2:\"Ramu\",3:\"Ramya\"}\n",
    "\n",
    "d[20]=\"SRU\"   # add new key and value pair\n",
    "print(d)"
   ]
  },
  {
   "cell_type": "markdown",
   "metadata": {},
   "source": [
    "# Removing elements from dictionary\n",
    "\n",
    "\n",
    "    1.pop() method:\n",
    "    \n",
    "        remove specified key and return the corresponding value.\n",
    "        If key is not found, d is returned if given, otherwise KeyError is raised\\\n",
    "        \n",
    "        syntax:\n",
    "        \n",
    "        dict_object.pop(key)\n",
    "        \n",
    "        \n",
    "    2.popitem():\n",
    "        Remove and arbitary value and return a (key, value) pair as tuple.\n",
    "        \n",
    "        if dict is empty then it return error\n",
    "        \n",
    "        dict_object.popitem()\n",
    "        \n",
    "        \n",
    "    3. del keyword:\n",
    "    \n",
    "        del dict_object[key]\n",
    "        \n",
    "        if deleted is not exist then return error\n",
    "        \n",
    "    4. clear():\n",
    "        removes all the elements from dictionary\n",
    "        \n",
    "        \n",
    "        "
   ]
  },
  {
   "cell_type": "code",
   "execution_count": 77,
   "metadata": {},
   "outputs": [
    {
     "data": {
      "text/plain": [
       "'Ramu'"
      ]
     },
     "execution_count": 77,
     "metadata": {},
     "output_type": "execute_result"
    }
   ],
   "source": [
    "d ={1:\"Raju\",2:\"Ramu\",3:\"Ramya\"}\n",
    "\n",
    "d.pop(2)"
   ]
  },
  {
   "cell_type": "code",
   "execution_count": 78,
   "metadata": {},
   "outputs": [
    {
     "data": {
      "text/plain": [
       "(3, 'Ramya')"
      ]
     },
     "execution_count": 78,
     "metadata": {},
     "output_type": "execute_result"
    }
   ],
   "source": [
    "d ={1:\"Raju\",2:\"Ramu\",3:\"Ramya\"}\n",
    "\n",
    "d.popitem()"
   ]
  },
  {
   "cell_type": "code",
   "execution_count": 88,
   "metadata": {},
   "outputs": [
    {
     "name": "stdout",
     "output_type": "stream",
     "text": [
      "{1: 'Raju', 3: 'Ramya'}\n"
     ]
    }
   ],
   "source": [
    "d ={1:\"Raju\",2:\"Ramu\",3:\"Ramya\"}\n",
    "\n",
    "del d[2]\n",
    "print(d)"
   ]
  },
  {
   "cell_type": "code",
   "execution_count": 89,
   "metadata": {},
   "outputs": [
    {
     "name": "stdout",
     "output_type": "stream",
     "text": [
      "{}\n"
     ]
    }
   ],
   "source": [
    "d ={1:\"Raju\",2:\"Ramu\",3:\"Ramya\"}\n",
    "\n",
    "d.clear()\n",
    "print(d)"
   ]
  },
  {
   "cell_type": "code",
   "execution_count": 112,
   "metadata": {},
   "outputs": [
    {
     "name": "stdout",
     "output_type": "stream",
     "text": [
      "dict_keys([1, 2, 3])\n",
      "dict_values(['Raju', 'Ramu', 'Ramya'])\n"
     ]
    }
   ],
   "source": [
    "d ={1:\"Raju\",2:\"Ramu\",3:\"Ramya\"}\n",
    "\n",
    "print(d.keys())\n",
    "print(d.values())"
   ]
  },
  {
   "cell_type": "markdown",
   "metadata": {},
   "source": [
    "# print only keys of Dictionary\n",
    "\n",
    "    keys():\n",
    "        \n",
    "        this method return only keys of dictionary\n",
    "        \n",
    "\n",
    "    "
   ]
  },
  {
   "cell_type": "code",
   "execution_count": 2,
   "metadata": {},
   "outputs": [
    {
     "name": "stdout",
     "output_type": "stream",
     "text": [
      "dict_keys([1, 2, 3, 4])\n"
     ]
    }
   ],
   "source": [
    "d = {1:\"Hyderabad\",2:\"Warangal\",3:\"Krimnagar\",4:\"Nizamabad\"}\n",
    "\n",
    "print(d.keys())"
   ]
  },
  {
   "cell_type": "markdown",
   "metadata": {},
   "source": [
    "# Print only values of Dictionary\n",
    "\n",
    "    values():\n",
    "        \n",
    "        this method return all the values of dictionary"
   ]
  },
  {
   "cell_type": "code",
   "execution_count": 9,
   "metadata": {},
   "outputs": [
    {
     "name": "stdout",
     "output_type": "stream",
     "text": [
      "dict_values(['Hyderabad', 'Warangal', 'Krimnagar', 'Nizamabad'])\n"
     ]
    }
   ],
   "source": [
    "# Print only Values of Dictionary\n",
    "\n",
    "d = {1:\"Hyderabad\",2:\"Warangal\",3:\"Krimnagar\",4:\"Nizamabad\"}\n",
    "\n",
    "print(d.values())"
   ]
  },
  {
   "cell_type": "markdown",
   "metadata": {},
   "source": [
    "# Creating a dupliate Dictionary\n",
    "\n",
    "    copy():\n",
    "    \n",
    "        this method return a duplicate dictionary as a new dictionary\n",
    "        "
   ]
  },
  {
   "cell_type": "code",
   "execution_count": 10,
   "metadata": {},
   "outputs": [
    {
     "name": "stdout",
     "output_type": "stream",
     "text": [
      "{1: 'Hyderabad', 2: 'Warangal', 3: 'Krimnagar', 4: 'Nizamabad'}\n"
     ]
    }
   ],
   "source": [
    "d = {1:\"Hyderabad\",2:\"Warangal\",3:\"Krimnagar\",4:\"Nizamabad\"}\n",
    "\n",
    "dd = d.copy()\n",
    "\n",
    "print(dd)\n",
    "\n"
   ]
  },
  {
   "cell_type": "code",
   "execution_count": 14,
   "metadata": {},
   "outputs": [
    {
     "name": "stdout",
     "output_type": "stream",
     "text": [
      "{1: 'Hyderabad', 2: 'Warangal', 3: 'Krimnagar', 4: 'Nizamabad'}\n",
      "{1: 'Hyderabad', 2: 'Warangal', 3: 'Krimnagar', 4: 'Nizamabad'}\n",
      "Address of d          : 936063145984\n",
      "Address of duplicate1 : 936063145920\n",
      "Address of duplicate2 : 936063145984\n"
     ]
    }
   ],
   "source": [
    "# difference between assignment (=) and copy method\n",
    "\n",
    "d = {1:\"Hyderabad\",2:\"Warangal\",3:\"Krimnagar\",4:\"Nizamabad\"}\n",
    "\n",
    "duplicate1 = d.copy()   # it createas a new object at anoter address\n",
    "duplicate2 = d          # it creates a instance and pointer the same address \"d\"\n",
    "\n",
    "print(duplicate1)\n",
    "print(duplicate2)   \n",
    "\n",
    "# observer the addresss\n",
    "\n",
    "print(\"Address of d          :\",id(d))\n",
    "print(\"Address of duplicate1 :\",id(duplicate1))\n",
    "print(\"Address of duplicate2 :\",id(duplicate2))"
   ]
  },
  {
   "cell_type": "code",
   "execution_count": null,
   "metadata": {},
   "outputs": [],
   "source": [
    "# Dictionary Comprehension\n",
    "\n",
    "    syntax:\n",
    "        \n",
    "        d = {i : equation for i in sequence}"
   ]
  }
 ],
 "metadata": {
  "kernelspec": {
   "display_name": "Python 3",
   "language": "python",
   "name": "python3"
  },
  "language_info": {
   "codemirror_mode": {
    "name": "ipython",
    "version": 3
   },
   "file_extension": ".py",
   "mimetype": "text/x-python",
   "name": "python",
   "nbconvert_exporter": "python",
   "pygments_lexer": "ipython3",
   "version": "3.8.5"
  }
 },
 "nbformat": 4,
 "nbformat_minor": 4
}

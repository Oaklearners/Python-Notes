{
 "cells": [
  {
   "cell_type": "markdown",
   "metadata": {},
   "source": [
    "# Files\n",
    "    \n",
    "    file is a named memory location ,  stored the relavent information on non volatile (permanent memory/harddisk) memory.\n",
    "    \n",
    "<h3>Advantages of Files:</h3>\n",
    "\n",
    "    store the information permanently\n",
    "    \n",
    "    \n",
    "\n",
    "    Till now, we were taking the input from the console and writing it back to the console to interact with the user.\n",
    "    \n",
    "    Sometimes, it is not enough to only display the data on the console. The data to be displayed may be very large, and only a limited amount of data can be displayed on the console since the memory is volatile, it is impossible to recover the programmatically generated data again and again.\n",
    "    \n",
    "    The file handling plays an important role when the data needs to be stored permanently into the file.\n",
    "    \n",
    "    A file is a named location on disk to store related information. We can access the stored information (non-volatile) after the program termination.\n",
    "    \n",
    "    "
   ]
  },
  {
   "cell_type": "markdown",
   "metadata": {},
   "source": []
  },
  {
   "cell_type": "code",
   "execution_count": null,
   "metadata": {},
   "outputs": [],
   "source": [
    "# Example Program : Drawback\n",
    "\n",
    "stu={}\n",
    "n = int(input(\"Enter how many details u want ot give\"))\n",
    "for i in range(n):\n",
    "    rno = input(\"Enter Rno\")\n",
    "    name = input(\"Enter Name of the student\")\n",
    "    stu[rno]=name\n",
    "\n",
    "print(\"Student details are:\",stu)\n",
    "\n",
    "\n"
   ]
  },
  {
   "cell_type": "code",
   "execution_count": null,
   "metadata": {},
   "outputs": [],
   "source": [
    "stu['2222']"
   ]
  },
  {
   "cell_type": "code",
   "execution_count": null,
   "metadata": {},
   "outputs": [],
   "source": [
    "# After restarting the kernal - we can not recollect the information- because this information has stored on RAM (tempary memory)\n",
    "\n",
    "\n",
    "\n",
    "stu['2222']"
   ]
  },
  {
   "cell_type": "markdown",
   "metadata": {},
   "source": [
    "# file operations:\n",
    "    \n",
    "    1. creating a new file\n",
    "    2. open the file - writing data to the file\n",
    "    3. open the file - reading content from the file\n",
    "    4. closing the file\n",
    "    \n",
    "    Addtional :\n",
    "    \n",
    "    5. renaming the file\n",
    "    6. deleting the file\n",
    "\n",
    "\n"
   ]
  },
  {
   "cell_type": "markdown",
   "metadata": {},
   "source": [
    "<h3>opening file:</h3>\n",
    "\n",
    "       open() functions:\n",
    "       \n",
    "           this function is for opening a file\n",
    "       \n",
    "       Syntax:\n",
    "   \n",
    "           file_pointer open(\"name of the file\",\"mode of the file\")\n"
   ]
  },
  {
   "cell_type": "markdown",
   "metadata": {},
   "source": [
    "<h3>Modes of Files</h3>\n",
    "\n",
    "    1. x = exclusive mode - to create a new file\n",
    "    2. r = read mode - to open an existing file in read mode\n",
    "    3. w  = writing mode - to open a file in writing mode\n",
    "    4. a  = appending mode - to open a file in writing mode\n",
    "    5. r+ = read and write mode - where read perform first and write is second\n",
    "    6. w+ = write and read mode - where write first then read \n",
    "    7. a+ = append and read mode - where append first then read operation\n",
    "    \n",
    "    Note:\n",
    "    =====\n",
    "    where 'w' and 'a' both are for writing content to the file"
   ]
  },
  {
   "cell_type": "markdown",
   "metadata": {},
   "source": [
    "<h3>Difference between 'w' and 'a' mode</h3>\n",
    "    \n",
    "    when we open a file in \"w\" mode: \n",
    "         content of old file is erased , and new content added from begining\n",
    "        \n",
    "     when we open a file in \"a\" mode:\n",
    "        old content is available ,and new conent add at the end of the existing content"
   ]
  },
  {
   "cell_type": "markdown",
   "metadata": {},
   "source": [
    "<h3>1. 'x' mode :creating a new file:</h3>\n",
    "\n",
    "    fp = open(\"zzzz.txt\",\"x\")\n",
    "\n",
    "      \n",
    "    Rules for 'x' (exclusive mode):\n",
    "    \n",
    "        it return :\n",
    "            file pointer - if the file does not exist\n",
    "            \n",
    "            FileExistsError - when the file is already exist\n",
    "\n"
   ]
  },
  {
   "cell_type": "code",
   "execution_count": 1,
   "metadata": {},
   "outputs": [
    {
     "ename": "FileExistsError",
     "evalue": "[Errno 17] File exists: 'zzzz.txt'",
     "output_type": "error",
     "traceback": [
      "\u001b[1;31m---------------------------------------------------------------------------\u001b[0m",
      "\u001b[1;31mFileExistsError\u001b[0m                           Traceback (most recent call last)",
      "\u001b[1;32m<ipython-input-1-31fc28ad202f>\u001b[0m in \u001b[0;36m<module>\u001b[1;34m\u001b[0m\n\u001b[0;32m      1\u001b[0m \u001b[1;31m# First time  - success\u001b[0m\u001b[1;33m\u001b[0m\u001b[1;33m\u001b[0m\u001b[1;33m\u001b[0m\u001b[0m\n\u001b[1;32m----> 2\u001b[1;33m \u001b[0mfp\u001b[0m \u001b[1;33m=\u001b[0m \u001b[0mopen\u001b[0m\u001b[1;33m(\u001b[0m\u001b[1;34m\"zzzz.txt\"\u001b[0m\u001b[1;33m,\u001b[0m\u001b[1;34m\"x\"\u001b[0m\u001b[1;33m)\u001b[0m\u001b[1;33m\u001b[0m\u001b[1;33m\u001b[0m\u001b[0m\n\u001b[0m\u001b[0;32m      3\u001b[0m \u001b[0mprint\u001b[0m\u001b[1;33m(\u001b[0m\u001b[1;34m\"FIle has created successfully\"\u001b[0m\u001b[1;33m)\u001b[0m\u001b[1;33m\u001b[0m\u001b[1;33m\u001b[0m\u001b[0m\n\u001b[0;32m      4\u001b[0m \u001b[1;33m\u001b[0m\u001b[0m\n",
      "\u001b[1;31mFileExistsError\u001b[0m: [Errno 17] File exists: 'zzzz.txt'"
     ]
    }
   ],
   "source": [
    "# First time  - success\n",
    "fp = open(\"zzzz.txt\",\"x\")\n",
    "print(\"FIle has created successfully\")\n",
    "\n"
   ]
  },
  {
   "cell_type": "markdown",
   "metadata": {},
   "source": [
    "# r mode:\n",
    "\n",
    "    fp = open(\"filename\",'r')\n",
    "    \n",
    "    condition:\n",
    "    \n",
    "    it returns  file pointer - when the file is already exist\n",
    "    FileNotFoundError - if file does not exist\n",
    "    \n",
    "    \n",
    "    "
   ]
  },
  {
   "cell_type": "code",
   "execution_count": 2,
   "metadata": {},
   "outputs": [
    {
     "ename": "FileNotFoundError",
     "evalue": "[Errno 2] No such file or directory: 'qwertyuiop.txt'",
     "output_type": "error",
     "traceback": [
      "\u001b[1;31m---------------------------------------------------------------------------\u001b[0m",
      "\u001b[1;31mFileNotFoundError\u001b[0m                         Traceback (most recent call last)",
      "\u001b[1;32m<ipython-input-2-01ffd082b870>\u001b[0m in \u001b[0;36m<module>\u001b[1;34m\u001b[0m\n\u001b[1;32m----> 1\u001b[1;33m \u001b[0mfp\u001b[0m \u001b[1;33m=\u001b[0m \u001b[0mopen\u001b[0m\u001b[1;33m(\u001b[0m\u001b[1;34m\"qwertyuiop.txt\"\u001b[0m\u001b[1;33m,\u001b[0m\u001b[1;34m\"r\"\u001b[0m\u001b[1;33m)\u001b[0m\u001b[1;33m\u001b[0m\u001b[1;33m\u001b[0m\u001b[0m\n\u001b[0m\u001b[0;32m      2\u001b[0m \u001b[0mprint\u001b[0m\u001b[1;33m(\u001b[0m\u001b[1;34m\"file has open successfully in read mode\"\u001b[0m\u001b[1;33m)\u001b[0m\u001b[1;33m\u001b[0m\u001b[1;33m\u001b[0m\u001b[0m\n",
      "\u001b[1;31mFileNotFoundError\u001b[0m: [Errno 2] No such file or directory: 'qwertyuiop.txt'"
     ]
    }
   ],
   "source": [
    "fp = open(\"qwertyuiop.txt\",\"r\")\n",
    "print(\"file has open successfully in read mode\")"
   ]
  },
  {
   "cell_type": "markdown",
   "metadata": {},
   "source": [
    "# w mode\n",
    "\n",
    "    fp open(\"filename\",\"w\")\n",
    "    \n",
    "    condition:\n",
    "        it return file pointer  - when the file exist , open file in write mode\n",
    "        \n",
    "        if the file does not exist- it cteate a new file and open the file in write mode\n",
    "        "
   ]
  },
  {
   "cell_type": "code",
   "execution_count": null,
   "metadata": {},
   "outputs": [],
   "source": [
    "fp = open(\"xyzxyzxyz.txt\",\"w\")\n",
    "print(\"file has opened in write mode- updetated code\")"
   ]
  },
  {
   "cell_type": "markdown",
   "metadata": {},
   "source": [
    "# a mode\n",
    "\n",
    "    fp open(\"filename\",\"a\")\n",
    "\n",
    "    conditions:\n",
    "        1. if the file exist: it will open the file in append mode\n",
    "        2. if fille does not existe: it create a new file , and opens in append mode"
   ]
  },
  {
   "cell_type": "code",
   "execution_count": 3,
   "metadata": {},
   "outputs": [
    {
     "name": "stdout",
     "output_type": "stream",
     "text": [
      "file has opened successfully\n"
     ]
    }
   ],
   "source": [
    "fp = open(\"xyzxyzxyz.txt\",\"a\")\n",
    "print(\"file has opened successfully\")"
   ]
  },
  {
   "cell_type": "code",
   "execution_count": 4,
   "metadata": {},
   "outputs": [
    {
     "name": "stdout",
     "output_type": "stream",
     "text": [
      "file has opened successfully\n"
     ]
    }
   ],
   "source": [
    "fp = open(\"python.txt\",\"a\")\n",
    "print(\"file has opened successfully\")"
   ]
  },
  {
   "cell_type": "markdown",
   "metadata": {},
   "source": [
    "# Writing content to the file\n",
    "\n",
    "    1. write(string)\n",
    "    \n",
    "    syntax:\n",
    "        filepointer.write(message)\n",
    "        \n",
    "    2. writelines(list of lines)\n",
    "    \n",
    "    l=['iam first line','i am sedon line','i am third line']\n",
    "    fp.writelines(l)"
   ]
  },
  {
   "cell_type": "code",
   "execution_count": null,
   "metadata": {},
   "outputs": [],
   "source": [
    "fp=open(\"python.txt\",\"a\")\n",
    "fp.write(\"i am secnd  line\\n\")\n",
    "fp.write(\"i am third line\\n\")\n",
    "fp.write('i am new line')\n",
    "fp.close()\n",
    "print(\"my task has complted\")"
   ]
  },
  {
   "cell_type": "code",
   "execution_count": null,
   "metadata": {},
   "outputs": [],
   "source": [
    "l=['\\niam first line','\\ni am sedon line','\\ni am third line']\n",
    "fp = open(\"python.txt\",\"w\")\n",
    "fp.writelines(l)\n",
    "fp.close()\n",
    "print(\"task has completed\")"
   ]
  },
  {
   "cell_type": "code",
   "execution_count": null,
   "metadata": {},
   "outputs": [],
   "source": [
    "p = \"\"\"India has been a federal republic since 1950, governed in a democratic parliamentary system. It is a pluralistic, multilingual and multi-ethnic society. India's population grew from 361 million in 1951 to 1.211 billion in 2011.[48] During the same time, its nominal per capita income increased from US$64 annually to US$1,498, and its literacy rate from 16.6% to 74%. From being a comparatively destitute country in 1951,[49] India has become a fast-growing major economy and a hub for information technology services, with an expanding middle class.[50] It has a space programme which includes several planned or completed extraterrestrial missions. Indian movies, music, and spiritual teachings play an increasing role in global culture.[51] India has substantially reduced its rate of poverty, though at the cost of increasing economic inequality.[52] India is a nuclear-weapon state, which ranks high in military expenditure. It has disputes over Kashmir with its neighbours, Pakistan and China, unresolved since the mid-20th century.[53] Among the socio-economic challenges India faces are gender inequality, child malnutrition,[54] and rising levels of air pollution.[55] India's land is megadiverse, with four biodiversity hotspots.[56] Its forest cover comprises 21.7% of its area.[57] India's wildlife, which has traditionally been viewed with tolerance in India's culture,[58] is supported among these forests, and elsewhere, in protected habitats.\"\"\"\n",
    "lines=p.split(\".\")\n",
    "for i in range(len(lines)):\n",
    "    lines[i]=lines[i]+\"\\n\\n\"\n",
    "fp=open(\"python.txt\",\"w\")\n",
    "fp.writelines(lines)\n",
    "fp.close()\n",
    "print(\"task has completed\")"
   ]
  },
  {
   "cell_type": "markdown",
   "metadata": {},
   "source": [
    "# Reading content from the file:\n",
    "\n",
    "    1. read()   # reading content of entire file- return the content of the file\n",
    "    \n",
    "    \n",
    "    "
   ]
  },
  {
   "cell_type": "code",
   "execution_count": null,
   "metadata": {},
   "outputs": [],
   "source": [
    "fp=open(\"python.txt\",\"r\")\n",
    "content = fp.read()\n",
    "print(content)\n",
    "fp.close()\n",
    "print(\"task has complted\")\n"
   ]
  },
  {
   "cell_type": "code",
   "execution_count": null,
   "metadata": {},
   "outputs": [],
   "source": [
    "# write the content of file 1(s) to file 2(d) python.txt ===> python2.txt\n",
    "\n",
    "fd=open(\"python2.txt\",\"w\")\n",
    "fs=open(\"python.txt\",\"r\")\n",
    "\n",
    "content=fs.read()  # reading content from python.txt and conpy textt in content\n",
    "fd.write(content)  # content data wrting to python2.txt \n",
    "\n",
    "fd.close()\n",
    "fs.close()\n",
    "print(\"Task has complted\")\n",
    "\n",
    "\n"
   ]
  },
  {
   "cell_type": "markdown",
   "metadata": {},
   "source": [
    "# writing contetn to the file\n",
    "\n",
    "    1.write(contnet): witing content to the file\n",
    "    2.writelines(list of lines)"
   ]
  },
  {
   "cell_type": "code",
   "execution_count": null,
   "metadata": {},
   "outputs": [],
   "source": [
    "# i wnat ot write my details to the file :name rollno, address \n",
    "\n",
    "fp=open(\"saiganesh.txt\",\"w\")\n",
    "fp.write(\"saiganesh\"+\",\")\n",
    "fp.write(\"3011\"+\",\")\n",
    "fp.write(\"warangal\"+\",\")\n",
    "\n",
    "fp.close()\n",
    "\n",
    "print(\"My task has complted\")"
   ]
  },
  {
   "cell_type": "code",
   "execution_count": null,
   "metadata": {},
   "outputs": [],
   "source": [
    "# one student data writing to the file by collection data from end user\n",
    "\n",
    "\n",
    "fp = open(\"saiganesh.csv\",\"w\")\n",
    "\n",
    "name = input(\"Enter Name of the student\")\n",
    "rno = input(\"Enter Rollno\")\n",
    "add = input(\"Enter Address\")\n",
    "fp.write(name+\",\"+rno+\",\"+add)\n",
    "\n",
    "fp.close()\n",
    "\n",
    "print(\"My task has completed\")\n",
    "\n",
    "\n"
   ]
  },
  {
   "cell_type": "code",
   "execution_count": null,
   "metadata": {},
   "outputs": [],
   "source": [
    "# enter n no of students information to the file --> csv, text\n",
    "\n",
    "fp=open(\"saiganesh.txt\",\"w\")\n",
    "n =int(input(\"Enter How Many Students Information You Enter\"))\n",
    "\n",
    "for i in range(n):\n",
    "    name = input(\"Enter Name of the student\")\n",
    "    rno = input(\"Enter Rollno\")\n",
    "    add = input(\"Enter Address\")\n",
    "    fp.write(name+\",\"+rno+\",\"+add+\"\\n\")\n",
    "fp.close()\n",
    "print(\"My Task has complted\")\n",
    "\n"
   ]
  },
  {
   "cell_type": "code",
   "execution_count": null,
   "metadata": {},
   "outputs": [],
   "source": [
    "# writing content to the file using write lines ; student information\n",
    "\n",
    "home work\n"
   ]
  },
  {
   "cell_type": "code",
   "execution_count": null,
   "metadata": {},
   "outputs": [],
   "source": [
    "# reading content from the file\n",
    "\n",
    "    1. read() : reading content of entire file return as a string type\n",
    "    2. read(n): reading content of file based on givne number of charecters\n",
    "    3. readline(): it read a line from the file\n",
    "    4. readlines() : it read entire file as line by line and return list of lines\n",
    "\n",
    "\n",
    "diff b/w read() and readlines():\n",
    "    \n",
    "\n",
    "\n",
    "\n",
    "\n"
   ]
  },
  {
   "cell_type": "code",
   "execution_count": null,
   "metadata": {},
   "outputs": [],
   "source": [
    "fp=open(\"saiganesh.txt\",\"r\")\n",
    "content=fp.read()\n",
    "print(\"The content of file is:\\n\",content)\n",
    "print(\"lenght of file is\",len(content))"
   ]
  },
  {
   "cell_type": "code",
   "execution_count": null,
   "metadata": {},
   "outputs": [],
   "source": [
    "fp=open(\"saiganesh.txt\",\"r\")\n",
    "content=fp.read(9)   \n",
    "print(\"The content of file is:\\n\",content)\n",
    "print(\"\")"
   ]
  },
  {
   "cell_type": "code",
   "execution_count": null,
   "metadata": {},
   "outputs": [],
   "source": [
    "# readline : it read a line from the fille and return it as a string type,1042\n",
    "\n",
    "fp=open(\"saiganesh.txt\",'r')\n",
    "\n",
    "for i in range(10):  #i=0,1,2,3,4,5,6,7,8,9\n",
    "    content=fp.readline()\n",
    "    if i==2:\n",
    "        print(content)\n",
    "fp.close()\n",
    "print(\"task has completed\")"
   ]
  },
  {
   "cell_type": "code",
   "execution_count": null,
   "metadata": {},
   "outputs": [],
   "source": [
    "fp =open(\"saiganesh.txt\",\"r\")\n",
    "lofline=fp.readlines()\n",
    "print(lofline[2])\n",
    "fp.close()\n"
   ]
  },
  {
   "cell_type": "code",
   "execution_count": null,
   "metadata": {},
   "outputs": [],
   "source": [
    "fp=open(\"saiganesh.txt\",\"r\")\n",
    "stuinfo=fp.readlines()\n",
    "#print(stuinfo)\n",
    "x=input(\"Etner whose detsil u want ot see\")\n",
    "\n",
    "flag=0\n",
    "for i in stuinfo:\n",
    "    osi = i.split(\",\")\n",
    "    if osi[1]==x:\n",
    "        flag=1\n",
    "        print(\"Name=\",osi[0])\n",
    "        print(\"Address=\",osi[2])\n",
    "if flag==0:\n",
    "    print(\"No records found\")"
   ]
  },
  {
   "cell_type": "code",
   "execution_count": null,
   "metadata": {},
   "outputs": [],
   "source": [
    "\n",
    "\n",
    "# file pointer description : \n",
    "\n",
    "#1. getting file name using file pointer : key ==> fp.name\n",
    "\n",
    "# to check is it in wrtie mode or not : writable() ; boolean value --> Treu, or false\n",
    "\n",
    "# to check is it read or no : readable()  # it return bolean\n",
    "\n",
    "\n",
    "# to know weather file has closed or not: fp.closed  it return boolean value : tre or false\n",
    "\n",
    "fp= open(\"abc.txt\",\"w\")\n",
    "\n",
    "\n",
    "\n"
   ]
  },
  {
   "cell_type": "code",
   "execution_count": null,
   "metadata": {},
   "outputs": [],
   "source": [
    "read() # read entire cnntetns as string type char by charece\n",
    "read(n) # read n charecter \n",
    "readline() \n",
    "reeadlines()/ line by line - "
   ]
  },
  {
   "cell_type": "code",
   "execution_count": null,
   "metadata": {},
   "outputs": [],
   "source": [
    "r+ : read and write : "
   ]
  },
  {
   "cell_type": "code",
   "execution_count": null,
   "metadata": {},
   "outputs": [],
   "source": [
    "mode : x, r ,w a "
   ]
  },
  {
   "cell_type": "code",
   "execution_count": 10,
   "metadata": {},
   "outputs": [
    {
     "name": "stdout",
     "output_type": "stream",
     "text": [
      "data in file is : hi i am student of sr university, which is located in warangal dist\n",
      "task has completed\n"
     ]
    }
   ],
   "source": [
    "fp = open(\"abc.txt\",\"r\")\n",
    "content=fp.read()\n",
    "print(\"data in file is :\",content)\n",
    "fp.close()\n",
    "\n",
    "fp = open('abc.txt','a')\n",
    "fp.write(\"-telangana\")\n",
    "fp.close()\n",
    "\n",
    "print(\"task has completed\")"
   ]
  },
  {
   "cell_type": "code",
   "execution_count": 12,
   "metadata": {},
   "outputs": [
    {
     "name": "stdout",
     "output_type": "stream",
     "text": [
      "data in file is  hi i am student of sr university, which is located in warangal dist-telangana\n",
      "task has completed\n"
     ]
    }
   ],
   "source": [
    "fp = open(\"abc.txt\",'r+') # : r -- read, r+ read and write : file wite  ; append mode\n",
    "\n",
    "content= fp.read()\n",
    "print(\"data in file is \",content)\n",
    "\n",
    "fp.write(\"= india\")\n",
    "fp.close()\n",
    "\n",
    "print(\"task has completed\")\n"
   ]
  },
  {
   "cell_type": "code",
   "execution_count": 25,
   "metadata": {},
   "outputs": [
    {
     "name": "stdout",
     "output_type": "stream",
     "text": [
      "\n",
      "task has completed\n"
     ]
    }
   ],
   "source": [
    "# pythond does nt provide direct function/ mothods to remove or rename the fille\n",
    "\n",
    "# module ==> os # operating system\n",
    "\n",
    "\n",
    "rename : \n",
    "    \n",
    "    rename(\"old file name\",\"new file name\")\n",
    "    \n",
    "\n",
    "remove file from system:\n",
    "    os module\n",
    "    remove(filename)\n",
    "\n",
    "\n",
    "\n"
   ]
  },
  {
   "cell_type": "code",
   "execution_count": 26,
   "metadata": {},
   "outputs": [
    {
     "name": "stdout",
     "output_type": "stream",
     "text": [
      "rename successful\n"
     ]
    }
   ],
   "source": [
    "import os\n",
    "\n",
    "os.rename(\"abc.txt\",\"def.txt\")\n",
    "\n",
    "print(\"rename successful\")"
   ]
  },
  {
   "cell_type": "code",
   "execution_count": 27,
   "metadata": {},
   "outputs": [
    {
     "name": "stdout",
     "output_type": "stream",
     "text": [
      "file deleted successfuly\n"
     ]
    }
   ],
   "source": [
    "import os\n",
    "os.remove(\"def.txt\")\n",
    "print(\"file deleted successfuly\")"
   ]
  },
  {
   "cell_type": "markdown",
   "metadata": {},
   "source": [
    "# additonal two methods :\n",
    "\n",
    "\n",
    "    1. tell()\n",
    "    2. seek()\n",
    "    \n",
    "tell() --> conveying /syaing something \n",
    "\n",
    "regaular stuatus of u ... 10  20pages pages 30 pages "
   ]
  },
  {
   "cell_type": "code",
   "execution_count": 31,
   "metadata": {},
   "outputs": [
    {
     "name": "stdout",
     "output_type": "stream",
     "text": [
      "current postion is: 0\n",
      "print content : hi \n",
      "i am \n",
      "\n",
      "current postion is: 10\n",
      "print content is: student \n",
      "i\n",
      "current postion is: 20\n"
     ]
    }
   ],
   "source": [
    "fp = open(\"abc.txt\",'r')\n",
    "print(\"current postion is:\",fp.tell()) #0\n",
    "content = fp.read(10)\n",
    "print(\"print content :\",content)\n",
    "\n",
    "print(\"current postion is:\",fp.tell()) #10\n",
    "content=fp.read(10)\n",
    "print(\"print content is:\",content)\n",
    "print(\"current postion is:\",fp.tell())  #20\n",
    "\n"
   ]
  },
  {
   "cell_type": "code",
   "execution_count": 32,
   "metadata": {},
   "outputs": [
    {
     "name": "stdout",
     "output_type": "stream",
     "text": [
      "current postion is: 0\n",
      "current postion is: 10\n"
     ]
    }
   ],
   "source": [
    "fp = open(\"abc.txt\",\"r\")\n",
    "print(\"current postion is:\",fp.tell())\n",
    "\n",
    "fp.readline()\n",
    "fp.readline()\n",
    "print(\"current postion is:\",fp.tell())"
   ]
  },
  {
   "cell_type": "code",
   "execution_count": 33,
   "metadata": {},
   "outputs": [
    {
     "ename": "SyntaxError",
     "evalue": "invalid syntax (<ipython-input-33-cbab3f6014c6>, line 1)",
     "output_type": "error",
     "traceback": [
      "\u001b[1;36m  File \u001b[1;32m\"<ipython-input-33-cbab3f6014c6>\"\u001b[1;36m, line \u001b[1;32m1\u001b[0m\n\u001b[1;33m    seek() ---> will shift ur cursor postion to the required place\u001b[0m\n\u001b[1;37m             ^\u001b[0m\n\u001b[1;31mSyntaxError\u001b[0m\u001b[1;31m:\u001b[0m invalid syntax\n"
     ]
    }
   ],
   "source": [
    "seek() ---> will shift ur cursor postion to the required place"
   ]
  },
  {
   "cell_type": "code",
   "execution_count": 35,
   "metadata": {},
   "outputs": [
    {
     "name": "stdout",
     "output_type": "stream",
     "text": [
      "current positon is 0\n",
      "curretn postion is 10\n",
      "current position is 5\n"
     ]
    }
   ],
   "source": [
    "fp = open(\"abc.txt\",\"r\")\n",
    "print(\"current positon is\",fp.tell()) # 0\n",
    "\n",
    "fp.seek(10)  # jump to 10 th character\n",
    "\n",
    "print(\"curretn postion is\",fp.tell()) #10\n",
    "\n",
    "fp.seek(5)\n",
    "print(\"current position is\",fp.tell()) #5"
   ]
  },
  {
   "cell_type": "code",
   "execution_count": 38,
   "metadata": {},
   "outputs": [
    {
     "name": "stdout",
     "output_type": "stream",
     "text": [
      "current positon is 0\n",
      "1234567890\n",
      "890\n",
      "curretn postion is 10\n",
      "67890\n",
      "current position is 10\n"
     ]
    }
   ],
   "source": [
    "fp = open(\"abc.txt\",\"r\")\n",
    "print(\"current positon is\",fp.tell()) # 0\n",
    "print(fp.read())  #1234567890\n",
    "\n",
    "fp.seek(7)  # jump to 7 th character\n",
    "print(fp.read())#890\n",
    "\n",
    "print(\"curretn postion is\",fp.tell()) #10\n",
    "\n",
    "fp.seek(5)\n",
    "print(fp.read())#67890\n",
    "print(\"current position is\",fp.tell()) #5"
   ]
  },
  {
   "cell_type": "code",
   "execution_count": null,
   "metadata": {},
   "outputs": [],
   "source": []
  }
 ],
 "metadata": {
  "kernelspec": {
   "display_name": "Python 3",
   "language": "python",
   "name": "python3"
  },
  "language_info": {
   "codemirror_mode": {
    "name": "ipython",
    "version": 3
   },
   "file_extension": ".py",
   "mimetype": "text/x-python",
   "name": "python",
   "nbconvert_exporter": "python",
   "pygments_lexer": "ipython3",
   "version": "3.8.8"
  }
 },
 "nbformat": 4,
 "nbformat_minor": 4
}

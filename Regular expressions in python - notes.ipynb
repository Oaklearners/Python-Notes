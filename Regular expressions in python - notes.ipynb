{
 "cells": [
  {
   "cell_type": "markdown",
   "metadata": {},
   "source": [
    "<center><u><h1 style=\"color:red\">Regular expressions</h1></u></center>\n",
    "    \n",
    "        The regular expressions can be defined as the sequence of characters which are used to search for a pattern in a string.\n",
    "    \n",
    "    \n",
    "    Applications:\n",
    "        1. validating data :\n",
    "            \n",
    "            Example: \n",
    "                \n",
    "                a. to check whether given email is valild or not\n",
    "                b. contact number having exact 10 digit or not\n",
    "                c. is password following minium rules are not...\n",
    "        \n",
    "        2. data scrapping:\n",
    "            \n",
    "            to get the relavent information from the large text ; we go for data scrapping\n",
    "            \n",
    "            Example : fetcing an eamail from large text\n",
    "            \n",
    "        \n",
    "            \n",
    "                \n",
    "        \n"
   ]
  },
  {
   "cell_type": "markdown",
   "metadata": {},
   "source": [
    "Module:\n",
    "------------\n",
    "    \n",
    "    python provide 're' module to get Regualr Expression functionalities\n",
    "    \n",
    "\n",
    "# Improting Module:\n",
    "\n",
    "    1. import re\n",
    "    2. import re as r\n",
    "    3. from re import *"
   ]
  },
  {
   "cell_type": "markdown",
   "metadata": {},
   "source": [
    "# Methods in 're' Module"
   ]
  },
  {
   "cell_type": "markdown",
   "metadata": {},
   "source": [
    "\n",
    "# 1. compile():\n",
    "    \n",
    "        this method take an argument regurlar expression and return Pattern object\n",
    "        \n",
    "        Syntax:\n",
    "        -------       \n",
    "\n",
    "            Pattern_object complile(\"pattern\")\n",
    "\n",
    "\n",
    "\n",
    "\n",
    "    \n",
    "    \n",
    "\n",
    "\n"
   ]
  },
  {
   "cell_type": "code",
   "execution_count": 4,
   "metadata": {},
   "outputs": [
    {
     "data": {
      "text/plain": [
       "re.Pattern"
      ]
     },
     "execution_count": 4,
     "metadata": {},
     "output_type": "execute_result"
    }
   ],
   "source": [
    "import re\n",
    "\n",
    "pat=re.compile('india')\n",
    "type(pat)"
   ]
  },
  {
   "cell_type": "markdown",
   "metadata": {},
   "source": [
    "# 2. finditer():\n",
    "    \n",
    "    \n",
    "    Syntax 1:\n",
    "        \n",
    "        clallable_iterator_object Patter_object.finditer(sting)\n",
    "        \n",
    "             this finditer() method accept a string as an arguemnt and return callable_iterator\n",
    "        \n",
    "             this method invoke with Pattern_object\n",
    "            \n",
    "        Example:\n",
    "            \n",
    "            import re\n",
    "            pat = re.compile('aaa')\n",
    "            x = pat.finditer('hello aaa where are u living aaa ')\n",
    "            print(x)\n",
    "        \n",
    "    \n",
    "    Syntax 2:\n",
    "        \n",
    "        callable_iterator_object re.finditer(pattern,mainstring)\n",
    "            "
   ]
  },
  {
   "cell_type": "code",
   "execution_count": 7,
   "metadata": {},
   "outputs": [
    {
     "name": "stdout",
     "output_type": "stream",
     "text": [
      "<callable_iterator object at 0x000000414DB13190>\n"
     ]
    }
   ],
   "source": [
    "# Example for Syntax 1\n",
    "\n",
    "import re\n",
    "\n",
    "pat = re.compile('aaa')\n",
    "x = pat.finditer('hello aaa; where are u living aaa')\n",
    "print(x)"
   ]
  },
  {
   "cell_type": "code",
   "execution_count": 10,
   "metadata": {},
   "outputs": [
    {
     "name": "stdout",
     "output_type": "stream",
     "text": [
      "<callable_iterator object at 0x000000414DB13C70>\n"
     ]
    }
   ],
   "source": [
    "# Example for Syntax 2\n",
    "\n",
    "import re\n",
    "\n",
    "x = re.finditer('aaa','hello aaa ;where are u living aaa')\n",
    "print(x)"
   ]
  },
  {
   "cell_type": "markdown",
   "metadata": {},
   "source": [
    "<h2> What does callable_iterator object contains? </h2>\n",
    "\n",
    "        callable_iterator object contains list of matched objects; means when we search the string aganest pattern, where the pattern matched strings found that matched location object will return\n",
    "        \n",
    "        for i in callable_iterator_object:\n",
    "            print(i)\n",
    "        \n",
    "        \n",
    "        \n",
    "    "
   ]
  },
  {
   "cell_type": "code",
   "execution_count": 43,
   "metadata": {},
   "outputs": [
    {
     "name": "stdout",
     "output_type": "stream",
     "text": [
      "<re.Match object; span=(18, 20), match='SR'>\n",
      "<re.Match object; span=(32, 34), match='SR'>\n"
     ]
    }
   ],
   "source": [
    "import re\n",
    "\n",
    "pat=re.compile('SR')\n",
    "matched = pat.finditer(\"I am a student of SR Univerity, SR is located in Warangal Dist\")\n",
    "for i in matched:\n",
    "    print(i)\n"
   ]
  },
  {
   "cell_type": "markdown",
   "metadata": {},
   "source": [
    "\n",
    "\n",
    "    Note:\n",
    "    =====\n",
    "    \n",
    "        Every match object contains information of \n",
    "            1. start index of matched string\n",
    "            2. end index of matched string\n",
    "            3. which string has matched\n",
    "        \n",
    "        \n",
    "    span() this method return a tuple ; which contains start and end index of matched object\n",
    "    start() this method return an integer; which return starting index of matched string\n",
    "    end() this method return an integer; which is end index of matched string (end+1)\n",
    "    group() this method return a string; it is the matched string"
   ]
  },
  {
   "cell_type": "code",
   "execution_count": 23,
   "metadata": {},
   "outputs": [
    {
     "name": "stdout",
     "output_type": "stream",
     "text": [
      "i am  is found at  3  index and end at  6  index\n",
      "i am  is found at  19  index and end at  22  index\n",
      "i am  is found at  40  index and end at  43  index\n",
      "i am  is found at  61  index and end at  64  index\n"
     ]
    }
   ],
   "source": [
    "mainstring =\"hi i am a student, i am leaning python, i am studing in sru, i am an indian\"    \n",
    "\n",
    "import re\n",
    "\n",
    "pat = re.compile('i am')\n",
    "matchobjs = pat.finditer(mainstring)\n",
    "for i in matchobjs:\n",
    "    print(i.group(),\" is found at \",i.start(),' index and end at ',i.end()-1,\" index\")\n",
    "\n",
    "\n",
    "\n",
    "# expected oute: i am== is found at 3 index and end at  6 index"
   ]
  },
  {
   "cell_type": "markdown",
   "metadata": {},
   "source": [
    "# chatercter clases\n",
    "\n",
    "    we will denote charecter class with [] notation\n",
    "    \n",
    "    [abc] - which denote - either a or b or c\n",
    "    [029]- either 0 or 2 or 9\n",
    "    [a-z]  - lower case a to z\n",
    "    [A-Z] - uppercase A-Z\n",
    "    [0-9] - all digit from 0 to 9\n",
    "    [a-zA-Z] - all upper and lower case charecters\n",
    "    \n",
    "    \n",
    "    Examples:\n",
    "        only vowels :\n",
    "            [aeiouAEIOU]\n",
    "    \n",
    "    Role of '^' (cap) notation:\n",
    "    ---------------------------\n",
    "    \n",
    "        ^ (cap) denote except\n",
    "        \n",
    "     [^a] - except a means from b to z\n",
    "     [^abc] - except [a or b or c] means from d to z\n",
    "     [^aeiouAEIOU] - except vowels\n",
    "     \n",
    "\n",
    "\n",
    "\n",
    "    Note :\n",
    "    \n",
    "        the above class check only one charecter at a time"
   ]
  },
  {
   "cell_type": "markdown",
   "metadata": {},
   "source": [
    "# Find The digits position in given string"
   ]
  },
  {
   "cell_type": "code",
   "execution_count": 28,
   "metadata": {},
   "outputs": [
    {
     "name": "stdout",
     "output_type": "stream",
     "text": [
      "1  is found at  5  index and end at  5  index\n",
      "1  is found at  11  index and end at  11  index\n",
      "3  is found at  15  index and end at  15  index\n"
     ]
    }
   ],
   "source": [
    "\n",
    "\n",
    "import re\n",
    "\n",
    "mat_list = re.finditer('[0-9]',\"AB C 1D EF 1GHI3 JKL\")\n",
    "for i in mat_list:\n",
    "    print(i.group(),\" is found at \",i.start(),' index and end at ',i.end()-1,\" index\")\n",
    "\n"
   ]
  },
  {
   "cell_type": "markdown",
   "metadata": {},
   "source": [
    "# Find The Alphabet position in given string"
   ]
  },
  {
   "cell_type": "code",
   "execution_count": 32,
   "metadata": {},
   "outputs": [
    {
     "name": "stdout",
     "output_type": "stream",
     "text": [
      "A  is found at  0  index and end at  0  index\n",
      "B  is found at  1  index and end at  1  index\n",
      "C  is found at  3  index and end at  3  index\n",
      "D  is found at  6  index and end at  6  index\n",
      "E  is found at  8  index and end at  8  index\n",
      "F  is found at  9  index and end at  9  index\n",
      "G  is found at  12  index and end at  12  index\n",
      "H  is found at  13  index and end at  13  index\n",
      "I  is found at  14  index and end at  14  index\n",
      "J  is found at  17  index and end at  17  index\n",
      "K  is found at  18  index and end at  18  index\n",
      "L  is found at  19  index and end at  19  index\n"
     ]
    }
   ],
   "source": [
    "\n",
    "\n",
    "import re\n",
    "\n",
    "mat_list = re.finditer('[a-zA-Z]',\"AB C 1D EF 1GHI3 JKL\")\n",
    "for i in mat_list:\n",
    "    print(i.group(),\" is found at \",i.start(),' index and end at ',i.end()-1,\" index\")\n",
    "\n"
   ]
  },
  {
   "cell_type": "markdown",
   "metadata": {},
   "source": [
    "# Find the vowels in Given String"
   ]
  },
  {
   "cell_type": "code",
   "execution_count": 29,
   "metadata": {},
   "outputs": [
    {
     "name": "stdout",
     "output_type": "stream",
     "text": [
      "U  is found at  3  index and end at  3  index\n",
      "i  is found at  5  index and end at  5  index\n",
      "e  is found at  7  index and end at  7  index\n",
      "i  is found at  10  index and end at  10  index\n"
     ]
    }
   ],
   "source": [
    "\n",
    "import re\n",
    "\n",
    "matchobjs = re.finditer('[aeiouAEIOU]','SR University')\n",
    "for i in matchobjs:\n",
    "    print(i.group(),\" is found at \",i.start(),' index and end at ',i.end()-1,\" index\")\n",
    "    "
   ]
  },
  {
   "cell_type": "markdown",
   "metadata": {},
   "source": [
    "# Find the consonants in Given String"
   ]
  },
  {
   "cell_type": "code",
   "execution_count": 33,
   "metadata": {},
   "outputs": [
    {
     "name": "stdout",
     "output_type": "stream",
     "text": [
      "S  is found at  0  index and end at  0  index\n",
      "R  is found at  1  index and end at  1  index\n",
      "   is found at  2  index and end at  2  index\n",
      "n  is found at  4  index and end at  4  index\n",
      "v  is found at  6  index and end at  6  index\n",
      "r  is found at  8  index and end at  8  index\n",
      "s  is found at  10  index and end at  10  index\n",
      "t  is found at  12  index and end at  12  index\n",
      "y  is found at  13  index and end at  13  index\n"
     ]
    }
   ],
   "source": [
    "\n",
    "import re\n",
    "\n",
    "pat = re.compile('[^aeiouAEIOU]')\n",
    "matchobjs = pat.finditer(\"SR Univerisity\")\n",
    "for i in matchobjs:\n",
    "    print(i.group(),\" is found at \",i.start(),' index and end at ',i.end()-1,\" index\")\n",
    "\n"
   ]
  },
  {
   "cell_type": "markdown",
   "metadata": {},
   "source": [
    "# Quantifiers\n",
    "\n",
    "    if 'x' is a given pattern\n",
    "    \n",
    "    then Quntifiers are:\n",
    "    \n",
    "        x    =>  x pattern check only once\n",
    "        x*   =>  x is either zeor or more times\n",
    "        x+   =>  x is either one or more times\n",
    "        x?   =>  x is either zero or one time\n",
    "        x{n} =>  x is n times\n",
    "        x{m,n}  => x is either minimum 'm' times or maximum 'n' times\n",
    "\n",
    "\n"
   ]
  },
  {
   "cell_type": "markdown",
   "metadata": {},
   "source": [
    "# write a program to find consecutive 2 volwels in given string"
   ]
  },
  {
   "cell_type": "code",
   "execution_count": 41,
   "metadata": {},
   "outputs": [
    {
     "name": "stdout",
     "output_type": "stream",
     "text": [
      "ee  is found at  3  index and end at  4  index\n",
      "ou  is found at  36  index and end at  37  index\n",
      "Task has completed\n"
     ]
    }
   ],
   "source": [
    "\n",
    "import re\n",
    "pat = re.compile('[aeiouAEIOU]{2}')\n",
    "matchobjs = pat.finditer(\"street village city district state country\")\n",
    "for i in matchobjs:\n",
    "    print(i.group(),\" is found at \",i.start(),' index and end at ',i.end()-1,\" index\")\n",
    "\n",
    "print(\"Task has completed\")\n",
    "\n"
   ]
  },
  {
   "cell_type": "code",
   "execution_count": null,
   "metadata": {},
   "outputs": [],
   "source": [
    "# Write a program to "
   ]
  },
  {
   "cell_type": "code",
   "execution_count": 51,
   "metadata": {},
   "outputs": [
    {
     "name": "stdout",
     "output_type": "stream",
     "text": [
      "llll  fond at  7\n",
      "lllll  fond at  12\n",
      "lllll  fond at  18\n",
      "llllll  fond at  24\n",
      "llllll  fond at  31\n",
      "lllllll  fond at  38\n",
      "lllllll  fond at  47\n",
      "lllllll  fond at  56\n",
      "llll  fond at  66\n",
      "lllllll  fond at  71\n",
      "llll  fond at  79\n",
      "llllll  fond at  84\n"
     ]
    }
   ],
   "source": [
    "\n",
    "# 4  to 7 \n",
    "mainstring=\"ll lll llll lllll lllll llllll llllll llllllll llllllll llllllll  llllalllllllallllallllll\"\n",
    "\n",
    "import re\n",
    "\n",
    "pat = re.compile('l{4,7}')\n",
    "matchobj = pat.finditer(mainstring)\n",
    "\n",
    "for i in matchobj:\n",
    "    print(i.group(),\" fond at \",i.start())"
   ]
  },
  {
   "cell_type": "code",
   "execution_count": 82,
   "metadata": {},
   "outputs": [
    {
     "name": "stdout",
     "output_type": "stream",
     "text": [
      "Bay\n",
      "Pakistan\n",
      "Bangladesh\n",
      "Lanka\n",
      "Maldives\n",
      "Valley\n",
      "Sanskrit\n",
      "Jainism\n",
      "Early\n",
      "Maurya\n",
      "Ganges\n",
      "Basin\n",
      "East\n",
      "Pakistan\n",
      "Kashmir\n",
      "Pakistan\n",
      "task has completed\n"
     ]
    }
   ],
   "source": [
    "\n",
    "fp = open('abc.txt','rb')\n",
    "content = str(fp.read())\n",
    "import re\n",
    "pat= re.compile('[A-Z][a][a-z]+')\n",
    "matchobj = pat.finditer(content)\n",
    "for i in matchobj:\n",
    "    print(i.group())\n",
    "print(\"task has completed\")"
   ]
  },
  {
   "cell_type": "code",
   "execution_count": null,
   "metadata": {},
   "outputs": [],
   "source": []
  },
  {
   "cell_type": "code",
   "execution_count": null,
   "metadata": {},
   "outputs": [],
   "source": []
  },
  {
   "cell_type": "code",
   "execution_count": null,
   "metadata": {},
   "outputs": [],
   "source": [
    "import re\n",
    "\n",
    "compile() -- is for creating a pattern\n",
    "\n",
    "matched =pat.finditer(mainstring) --> callable_iterator--> collection of matched\n",
    "\n",
    "=> each contains ==> span(s,e), start(),end(),group() \n",
    "\n",
    "\n",
    "match()\n",
    "fullmatch()\n",
    "search()\n",
    "findall()\n"
   ]
  },
  {
   "cell_type": "code",
   "execution_count": 37,
   "metadata": {},
   "outputs": [
    {
     "name": "stdout",
     "output_type": "stream",
     "text": [
      "0 : 4 - matech string is i am\n",
      "16 : 20 - matech string is i am\n",
      "32 : 36 - matech string is i am\n"
     ]
    }
   ],
   "source": [
    "ms = \"i am a student, i am an indian, i am studying in sru\"\n",
    "import re\n",
    "pat = re.compile('i am')   # pattern object superate\n",
    "matches=pat.finditer(ms)\n",
    "for i in matches:\n",
    "    print(i.start(),\":\",i.end(),\"- matech string is\",i.group())"
   ]
  },
  {
   "cell_type": "code",
   "execution_count": 38,
   "metadata": {},
   "outputs": [
    {
     "name": "stdout",
     "output_type": "stream",
     "text": [
      "0 : 4 - matech string is i am\n",
      "16 : 20 - matech string is i am\n",
      "32 : 36 - matech string is i am\n",
      "task has completed- modified code\n"
     ]
    }
   ],
   "source": [
    "ms = \"i am a student, i am an indian, i am studying in sru\"\n",
    "import re\n",
    "matches= re.finditer(\"i am\",ms)\n",
    "for i in matches:\n",
    "    print(i.start(),\":\",i.end(),\"- matech string is\",i.group())\n",
    "print(\"task has completed- modified code\")"
   ]
  },
  {
   "cell_type": "code",
   "execution_count": null,
   "metadata": {},
   "outputs": [],
   "source": []
  },
  {
   "cell_type": "code",
   "execution_count": 40,
   "metadata": {},
   "outputs": [
    {
     "ename": "SyntaxError",
     "evalue": "invalid syntax (<ipython-input-40-a556a6950fd6>, line 1)",
     "output_type": "error",
     "traceback": [
      "\u001b[1;36m  File \u001b[1;32m\"<ipython-input-40-a556a6950fd6>\"\u001b[1;36m, line \u001b[1;32m1\u001b[0m\n\u001b[1;33m    Date regurlar expression: DD-MM-YYYY\u001b[0m\n\u001b[1;37m         ^\u001b[0m\n\u001b[1;31mSyntaxError\u001b[0m\u001b[1;31m:\u001b[0m invalid syntax\n"
     ]
    }
   ],
   "source": [
    "Date regurlar expression: DD-MM-YYYY\n",
    "    \n",
    "    \n",
    "date : 1 to 31 ==> 1 to 9 and 10 to 19 and 20 to 29 and 30 and 31\n",
    "    \n",
    "    01 == 1\n",
    "    \n",
    "    0?[1-9]|[12][0-9]|[3][01]\n",
    "    \n",
    "    \n",
    "    \n",
    "    \n",
    "month : 1 to 12\n",
    "\n",
    "year :0  to 9999"
   ]
  },
  {
   "cell_type": "code",
   "execution_count": 43,
   "metadata": {},
   "outputs": [],
   "source": [
    "import re\n",
    "\n",
    "match=re.finditer(\"([12][0-9]|[3][01])\",\"51\")\n",
    "for i in match:\n",
    "    print(i.group())\n",
    "\n"
   ]
  },
  {
   "cell_type": "code",
   "execution_count": 44,
   "metadata": {},
   "outputs": [
    {
     "ename": "SyntaxError",
     "evalue": "invalid syntax (<ipython-input-44-f811022a5e42>, line 1)",
     "output_type": "error",
     "traceback": [
      "\u001b[1;36m  File \u001b[1;32m\"<ipython-input-44-f811022a5e42>\"\u001b[1;36m, line \u001b[1;32m1\u001b[0m\n\u001b[1;33m    match(): is to check whether the starting sting of mainstring is matching with the given pattern or not\u001b[0m\n\u001b[1;37m             ^\u001b[0m\n\u001b[1;31mSyntaxError\u001b[0m\u001b[1;31m:\u001b[0m invalid syntax\n"
     ]
    }
   ],
   "source": [
    "match(): is to check whether the starting sting of mainstring is matching with the given pattern or not\n",
    "    \n",
    "    \n",
    "    it will return pattern object\n",
    "    None"
   ]
  },
  {
   "cell_type": "code",
   "execution_count": 46,
   "metadata": {},
   "outputs": [
    {
     "name": "stdout",
     "output_type": "stream",
     "text": [
      "None\n"
     ]
    }
   ],
   "source": [
    "import re\n",
    "\n",
    "match = re.match('i am','hi i am a student')\n",
    "print(match)"
   ]
  },
  {
   "cell_type": "code",
   "execution_count": 47,
   "metadata": {},
   "outputs": [
    {
     "ename": "SyntaxError",
     "evalue": "invalid syntax (<ipython-input-47-b9de4f39b679>, line 1)",
     "output_type": "error",
     "traceback": [
      "\u001b[1;36m  File \u001b[1;32m\"<ipython-input-47-b9de4f39b679>\"\u001b[1;36m, line \u001b[1;32m1\u001b[0m\n\u001b[1;33m    fullmatch() :\u001b[0m\n\u001b[1;37m                  ^\u001b[0m\n\u001b[1;31mSyntaxError\u001b[0m\u001b[1;31m:\u001b[0m invalid syntax\n"
     ]
    }
   ],
   "source": [
    "fullmatch() : \n",
    "    \n",
    "    if pattern and entire main string match then it retun match object \n",
    "    other wise - None"
   ]
  },
  {
   "cell_type": "code",
   "execution_count": 49,
   "metadata": {},
   "outputs": [
    {
     "name": "stdout",
     "output_type": "stream",
     "text": [
      "<re.Match object; span=(0, 4), match='i am'>\n"
     ]
    }
   ],
   "source": [
    "import re\n",
    "\n",
    "match=re.fullmatch('i am','i am')\n",
    "print(match)"
   ]
  },
  {
   "cell_type": "code",
   "execution_count": 50,
   "metadata": {},
   "outputs": [
    {
     "name": "stdout",
     "output_type": "stream",
     "text": [
      "valid date\n"
     ]
    }
   ],
   "source": [
    "import re\n",
    "\n",
    "match=re.fullmatch('(0?[1-9]|[12][0-9]|[3][01])',\"1\")\n",
    "if match!=None:\n",
    "    print(\"valid date\")\n",
    "else:\n",
    "    print(\"invalid date\")"
   ]
  },
  {
   "cell_type": "code",
   "execution_count": 58,
   "metadata": {},
   "outputs": [
    {
     "name": "stdout",
     "output_type": "stream",
     "text": [
      "enter date12-12-2020\n",
      "valid date\n"
     ]
    }
   ],
   "source": [
    "import re\n",
    "\n",
    "date=input(\"enter date\")\n",
    "match=re.fullmatch('(0?[1-9]|[12][0-9]|[3][01])-(0?[1-9]|[1][0-2])-([1-9][0-9]{3})',date)\n",
    "if match!=None:\n",
    "    print(\"valid date\")\n",
    "else:\n",
    "    print(\"invalid date\")"
   ]
  },
  {
   "cell_type": "code",
   "execution_count": 59,
   "metadata": {},
   "outputs": [
    {
     "ename": "SyntaxError",
     "evalue": "invalid syntax (<ipython-input-59-e1f8631242ed>, line 5)",
     "output_type": "error",
     "traceback": [
      "\u001b[1;36m  File \u001b[1;32m\"<ipython-input-59-e1f8631242ed>\"\u001b[1;36m, line \u001b[1;32m5\u001b[0m\n\u001b[1;33m    [a-zA-Z0-9]{3}@gmail.com\u001b[0m\n\u001b[1;37m               ^\u001b[0m\n\u001b[1;31mSyntaxError\u001b[0m\u001b[1;31m:\u001b[0m invalid syntax\n"
     ]
    }
   ],
   "source": [
    "gmail- id\n",
    "\n",
    "ab12Ac@gamil.com\n",
    "\n",
    "[a-zA-Z0-9]{3}@gmail.com\n",
    "\n",
    "\n"
   ]
  },
  {
   "cell_type": "code",
   "execution_count": 61,
   "metadata": {},
   "outputs": [
    {
     "name": "stdout",
     "output_type": "stream",
     "text": [
      "enter emailaaaa@gmail.com\n",
      "invalid email\n"
     ]
    }
   ],
   "source": [
    "import re\n",
    "\n",
    "email=input(\"enter email\")\n",
    "match=re.fullmatch('[a-zA-Z0-9]{3}@gmail.com',email)\n",
    "if match!=None:\n",
    "    print(\"valid email\")\n",
    "else:\n",
    "    print(\"invalid email\")"
   ]
  },
  {
   "cell_type": "code",
   "execution_count": 62,
   "metadata": {},
   "outputs": [
    {
     "ename": "SyntaxError",
     "evalue": "invalid syntax (<ipython-input-62-87f7f542fb14>, line 1)",
     "output_type": "error",
     "traceback": [
      "\u001b[1;36m  File \u001b[1;32m\"<ipython-input-62-87f7f542fb14>\"\u001b[1;36m, line \u001b[1;32m1\u001b[0m\n\u001b[1;33m    finditer():\u001b[0m\n\u001b[1;37m               ^\u001b[0m\n\u001b[1;31mSyntaxError\u001b[0m\u001b[1;31m:\u001b[0m invalid syntax\n"
     ]
    }
   ],
   "source": [
    "finditer():\n",
    "    it find all the matching object \n",
    "    \n",
    "compile()\n",
    "\n",
    "    create pattern object\n",
    "    \n",
    "match():\n",
    "    to compate first part of main staring againes patter\n",
    "\n",
    "fullmatch():\n",
    "    compire entire sting\n",
    "    \n",
    "findall()\n",
    "\n",
    "it return list of matched strngs\n",
    "\n",
    "search():\n",
    "    compare entire sting and reutn the first occurance of matched object\n",
    "    \n",
    "    \n",
    "split()"
   ]
  },
  {
   "cell_type": "code",
   "execution_count": 69,
   "metadata": {},
   "outputs": [
    {
     "name": "stdout",
     "output_type": "stream",
     "text": [
      "abc@gmail.com\n"
     ]
    }
   ],
   "source": [
    "import re\n",
    "\n",
    "\n",
    "mailids=re.search('[a-zA-Z0-9]{3}@gmail.com',\"abc abc@gmail.com hello how are u xyz@yahoo.com heloow world pqr@gmail.com\")\n",
    "print(mailids.group())\n"
   ]
  },
  {
   "cell_type": "code",
   "execution_count": 76,
   "metadata": {},
   "outputs": [
    {
     "name": "stdout",
     "output_type": "stream",
     "text": [
      "None\n"
     ]
    }
   ],
   "source": [
    "import re\n",
    "match=re.search('i am','hello a studnet')\n",
    "print(match)\n",
    "\n",
    "#search('i am','hello i am a studnet')"
   ]
  },
  {
   "cell_type": "code",
   "execution_count": 77,
   "metadata": {},
   "outputs": [
    {
     "data": {
      "text/plain": [
       "['hello', 'i', 'am', 'student']"
      ]
     },
     "execution_count": 77,
     "metadata": {},
     "output_type": "execute_result"
    }
   ],
   "source": [
    "'hello i am student'.split('  ') ==> stirng concept'"
   ]
  },
  {
   "cell_type": "code",
   "execution_count": 78,
   "metadata": {},
   "outputs": [
    {
     "data": {
      "text/plain": [
       "['hello', 'i', 'am', 'a', 'studnet']"
      ]
     },
     "execution_count": 78,
     "metadata": {},
     "output_type": "execute_result"
    }
   ],
   "source": [
    "import re\n",
    "\n",
    "re.split(' ',\"hello i am a studnet\") ==> regular epression"
   ]
  },
  {
   "cell_type": "code",
   "execution_count": 84,
   "metadata": {},
   "outputs": [
    {
     "name": "stdout",
     "output_type": "stream",
     "text": [
      "['506371', '579028', '579028', '598088', '598088', '506371', '577877', '577877', '577877', '577877', '577877', '577877', '507091', '537599', '593262', '506371']\n"
     ]
    }
   ],
   "source": [
    "import re\n",
    "import urllib\n",
    "import urllib.request\n",
    "\n",
    "siteinfo = urllib.request.urlopen(\"https://sru.edu.in/campus-visit\")\n",
    "content = str(siteinfo.read())\n",
    "\n",
    "\n",
    "contact=re.findall('[5][0-9]{5}',content)\n",
    "print(contact)\n",
    "\n"
   ]
  },
  {
   "cell_type": "code",
   "execution_count": 48,
   "metadata": {},
   "outputs": [
    {
     "name": "stdout",
     "output_type": "stream",
     "text": [
      "Enter Your Variable Namec b\n",
      "InValid\n"
     ]
    }
   ],
   "source": [
    "#wrie a program to check ehter given identifier is valid or not\n",
    "\n",
    "import re\n",
    "iden =input(\"Enter Your Variable Name\")\n",
    "x = re.fullmatch('[a-zA-Z][a-zA-Z0-9]*',iden)\n",
    "if x:\n",
    "    print(\"Valid\")\n",
    "else:\n",
    "    print(\"InValid\")"
   ]
  },
  {
   "cell_type": "code",
   "execution_count": 52,
   "metadata": {},
   "outputs": [
    {
     "name": "stdout",
     "output_type": "stream",
     "text": [
      "Enter Conctact Number2\n",
      "Invalid contact Number\n"
     ]
    }
   ],
   "source": [
    "# valid contact number or not\n",
    "\n",
    "import re\n",
    "\n",
    "x = re.fullmatch('[6789][0-9]{9}',input(\"Enter Conctact Number\"))\n",
    "if x :\n",
    "    print(\"Valid contact Number\")\n",
    "else:\n",
    "    print(\"Invalid contact Number\")"
   ]
  },
  {
   "cell_type": "code",
   "execution_count": null,
   "metadata": {},
   "outputs": [],
   "source": [
    "# valid email id or not\n",
    "\n",
    "import re\n",
    "\n",
    "x = re.fullmatch('[a-zA-Z][a-zA-Z0-9]*.@gmail.com',input(\"Enter Email Id\"))\n",
    "if x:\n",
    "    print(\"Valid Email\")\n",
    "else:\n",
    "    print(\"Invalid Email ID\")"
   ]
  },
  {
   "cell_type": "code",
   "execution_count": null,
   "metadata": {},
   "outputs": [],
   "source": []
  }
 ],
 "metadata": {
  "kernelspec": {
   "display_name": "Python 3",
   "language": "python",
   "name": "python3"
  },
  "language_info": {
   "codemirror_mode": {
    "name": "ipython",
    "version": 3
   },
   "file_extension": ".py",
   "mimetype": "text/x-python",
   "name": "python",
   "nbconvert_exporter": "python",
   "pygments_lexer": "ipython3",
   "version": "3.8.8"
  }
 },
 "nbformat": 4,
 "nbformat_minor": 4
}

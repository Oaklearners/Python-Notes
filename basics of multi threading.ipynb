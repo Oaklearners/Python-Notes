{
 "cells": [
  {
   "cell_type": "markdown",
   "id": "71acd0ff",
   "metadata": {},
   "source": [
    "# Multitasking:"
   ]
  },
  {
   "cell_type": "markdown",
   "id": "9c45ff42",
   "metadata": {},
   "source": [
    "        Multitasking, is allowing a user to perform more than one computer task (such as the operation of an application program) at a time. \n",
    "        \n",
    "        Multitasking programming is of two types:\n",
    "        =========================================\n",
    "        \n",
    "            1. Process based multitasking\n",
    "            2. Thread based multitasking\n",
    "            \n",
    "            \n",
    "            Process based multi taksing:\n",
    "            ----------------------------\n",
    "            \n",
    "                > In process based multitasking two or more processes and programs can be run concurrently.\n",
    "                \n",
    "                > In process based multitasking a process or a program is the smallest unit\n",
    "                \n",
    "                > Process based multitasking requires more overhead.\n",
    "                \n",
    "                > Process requires its own address space.\n",
    "                \n",
    "             \n",
    "                \n",
    "            Example:\n",
    "            \n",
    "                We can listen to music and browse internet at the same time. The processes in this example are the music player and browser.\n",
    "                \n",
    "                \n",
    "            Thread based multtasking:\n",
    "            -------------------------\n",
    "              \n",
    "                In thread based multitasking two or more threads can be run concurrently.\n",
    "                \n",
    "                In thread based multitasking a thread is the smallest unit.\n",
    "                \n",
    "                Thread is a smaller unit.\n",
    "                \n",
    "                Thread based multitasking requires less overhead.\n",
    "                \n",
    "                Threads share same address space.\n",
    "                \n",
    "            \n",
    "            Example:\n",
    "                \n",
    "                Using a browser we can navigate through the webpage and at the same time download a file. In this example, navigation is one thread and downloading is another thread. Also in a word-processing application like MS Word, we can type text in one thread and spell checker checks for mistakes in another thread.\n",
    "           \n",
    "\n",
    "            "
   ]
  },
  {
   "cell_type": "markdown",
   "id": "fe4eb1a3",
   "metadata": {},
   "source": [
    "# Benefits of Multithreading in Python\n",
    "\n",
    "    Following are the benefits to create a multithreaded application in Python, as follows:\n",
    "\n",
    "        1. It ensures effective utilization of computer system resources.\n",
    "        2. Multithreaded applications are more responsive.\n",
    "        3. It shares resources and its state with sub-threads (child) which makes it more economical.\n",
    "        4. It makes the multiprocessor architecture more effective due to similarity.\n",
    "        5. *****  It saves time by executing multiple threads at the same time.\n",
    "        6. The system does not require too much memory to store multiple threads."
   ]
  },
  {
   "cell_type": "markdown",
   "id": "3317698c",
   "metadata": {},
   "source": [
    "# When to use Multithreading in Python?\n",
    "\n",
    "\n",
    "        It is a very useful technique for time-saving and improving the performance of an application. Multithreading allows the programmer to divide application tasks into sub-tasks and simultaneously run them in a program. It allows threads to communicate and share resources such as files, data, and memory to the same processor. Furthermore, it increases the user's responsiveness to continue running a program even if a part of the application is the length or blocked.\n"
   ]
  },
  {
   "cell_type": "markdown",
   "id": "747cab1e",
   "metadata": {},
   "source": [
    "# How to achieve multithreading in python:"
   ]
  },
  {
   "cell_type": "markdown",
   "id": "ae915e5e",
   "metadata": {},
   "source": [
    "    Note:\n",
    "        \n",
    "        we need 'threading' module to achive multi threading\n",
    "        \n",
    "    \n",
    "    There are three ways to write multi threading\n",
    "    \n",
    "        1. without using any class (functional oriented multi threading)\n",
    "        \n",
    "        2. with classes (object orineted multithreading without extending Thread behaviour)\n",
    "        \n",
    "        3. by extending Thread class (oops oriented with Thread behaviour)"
   ]
  },
  {
   "cell_type": "markdown",
   "id": "462eac2e",
   "metadata": {},
   "source": [
    "# Note: \n",
    "    \n",
    "    if we dont create any thread in program. by default python program create a thread i.e., \"MainThread\"\n",
    "    \n",
    "    \n",
    "    To know which thread is executing currently then python provide a predefined functions i.e., \"current_thread()\". this function belonging to the \"threading module\""
   ]
  },
  {
   "cell_type": "markdown",
   "id": "fd8a0568",
   "metadata": {},
   "source": [
    "# Example "
   ]
  },
  {
   "cell_type": "code",
   "execution_count": 2,
   "id": "8b95fe9d",
   "metadata": {},
   "outputs": [
    {
     "name": "stdout",
     "output_type": "stream",
     "text": [
      "<_MainThread(MainThread, started 7700)>\n"
     ]
    }
   ],
   "source": [
    "import threading\n",
    "print(threading.current_thread())"
   ]
  },
  {
   "cell_type": "markdown",
   "id": "faa3daa1",
   "metadata": {},
   "source": [
    "    From the above program result we can find 3 things :\n",
    "        \n",
    "        1. name of the current execting thread : i.e., MainThread\n",
    "        2. status of Thread : i.e., started\n",
    "        3. Identification Number of Thread is : 7700\n",
    "            \n",
    "    Note: \n",
    "        \n",
    "        this identification number used to uniquely identify the thread. \n",
    "        \n",
    "        python create identification number automatically.\n",
    "        \n",
    "        "
   ]
  },
  {
   "cell_type": "markdown",
   "id": "5093d58e",
   "metadata": {},
   "source": [
    "# To get Thread Name:  (getName())\n",
    "\n"
   ]
  },
  {
   "cell_type": "code",
   "execution_count": 4,
   "id": "b85da944",
   "metadata": {},
   "outputs": [
    {
     "name": "stdout",
     "output_type": "stream",
     "text": [
      "MainThread\n"
     ]
    }
   ],
   "source": [
    "import threading\n",
    "print(threading.current_thread().getName())"
   ]
  },
  {
   "cell_type": "markdown",
   "id": "8ad664a0",
   "metadata": {},
   "source": [
    "# To get Identification Number (threadobject.ident)"
   ]
  },
  {
   "cell_type": "code",
   "execution_count": 12,
   "id": "5d7932f3",
   "metadata": {},
   "outputs": [
    {
     "name": "stdout",
     "output_type": "stream",
     "text": [
      "7700\n"
     ]
    }
   ],
   "source": [
    "import threading\n",
    "print(threading.current_thread().ident)"
   ]
  },
  {
   "cell_type": "code",
   "execution_count": null,
   "id": "2ee1c61b",
   "metadata": {},
   "outputs": [],
   "source": []
  },
  {
   "cell_type": "code",
   "execution_count": null,
   "id": "3d3ac345",
   "metadata": {},
   "outputs": [],
   "source": []
  }
 ],
 "metadata": {
  "kernelspec": {
   "display_name": "Python 3",
   "language": "python",
   "name": "python3"
  },
  "language_info": {
   "codemirror_mode": {
    "name": "ipython",
    "version": 3
   },
   "file_extension": ".py",
   "mimetype": "text/x-python",
   "name": "python",
   "nbconvert_exporter": "python",
   "pygments_lexer": "ipython3",
   "version": "3.8.8"
  }
 },
 "nbformat": 4,
 "nbformat_minor": 5
}

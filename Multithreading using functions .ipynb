{
 "cells": [
  {
   "cell_type": "markdown",
   "id": "999ac210",
   "metadata": {},
   "source": [
    "# Sample program execution without using multitaksing:\n"
   ]
  },
  {
   "cell_type": "code",
   "execution_count": null,
   "id": "1b93ed44",
   "metadata": {},
   "outputs": [],
   "source": [
    "\n",
    "\n",
    "def display():\n",
    "    for i in range(10):\n",
    "        print(\"Inside function\",i)\n",
    "        \n",
    "\n",
    "        \n",
    "# first time display calling :\n",
    "\n",
    "display()\n",
    "print()\n",
    "\n",
    "# second time display calling\n",
    "display()\n",
    "print()\n",
    "\n",
    "# remaing part of program \n",
    "for i in range(10):\n",
    "    print(\"Outside functions\")"
   ]
  },
  {
   "cell_type": "markdown",
   "id": "8722e444",
   "metadata": {},
   "source": [
    "    if we analyse above program results carefully we observe :\n",
    "\n",
    "        1. these all are executed sequentially\n",
    "        2. second time display calling is waiting until compleating of first display function\n",
    "        3. after completion of two display functions remain part of program is executing\n",
    "\n",
    "\n",
    "    actually calling display first time and second time are independent tasks.. even they are independent.. second display function is waiting until completion of first functions.\n",
    "    \n",
    "    if we execute these two simultaneouly we can complete the task faster then sequentials.\n",
    "    \n",
    "    \n",
    "    Example:\n",
    "    \n",
    "        if a person want to write 10 papers, he take 10 days of time.. because he spend 1 day time to complete 1 papers.\n",
    "        \n",
    "        if a person having commitment to complete the task 1 day.. then he immediately give 10 individual paper to 10 \n",
    "        persons... then he can complete the task in 1 day... \n",
    "        \n",
    "        this is done by multitasking..\n",
    "        \n",
    "        one task has divided into independent smaller sub task and each subtask assing to multiple resources, these all subtask executes indepedently and simultaneously.\n",
    "    \n"
   ]
  },
  {
   "cell_type": "markdown",
   "id": "ffbbf4b1",
   "metadata": {},
   "source": [
    "# Creating a thread object"
   ]
  },
  {
   "cell_type": "markdown",
   "id": "6f4242c4",
   "metadata": {},
   "source": [
    "    thread_object = threading.Thread(target=function-name)"
   ]
  },
  {
   "cell_type": "markdown",
   "id": "eb723c02",
   "metadata": {},
   "source": [
    "# Starting Thread execution:\n",
    "    "
   ]
  },
  {
   "cell_type": "markdown",
   "id": "84bc007d",
   "metadata": {},
   "source": [
    "    thread_object.start()"
   ]
  },
  {
   "cell_type": "markdown",
   "id": "5caf097c",
   "metadata": {},
   "source": [
    "# Example - 1\n",
    "\n"
   ]
  },
  {
   "cell_type": "code",
   "execution_count": 11,
   "id": "b712a19b",
   "metadata": {},
   "outputs": [
    {
     "name": "stdout",
     "output_type": "stream",
     "text": [
      "Thread-18Thread-19 ===> 10\n",
      "Thread-19 ===> 9\n",
      "Thread-19 ===> 8\n",
      "Thread-19 ===> 7\n",
      "Thread-19 ===> 6\n",
      "Thread-19 ===> 5\n",
      "Thread-19 ===> 4\n",
      "Thread-19 ===> 3\n",
      "Thread-19 ===>  2\n",
      "Thread-19 ===> 1\n",
      " ==>  0\n",
      "Thread-18  ==>  1\n",
      "Thread-18  ==>  2\n",
      "Thread-18  ==>  3\n",
      "Thread-18  ==>  4\n",
      "Thread-18  ==>  5\n",
      "Thread-18  ==>  6\n",
      "Thread-18  ==>  7\n",
      "Thread-18  ==>  8\n",
      "Thread-18  ==>  9\n"
     ]
    }
   ],
   "source": [
    "import threading\n",
    "\n",
    "def display_forward():\n",
    "    for i in range(10):\n",
    "        print(threading.current_thread().getName(),\" ==> \",i)\n",
    "\n",
    "def display_reverse():\n",
    "    for i in range(10,0,-1):\n",
    "        print(threading.current_thread().getName(),\"===>\",i)\n",
    "        \n",
    "        \n",
    "t1=threading.Thread(target=display_forward)\n",
    "t2=threading.Thread(target=display_reverse)\n",
    "\n",
    "t1.start()\n",
    "t2.start()\n",
    "        "
   ]
  },
  {
   "cell_type": "markdown",
   "id": "69208682",
   "metadata": {},
   "source": [
    "    \n",
    "    if we observe the above result:\n",
    "\n",
    "       1.  t1 and t2 threads are concurently executing... and here we can predict the results \n",
    "       \n",
    "       \n",
    "       2. Python compiler will assign default Name to threads as: Thread-1 / Thead -2.....\n",
    "       \n",
    "       "
   ]
  },
  {
   "cell_type": "markdown",
   "id": "52e92082",
   "metadata": {},
   "source": [
    "# Assigning our own Name to Each Thread\n",
    "\n",
    "    there are two ways to assing name to the threds\n",
    "    \n",
    "        1. while creating thread object, supplying name default arguments\n",
    "        2. by using the setName() method\n",
    "        \n",
    "        \n",
    "        \n",
    "        Example :\n",
    "        \n",
    "        1 method:\n",
    "        \n",
    "            t1 = threading.Thread(target=Function_name , name=\"New Thread Name\")\n",
    "            \n",
    "       2 method:\n",
    "       \n",
    "           t1 = theading.Thread(target=Function_name)\n",
    "           \n",
    "           t1.setName(\"New thread Name\")\n",
    "           \n",
    "           \n"
   ]
  },
  {
   "cell_type": "code",
   "execution_count": 10,
   "id": "5afb02dc",
   "metadata": {},
   "outputs": [
    {
     "name": "stdout",
     "output_type": "stream",
     "text": [
      "INDIAUSA  ==>  0\n",
      "INDIA  ==>  1\n",
      "INDIA  ==>  2\n",
      "INDIA  ==>  3\n",
      "INDIA  ==>  4\n",
      "INDIA  ==>  5\n",
      "INDIA  ==>  6\n",
      "INDIA  ==>  7\n",
      "INDIA  ==>  8\n",
      "INDIA  ==>  9\n",
      " ===> 10\n",
      "USA ===> 9\n",
      "USA ===> 8\n",
      "USA ===> 7\n",
      "USA ===> 6\n",
      "USA ===> 5\n",
      "USA ===> 4\n",
      "USA ===> 3\n",
      "USA ===> 2\n",
      "USA ===> 1\n"
     ]
    }
   ],
   "source": [
    "# Method 1\n",
    "\n",
    "\n",
    "\n",
    "import threading\n",
    "\n",
    "def display_forward():\n",
    "    for i in range(10):\n",
    "        print(threading.current_thread().getName(),\" ==> \",i)\n",
    "\n",
    "def display_reverse():\n",
    "    for i in range(10,0,-1):\n",
    "        print(threading.current_thread().getName(),\"===>\",i)\n",
    "        \n",
    "        \n",
    "t1=threading.Thread(target=display_forward, name=\"INDIA\")\n",
    "t2=threading.Thread(target=display_reverse, name=\"USA\")\n",
    "\n",
    "t1.start()\n",
    "t2.start()\n",
    "        \n",
    "\n"
   ]
  },
  {
   "cell_type": "code",
   "execution_count": 12,
   "id": "9f202bdd",
   "metadata": {},
   "outputs": [
    {
     "name": "stdout",
     "output_type": "stream",
     "text": [
      "IndiaUSA  ==>  0\n",
      "India  ==>  1\n",
      "India  ==>  2\n",
      "India  ==>  3\n",
      "India  ==>  4\n",
      "India  ==>  5\n",
      "India  ==>  6\n",
      "India  ==>  7\n",
      "India  ==>  8\n",
      "India  ==>  9\n",
      " ===> 10\n",
      "USA ===> 9\n",
      "USA ===> 8\n",
      "USA ===> 7\n",
      "USA ===> 6\n",
      "USA ===> 5\n",
      "USA ===> 4\n",
      "USA ===> 3\n",
      "USA ===> 2\n",
      "USA ===> 1\n"
     ]
    }
   ],
   "source": [
    "# Method 2\n",
    "\n",
    "\n",
    "import threading\n",
    "\n",
    "def display_forward():\n",
    "    for i in range(10):\n",
    "        print(threading.current_thread().getName(),\" ==> \",i)\n",
    "\n",
    "def display_reverse():\n",
    "    for i in range(10,0,-1):\n",
    "        print(threading.current_thread().getName(),\"===>\",i)\n",
    "        \n",
    "        \n",
    "t1=threading.Thread(target=display_forward)\n",
    "t2=threading.Thread(target=display_reverse)\n",
    "\n",
    "t1.setName(\"India\")\n",
    "t2.setName(\"USA\")\n",
    "\n",
    "t1.start()\n",
    "t2.start()\n",
    "        \n",
    "\n"
   ]
  },
  {
   "cell_type": "code",
   "execution_count": null,
   "id": "80f15db0",
   "metadata": {},
   "outputs": [],
   "source": [
    "# join() :\n",
    "\n",
    "    A join() method is used to block the execution of another code until the thread terminates.\n",
    "    \n",
    "    Note: we have to write join method immediatley once "
   ]
  }
 ],
 "metadata": {
  "kernelspec": {
   "display_name": "Python 3",
   "language": "python",
   "name": "python3"
  },
  "language_info": {
   "codemirror_mode": {
    "name": "ipython",
    "version": 3
   },
   "file_extension": ".py",
   "mimetype": "text/x-python",
   "name": "python",
   "nbconvert_exporter": "python",
   "pygments_lexer": "ipython3",
   "version": "3.8.8"
  }
 },
 "nbformat": 4,
 "nbformat_minor": 5
}

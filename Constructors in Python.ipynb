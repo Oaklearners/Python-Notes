{
 "cells": [
  {
   "cell_type": "markdown",
   "id": "06e09918",
   "metadata": {},
   "source": [
    "# Constructor in Python\n",
    "\n",
    "    A constructor is a special method or member function of a class which automatically gets executes on every object creation.\n",
    "    \n",
    "    "
   ]
  },
  {
   "cell_type": "markdown",
   "id": "7858a39a",
   "metadata": {},
   "source": [
    "# Need of Constructor:\n",
    "\n",
    "     to initialize the object .. we use constructor"
   ]
  },
  {
   "cell_type": "markdown",
   "id": "39906768",
   "metadata": {},
   "source": [
    "# There are two types of constructors.\n",
    "\n",
    "    Constructor without parameters (or) Default Constructor :\n",
    "    ---------------------------------------------------------\n",
    "    \n",
    "         is a constructor without any parameters, however, it has a default parameter self.\n",
    "    \n",
    "    Constructor with parameters (or) Parameterized Constructor:\n",
    "    -----------------------------------------------------------\n",
    "    \n",
    "        is a constructor with one or more parameters. A parameterized constructor may have any number of parameters."
   ]
  },
  {
   "cell_type": "markdown",
   "id": "409de414",
   "metadata": {},
   "source": [
    "# Creating Default Constructor\n",
    "\n",
    "    In Python, the constructor is created using a special method called __init__( ).\n",
    "    "
   ]
  },
  {
   "cell_type": "markdown",
   "id": "1b53a779",
   "metadata": {},
   "source": [
    "# Example"
   ]
  },
  {
   "cell_type": "code",
   "execution_count": 20,
   "id": "79b04305",
   "metadata": {},
   "outputs": [
    {
     "name": "stdout",
     "output_type": "stream",
     "text": [
      "I am Default Constructor\n"
     ]
    }
   ],
   "source": [
    "class Sample:\n",
    "    def __init__(self):\n",
    "        print(\"I am Default Constructor\")\n",
    "        \n",
    "    \n",
    "s=Sample()  # it automatically calls the constructor"
   ]
  },
  {
   "cell_type": "markdown",
   "id": "9f0554d3",
   "metadata": {},
   "source": [
    "# Creating Parameterized Constructor"
   ]
  },
  {
   "cell_type": "code",
   "execution_count": 21,
   "id": "3a4b2e38",
   "metadata": {},
   "outputs": [
    {
     "name": "stdout",
     "output_type": "stream",
     "text": [
      "I am Parameterized Constructors :\n",
      "First parameter Value  10\n",
      "Second Parameter Value 20\n"
     ]
    }
   ],
   "source": [
    "class Simple:\n",
    "    def __init__(self,a,b):\n",
    "        print(\"I am Parameterized Constructors :\")\n",
    "        print(\"First parameter Value \",a)\n",
    "        print(\"Second Parameter Value\",b)\n",
    "        \n",
    "s = Simple(10,20)  # passing two parementers"
   ]
  },
  {
   "cell_type": "code",
   "execution_count": 26,
   "id": "296fb387",
   "metadata": {},
   "outputs": [
    {
     "name": "stdout",
     "output_type": "stream",
     "text": [
      "Name of student is: Rajesh\n",
      "Roll Number: 501\n",
      "Address : Hyderabad\n",
      "Contact Number: 9999999999\n"
     ]
    }
   ],
   "source": [
    "# Sample Program using constructor:\n",
    "\n",
    "class Student:\n",
    "    def __init__(self,name,rno,address,contact):\n",
    "        self.name=name\n",
    "        self.rno=rno\n",
    "        self.address=address\n",
    "        self.contact=contact\n",
    "    \n",
    "    def studentInformation(self):\n",
    "        print(\"Name of student is:\",self.name)\n",
    "        print(\"Roll Number:\",self.rno)\n",
    "        print(\"Address :\",self.address)\n",
    "        print(\"Contact Number:\",self.contact)\n",
    "\n",
    "        \n",
    "s1=Student(\"Rajesh\",501,'Hyderabad',9999999999)\n",
    "s2=Student(\"Mahesh\",502,\"Karimnagar\",8888888888)\n",
    "\n",
    "s1.studentInformation()\n"
   ]
  },
  {
   "cell_type": "code",
   "execution_count": 34,
   "id": "5b90b5e5",
   "metadata": {},
   "outputs": [],
   "source": [
    "# Employee Information Example"
   ]
  },
  {
   "cell_type": "code",
   "execution_count": 35,
   "id": "6475bd82",
   "metadata": {},
   "outputs": [],
   "source": [
    "# Bank Example"
   ]
  },
  {
   "cell_type": "code",
   "execution_count": null,
   "id": "2cb60e98",
   "metadata": {},
   "outputs": [],
   "source": []
  },
  {
   "cell_type": "code",
   "execution_count": null,
   "id": "8d2e747a",
   "metadata": {},
   "outputs": [],
   "source": []
  },
  {
   "cell_type": "code",
   "execution_count": null,
   "id": "d5fcb1a6",
   "metadata": {},
   "outputs": [],
   "source": []
  },
  {
   "cell_type": "code",
   "execution_count": null,
   "id": "fdcffaac",
   "metadata": {},
   "outputs": [],
   "source": []
  }
 ],
 "metadata": {
  "kernelspec": {
   "display_name": "Python 3",
   "language": "python",
   "name": "python3"
  },
  "language_info": {
   "codemirror_mode": {
    "name": "ipython",
    "version": 3
   },
   "file_extension": ".py",
   "mimetype": "text/x-python",
   "name": "python",
   "nbconvert_exporter": "python",
   "pygments_lexer": "ipython3",
   "version": "3.8.8"
  }
 },
 "nbformat": 4,
 "nbformat_minor": 5
}

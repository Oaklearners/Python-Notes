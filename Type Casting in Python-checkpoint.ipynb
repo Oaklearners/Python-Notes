{
 "cells": [
  {
   "cell_type": "markdown",
   "id": "fad3d523",
   "metadata": {},
   "source": [
    "# Type Casting :\n",
    "    \n",
    "    Converting one type of data value to another type is called Type Casting\n",
    "    \n",
    "    Basic Datatype Type casting:\n",
    "    \n",
    "    1. int() - convert other datatype of values to integer type\n",
    "    2. float() - covert other Datatype of values to float type\n",
    "    3. complex() - coverty other Datatype of value to complex type\n",
    "    4. bool() = covert other type of value to boolean type\n",
    "    5. str() - convert other type of value to string type\n",
    "    \n",
    "    6. list() - it covert other type of sequence(list of values) to list type\n",
    "    7. tuple() - \n",
    "    8. set()\n",
    "    9. frozenset()\n",
    "    10.byte()\n",
    "    10.bytearray()\n",
    "    11. dict()\n",
    "    12. range()\n",
    "    "
   ]
  },
  {
   "cell_type": "markdown",
   "id": "3c5273d5",
   "metadata": {},
   "source": [
    "# Type casting to Integer:\n",
    "\n",
    "\n",
    "    1. coverting float to integer:\n",
    "    ------------------------------\n",
    "    \n",
    "        int(10.5) ==> 10\n",
    "        \n",
    "    2. converting boolean to Integer:\n",
    "    ---------------------------------\n",
    "    \n",
    "        int(True) ==> 1\n",
    "        int(False) ==> 0\n",
    "        \n",
    "    3. coverting string to integer:\n",
    "    -------------------------------\n",
    "        \n",
    "        int(\"10\")  -----> output: 10\n",
    "        \n",
    "        \n",
    "                    condition : string value must be Numbertic Integer - base 10 \n",
    "        \n",
    "                            int(\"abc\") ----> Error\n",
    "        \n",
    "                            int(\"10.5\") ----> Error (Note : dot (.) is invalid character to convert to integer\n",
    "        \n",
    "    4. coverting complex to integer:\n",
    "    --------------------------------\n",
    "    \n",
    "        Note : we can not convert complex to integer type - it will return error"
   ]
  },
  {
   "cell_type": "code",
   "execution_count": 1,
   "id": "d8d79ef0",
   "metadata": {},
   "outputs": [
    {
     "data": {
      "text/plain": [
       "10"
      ]
     },
     "execution_count": 1,
     "metadata": {},
     "output_type": "execute_result"
    }
   ],
   "source": [
    "# Example 1:\n",
    "\n",
    "int(10.5)"
   ]
  },
  {
   "cell_type": "code",
   "execution_count": 3,
   "id": "13e69c4c",
   "metadata": {},
   "outputs": [
    {
     "data": {
      "text/plain": [
       "1"
      ]
     },
     "execution_count": 3,
     "metadata": {},
     "output_type": "execute_result"
    }
   ],
   "source": [
    "#Example 2:\n",
    "\n",
    "int(True)"
   ]
  },
  {
   "cell_type": "code",
   "execution_count": 4,
   "id": "2560b357",
   "metadata": {},
   "outputs": [
    {
     "data": {
      "text/plain": [
       "0"
      ]
     },
     "execution_count": 4,
     "metadata": {},
     "output_type": "execute_result"
    }
   ],
   "source": [
    "int(False)"
   ]
  },
  {
   "cell_type": "code",
   "execution_count": 5,
   "id": "67c43f57",
   "metadata": {},
   "outputs": [
    {
     "data": {
      "text/plain": [
       "10"
      ]
     },
     "execution_count": 5,
     "metadata": {},
     "output_type": "execute_result"
    }
   ],
   "source": [
    "#Example 3:\n",
    "\n",
    "int(\"10\")"
   ]
  },
  {
   "cell_type": "code",
   "execution_count": 6,
   "id": "78fecda7",
   "metadata": {},
   "outputs": [
    {
     "ename": "ValueError",
     "evalue": "invalid literal for int() with base 10: 'abc'",
     "output_type": "error",
     "traceback": [
      "\u001b[1;31m---------------------------------------------------------------------------\u001b[0m",
      "\u001b[1;31mValueError\u001b[0m                                Traceback (most recent call last)",
      "\u001b[1;32m<ipython-input-6-1ea0d61b3a1c>\u001b[0m in \u001b[0;36m<module>\u001b[1;34m\u001b[0m\n\u001b[1;32m----> 1\u001b[1;33m \u001b[0mint\u001b[0m\u001b[1;33m(\u001b[0m\u001b[1;34m\"abc\"\u001b[0m\u001b[1;33m)\u001b[0m    \u001b[1;31m#ERROR\u001b[0m\u001b[1;33m\u001b[0m\u001b[1;33m\u001b[0m\u001b[0m\n\u001b[0m",
      "\u001b[1;31mValueError\u001b[0m: invalid literal for int() with base 10: 'abc'"
     ]
    }
   ],
   "source": [
    "int(\"abc\")    #ERROR"
   ]
  },
  {
   "cell_type": "code",
   "execution_count": 7,
   "id": "ddab8227",
   "metadata": {},
   "outputs": [
    {
     "ename": "ValueError",
     "evalue": "invalid literal for int() with base 10: '10.5'",
     "output_type": "error",
     "traceback": [
      "\u001b[1;31m---------------------------------------------------------------------------\u001b[0m",
      "\u001b[1;31mValueError\u001b[0m                                Traceback (most recent call last)",
      "\u001b[1;32m<ipython-input-7-d9c1c4472988>\u001b[0m in \u001b[0;36m<module>\u001b[1;34m\u001b[0m\n\u001b[1;32m----> 1\u001b[1;33m \u001b[0mint\u001b[0m\u001b[1;33m(\u001b[0m\u001b[1;34m\"10.5\"\u001b[0m\u001b[1;33m)\u001b[0m   \u001b[1;31m#Error\u001b[0m\u001b[1;33m\u001b[0m\u001b[1;33m\u001b[0m\u001b[0m\n\u001b[0m",
      "\u001b[1;31mValueError\u001b[0m: invalid literal for int() with base 10: '10.5'"
     ]
    }
   ],
   "source": [
    "int(\"10.5\")   #Error"
   ]
  },
  {
   "cell_type": "code",
   "execution_count": 8,
   "id": "9fc08a21",
   "metadata": {},
   "outputs": [
    {
     "ename": "TypeError",
     "evalue": "can't convert complex to int",
     "output_type": "error",
     "traceback": [
      "\u001b[1;31m---------------------------------------------------------------------------\u001b[0m",
      "\u001b[1;31mTypeError\u001b[0m                                 Traceback (most recent call last)",
      "\u001b[1;32m<ipython-input-8-717be0c381ea>\u001b[0m in \u001b[0;36m<module>\u001b[1;34m\u001b[0m\n\u001b[0;32m      1\u001b[0m \u001b[1;31m# Example :\u001b[0m\u001b[1;33m\u001b[0m\u001b[1;33m\u001b[0m\u001b[1;33m\u001b[0m\u001b[0m\n\u001b[0;32m      2\u001b[0m \u001b[1;33m\u001b[0m\u001b[0m\n\u001b[1;32m----> 3\u001b[1;33m \u001b[0mint\u001b[0m\u001b[1;33m(\u001b[0m\u001b[1;36m10\u001b[0m\u001b[1;33m+\u001b[0m\u001b[1;36m3j\u001b[0m\u001b[1;33m)\u001b[0m\u001b[1;33m\u001b[0m\u001b[1;33m\u001b[0m\u001b[0m\n\u001b[0m",
      "\u001b[1;31mTypeError\u001b[0m: can't convert complex to int"
     ]
    }
   ],
   "source": [
    "# Example : \n",
    "\n",
    "int(10+3j)  # Error - Can not convert complex to integer"
   ]
  },
  {
   "cell_type": "markdown",
   "id": "eb12813c",
   "metadata": {},
   "source": [
    "# Type casting to float:\n",
    "\n",
    "    \n",
    "        1. convert integer to float:\n",
    "        ----------------------------\n",
    "        \n",
    "            Example:\n",
    "            \n",
    "                float(10) --> 10.0   Note : it add .0 for given value\n",
    "\n",
    "        2. convert boolean to float:\n",
    "        -----------------------------\n",
    "        \n",
    "            Example:\n",
    "            \n",
    "                float(True) ==> 1.0\n",
    "                \n",
    "                float(False) ==> 0.0\n",
    "                \n",
    "                \n",
    "                \n",
    "                \n",
    "        3. convert string to float:\n",
    "        ---------------------------\n",
    "        \n",
    "                Example :\n",
    "                \n",
    "                    float(\"10\") ===> 10.0\n",
    "                    float(\"10.4\") ==> 10.4\n",
    "                    \n",
    "                    Error:\n",
    "                    \n",
    "                        float(\"ABC\") ===> Error: we can not covert string charecter to float ; base must be 10\n",
    "\n",
    "\n",
    "        4. convert complex to float:\n",
    "        ----------------------------\n",
    "        \n",
    "            Note : python Does not convert complex to float\n",
    "            \n",
    "                float(10+2j) ==> Error\n",
    "\n",
    "        \n"
   ]
  },
  {
   "cell_type": "code",
   "execution_count": 10,
   "id": "7b472a07",
   "metadata": {},
   "outputs": [
    {
     "data": {
      "text/plain": [
       "10.0"
      ]
     },
     "execution_count": 10,
     "metadata": {},
     "output_type": "execute_result"
    }
   ],
   "source": [
    "# Example \n",
    "\n",
    "float(10)"
   ]
  },
  {
   "cell_type": "code",
   "execution_count": 12,
   "id": "d93aabf8",
   "metadata": {},
   "outputs": [
    {
     "data": {
      "text/plain": [
       "1.0"
      ]
     },
     "execution_count": 12,
     "metadata": {},
     "output_type": "execute_result"
    }
   ],
   "source": [
    "float(True)"
   ]
  },
  {
   "cell_type": "code",
   "execution_count": 13,
   "id": "975285e3",
   "metadata": {},
   "outputs": [
    {
     "data": {
      "text/plain": [
       "0.0"
      ]
     },
     "execution_count": 13,
     "metadata": {},
     "output_type": "execute_result"
    }
   ],
   "source": [
    "float(False)"
   ]
  },
  {
   "cell_type": "code",
   "execution_count": 15,
   "id": "c9dfc093",
   "metadata": {},
   "outputs": [
    {
     "data": {
      "text/plain": [
       "10.5"
      ]
     },
     "execution_count": 15,
     "metadata": {},
     "output_type": "execute_result"
    }
   ],
   "source": [
    "float(\"10.5\")"
   ]
  },
  {
   "cell_type": "code",
   "execution_count": 16,
   "id": "71276279",
   "metadata": {},
   "outputs": [
    {
     "ename": "ValueError",
     "evalue": "could not convert string to float: 'ABC'",
     "output_type": "error",
     "traceback": [
      "\u001b[1;31m---------------------------------------------------------------------------\u001b[0m",
      "\u001b[1;31mValueError\u001b[0m                                Traceback (most recent call last)",
      "\u001b[1;32m<ipython-input-16-8ccbc782388b>\u001b[0m in \u001b[0;36m<module>\u001b[1;34m\u001b[0m\n\u001b[1;32m----> 1\u001b[1;33m \u001b[0mfloat\u001b[0m\u001b[1;33m(\u001b[0m\u001b[1;34m\"ABC\"\u001b[0m\u001b[1;33m)\u001b[0m    \u001b[1;31m# Error\u001b[0m\u001b[1;33m\u001b[0m\u001b[1;33m\u001b[0m\u001b[0m\n\u001b[0m",
      "\u001b[1;31mValueError\u001b[0m: could not convert string to float: 'ABC'"
     ]
    }
   ],
   "source": [
    "float(\"ABC\")    # Error"
   ]
  },
  {
   "cell_type": "code",
   "execution_count": 18,
   "id": "2f987dc4",
   "metadata": {},
   "outputs": [
    {
     "ename": "TypeError",
     "evalue": "can't convert complex to float",
     "output_type": "error",
     "traceback": [
      "\u001b[1;31m---------------------------------------------------------------------------\u001b[0m",
      "\u001b[1;31mTypeError\u001b[0m                                 Traceback (most recent call last)",
      "\u001b[1;32m<ipython-input-18-7505bb51cc81>\u001b[0m in \u001b[0;36m<module>\u001b[1;34m\u001b[0m\n\u001b[1;32m----> 1\u001b[1;33m \u001b[0mfloat\u001b[0m\u001b[1;33m(\u001b[0m\u001b[1;36m10\u001b[0m\u001b[1;33m+\u001b[0m\u001b[1;36m2j\u001b[0m\u001b[1;33m)\u001b[0m \u001b[1;31m# Error\u001b[0m\u001b[1;33m\u001b[0m\u001b[1;33m\u001b[0m\u001b[0m\n\u001b[0m",
      "\u001b[1;31mTypeError\u001b[0m: can't convert complex to float"
     ]
    }
   ],
   "source": [
    "float(10+2j) # Error"
   ]
  },
  {
   "cell_type": "markdown",
   "id": "6bd1633f",
   "metadata": {},
   "source": [
    "# Type Casting to boolean:\n",
    "\n",
    "\n",
    "    1. Integer to boolean:\n",
    "    ---------------------\n",
    "    \n",
    "        bool(10) => True\n",
    "        bool(0) ==> False\n",
    "        bool(-10) ==> True\n",
    "        \n",
    "        \n",
    "        Note : Except 0 , remaining all integer bool() function return True\n",
    "        \n",
    "        \n",
    "    2. float to boolean:\n",
    "    --------------------\n",
    "        \n",
    "        bool(10.4) ===> True\n",
    "        bool(0.0) ===> False\n",
    "        bool(-10.5) ==> True\n",
    "        \n",
    "    3. String to boolean:\n",
    "    ---------------------\n",
    "        \n",
    "        bool(\"ABC\") ===> True\n",
    "        bool(\"10\") ===> True\n",
    "        bool(\"10.4\") ===> True\n",
    "        bool(\"0\") ===> True\n",
    "        bool(\"0.0\")===True\n",
    "        bool(\" \") ==> True ; note : even we give space it return True\n",
    "        \n",
    "        it return false with empty string literal\n",
    "        \n",
    "        bool(\"\") ==> False\n",
    "        \n",
    "    4. Complex to boolean:\n",
    "    ----------------------\n",
    "    \n",
    "        bool(10+2j) ==> True\n",
    "        bool(0+5j) ===> True\n",
    "        bool(10+0j) ===> True\n",
    "        \n",
    "        bool(0+0j) ===> False\n",
    "    "
   ]
  },
  {
   "cell_type": "code",
   "execution_count": 19,
   "id": "6d328231",
   "metadata": {},
   "outputs": [
    {
     "data": {
      "text/plain": [
       "True"
      ]
     },
     "execution_count": 19,
     "metadata": {},
     "output_type": "execute_result"
    }
   ],
   "source": [
    "bool(10)"
   ]
  },
  {
   "cell_type": "code",
   "execution_count": 20,
   "id": "5f054dfa",
   "metadata": {},
   "outputs": [
    {
     "data": {
      "text/plain": [
       "False"
      ]
     },
     "execution_count": 20,
     "metadata": {},
     "output_type": "execute_result"
    }
   ],
   "source": [
    "bool(0)"
   ]
  },
  {
   "cell_type": "code",
   "execution_count": 21,
   "id": "da9c7c76",
   "metadata": {},
   "outputs": [
    {
     "data": {
      "text/plain": [
       "True"
      ]
     },
     "execution_count": 21,
     "metadata": {},
     "output_type": "execute_result"
    }
   ],
   "source": [
    "bool(10.5)"
   ]
  },
  {
   "cell_type": "code",
   "execution_count": 22,
   "id": "1a344b45",
   "metadata": {},
   "outputs": [
    {
     "data": {
      "text/plain": [
       "False"
      ]
     },
     "execution_count": 22,
     "metadata": {},
     "output_type": "execute_result"
    }
   ],
   "source": [
    "bool(0.0)"
   ]
  },
  {
   "cell_type": "code",
   "execution_count": 23,
   "id": "f56dd725",
   "metadata": {},
   "outputs": [
    {
     "data": {
      "text/plain": [
       "True"
      ]
     },
     "execution_count": 23,
     "metadata": {},
     "output_type": "execute_result"
    }
   ],
   "source": [
    "bool(\"ABC\")"
   ]
  },
  {
   "cell_type": "code",
   "execution_count": 24,
   "id": "ddf69072",
   "metadata": {},
   "outputs": [
    {
     "data": {
      "text/plain": [
       "False"
      ]
     },
     "execution_count": 24,
     "metadata": {},
     "output_type": "execute_result"
    }
   ],
   "source": [
    "bool(\"\")"
   ]
  },
  {
   "cell_type": "code",
   "execution_count": 25,
   "id": "28344f78",
   "metadata": {},
   "outputs": [
    {
     "data": {
      "text/plain": [
       "True"
      ]
     },
     "execution_count": 25,
     "metadata": {},
     "output_type": "execute_result"
    }
   ],
   "source": [
    "bool(10+2j)"
   ]
  },
  {
   "cell_type": "code",
   "execution_count": 26,
   "id": "547aa426",
   "metadata": {},
   "outputs": [
    {
     "data": {
      "text/plain": [
       "False"
      ]
     },
     "execution_count": 26,
     "metadata": {},
     "output_type": "execute_result"
    }
   ],
   "source": [
    "bool(0+0j)"
   ]
  },
  {
   "cell_type": "markdown",
   "id": "fe04d2fc",
   "metadata": {},
   "source": [
    "# Type casting to Complex\n",
    "\n",
    "        to convert given number to complex ; python provide two types of functions\n",
    "        \n",
    "        1. complex() with one arguments\n",
    "        2. complex() with tw0 arguments\n",
    "        \n",
    "        --------------------------------------------------------------------------------------------------------------\n",
    "        \n",
    "        1. complex(real): complex function with one argument:\n",
    "        ----------------------------------------------------\n",
    "        \n",
    "        \n",
    "            a. integer real to complex\n",
    "        \n",
    "                    complex(10)   ==> 10+0j\n",
    "            \n",
    "            \n",
    "            b. float real to complex\n",
    "            \n",
    "                    complex(10.5) ===>10.5+0j\n",
    "            \n",
    "            c. string real to complex\n",
    "            \n",
    "                    complex(\"10\") ====10+0j\n",
    "                    complex(\"10.5\") ===> 10.5+0j\n",
    "                    \n",
    "            d. boolean real to complex\n",
    "                \n",
    "                    complex(True) ==> 1+0j\n",
    "                    complex(False) ===> 0j\n",
    "                    \n",
    "          2. complex(real, imag) ==> complex number with two argument:\n",
    "          ------------------------------------------------------------\n",
    "          \n",
    "              a. interger imaginary to complex:\n",
    "                  \n",
    "                      complex(10,10)===> 10+10j\n",
    "                      \n",
    "              b. float imaginary to complex:\n",
    "              \n",
    "                      complex(10,10.5) ===> 10+10.5j\n",
    "                      \n",
    "              c. boolean imaginary to complex:\n",
    "              \n",
    "                      complex(10,True) ==> 10+1j\n",
    "                      complex(10,False) ==> 10+0j\n",
    "              \n",
    "              \n",
    "              d. string imaginary to complex:\n",
    "              \n",
    "              \n",
    "                      complex(10,\"10\") ==> Error : second argument should not be string\n",
    "              \n",
    "          \n",
    "          "
   ]
  },
  {
   "cell_type": "code",
   "execution_count": 28,
   "id": "3b12d13e",
   "metadata": {},
   "outputs": [
    {
     "data": {
      "text/plain": [
       "(10+0j)"
      ]
     },
     "execution_count": 28,
     "metadata": {},
     "output_type": "execute_result"
    }
   ],
   "source": [
    "# integer real to complex\n",
    "\n",
    "complex(10)"
   ]
  },
  {
   "cell_type": "code",
   "execution_count": 29,
   "id": "f6f81ea4",
   "metadata": {},
   "outputs": [
    {
     "data": {
      "text/plain": [
       "(10.5+0j)"
      ]
     },
     "execution_count": 29,
     "metadata": {},
     "output_type": "execute_result"
    }
   ],
   "source": [
    "# float real to complex\n",
    "complex(10.5)"
   ]
  },
  {
   "cell_type": "code",
   "execution_count": 30,
   "id": "7eefc54b",
   "metadata": {},
   "outputs": [
    {
     "data": {
      "text/plain": [
       "(10.4+0j)"
      ]
     },
     "execution_count": 30,
     "metadata": {},
     "output_type": "execute_result"
    }
   ],
   "source": [
    "# string real to complex\n",
    "complex(\"10.4\")"
   ]
  },
  {
   "cell_type": "code",
   "execution_count": 31,
   "id": "53129016",
   "metadata": {},
   "outputs": [
    {
     "data": {
      "text/plain": [
       "(1+0j)"
      ]
     },
     "execution_count": 31,
     "metadata": {},
     "output_type": "execute_result"
    }
   ],
   "source": [
    "# boolean real to complex\n",
    "complex(True)"
   ]
  },
  {
   "cell_type": "code",
   "execution_count": 33,
   "id": "12dd2177",
   "metadata": {},
   "outputs": [
    {
     "data": {
      "text/plain": [
       "(10+1j)"
      ]
     },
     "execution_count": 33,
     "metadata": {},
     "output_type": "execute_result"
    }
   ],
   "source": [
    "complex(10,True)"
   ]
  },
  {
   "cell_type": "markdown",
   "id": "8d9b40cc",
   "metadata": {},
   "source": [
    "# Type casting to String\n",
    "\n",
    "    \n",
    "        1. integer to string:\n",
    "        \n",
    "            str(10)  ===> '10'\n",
    "            \n",
    "        2. float to string\n",
    "        \n",
    "            str(10.5) ===> '10.5'\n",
    "        \n",
    "        3. complex to string\n",
    "        \n",
    "            str(10+2j) ===> '10+2j'\n",
    "            \n",
    "        4. BOolean to string\n",
    "            str(True)  ===> 'True'"
   ]
  },
  {
   "cell_type": "code",
   "execution_count": 35,
   "id": "40165fbc",
   "metadata": {},
   "outputs": [
    {
     "data": {
      "text/plain": [
       "'10'"
      ]
     },
     "execution_count": 35,
     "metadata": {},
     "output_type": "execute_result"
    }
   ],
   "source": [
    "# Example\n",
    "\n",
    "str(10)\n"
   ]
  },
  {
   "cell_type": "code",
   "execution_count": 36,
   "id": "611c7eae",
   "metadata": {},
   "outputs": [
    {
     "data": {
      "text/plain": [
       "'10.5'"
      ]
     },
     "execution_count": 36,
     "metadata": {},
     "output_type": "execute_result"
    }
   ],
   "source": [
    "str(10.5)"
   ]
  },
  {
   "cell_type": "code",
   "execution_count": 37,
   "id": "f764878c",
   "metadata": {},
   "outputs": [
    {
     "data": {
      "text/plain": [
       "'(10+2j)'"
      ]
     },
     "execution_count": 37,
     "metadata": {},
     "output_type": "execute_result"
    }
   ],
   "source": [
    "str(10+2j)"
   ]
  },
  {
   "cell_type": "code",
   "execution_count": 38,
   "id": "c50a6323",
   "metadata": {},
   "outputs": [
    {
     "data": {
      "text/plain": [
       "'True'"
      ]
     },
     "execution_count": 38,
     "metadata": {},
     "output_type": "execute_result"
    }
   ],
   "source": [
    "str(True)"
   ]
  },
  {
   "cell_type": "code",
   "execution_count": null,
   "id": "75591dd9",
   "metadata": {},
   "outputs": [],
   "source": []
  }
 ],
 "metadata": {
  "kernelspec": {
   "display_name": "Python 3",
   "language": "python",
   "name": "python3"
  },
  "language_info": {
   "codemirror_mode": {
    "name": "ipython",
    "version": 3
   },
   "file_extension": ".py",
   "mimetype": "text/x-python",
   "name": "python",
   "nbconvert_exporter": "python",
   "pygments_lexer": "ipython3",
   "version": "3.8.8"
  }
 },
 "nbformat": 4,
 "nbformat_minor": 5
}

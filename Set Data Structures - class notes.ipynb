{
 "cells": [
  {
   "cell_type": "markdown",
   "metadata": {},
   "source": [
    "# Set Datastructures \n",
    "\n",
    "    A set is an unordered collection of hetrogenious type of items. \n",
    "    \n",
    "    Every set element is unique (no duplicates) \n",
    "    \n",
    "    *** set elements cannot be changed - immutable \n",
    "\n",
    "    *** However, a set is mutable. We can add or remove items from it.\n",
    "    \n",
    "    "
   ]
  },
  {
   "cell_type": "markdown",
   "metadata": {},
   "source": [
    "# Creating Python Sets"
   ]
  },
  {
   "cell_type": "markdown",
   "metadata": {},
   "source": [
    "    A set is created by placing all the items (elements) inside curly braces {}, separated by comma(,) \n",
    "    "
   ]
  },
  {
   "cell_type": "code",
   "execution_count": 131,
   "metadata": {},
   "outputs": [
    {
     "name": "stdout",
     "output_type": "stream",
     "text": [
      "{40, 10, 50, 20, 30}\n",
      "{(10+2j), 10, 20.5, 'abc'}\n",
      "Type of s1 is: <class 'set'>\n",
      "Type of s2 is: <class 'set'>\n"
     ]
    }
   ],
   "source": [
    "s1 = {10,20,30,40,50,30,40,50}   # homogenious type of elements - ignore duplicate elements\n",
    "\n",
    "s2 = {10,20.5,\"abc\",10+2j}  # hetrogenious collection of elements\n",
    "\n",
    "print(s1)\n",
    "print(s2)  \n",
    "\n",
    "print(\"Type of s1 is:\",type(s1))\n",
    "print(\"Type of s2 is:\",type(s2))"
   ]
  },
  {
   "cell_type": "markdown",
   "metadata": {},
   "source": [
    "# creating empty set "
   ]
  },
  {
   "cell_type": "code",
   "execution_count": 132,
   "metadata": {},
   "outputs": [
    {
     "name": "stdout",
     "output_type": "stream",
     "text": [
      "<class 'dict'>\n",
      "<class 'set'>\n"
     ]
    }
   ],
   "source": [
    "\n",
    "\n",
    "# initialize a with {}\n",
    "a = {}   # python can not create an empty set using curely braces\n",
    "\n",
    "# check data type of a\n",
    "print(type(a))\n",
    "\n",
    "# initialize a with set()\n",
    "a = set()\n",
    "\n",
    "# check data type of a\n",
    "print(type(a))"
   ]
  },
  {
   "cell_type": "code",
   "execution_count": null,
   "metadata": {},
   "outputs": [],
   "source": []
  },
  {
   "cell_type": "code",
   "execution_count": 133,
   "metadata": {},
   "outputs": [
    {
     "name": "stdout",
     "output_type": "stream",
     "text": [
      "<class 'dict'>\n",
      "<class 'set'>\n"
     ]
    }
   ],
   "source": [
    "# creating an empty set\n",
    "\n",
    "s={}\n",
    "print(type(s))\n",
    "\n",
    "#  alternative to create an emplty set -- i.e., set() : method overloadin - same used for multiple purpose\n",
    "\n",
    "s1 =set()\n",
    "print(type(s1))"
   ]
  },
  {
   "cell_type": "markdown",
   "metadata": {},
   "source": [
    "# Converting other type of sequences to set type:\n",
    "\n",
    "\n"
   ]
  },
  {
   "cell_type": "code",
   "execution_count": 134,
   "metadata": {},
   "outputs": [
    {
     "name": "stdout",
     "output_type": "stream",
     "text": [
      "Type of sl is: <class 'set'>\n",
      "Type of st is: <class 'set'>\n",
      "Type of sr is: <class 'set'>\n",
      "{40, 10, 50, 20, 30}\n",
      "{40, 10, 50, 20, 30}\n",
      "{1, 3, 5, 7, 9}\n"
     ]
    }
   ],
   "source": [
    "# list \n",
    "l = [10,20,30,40,30,40,50]\n",
    "\n",
    "#tuple\n",
    "t = (10,20,30,40,30,40,50)\n",
    "\n",
    "#range\n",
    "r = range(1,11,2)\n",
    "\n",
    "\n",
    "# converting list, tuple and range to set type using set functions\n",
    "sl = set(l)\n",
    "st = set(t)\n",
    "sr = set(r)\n",
    "\n",
    "# checking types \n",
    "print(\"Type of sl is:\",type(sl))\n",
    "print(\"Type of st is:\",type(st))\n",
    "print(\"Type of sr is:\",type(sr))\n",
    "\n",
    "\n",
    "# print- converted sets\n",
    "print(sl)\n",
    "print(st)\n",
    "print(sr)"
   ]
  },
  {
   "cell_type": "markdown",
   "metadata": {},
   "source": [
    "# Nested Relation with other sequences\n",
    "\n",
    "    1. python does not support nested set \n",
    "    2. we can not write list in set\n",
    "    3. we can write tuple in side the set\n",
    "\n",
    "\n"
   ]
  },
  {
   "cell_type": "code",
   "execution_count": null,
   "metadata": {},
   "outputs": [],
   "source": [
    "# Nested set\n",
    "\n",
    "s1 = {1,2,3,4,5,{2,3,4,5}}  # error"
   ]
  },
  {
   "cell_type": "code",
   "execution_count": null,
   "metadata": {},
   "outputs": [],
   "source": [
    "# list  inside set\n",
    "\n",
    "s1 = {1,2,3,4,[4,5,6,7]}  # error"
   ]
  },
  {
   "cell_type": "code",
   "execution_count": 120,
   "metadata": {},
   "outputs": [
    {
     "name": "stdout",
     "output_type": "stream",
     "text": [
      "{(3, 4, 5, 6, 7), 1, 2, 3, 4, 5}\n"
     ]
    }
   ],
   "source": [
    "# tuple inside set\n",
    "\n",
    "s1 = {1,2,3,4,5,(3,4,5,6,7)}\n",
    "print(s1)"
   ]
  },
  {
   "cell_type": "markdown",
   "metadata": {},
   "source": [
    "# Adding Elements to Set\n",
    "\n",
    "    add() method:\n",
    "    -------------\n",
    "        Add an element to a set.\n",
    "        \n",
    "            Syntax:\n",
    "                set_object.add(element)\n",
    "        \n",
    "            Note:\n",
    "                This has no effect if the element is already present.\n",
    "   \n",
    "    update() method:\n",
    "    ----------------\n",
    "        Add multiple elements to a set (multiple elements should be list/tuple or any sequnce)\n",
    "        \n",
    "            syntax:\n",
    "                \n",
    "                set_object.update(sequence)\n",
    "    \n",
    "      \n"
   ]
  },
  {
   "cell_type": "code",
   "execution_count": 124,
   "metadata": {},
   "outputs": [
    {
     "name": "stdout",
     "output_type": "stream",
     "text": [
      "{1, 2, 3, 4, 5, 6}\n",
      "{1, 2, 3, 4, 5, 6, -100}\n"
     ]
    }
   ],
   "source": [
    "s = {1,2,3,4,5,6}\n",
    "\n",
    "print(s) # before adding elements\n",
    "s.add(-100)\n",
    "print(s) # after adding elements"
   ]
  },
  {
   "cell_type": "code",
   "execution_count": 125,
   "metadata": {},
   "outputs": [
    {
     "name": "stdout",
     "output_type": "stream",
     "text": [
      "{1, 2, 3, 4, 5, 6}\n",
      "{1, 2, 3, 4, 5, 6, -400, -300, -200, -100}\n"
     ]
    }
   ],
   "source": [
    "s = {1,2,3,4,5,6}\n",
    "\n",
    "print(s) # before adding multiple eleme ts\n",
    "s.update([-100,-200,-300,-400])  # using iteratieve\n",
    "print(s)  # after adding multiple elements"
   ]
  },
  {
   "cell_type": "markdown",
   "metadata": {},
   "source": [
    "# Delete elemetns from Set\n",
    "    \n",
    "       ==> remove(): method\n",
    "        \n",
    "            Remove an element from a set; it must be a member.\n",
    "\n",
    "            If the element is not a member, raise a KeyError.\n",
    "            \n",
    "            syntax:\n",
    "                        setobject.remove(element)\n",
    "            \n",
    "                        \n",
    "      ==>  discard() : method\n",
    "        \n",
    "            Remove an element from a set if it is a member.\n",
    "\n",
    "            If the element is not a member, do nothing.            \n",
    "            \n",
    "            Syntax:\n",
    "            \n",
    "                    setobject.discard(element)\n",
    "            \n",
    "      ==> pop() :methood\n",
    "       \n",
    "           pop() method Remove and element randomly and return deleted element.\n",
    "            \n",
    "           if the set is empty it Raises KeyError.\n",
    "           \n",
    "           sytax:\n",
    "           \n",
    "               setobject.pop()\n",
    "           \n",
    "           \n",
    "       \n",
    "      ==> clear():\n",
    "           Remove all elements from this set."
   ]
  },
  {
   "cell_type": "code",
   "execution_count": 135,
   "metadata": {},
   "outputs": [
    {
     "name": "stdout",
     "output_type": "stream",
     "text": [
      "{1, 2, 3, 4, 5, 6, 7}\n",
      "{1, 2, 3, 5, 6, 7}\n"
     ]
    }
   ],
   "source": [
    "s.clear()\n",
    "s ={1,2,3,4,5,6,7}\n",
    "print(s)\n",
    "s.remove(4)   # remove eleme tis 4\n",
    "print(s)"
   ]
  },
  {
   "cell_type": "code",
   "execution_count": 136,
   "metadata": {},
   "outputs": [
    {
     "name": "stdout",
     "output_type": "stream",
     "text": [
      "{1, 2, 3, 4, 5, 6}\n",
      "{1, 2, 4, 5, 6}\n",
      "{1, 2, 4, 5, 6}\n"
     ]
    }
   ],
   "source": [
    "s ={1,2,3,4,5,6}\n",
    "\n",
    "print(s) # bofore removing using discard()\n",
    "s.discard(3)\n",
    "print(s) # after removing 3 - where 3 is present in set\n",
    "s.discard(100)\n",
    "print(s)# after removing 100 = but 100 is not preset in set s"
   ]
  },
  {
   "cell_type": "code",
   "execution_count": 137,
   "metadata": {},
   "outputs": [
    {
     "data": {
      "text/plain": [
       "199"
      ]
     },
     "execution_count": 137,
     "metadata": {},
     "output_type": "execute_result"
    }
   ],
   "source": [
    "s = {11,-21,199,400,\"abc\"}\n",
    "s.pop()\n",
    "\n"
   ]
  },
  {
   "cell_type": "code",
   "execution_count": 138,
   "metadata": {},
   "outputs": [
    {
     "ename": "KeyError",
     "evalue": "'pop from an empty set'",
     "output_type": "error",
     "traceback": [
      "\u001b[1;31m---------------------------------------------------------------------------\u001b[0m",
      "\u001b[1;31mKeyError\u001b[0m                                  Traceback (most recent call last)",
      "\u001b[1;32m<ipython-input-138-8e8354278c56>\u001b[0m in \u001b[0;36m<module>\u001b[1;34m\u001b[0m\n\u001b[0;32m      1\u001b[0m \u001b[0ms\u001b[0m \u001b[1;33m=\u001b[0m\u001b[0mset\u001b[0m\u001b[1;33m(\u001b[0m\u001b[1;33m)\u001b[0m \u001b[1;31m# empty\u001b[0m\u001b[1;33m\u001b[0m\u001b[1;33m\u001b[0m\u001b[0m\n\u001b[1;32m----> 2\u001b[1;33m \u001b[0ms\u001b[0m\u001b[1;33m.\u001b[0m\u001b[0mpop\u001b[0m\u001b[1;33m(\u001b[0m\u001b[1;33m)\u001b[0m   \u001b[1;31m# error\u001b[0m\u001b[1;33m\u001b[0m\u001b[1;33m\u001b[0m\u001b[0m\n\u001b[0m",
      "\u001b[1;31mKeyError\u001b[0m: 'pop from an empty set'"
     ]
    }
   ],
   "source": [
    "s =set() # empty\n",
    "s.pop()   # error\n"
   ]
  },
  {
   "cell_type": "code",
   "execution_count": 139,
   "metadata": {},
   "outputs": [
    {
     "name": "stdout",
     "output_type": "stream",
     "text": [
      "{1, 2, 3, 4, 5, 6}\n",
      "set()\n"
     ]
    }
   ],
   "source": [
    "s ={1,2,3,4,5,6}\n",
    "print(s)\n",
    "s.clear()\n",
    "print(s)"
   ]
  },
  {
   "cell_type": "code",
   "execution_count": 140,
   "metadata": {},
   "outputs": [
    {
     "ename": "TypeError",
     "evalue": "symmetric_difference() takes exactly one argument (0 given)",
     "output_type": "error",
     "traceback": [
      "\u001b[1;31m---------------------------------------------------------------------------\u001b[0m",
      "\u001b[1;31mTypeError\u001b[0m                                 Traceback (most recent call last)",
      "\u001b[1;32m<ipython-input-140-04d0561cbc8d>\u001b[0m in \u001b[0;36m<module>\u001b[1;34m\u001b[0m\n\u001b[1;32m----> 1\u001b[1;33m \u001b[0ms1\u001b[0m\u001b[1;33m.\u001b[0m\u001b[0msymmetric_difference\u001b[0m\u001b[1;33m(\u001b[0m\u001b[1;33m)\u001b[0m\u001b[1;33m\u001b[0m\u001b[1;33m\u001b[0m\u001b[0m\n\u001b[0m",
      "\u001b[1;31mTypeError\u001b[0m: symmetric_difference() takes exactly one argument (0 given)"
     ]
    }
   ],
   "source": [
    "s1.symmetric_difference()"
   ]
  },
  {
   "cell_type": "markdown",
   "metadata": {},
   "source": [
    "# python set operations:\n",
    "\n",
    "    1.union:\n",
    "        Return the union of sets as a new set.\n",
    "        \n",
    "        we can perform union operations two ways:\n",
    "        1. using or( | ) operator\n",
    "        2. using union() method\n",
    "        \n",
    "        * using or ( | ) :\n",
    "            \n",
    "            s1 | s2\n",
    "        \n",
    "        * using union() method:\n",
    "            \n",
    "            s1.union(s2)\n",
    "    \n",
    "        \n",
    "    \n",
    "    2.intersection:\n",
    "    \n",
    "        it Return the common elements in two set as a new set\n",
    "        \n",
    "        we can perform intersection operation using two ways:\n",
    "        1. using and (& ) operator\n",
    "        2. using intersection() method:\n",
    "        \n",
    "    \n",
    "        * Using operator:\n",
    "        \n",
    "            s1 & s2\n",
    "            \n",
    "        * using intersection() methods :\n",
    "            \n",
    "            s1.intersection(s2)  - it return common elements as a new set\n",
    "            \n",
    "        * using intersection_update() method:\n",
    "        \n",
    "            s1.intersection_update(s2) :  Update a set with the intersection of itself and another (update s1)\n",
    "            \n",
    "            \n",
    "    3.differrence:\n",
    "        \n",
    "        Return the difference of two or more sets as a new set.(i.e. all elements that are in first set but not the others.)\n",
    "    \n",
    "        we can perform difference operation using two ways:\n",
    "        1. using subtract ( - ) operator\n",
    "        2. using difference method:\n",
    "        \n",
    "        ** using operator:\n",
    "        \n",
    "            s1 - s2\n",
    "            \n",
    "        ** using method:\n",
    "        \n",
    "            s1.difference(s2)\n",
    "            \n",
    "            s1.difference_update(s2)    s1 = s1-s2\n",
    "        \n",
    "        \n",
    "    4.symmetic difference:\n",
    "        Return the symmetric difference of two sets as a new set. (i.e. all elements that are in exactly one of the sets.) \n",
    "        \n",
    "        ex:\n",
    "        \n",
    "        symmetric difference of s1 and s2 =  (s1-s2) U (s2-s1)\n",
    "        \n",
    "        ** operator: \n",
    "            \n",
    "            s1 ^ s1\n",
    "            \n",
    "        ** using method:\n",
    "            \n",
    "            s1.symmetric_difference(s2)\n",
    "            \n",
    "            s1.symmetric_difference_update(s2)   - it update the s1 set\n",
    "        \n",
    "        \n",
    "    5. issubset:\n",
    "        it return True. if the given set is subset\n",
    "        otherwise False\n",
    "        \n",
    "        s1.issubset(s2) - is s1 subset of s2\n",
    "        \n",
    "    6. issuperset:\n",
    "    \n",
    "       it return Ture. if the given set is superset\n",
    "       ohterwise false\n",
    "       \n",
    "       s1.issuperset(s2) = is s1 is super set of s2\n",
    "    \n",
    "    7. isdisjoinset:\n",
    "    \n",
    "        it return True: if both sets are disjoint\n",
    "        \n",
    "        s1.isdisjoint(s2) \n",
    "        \n",
    "    "
   ]
  },
  {
   "cell_type": "code",
   "execution_count": 142,
   "metadata": {},
   "outputs": [
    {
     "name": "stdout",
     "output_type": "stream",
     "text": [
      "{1, 2, 3, 4, 5, 6, 7}\n",
      "{1, 2, 3, 4, 5, 6, 7}\n"
     ]
    }
   ],
   "source": [
    "s1 = {1,2,3,4,5}\n",
    "s2 ={3,4,5,6,7}\n",
    "\n",
    "# union - result set {1,2,3,4,5,6,7}\n",
    "# using operator (|) , using method \n",
    "\n",
    "print(s1|s2)   # union using - or operator\n",
    "\n",
    "print(s1.union(s2))   # using method\n"
   ]
  },
  {
   "cell_type": "code",
   "execution_count": null,
   "metadata": {},
   "outputs": [],
   "source": []
  },
  {
   "cell_type": "code",
   "execution_count": 145,
   "metadata": {},
   "outputs": [
    {
     "name": "stdout",
     "output_type": "stream",
     "text": [
      "{3, 4, 5}\n",
      "{3, 4, 5}\n"
     ]
    }
   ],
   "source": [
    "s1 = {1,2,3,4,5}\n",
    "s2 ={3,4,5,6,7}\n",
    "\n",
    "# using operator (&) , using meethod \n",
    "\n",
    "print(s1&s2) # using operator\n",
    "print(s1.intersection(s2)) #using function\n"
   ]
  },
  {
   "cell_type": "code",
   "execution_count": 146,
   "metadata": {},
   "outputs": [
    {
     "name": "stdout",
     "output_type": "stream",
     "text": [
      "{3, 4, 5}\n"
     ]
    }
   ],
   "source": [
    "s1 = {1,2,3,4,5}\n",
    "s2 ={3,4,5,6,7}\n",
    "\n",
    "s1.intersection_update(s2)   #s1 is update \n",
    "\n",
    "print(s1)\n"
   ]
  },
  {
   "cell_type": "code",
   "execution_count": 147,
   "metadata": {},
   "outputs": [
    {
     "name": "stdout",
     "output_type": "stream",
     "text": [
      "{1, 2}\n",
      "{1, 2}\n",
      "{1, 2}\n"
     ]
    }
   ],
   "source": [
    "s1 = {1,2,3,4,5}\n",
    "s2 ={3,4,5,6,7}\n",
    "\n",
    "\n",
    "print(s1-s2) # using opeator\n",
    "print(s1.difference(s2)) # using functions\n",
    "\n",
    "\n",
    "s1.difference_update(s2)    #s1 =s1-s2\n",
    "print(s1)  # override the s1 set ..."
   ]
  },
  {
   "cell_type": "code",
   "execution_count": 148,
   "metadata": {},
   "outputs": [
    {
     "name": "stdout",
     "output_type": "stream",
     "text": [
      "{1, 2, 6, 7}\n",
      "{1, 2, 6, 7}\n",
      "{1, 2, 6, 7}\n"
     ]
    }
   ],
   "source": [
    "# symmetric differencce:\n",
    "\n",
    "s1 = {1,2,3,4,5}\n",
    "s2 ={3,4,5,6,7}\n",
    " \n",
    "    \n",
    "    # s d = (s1-s2) U (s2-s1)\n",
    "    \n",
    "    # operator (^), method\n",
    "    # symmetric_difference()\n",
    "    #symmetric_difference_update()\n",
    "    \n",
    "print(s1^s2) #using operator\n",
    "print(s1.symmetric_difference(s2))  # using functions\n",
    "\n",
    "\n",
    "s2.symmetric_difference_update(s1) #s2 =s2-s1\n",
    "print(s2)"
   ]
  },
  {
   "cell_type": "code",
   "execution_count": 149,
   "metadata": {},
   "outputs": [
    {
     "name": "stdout",
     "output_type": "stream",
     "text": [
      "False\n",
      "True\n"
     ]
    }
   ],
   "source": [
    "# issubset() :\n",
    "\n",
    "s1={1,2,3,4,5,6,7}\n",
    "s2 = {3,4,5}\n",
    "\n",
    "print(s1.issubset(s2))  # is s1  subset of s2  - false\n",
    "print(s2.issubset(s1))  # is s2 subset of s1 - True"
   ]
  },
  {
   "cell_type": "code",
   "execution_count": 150,
   "metadata": {},
   "outputs": [
    {
     "name": "stdout",
     "output_type": "stream",
     "text": [
      "True\n",
      "False\n"
     ]
    }
   ],
   "source": [
    "# issubset() :\n",
    "\n",
    "s1={1,2,3,4,5,6,7}\n",
    "s2 = {3,4,5}\n",
    "\n",
    "print(s1.issuperset(s2))  # is s1  superset of s2  - True\n",
    "print(s2.issuperset(s1))  # is s2 superset of s1 - False"
   ]
  },
  {
   "cell_type": "code",
   "execution_count": 151,
   "metadata": {},
   "outputs": [
    {
     "data": {
      "text/plain": [
       "False"
      ]
     },
     "execution_count": 151,
     "metadata": {},
     "output_type": "execute_result"
    }
   ],
   "source": [
    "#disjoint:\n",
    "s1 ={1,2,3,4,5,6}\n",
    "s2={6,7,8,9,0}\n",
    "\n",
    "s1.isdisjoint(s2)"
   ]
  },
  {
   "cell_type": "markdown",
   "metadata": {},
   "source": [
    "# common functions on iterative objects\n",
    "\n",
    "\n",
    "    max()  - return the max elements\n",
    "    min()  - return min from the set\n",
    "    sorted() - arraning set elements in sorted order / sorted(reverse=True)\n",
    "    len() - inter total no of elemnts in set\n",
    "    sum() - sum of all element - list, tuple, set, bytes, bytearry,frozenset \n",
    "    all() - boolean value : True , False - all element in itetrat is True - reurn Ture\n",
    "    any() - if any one is true , result is true"
   ]
  },
  {
   "cell_type": "code",
   "execution_count": 152,
   "metadata": {},
   "outputs": [
    {
     "data": {
      "text/plain": [
       "True"
      ]
     },
     "execution_count": 152,
     "metadata": {},
     "output_type": "execute_result"
    }
   ],
   "source": [
    "\n",
    "\n",
    "s ={1,2,3,4,5,6,7}\n",
    "all(s) # True- all the elements are true  - result is true"
   ]
  },
  {
   "cell_type": "code",
   "execution_count": 153,
   "metadata": {},
   "outputs": [
    {
     "data": {
      "text/plain": [
       "True"
      ]
     },
     "execution_count": 153,
     "metadata": {},
     "output_type": "execute_result"
    }
   ],
   "source": [
    "s ={1,0.0,0+0j,False,\"\"}  \n",
    "any(s)   # if any lememnt in list/set/tupe is true result is true - or operator"
   ]
  },
  {
   "cell_type": "code",
   "execution_count": null,
   "metadata": {},
   "outputs": [],
   "source": []
  },
  {
   "cell_type": "code",
   "execution_count": null,
   "metadata": {},
   "outputs": [],
   "source": []
  },
  {
   "cell_type": "code",
   "execution_count": null,
   "metadata": {},
   "outputs": [],
   "source": []
  },
  {
   "cell_type": "code",
   "execution_count": null,
   "metadata": {},
   "outputs": [],
   "source": []
  },
  {
   "cell_type": "code",
   "execution_count": null,
   "metadata": {},
   "outputs": [],
   "source": []
  },
  {
   "cell_type": "code",
   "execution_count": null,
   "metadata": {},
   "outputs": [],
   "source": []
  },
  {
   "cell_type": "code",
   "execution_count": null,
   "metadata": {},
   "outputs": [],
   "source": []
  }
 ],
 "metadata": {
  "kernelspec": {
   "display_name": "Python 3",
   "language": "python",
   "name": "python3"
  },
  "language_info": {
   "codemirror_mode": {
    "name": "ipython",
    "version": 3
   },
   "file_extension": ".py",
   "mimetype": "text/x-python",
   "name": "python",
   "nbconvert_exporter": "python",
   "pygments_lexer": "ipython3",
   "version": "3.8.8"
  }
 },
 "nbformat": 4,
 "nbformat_minor": 4
}

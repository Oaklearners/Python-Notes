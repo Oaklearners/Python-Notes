{
 "cells": [
  {
   "cell_type": "markdown",
   "metadata": {},
   "source": [
    "# Random module\n",
    "\n"
   ]
  },
  {
   "cell_type": "code",
   "execution_count": 2,
   "metadata": {},
   "outputs": [],
   "source": [
    "# improting random module and given alias name as 'r'\n",
    "\n",
    "import random as r"
   ]
  },
  {
   "cell_type": "markdown",
   "metadata": {},
   "source": [
    "# Functions in random module:\n",
    "\n",
    "    1. random():\n",
    "        \n",
    "        which return random value between 0 and 1\n",
    "        \n",
    "    2. randint():\n",
    "    \n",
    "        it return the integer number between given two ranges\n",
    "        \n",
    "        syntax:\n",
    "        random.randint(start,end)  - it includes start and end values\n",
    "        \n",
    "    3. uniform():\n",
    "    \n",
    "        it return float value between givne two nubmers\n",
    "        \n",
    "        syntax:\n",
    "        \n",
    "            uniform(x,y)\n",
    "            \n",
    "    4. choice():\n",
    "    \n",
    "        it return a value from given list of choices\n",
    "        \n",
    "        syntax:\n",
    "        \n",
    "        choice(list)\n",
    "        \n",
    "        \n",
    "    5. choices():\n",
    "    \n",
    "        it return multiple choices from given liist of choices\n",
    "        \n",
    "        example:\n",
    "        choices(list,k=integer)\n",
    "        \n",
    "    6. shuffle():\n",
    "    \n",
    "        it shuffles the given list of elements\n",
    "        \n",
    "        example:\n",
    "        \n",
    "        l =[1,2,3,4,5]\n",
    "        print(l)   # befor shuffle\n",
    "        random.shuffle(l)\n",
    "        print(l)    # after shuffle - we can not predict the shuffle\n",
    "        \n",
    "        \n",
    "    7. randrange():\n",
    "        \n",
    "        it return an integer number form the given ranges\n",
    "        \n",
    "        randrange(end)\n",
    "        randrange(start,end)\n",
    "        randrange(start,end,step)\n",
    "        \n",
    "    "
   ]
  },
  {
   "cell_type": "markdown",
   "metadata": {},
   "source": [
    "# birthday event\n",
    "\n",
    "    at a birthday pary, one event anchor started a game. \n",
    "    \n",
    "    he came to the satge with two jars,\n",
    "    first jar contains - names of guest\n",
    "    second jar contains - game names\n",
    "    \n",
    "    event anchor call a boy and asked him to pick up two papers from two different jar and asked that boy to \n",
    "    announce name of guest and name of game. \n",
    "    \n",
    "    write a program to help the boy .....\n",
    "    "
   ]
  },
  {
   "cell_type": "markdown",
   "metadata": {},
   "source": [
    "# Dice games\n",
    "\n",
    "\n",
    "    two palyers are playing dice game. each player rolling dice 10 times. \n",
    "    \n",
    "    write a program to find the sum of each time rolling dice value of both players and print whose value is big\n",
    "    \n",
    "    "
   ]
  },
  {
   "cell_type": "code",
   "execution_count": 1,
   "metadata": {},
   "outputs": [
    {
     "ename": "IndentationError",
     "evalue": "unexpected indent (<ipython-input-1-a43afae749e3>, line 3)",
     "output_type": "error",
     "traceback": [
      "\u001b[1;36m  File \u001b[1;32m\"<ipython-input-1-a43afae749e3>\"\u001b[1;36m, line \u001b[1;32m3\u001b[0m\n\u001b[1;33m    Two friends are playing a dice game. they are rolling dice\u001b[0m\n\u001b[1;37m    ^\u001b[0m\n\u001b[1;31mIndentationError\u001b[0m\u001b[1;31m:\u001b[0m unexpected indent\n"
     ]
    }
   ],
   "source": [
    "# Dice Game:\n",
    "\n",
    "    Two friends are playing a dice game. they are rolling dice "
   ]
  },
  {
   "cell_type": "code",
   "execution_count": 2,
   "metadata": {},
   "outputs": [
    {
     "ename": "SyntaxError",
     "evalue": "invalid syntax (<ipython-input-2-4ad7d239e504>, line 1)",
     "output_type": "error",
     "traceback": [
      "\u001b[1;36m  File \u001b[1;32m\"<ipython-input-2-4ad7d239e504>\"\u001b[1;36m, line \u001b[1;32m1\u001b[0m\n\u001b[1;33m    math ==> exectibmation,\u001b[0m\n\u001b[1;37m           ^\u001b[0m\n\u001b[1;31mSyntaxError\u001b[0m\u001b[1;31m:\u001b[0m invalid syntax\n"
     ]
    }
   ],
   "source": [
    "math ==> exectibmation, \n",
    "random  ==> to geneare random values.. we go\n",
    "\n",
    "1. random()  : return - flot : 0 and 1\n",
    "2.randint() : integer - bounderies randint(x,y) == [x,y]\n",
    "3.randrange() :\n",
    "        randrange(end) - here [0,end)\n",
    "        randrage(start,end) = [start,end) \n",
    "        randrange(start,end,step)==> [start,end,step) \n",
    "4.choice() ==> choice(sequce)  ==> \n",
    "5.choices()  ==> choices(l,k=integer)\n",
    "6.shuffle()===>it shuffels the existing list ==> playing \n",
    "7.uniform() == it return float value ==> (strt,end)\n",
    "\n",
    "\n"
   ]
  },
  {
   "cell_type": "code",
   "execution_count": 4,
   "metadata": {},
   "outputs": [
    {
     "name": "stdout",
     "output_type": "stream",
     "text": [
      "Mr d please come to dias and do jumping\n"
     ]
    }
   ],
   "source": [
    "import random\n",
    "players = ['a','b','c','d','e']\n",
    "games =['singing','dancing','jumping']\n",
    "\n",
    "print(\"Mr\",random.choice(players),\"please come to dias and do\",random.choice(games))"
   ]
  },
  {
   "cell_type": "code",
   "execution_count": null,
   "metadata": {},
   "outputs": [],
   "source": []
  }
 ],
 "metadata": {
  "kernelspec": {
   "display_name": "Python 3",
   "language": "python",
   "name": "python3"
  },
  "language_info": {
   "codemirror_mode": {
    "name": "ipython",
    "version": 3
   },
   "file_extension": ".py",
   "mimetype": "text/x-python",
   "name": "python",
   "nbconvert_exporter": "python",
   "pygments_lexer": "ipython3",
   "version": "3.8.5"
  }
 },
 "nbformat": 4,
 "nbformat_minor": 4
}

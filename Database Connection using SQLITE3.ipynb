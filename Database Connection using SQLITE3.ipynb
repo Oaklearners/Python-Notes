{
 "cells": [
  {
   "cell_type": "code",
   "execution_count": 1,
   "id": "6e18f946",
   "metadata": {},
   "outputs": [
    {
     "name": "stdout",
     "output_type": "stream",
     "text": [
      "<sqlite3.Connection object at 0x000002160F501120>\n"
     ]
    }
   ],
   "source": [
    "#importing sqlite3 module \n",
    "\n",
    "import sqlite3\n",
    "\n",
    "#creating database connection using connect method\n",
    "\n",
    "# syntax ==> connection_object = connect('database_name.db')\n",
    "\n",
    "conn = sqlite3.connect(\"Mydb.db\")\n",
    "print(conn)"
   ]
  },
  {
   "cell_type": "markdown",
   "id": "7340a9fc",
   "metadata": {},
   "source": [
    "# creating a newdatabase table in SQLITE"
   ]
  },
  {
   "cell_type": "code",
   "execution_count": 2,
   "id": "6c861682",
   "metadata": {},
   "outputs": [
    {
     "name": "stdout",
     "output_type": "stream",
     "text": [
      "Table has created successfully\n"
     ]
    }
   ],
   "source": [
    "import sqlite3\n",
    "conn = sqlite3.connect(\"Mydb.db\")\n",
    "cursor = conn.cursor()  # this object is an assitent to execute query at sqlite db\n",
    "\n",
    "cursor.execute('create table student (name varchar(10), id integer , address varchar(25))')\n",
    "print(\"Table has created successfully\")\n",
    "conn.close()"
   ]
  },
  {
   "cell_type": "markdown",
   "id": "e522186d",
   "metadata": {},
   "source": [
    "# inserting record into the database table"
   ]
  },
  {
   "cell_type": "code",
   "execution_count": 3,
   "id": "701150b7",
   "metadata": {},
   "outputs": [
    {
     "name": "stdout",
     "output_type": "stream",
     "text": [
      "Records Inserted Successfully\n"
     ]
    }
   ],
   "source": [
    "\n",
    "\n",
    "import sqlite3\n",
    "conn=sqlite3.connect('Mydb.db')\n",
    "cursor=conn.cursor()\n",
    "\n",
    "cursor.execute(\"insert into student values('Raju',501,'Hyderabad')\")\n",
    "cursor.execute(\"insert into student values('Rani',502,'warangal')\")\n",
    "cursor.execute(\"insert into student values('Ramesh',503,'karimnagar')\")\n",
    "cursor.execute(\"insert into student values('kavya',504,'nizamabad')\")\n",
    "cursor.execute(\"insert into student values('venkatesh',505,'New Delhi')\")\n",
    "\n",
    "conn.commit() # to write record to the database table\n",
    "\n",
    "print(\"Records Inserted Successfully\")\n"
   ]
  },
  {
   "cell_type": "markdown",
   "id": "7106bdd9",
   "metadata": {},
   "source": [
    "# list out the records in database"
   ]
  },
  {
   "cell_type": "code",
   "execution_count": 4,
   "id": "24f8b7a1",
   "metadata": {},
   "outputs": [
    {
     "name": "stdout",
     "output_type": "stream",
     "text": [
      "('Raju', 501, 'Hyderabad')\n",
      "('Rani', 502, 'warangal')\n",
      "('Ramesh', 503, 'karimnagar')\n",
      "('kavya', 504, 'nizamabad')\n",
      "('venkatesh', 505, 'New Delhi')\n",
      "Thank U\n"
     ]
    }
   ],
   "source": [
    "\n",
    "\n",
    "import sqlite3\n",
    "conn=sqlite3.connect('Mydb.db')\n",
    "cursor=conn.cursor()\n",
    "\n",
    "cursor.execute(\"select * from student\")\n",
    "\n",
    "for i in cursor:\n",
    "    print(i)\n",
    "\n",
    "\n",
    "print(\"Thank U\")\n"
   ]
  },
  {
   "cell_type": "code",
   "execution_count": 6,
   "id": "153262b5",
   "metadata": {},
   "outputs": [
    {
     "name": "stdout",
     "output_type": "stream",
     "text": [
      "Record updated succesfully\n"
     ]
    }
   ],
   "source": [
    "# update the record in sqlite 3 student table\n",
    "\n",
    "import sqlite3\n",
    "conn=sqlite3.connect('Mydb.db')\n",
    "cursor=conn.cursor()\n",
    "\n",
    "cursor.execute(\"update student set address='Hanmakonda' where id=505\")\n",
    "print(\"Record updated succesfully\")"
   ]
  },
  {
   "cell_type": "markdown",
   "id": "ebf21d84",
   "metadata": {},
   "source": [
    "# printing the records after updating"
   ]
  },
  {
   "cell_type": "code",
   "execution_count": 8,
   "id": "3ae1e97c",
   "metadata": {},
   "outputs": [
    {
     "name": "stdout",
     "output_type": "stream",
     "text": [
      "('Raju', 501, 'Hyderabad')\n",
      "('Rani', 502, 'warangal')\n",
      "('Ramesh', 503, 'karimnagar')\n",
      "('kavya', 504, 'nizamabad')\n",
      "('venkatesh', 505, 'New Delhi')\n",
      "Thank U\n"
     ]
    }
   ],
   "source": [
    "\n",
    "\n",
    "import sqlite3\n",
    "conn=sqlite3.connect('Mydb.db')\n",
    "cursor=conn.cursor()\n",
    "\n",
    "cursor.execute(\"select * from student\")\n",
    "\n",
    "for i in cursor:\n",
    "    print(i)\n",
    "\n",
    "\n",
    "print(\"Thank U\")\n"
   ]
  },
  {
   "cell_type": "markdown",
   "id": "4b792ebd",
   "metadata": {},
   "source": [
    "# delete the recode from database table - delete 505 record"
   ]
  },
  {
   "cell_type": "code",
   "execution_count": 13,
   "id": "bba13083",
   "metadata": {},
   "outputs": [
    {
     "name": "stdout",
     "output_type": "stream",
     "text": [
      "record deleted successfully\n"
     ]
    }
   ],
   "source": [
    "import sqlite3\n",
    "conn=sqlite3.connect('Mydb.db')\n",
    "cursor=conn.cursor()\n",
    "\n",
    "cursor.execute('delete from student where id=505')\n",
    "conn.commit()\n",
    "print(\"record deleted successfully\")"
   ]
  },
  {
   "cell_type": "markdown",
   "id": "e009a00e",
   "metadata": {},
   "source": [
    "# printing the records after deletion"
   ]
  },
  {
   "cell_type": "code",
   "execution_count": 14,
   "id": "caffb5e5",
   "metadata": {},
   "outputs": [
    {
     "name": "stdout",
     "output_type": "stream",
     "text": [
      "('Raju', 501, 'Hyderabad')\n",
      "('Rani', 502, 'warangal')\n",
      "('Ramesh', 503, 'karimnagar')\n",
      "('kavya', 504, 'nizamabad')\n",
      "Task has completed\n"
     ]
    }
   ],
   "source": [
    "import sqlite3\n",
    "conn=sqlite3.connect('Mydb.db')\n",
    "cursor=conn.cursor()\n",
    "\n",
    "cursor.execute('select * from student')\n",
    "for i in cursor:\n",
    "    print(i)\n",
    "\n",
    "print(\"Task has completed\")"
   ]
  },
  {
   "cell_type": "code",
   "execution_count": null,
   "id": "6fb0474f",
   "metadata": {},
   "outputs": [],
   "source": []
  }
 ],
 "metadata": {
  "kernelspec": {
   "display_name": "Python 3",
   "language": "python",
   "name": "python3"
  },
  "language_info": {
   "codemirror_mode": {
    "name": "ipython",
    "version": 3
   },
   "file_extension": ".py",
   "mimetype": "text/x-python",
   "name": "python",
   "nbconvert_exporter": "python",
   "pygments_lexer": "ipython3",
   "version": "3.9.7"
  }
 },
 "nbformat": 4,
 "nbformat_minor": 5
}

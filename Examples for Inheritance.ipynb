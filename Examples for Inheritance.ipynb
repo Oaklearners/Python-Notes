{
 "cells": [
  {
   "cell_type": "markdown",
   "id": "140cbc82",
   "metadata": {},
   "source": [
    "# Syntax of Inheritance:\n",
    "\n",
    "\n",
    "\n",
    "\n",
    "    class childClassName(ParentClassName):\n",
    "        # body of child class"
   ]
  },
  {
   "cell_type": "markdown",
   "id": "1bd28673",
   "metadata": {},
   "source": [
    "# Single Inheritance"
   ]
  },
  {
   "cell_type": "code",
   "execution_count": 2,
   "id": "4d18ee36",
   "metadata": {},
   "outputs": [
    {
     "name": "stdout",
     "output_type": "stream",
     "text": [
      "I am method 1 of Class A\n",
      "I am method 1 of Class A\n",
      "I am method 2 of class B\n"
     ]
    }
   ],
   "source": [
    "# class A giving properties of class B\n",
    "\n",
    "class A:\n",
    "    def method1(self):\n",
    "        print(\"I am method 1 of Class A\")\n",
    "        \n",
    "class B(A):                       # child class B getting properties of parent class A\n",
    "    def method2(self):\n",
    "        print(\"I am method 2 of class B\")\n",
    "        \n",
    "\n",
    "# creating object for A , B class\n",
    "\n",
    "a = A()\n",
    "b = B()\n",
    "\n",
    "# object 'a' can invoke only A class Methods\n",
    "\n",
    "a.method1()\n",
    "\n",
    "# object 'b' can invoke its class B and B's parent A class method can invoke\n",
    "\n",
    "b.method1()\n",
    "b.method2()\n",
    "        \n",
    "        \n",
    "\n"
   ]
  },
  {
   "cell_type": "markdown",
   "id": "960fae1e",
   "metadata": {},
   "source": [
    "# Multiple Inheritance"
   ]
  },
  {
   "cell_type": "code",
   "execution_count": 4,
   "id": "8254e033",
   "metadata": {},
   "outputs": [
    {
     "name": "stdout",
     "output_type": "stream",
     "text": [
      "I am method 1 of A class\n",
      "I am method 2 of B class\n",
      "I am method 1 of A class\n",
      "I am method 2 of B class\n",
      "I am method 3 of C class\n"
     ]
    }
   ],
   "source": [
    "class A:\n",
    "    def method1(self):\n",
    "        print(\"I am method 1 of A class\")\n",
    "        \n",
    "class B:\n",
    "    def method2(self):\n",
    "        print(\"I am method 2 of B class\")\n",
    "        \n",
    "class C(A,B):    # child class C getting properties of A and B class\n",
    "    def method3(self):\n",
    "        print(\"I am method 3 of C class\")\n",
    "        \n",
    "        \n",
    "# creating object for A,B and C class\n",
    "\n",
    "a =A()\n",
    "b =B()\n",
    "c =C()\n",
    "\n",
    "# A class object can invoke only A class method\n",
    "\n",
    "a.method1()\n",
    "\n",
    "# B class object can invoke only B class method\n",
    "\n",
    "b.method2()\n",
    "\n",
    "# C class object can invoke C class and its parent A and B class method can invoke\n",
    "\n",
    "c.method1()\n",
    "c.method2()\n",
    "c.method3()"
   ]
  },
  {
   "cell_type": "markdown",
   "id": "a8cb9635",
   "metadata": {},
   "source": [
    "# Multilevel inheritance"
   ]
  },
  {
   "cell_type": "code",
   "execution_count": 5,
   "id": "a18f8166",
   "metadata": {},
   "outputs": [
    {
     "name": "stdout",
     "output_type": "stream",
     "text": [
      "I am method 1 of A class\n",
      "I am method 1 of A class\n",
      "I am method 2 of B class\n",
      "I am method 1 of A class\n",
      "I am method 2 of B class\n",
      "I am method 3 of C class\n"
     ]
    }
   ],
   "source": [
    "# Multi level inheritance\n",
    "\n",
    "class A:\n",
    "    def method1(self):\n",
    "        print(\"I am method 1 of A class\")\n",
    "        \n",
    "class B(A):\n",
    "    def method2(self):\n",
    "        print(\"I am method 2 of B class\")\n",
    "        \n",
    "class C(B):    # child class C getting properties of A and B class\n",
    "    def method3(self):\n",
    "        print(\"I am method 3 of C class\")\n",
    "        \n",
    "        \n",
    "# creating object for A,B and C class\n",
    "\n",
    "a =A()\n",
    "b =B()\n",
    "c =C()\n",
    "\n",
    "# A class object can invoke only A class method\n",
    "\n",
    "a.method1()\n",
    "\n",
    "# B class object can invoke  B class method and B's parent A class method\n",
    "\n",
    "b.method1()\n",
    "b.method2()\n",
    "\n",
    "# C class object can invoke C class and its parent  B class method and B class parent A class method can invoke\n",
    "\n",
    "c.method1()\n",
    "c.method2()\n",
    "c.method3()"
   ]
  },
  {
   "cell_type": "markdown",
   "id": "806a33c6",
   "metadata": {},
   "source": [
    "# Multi Level Inheritance"
   ]
  },
  {
   "cell_type": "code",
   "execution_count": 8,
   "id": "d8cb0059",
   "metadata": {},
   "outputs": [
    {
     "name": "stdout",
     "output_type": "stream",
     "text": [
      "I am method 1 of A class\n",
      "I am method 1 of A class\n",
      "I am method 2 of B class\n",
      "I am method 1 of A class\n",
      "I am method 3 of C class\n",
      "I am method 1 of A class\n",
      "I am method 4 of D class\n"
     ]
    }
   ],
   "source": [
    "# Multi level inheritance\n",
    "\n",
    "class A:\n",
    "    def method1(self):\n",
    "        print(\"I am method 1 of A class\")\n",
    "        \n",
    "class B(A):\n",
    "    def method2(self):\n",
    "        print(\"I am method 2 of B class\")\n",
    "        \n",
    "class C(A):    # child class C getting properties of A and B class\n",
    "    def method3(self):\n",
    "        print(\"I am method 3 of C class\")\n",
    "\n",
    "        \n",
    "class D(A):    # child class C getting properties of A and B class\n",
    "    def method4(self):\n",
    "        print(\"I am method 4 of D class\")\n",
    "\n",
    "        \n",
    "# creating object for A,B and C class\n",
    "\n",
    "a =A()\n",
    "b =B()\n",
    "c =C()\n",
    "d =D()\n",
    "\n",
    "# A class object can invoke only A class method\n",
    "\n",
    "a.method1()\n",
    "\n",
    "# B class object can invoke  B class method and B's parent A class method\n",
    "\n",
    "b.method1()\n",
    "b.method2()\n",
    "\n",
    "# C class object can invoke C class mehtod and its parent  A class method can invoke\n",
    "\n",
    "c.method1()\n",
    "c.method3()\n",
    "\n",
    "# D class object can invoke D class method and its parent  A class method can invoke\n",
    "\n",
    "d.method1()\n",
    "d.method4()"
   ]
  },
  {
   "cell_type": "code",
   "execution_count": 10,
   "id": "7560ee18",
   "metadata": {},
   "outputs": [
    {
     "name": "stdout",
     "output_type": "stream",
     "text": [
      "I am method 1 of A class\n",
      "I am method 1 of A class\n",
      "I am method 2 of B class\n",
      "I am method 1 of A class\n",
      "I am method 3 of C class\n",
      "I am method 1 of A class\n",
      "I am method 2 of B class\n",
      "I am method 3 of C class\n",
      "I am method 4 of D class\n"
     ]
    }
   ],
   "source": [
    "# Hybrid Inheritance:\n",
    "\n",
    "\n",
    "# Multi level inheritance\n",
    "\n",
    "class A:\n",
    "    def method1(self):\n",
    "        print(\"I am method 1 of A class\")\n",
    "        \n",
    "class B(A):\n",
    "    def method2(self):\n",
    "        print(\"I am method 2 of B class\")\n",
    "        \n",
    "class C(A):    # child class C getting properties of A and B class\n",
    "    def method3(self):\n",
    "        print(\"I am method 3 of C class\")\n",
    "\n",
    "        \n",
    "class D(B,C):    # child class C getting properties of A and B class\n",
    "    def method4(self):\n",
    "        print(\"I am method 4 of D class\")\n",
    "\n",
    "        \n",
    "# creating object for A,B and C class\n",
    "\n",
    "a =A()\n",
    "b =B()\n",
    "c =C()\n",
    "d =D()\n",
    "\n",
    "# A class object can invoke only A class method\n",
    "\n",
    "a.method1()\n",
    "\n",
    "# B class object can invoke  B class method and B's parent A class method\n",
    "\n",
    "b.method1()\n",
    "b.method2()\n",
    "\n",
    "# C class object can invoke C class mehtod and its parent  A class method can invoke\n",
    "\n",
    "c.method1()\n",
    "c.method3()\n",
    "\n",
    "# D class object can invoke D class method and its parent  B,C class method ; and B,D parent A class method can invoke\n",
    "\n",
    "d.method1()\n",
    "d.method2()\n",
    "d.method3()\n",
    "d.method4()\n"
   ]
  },
  {
   "cell_type": "code",
   "execution_count": null,
   "id": "d6f0868a",
   "metadata": {},
   "outputs": [],
   "source": []
  }
 ],
 "metadata": {
  "kernelspec": {
   "display_name": "Python 3",
   "language": "python",
   "name": "python3"
  },
  "language_info": {
   "codemirror_mode": {
    "name": "ipython",
    "version": 3
   },
   "file_extension": ".py",
   "mimetype": "text/x-python",
   "name": "python",
   "nbconvert_exporter": "python",
   "pygments_lexer": "ipython3",
   "version": "3.8.8"
  }
 },
 "nbformat": 4,
 "nbformat_minor": 5
}

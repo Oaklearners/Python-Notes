{
 "cells": [
  {
   "cell_type": "markdown",
   "id": "737af2f3",
   "metadata": {},
   "source": [
    "# What is Inheritance?\n",
    "\n",
    "    The inheritance is the process of acquiring the properties of one class to another class.\n",
    "    \n",
    "    Base class / Parent class : which gives properties to another class\n",
    "    \n",
    "    Derived class / Child Class : which accepts the properties of parent class\n",
    "    \n",
    "\n",
    "    "
   ]
  },
  {
   "cell_type": "markdown",
   "id": "2a49ebfa",
   "metadata": {},
   "source": [
    "# Advantages:\n",
    "\n",
    "    1. code reusability : define once use muliple times\n",
    "    2. extensibility : adding another functionality to existing fuctionality\n",
    "    "
   ]
  },
  {
   "cell_type": "markdown",
   "id": "b0ef1a02",
   "metadata": {},
   "source": [
    "# Types of inheritance:\n",
    "\n",
    "    1. Single Inheritance\n",
    "    2. Multiple Inheritance\n",
    "    3. Multilevel Inheritance\n",
    "    4. Hierarchical Inheritance\n",
    "    5. Hybrid Inheritance"
   ]
  },
  {
   "cell_type": "markdown",
   "id": "2d19ad77",
   "metadata": {},
   "source": [
    "<div style=\"font-size:20px;color:green\">Single Inheritance:</div>\n",
    "\n",
    "    One parent class giving properties to another child class\n",
    "    \n",
    "    in otherhand. one class getting properties from one parent class\n",
    "    \n",
    "    \n",
    "    Diagram:\n",
    "    \n",
    "<img src=\"https://pencilprogrammer.com/wp-content/uploads/2018/12/Block-Diagram-of-Single-Inheritance-in-C-min.png\" />"
   ]
  },
  {
   "cell_type": "markdown",
   "id": "d7eead42",
   "metadata": {},
   "source": [
    "<div style=\"font-size:20px;color:green\">Multiple Inheritance:</div>\n",
    "    \n",
    "    Two or more parent class giving properties to one child class in called multiple inheritance\n",
    "    \n",
    "    Diagram:\n",
    "    \n",
    "<img src=\"https://pencilprogrammer.com/wp-content/uploads/2018/12/Multiple-inheritance-in-C-min.png\"/>"
   ]
  },
  {
   "cell_type": "markdown",
   "id": "f2d12e90",
   "metadata": {},
   "source": [
    "<div style=\"font-size:20px;color:green\">Multi Level Inheritance:</div>\n",
    "    \n",
    "    One child class giving properties to another child class is called multi level inheritance\n",
    "    \n",
    "    Diagram:\n",
    "        \n",
    "<img src=\"https://iq.opengenus.org/content/images/2019/05/Multilevel.png\"/>"
   ]
  },
  {
   "cell_type": "markdown",
   "id": "99964636",
   "metadata": {},
   "source": [
    "<div style=\"font-size:20px;color:green\">Hierarchical Inheritance:</div>\n",
    "\n",
    "    One parent class giving properties to two or more children is called hierarchical inheritance\n",
    "    \n",
    "    Diagram:\n",
    "    \n",
    "<img src=\"https://iq.opengenus.org/content/images/2019/05/hh1.JPG\"/>"
   ]
  },
  {
   "cell_type": "markdown",
   "id": "62b1691f",
   "metadata": {},
   "source": [
    "<div style=\"font-size:20px;color:green\">Hybrid Inheritance:</div>\n",
    "    \n",
    "    Combination of any two inheritace is called hybrid inheritance\n",
    "    \n",
    "    Diagram:\n",
    "   \n",
    "<img src=\"https://www.csestack.org/wp-content/uploads/2019/03/Hybrid-Inheritance.png\"/>\n"
   ]
  },
  {
   "cell_type": "code",
   "execution_count": null,
   "id": "a10b3c67",
   "metadata": {},
   "outputs": [],
   "source": []
  }
 ],
 "metadata": {
  "kernelspec": {
   "display_name": "Python 3",
   "language": "python",
   "name": "python3"
  },
  "language_info": {
   "codemirror_mode": {
    "name": "ipython",
    "version": 3
   },
   "file_extension": ".py",
   "mimetype": "text/x-python",
   "name": "python",
   "nbconvert_exporter": "python",
   "pygments_lexer": "ipython3",
   "version": "3.8.8"
  }
 },
 "nbformat": 4,
 "nbformat_minor": 5
}

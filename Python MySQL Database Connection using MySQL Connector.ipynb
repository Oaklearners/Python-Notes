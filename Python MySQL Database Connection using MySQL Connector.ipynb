{
 "cells": [
  {
   "cell_type": "markdown",
   "id": "77e58c41",
   "metadata": {},
   "source": [
    "<center><h1 style=\"color:red\">Python MySQL Database Connection using MySQL Connector</h1></center>"
   ]
  },
  {
   "cell_type": "markdown",
   "id": "b7fd351a",
   "metadata": {},
   "source": [
    "    here we will learn how to connect the MySQL database in Python using the ‘mysql-Connector-python‘ module"
   ]
  },
  {
   "cell_type": "markdown",
   "id": "4d30bc70",
   "metadata": {},
   "source": [
    "<h1>How to connect MySQL database in Python</h1>"
   ]
  },
  {
   "cell_type": "markdown",
   "id": "b8979142",
   "metadata": {},
   "source": [
    "    we need to know the following detail of the MySQL server to perform the connection from Python.`"
   ]
  },
  {
   "cell_type": "markdown",
   "id": "16be3ca9",
   "metadata": {},
   "source": [
    "\n",
    "    Username :\n",
    "    ---------\n",
    "        \n",
    "            The username that you use to work with MySQL Server. The default username for the MySQL database is a \"root\".\n",
    "    \n",
    "    Password :\n",
    "    ----------\n",
    "        \n",
    "            Password is given by the user at the time of installing the MySQL server. If you are using root then you won’t need the password.\n",
    "            \n",
    "    Host name:\n",
    "    ----------\n",
    "    \n",
    "            The server name or Ip address on which MySQL is running. if you are running on localhost, then you can use \"localhost\" or its IP \"127.0.0.0\"\n",
    "    \n",
    " \n",
    "     Database name: \t\n",
    "     --------------\n",
    "    \n",
    "            The name of the database to which you want to connect and perform the operations."
   ]
  },
  {
   "cell_type": "markdown",
   "id": "ca9dd1f1",
   "metadata": {},
   "source": [
    "<h3> 1. Install MySQL connector module : </h3>\n",
    "\n",
    "    pip install mysql-connector-python"
   ]
  },
  {
   "cell_type": "code",
   "execution_count": 18,
   "id": "d8b11f56",
   "metadata": {},
   "outputs": [
    {
     "name": "stdout",
     "output_type": "stream",
     "text": [
      "Requirement already satisfied: mysql-connector-python in e:\\anaconda_1\\lib\\site-packages (8.0.26)\n",
      "Requirement already satisfied: protobuf>=3.0.0 in e:\\anaconda_1\\lib\\site-packages (from mysql-connector-python) (3.18.0)\n"
     ]
    }
   ],
   "source": [
    "# Installing relavent module\n",
    "\n",
    "!pip install mysql-connector-python"
   ]
  },
  {
   "cell_type": "markdown",
   "id": "92d771a9",
   "metadata": {},
   "source": [
    "<h3> 2. Import MySQL connector module :</h3>\n",
    "\n",
    "    Import using a \"import mysql.connector\" statement so you can use this module’s methods to communicate with the MySQL database.\n",
    "\n",
    "    import mysql.connector"
   ]
  },
  {
   "cell_type": "markdown",
   "id": "d2258d1f",
   "metadata": {},
   "source": [
    "<h3>3. Use the connect() method :</h3>\n",
    "\n",
    "    Use the connect() method of the MySQL Connector class with the required arguments to connect MySQL. It would return a MySQLConnection object if the connection established successfully\n",
    "\n",
    "\n",
    "    syntax:\n",
    "        \n",
    "            conn = mysql.connector.connect(host='localhost',\n",
    "                                           database='MyDB',\n",
    "                                           user='root',\n",
    "                                           password='12345')\n",
    "                                           \n",
    "                                           \n",
    "     if connection is success, then it return the connection object ; other wise it raise an exception\n",
    "                                           \n",
    "                                           \n",
    "                                             \n",
    "                                             "
   ]
  },
  {
   "cell_type": "markdown",
   "id": "319ab7f0",
   "metadata": {},
   "source": [
    "<h3>4.Use the cursor() method :</h3>\n",
    "\n",
    "    Use the cursor() method of a MySQLConnection object to create a cursor object to perform various SQL operations."
   ]
  },
  {
   "cell_type": "markdown",
   "id": "286b4b1c",
   "metadata": {},
   "source": [
    "<h3> 5. Use the execute() method</h3>\n",
    "\n",
    "    The execute() methods run the SQL query and return the result."
   ]
  },
  {
   "cell_type": "markdown",
   "id": "ea3b0f40",
   "metadata": {},
   "source": [
    "# Program 1: write a program to connect to the database "
   ]
  },
  {
   "cell_type": "code",
   "execution_count": null,
   "id": "e97d99c7",
   "metadata": {},
   "outputs": [],
   "source": [
    "\n",
    "import mysql.connector\n",
    "\n",
    "try:\n",
    "    conn = mysql.connector.connect(host='localhost',user='root',passwd='',database='pythonol')\n",
    "    print(conn)\n",
    "    \n",
    "except Exception as e:\n",
    "    print(\"Failed to Connected to MySQL DB:\",e)"
   ]
  },
  {
   "cell_type": "markdown",
   "id": "e363278c",
   "metadata": {},
   "source": [
    "# Program 2 : write a program to create cursor"
   ]
  },
  {
   "cell_type": "code",
   "execution_count": 42,
   "id": "27673790",
   "metadata": {},
   "outputs": [
    {
     "name": "stdout",
     "output_type": "stream",
     "text": [
      "MySQLCursor: (Nothing executed yet)\n"
     ]
    }
   ],
   "source": [
    "\n",
    "\n",
    "import mysql.connector\n",
    "\n",
    "try:\n",
    "    conn= mysql.connector.connect(host='localhost',user='root',passwd='',database='pythonol')\n",
    "    mycursor = conn.cursor()\n",
    "    print(mycursor)        # Till Now No Query Executed\n",
    "except Exception as e:\n",
    "    print(\"Failed to Connect to MySQL DB:\",e)"
   ]
  },
  {
   "cell_type": "markdown",
   "id": "7f4be54c",
   "metadata": {},
   "source": [
    "# Program 3: Write a Program to Create new Database \"CLG\" in MySQL"
   ]
  },
  {
   "cell_type": "code",
   "execution_count": 34,
   "id": "164faa71",
   "metadata": {},
   "outputs": [
    {
     "name": "stdout",
     "output_type": "stream",
     "text": [
      "Database Created Successfully : MySQLCursor: create database clg\n"
     ]
    }
   ],
   "source": [
    "\n",
    "\n",
    "import mysql.connector\n",
    "\n",
    "try:\n",
    "    conn= mysql.connector.connect(host='localhost',user='root',passwd='')\n",
    "    mycursor = conn.cursor()\n",
    "    sql = 'create database clg'\n",
    "    mycursor.execute(sql)\n",
    "    print(\"Database Created Successfully :\",mycursor) # mycursor - create database mydb\n",
    "except Exception as e:\n",
    "    print(\"Failed to DB Connection\",e)\n",
    "    "
   ]
  },
  {
   "cell_type": "markdown",
   "id": "cf084807",
   "metadata": {},
   "source": [
    "# Program 4: write a program to create new three tables\n",
    "    \n",
    "    1. faculty table :- faculty_name,faculty_id,salary,dept_id,date_of_join\n",
    "    \n",
    "    MySQL Query :\n",
    "    create table faculty(faculty_name varchar(25),faculty_id varchar(10),salary float,dept_id varchar(10),date_of_join date)\n",
    "    \n",
    "    2. department table :- department_name,department_id\n",
    "    \n",
    "    MySQL Query:\n",
    "    create table department(department_name varchar(25),dept_id(10))   \n",
    "     \n",
    "    3. student table :- student_name,student_id,department_id,data_of_join,\n",
    "    \n",
    "    MySQL Query:\n",
    "    create table student(student_name varchar(25),student_id varchar(10),department_id varchar(10),date_of_join date)"
   ]
  },
  {
   "cell_type": "code",
   "execution_count": 38,
   "id": "004d6094",
   "metadata": {},
   "outputs": [
    {
     "name": "stdout",
     "output_type": "stream",
     "text": [
      "Failed to DB Connection 1050 (42S01): Table 'faculty' already exists\n",
      "connection has colsed\n"
     ]
    }
   ],
   "source": [
    "import mysql.connector\n",
    "\n",
    "try:\n",
    "    conn= mysql.connector.connect(host='localhost',user='root',passwd='',database='clg')\n",
    "    mycursor = conn.cursor()\n",
    "    sql = 'create table faculty(faculty_name varchar(25),faculty_id varchar(10),salary float,dept_id varchar(10),date_of_join date)'\n",
    "    mycursor.execute(sql)\n",
    "    print(\"Table Created Successfully :\",mycursor) # mycursor - create database mydb\n",
    "    \n",
    "except Exception as e:\n",
    "    print(\"Failed to DB Connection\",e)\n",
    "finally:\n",
    "    conn.close()\n",
    "    print(\"connection has colsed\")"
   ]
  },
  {
   "cell_type": "code",
   "execution_count": 40,
   "id": "fa6e63d2",
   "metadata": {},
   "outputs": [
    {
     "name": "stdout",
     "output_type": "stream",
     "text": [
      "Table Created Successfully : MySQLCursor: create table department(department_name ..\n"
     ]
    }
   ],
   "source": [
    "import mysql.connector\n",
    "\n",
    "try:\n",
    "    conn= mysql.connector.connect(host='localhost',user='root',passwd='',database='clg')\n",
    "    mycursor = conn.cursor()\n",
    "    sql = 'create table department(department_name varchar(25),dept_id varchar(10))'\n",
    "    mycursor.execute(sql)\n",
    "    print(\"Table Created Successfully :\",mycursor) # mycursor - create database mydb\n",
    "except Exception as e:\n",
    "    print(\"Failed to DB Connection\",e)"
   ]
  },
  {
   "cell_type": "code",
   "execution_count": 41,
   "id": "09977fd5",
   "metadata": {},
   "outputs": [
    {
     "name": "stdout",
     "output_type": "stream",
     "text": [
      "Table Created Successfully : MySQLCursor: create table student(student_name varcha..\n",
      "connection has closed\n"
     ]
    }
   ],
   "source": [
    "import mysql.connector\n",
    "\n",
    "try:\n",
    "    conn= mysql.connector.connect(host='localhost',user='root',passwd='',database='clg')\n",
    "    mycursor = conn.cursor()\n",
    "    sql = 'create table student(student_name varchar(25),student_id varchar(10),department_id varchar(10),date_of_join date)'\n",
    "    mycursor.execute(sql)\n",
    "    print(\"Table Created Successfully :\",mycursor) # mycursor - create database mydb\n",
    "except Exception as e:\n",
    "    print(\"Failed to DB Connection\",e)\n",
    "finally:\n",
    "    conn.close()\n",
    "    print(\"connection has closed\")"
   ]
  },
  {
   "cell_type": "markdown",
   "id": "8aea5d60",
   "metadata": {},
   "source": [
    "# Program 5: Write a Program to Write a new record in to database table\n",
    "\n",
    "    Note:\n",
    "    \n",
    "        when a new Record inserted into the database table we must commit the operation ; otherwise we can not see inserted record in the table\n",
    "        \n",
    "        conn.commit()\n",
    "    "
   ]
  },
  {
   "cell_type": "code",
   "execution_count": 45,
   "id": "2ab99730",
   "metadata": {},
   "outputs": [
    {
     "name": "stdout",
     "output_type": "stream",
     "text": [
      "Record Inserted Successfully : MySQLCursor: insert into department values(\"CSE\",\"123..\n",
      "connection has closed\n"
     ]
    }
   ],
   "source": [
    "import mysql.connector\n",
    "\n",
    "try:\n",
    "    conn= mysql.connector.connect(host='localhost',user='root',passwd='',database='clg')\n",
    "    mycursor = conn.cursor()\n",
    "    sql = 'insert into department values(\"CSE\",\"12345\")'\n",
    "    mycursor.execute(sql)\n",
    "    conn.commit()   # to store the recored in table we must commit the connection\n",
    "    print(\"Record Inserted Successfully :\",mycursor) # mycursor - create database mydb\n",
    "except Exception as e:\n",
    "    print(\"Failed to DB Connection\",e)\n",
    "finally:\n",
    "    conn.close()\n",
    "    print(\"connection has closed\")"
   ]
  },
  {
   "cell_type": "markdown",
   "id": "b0b7301a",
   "metadata": {},
   "source": [
    "# Program 6: Write a program to write records to the database table by collecting the values from the end user\n",
    "\n",
    "    - writing record to the the faculty table\n",
    "\n",
    "        Requirement to collect: faculty_name,faculty_id,salary,dept_id,date_of_join\n",
    "\n",
    "    \n",
    "\n"
   ]
  },
  {
   "cell_type": "code",
   "execution_count": 50,
   "id": "ce874757",
   "metadata": {},
   "outputs": [
    {
     "name": "stdout",
     "output_type": "stream",
     "text": [
      "Enter Faculty Name:Ammu\n",
      "Enter Faculty ID:3939\n",
      "Enter Salary of Employee:50000\n",
      "Enter Department ID:12345\n",
      "Enter Date of Joining(YYYY-MM-DD):2020-05-10\n",
      "Record Inserted Successfully : MySQLCursor: INSERT INTO faculty(faculty_name,faculty..\n",
      "connection has closed\n"
     ]
    }
   ],
   "source": [
    "import mysql.connector\n",
    "\n",
    "try:\n",
    "    conn= mysql.connector.connect(host='localhost',user='root',passwd='',database='clg')\n",
    "    mycursor = conn.cursor()\n",
    "    \n",
    "    faculty_name =input(\"Enter Faculty Name:\")\n",
    "    faculty_id =input(\"Enter Faculty ID:\")\n",
    "    salary = float(input(\"Enter Salary of Employee:\"))\n",
    "    dept_id=input(\"Enter Department ID:\")\n",
    "    doj = input(\"Enter Date of Joining(YYYY-MM-DD):\")\n",
    "    \n",
    "    \n",
    "    sql = (\"INSERT INTO faculty(faculty_name,faculty_id,salary,dept_id,date_of_join) VALUES ('%s','%s',%f,'%s','%s')\"%(faculty_name,faculty_id,salary,dept_id,doj))\n",
    "    mycursor.execute(sql)\n",
    "    conn.commit()   # to store the recored in table we must commit the connection\n",
    "    print(\"Record Inserted Successfully :\",mycursor) # mycursor - create database mydb\n",
    "except Exception as e:\n",
    "    print(\"Failed to DB Connection\",e)\n",
    "finally:\n",
    "    conn.close()\n",
    "    print(\"connection has closed\")"
   ]
  },
  {
   "cell_type": "markdown",
   "id": "0f9a2f8c",
   "metadata": {},
   "source": [
    "# Program 7: write a program to list out the databases in MySQL\n",
    "\n",
    "    >> show databases\n",
    "    "
   ]
  },
  {
   "cell_type": "code",
   "execution_count": 13,
   "id": "00d8077c",
   "metadata": {},
   "outputs": [
    {
     "name": "stdout",
     "output_type": "stream",
     "text": [
      "Databases are:\n",
      "('centralized',)\n",
      "('clg',)\n",
      "('coding',)\n",
      "('coding club',)\n",
      "('faculty_profile',)\n",
      "('flask',)\n",
      "('information_schema',)\n",
      "('lms',)\n",
      "('mybd',)\n",
      "('mysql',)\n",
      "('performance_schema',)\n",
      "('phpmyadmin',)\n",
      "('pmydb',)\n",
      "('pythonol',)\n",
      "MySql Connection has Closed\n"
     ]
    }
   ],
   "source": [
    "import mysql.connector\n",
    "\n",
    "try:\n",
    "    conn =mysql.connector.connect(host='localhost',user='root',passwd='')\n",
    "    mycursor = conn.cursor()\n",
    "    sql = 'show databases'\n",
    "    mycursor.execute(sql)\n",
    "    print(\"Databases are:\")\n",
    "    for i in mycursor:\n",
    "        print(i)\n",
    "        \n",
    "except Exception as e:\n",
    "    print(\"Failed to Get Records :\",e)\n",
    "finally:\n",
    "    if conn.is_connected():\n",
    "        conn.close()\n",
    "        print(\"MySql Connection has Closed\")"
   ]
  },
  {
   "cell_type": "markdown",
   "id": "50fe21d5",
   "metadata": {},
   "source": [
    "# Program 8: Write a Program to Display Records in a Table\n",
    "    \n",
    "        Display faculty Information:"
   ]
  },
  {
   "cell_type": "code",
   "execution_count": 14,
   "id": "5d4c6104",
   "metadata": {},
   "outputs": [
    {
     "name": "stdout",
     "output_type": "stream",
     "text": [
      "Faculty Information\n",
      "('Chandhar', '1111', 50000.0, '12345', None)\n",
      "('Rajesh', '1111', 9456.0, '5555', datetime.date(2020, 5, 20))\n",
      "('Ammu', '3939', 50000.0, '12345', datetime.date(2020, 5, 10))\n",
      "MySQL connection has closed\n"
     ]
    }
   ],
   "source": [
    "import mysql.connector\n",
    "\n",
    "try:\n",
    "    conn = mysql.connector.connect(host='localhost',user='root',passwd='',database='clg')\n",
    "    mycursor = conn.cursor()\n",
    "    \n",
    "    sql = 'select * from faculty'\n",
    "    mycursor.execute(sql)\n",
    "    print(\"Faculty Information\")\n",
    "    for i in mycursor:\n",
    "        print(i)\n",
    "except Exception as e:\n",
    "    print(\"Failed to Fectch Records:\",e)\n",
    "finally:\n",
    "    if conn.is_connected():\n",
    "        conn.close()\n",
    "        print(\"MySQL connection has closed\")\n",
    "    \n",
    "    "
   ]
  },
  {
   "cell_type": "markdown",
   "id": "56430969",
   "metadata": {},
   "source": [
    "# Program 9: wirte a program to update the table record\n",
    "\n",
    "    update the employee salary of based on id\n",
    "    \n",
    "    \n",
    "\n",
    "\n",
    "\n",
    "    "
   ]
  },
  {
   "cell_type": "code",
   "execution_count": 20,
   "id": "bc05dc22",
   "metadata": {},
   "outputs": [
    {
     "name": "stdout",
     "output_type": "stream",
     "text": [
      "update faculty set salary=60000  where faculty_id=\"1111\"\n",
      "Udated Record Successfully\n",
      "MySQL connection has closed\n"
     ]
    }
   ],
   "source": [
    "import mysql.connector\n",
    "\n",
    "try:\n",
    "    conn = mysql.connector.connect(host='localhost',user='root',passwd='',database='clg')\n",
    "    mycursor = conn.cursor()\n",
    "    fid='1111'\n",
    "    ud_salary=60000\n",
    "    sql = 'update faculty set salary='+str(ud_salary)+'  where faculty_id=\"'+str(fid)+'\"'\n",
    "    print(sql)\n",
    "    mycursor.execute(sql)\n",
    "    conn.commit()\n",
    "    print(\"Udated Record Successfully\")\n",
    "except Exception as e:\n",
    "    print(\"Failed to Update Records:\",e)\n",
    "finally:\n",
    "    if conn.is_connected():\n",
    "        conn.close()\n",
    "        print(\"MySQL connection has closed\")\n",
    "    "
   ]
  },
  {
   "cell_type": "markdown",
   "id": "0bd5e197",
   "metadata": {},
   "source": [
    "# Program 10: write a program to delete a recrod from the table\n",
    "\n",
    "    delete a facuclty from facutly table"
   ]
  },
  {
   "cell_type": "code",
   "execution_count": 21,
   "id": "c7650722",
   "metadata": {},
   "outputs": [
    {
     "name": "stdout",
     "output_type": "stream",
     "text": [
      "delete from faculty where faculty_id=\"1111\"\n",
      "Faculty Record Deleted Successfully\n",
      "MySQL connection has closed\n"
     ]
    }
   ],
   "source": [
    "import mysql.connector\n",
    "\n",
    "try:\n",
    "    conn = mysql.connector.connect(host='localhost',user='root',passwd='',database='clg')\n",
    "    mycursor = conn.cursor()\n",
    "    faculty_id = '1111'\n",
    "    sql = 'delete from faculty where faculty_id=\"'+faculty_id+'\"'\n",
    "    print(sql)\n",
    "    mycursor.execute(sql)\n",
    "    conn.commit()\n",
    "    print(\"Faculty Record Deleted Successfully\")\n",
    "except Exception as e:\n",
    "    print(\"Failed to Delete Records:\",e)\n",
    "finally:\n",
    "    if conn.is_connected():\n",
    "        conn.close()\n",
    "        print(\"MySQL connection has closed\")\n",
    "    "
   ]
  },
  {
   "cell_type": "code",
   "execution_count": null,
   "id": "8b4d91b2",
   "metadata": {},
   "outputs": [],
   "source": [
    "import os\n",
    "os.getcwd()"
   ]
  },
  {
   "cell_type": "code",
   "execution_count": null,
   "id": "db56b53e",
   "metadata": {},
   "outputs": [],
   "source": []
  }
 ],
 "metadata": {
  "kernelspec": {
   "display_name": "Python 3",
   "language": "python",
   "name": "python3"
  },
  "language_info": {
   "codemirror_mode": {
    "name": "ipython",
    "version": 3
   },
   "file_extension": ".py",
   "mimetype": "text/x-python",
   "name": "python",
   "nbconvert_exporter": "python",
   "pygments_lexer": "ipython3",
   "version": "3.8.8"
  }
 },
 "nbformat": 4,
 "nbformat_minor": 5
}

{
 "cells": [
  {
   "cell_type": "markdown",
   "id": "eb2b70cb",
   "metadata": {},
   "source": [
    "<h1 style=\"color:red\">Nested loops:</h1>\n",
    "    \n",
    "    > A nested loop is a loop inside the body of the outer loop. \n",
    "    \n",
    "    > The inner or outer loop can be any type, such as a while loop or for loop. \n",
    "    \n",
    "        For example, the outer for loop can contain a while loop and vice versa.\n",
    "    \n",
    "    \n",
    "    \n",
    "    \n",
    "    "
   ]
  },
  {
   "cell_type": "markdown",
   "id": "34446a6d",
   "metadata": {},
   "source": [
    "<h3>Total No of Iteration in nested loop:</h3>\n",
    "    \n",
    "    In the nested loop, the number of iterations will be equal to the number of iterations in the outer loop multiplied by the iterations in the inner loop.\n",
    "    \n",
    "    \n",
    "    total No of iteration in nested loop = (total no of iteration in innerloop) x ( total no of iterations in outerloop)"
   ]
  },
  {
   "cell_type": "markdown",
   "id": "113f2e2a",
   "metadata": {},
   "source": [
    "<h1 style=\"color:red\">Nested While Loop</h1>\n",
    "    \n",
    "    \n",
    "    The syntax of nested while loop statement:\n",
    "\n",
    "        while expression:         # Outer While loop\n",
    "           while expression:      # Inner While loop\n",
    "              statement(s)\n",
    "           statement(s)\n",
    "           "
   ]
  },
  {
   "cell_type": "markdown",
   "id": "c1c249c2",
   "metadata": {},
   "source": [
    "# Program 1: Write a program for following output:\n",
    "\n",
    "\n",
    "    1 2 3 4 5\n",
    "    1 2 3 4 5\n",
    "    1 2 3 4 5\n",
    "    1 2 3 4 5\n",
    "    1 2 3 4 5"
   ]
  },
  {
   "cell_type": "code",
   "execution_count": 6,
   "id": "b2773e15",
   "metadata": {},
   "outputs": [
    {
     "name": "stdout",
     "output_type": "stream",
     "text": [
      "1 2 3 4 5 \n",
      "1 2 3 4 5 \n",
      "1 2 3 4 5 \n",
      "1 2 3 4 5 \n",
      "1 2 3 4 5 \n"
     ]
    }
   ],
   "source": [
    "i = 1\n",
    "while i <= 5:\n",
    "    j = 1\n",
    "    while j <= 5:\n",
    "        print(j, end=' ')        # end =' ' this keyword arguemnet gives the space between two numbers\n",
    "        j = j + 1\n",
    "    print()                      # this print method moves exection control to the next line\n",
    "    i = i + 1\n",
    "    "
   ]
  },
  {
   "cell_type": "markdown",
   "id": "95dda466",
   "metadata": {},
   "source": [
    "# Program 2: write a program to print multipliction table using nested loop\n",
    "\n",
    "\n",
    "    \n",
    "            "
   ]
  },
  {
   "cell_type": "code",
   "execution_count": 12,
   "id": "0b1d6d99",
   "metadata": {},
   "outputs": [
    {
     "name": "stdout",
     "output_type": "stream",
     "text": [
      "\n",
      "Multiplicaton Table:\n",
      "\n",
      "\n",
      "1\t2\t3\t4\t5\t6\t7\t8\t9\t10\t\n",
      "2\t4\t6\t8\t10\t12\t14\t16\t18\t20\t\n",
      "3\t6\t9\t12\t15\t18\t21\t24\t27\t30\t\n",
      "4\t8\t12\t16\t20\t24\t28\t32\t36\t40\t\n",
      "5\t10\t15\t20\t25\t30\t35\t40\t45\t50\t\n",
      "6\t12\t18\t24\t30\t36\t42\t48\t54\t60\t\n",
      "7\t14\t21\t28\t35\t42\t49\t56\t63\t70\t\n",
      "8\t16\t24\t32\t40\t48\t56\t64\t72\t80\t\n",
      "9\t18\t27\t36\t45\t54\t63\t72\t81\t90\t\n",
      "10\t20\t30\t40\t50\t60\t70\t80\t90\t100\t\n"
     ]
    }
   ],
   "source": [
    "print(\"Multiplicaton Table:\\n\\n\")\n",
    "i=1\n",
    "while i<=10:\n",
    "    j=1\n",
    "    while j<=10:\n",
    "        print(i*j,end=\"\\t\")\n",
    "        j=j+1\n",
    "    print()\n",
    "    i=i+1"
   ]
  },
  {
   "cell_type": "markdown",
   "id": "62d6d669",
   "metadata": {},
   "source": [
    "# program : write a program to get the following output using nested while loop:\n",
    "\n",
    "    *\n",
    "    * * \n",
    "    * * *\n",
    "    * * * *\n",
    "    * * * * *\n"
   ]
  },
  {
   "cell_type": "code",
   "execution_count": 17,
   "id": "b26ba247",
   "metadata": {},
   "outputs": [
    {
     "name": "stdout",
     "output_type": "stream",
     "text": [
      "* \n",
      "* * \n",
      "* * * \n",
      "* * * * \n",
      "* * * * * \n"
     ]
    }
   ],
   "source": [
    "i=1\n",
    "while i<=5:\n",
    "    j=1\n",
    "    while j<=i:            # j th row contain i no of starts : if i =1 , j row contain 1 start , if i=2 j row contain 2 stars\n",
    "        print(\"*\",end=\" \")\n",
    "        j=j+1\n",
    "    print()\n",
    "    i=i+1"
   ]
  },
  {
   "cell_type": "markdown",
   "id": "5b88a345",
   "metadata": {},
   "source": [
    "# program : write a program for following output:\n",
    "        \n",
    "        \n",
    "        * * * * * \n",
    "        *       * \n",
    "        *       * \n",
    "        *       * \n",
    "        * * * * *\n",
    "        \n",
    "        Expalnation:\n",
    "        \n",
    "            total no of rows and colums are : 5\n",
    "            \n",
    "        Relation :\n",
    "        \n",
    "            stars are printed at : row 1 and 5 , column 1 and 5\n",
    "            \n",
    "        \n",
    "        "
   ]
  },
  {
   "cell_type": "code",
   "execution_count": 8,
   "id": "f39dab42",
   "metadata": {},
   "outputs": [
    {
     "name": "stdout",
     "output_type": "stream",
     "text": [
      "* * * * * \n",
      "*       * \n",
      "*       * \n",
      "*       * \n",
      "* * * * * \n"
     ]
    }
   ],
   "source": [
    "i=1\n",
    "while i<=5:\n",
    "    j=1\n",
    "    while j<=5:\n",
    "        if i==1 or i==5 or j==1 or j==5:   # logic :when row = 1 or 5 or columns = 1 or 5 \n",
    "            print(\"*\",end=\" \")\n",
    "        else:\n",
    "            print(\" \",end=\" \")\n",
    "        j=j+1\n",
    "    print()\n",
    "    i=i+1"
   ]
  },
  {
   "cell_type": "markdown",
   "id": "2149d434",
   "metadata": {},
   "source": [
    "# practice : write a program for following output:\n",
    "\n",
    "    1 \n",
    "    1 2\n",
    "    1 2 3\n",
    "    1 2 3 4\n",
    "    1 2 3 4 5"
   ]
  },
  {
   "cell_type": "markdown",
   "id": "d4d4dbb9",
   "metadata": {},
   "source": [
    "# Program: WRITE A PROGRAM FOR FOLLOWING OUTPUT:\n",
    "\n",
    "    5 4 3 2 1\n",
    "    4 3 2 1\n",
    "    3 2 1\n",
    "    2 1\n",
    "    1\n",
    "    \n",
    "    \n",
    "    Expalnation:\n",
    "    \n",
    "    When row = 1 ..colums are 5 4 3 2 1\n",
    "    when row = 2 .. colums are 4 3 2 1\n",
    "    when row =3 .. columns are 3 2 1\n",
    "    when row =4 .. columns are 2 1\n",
    "    when row =5 .. columns are 1\n",
    "    \n",
    "    relation :\n",
    "    \n",
    "    when row value increase then column value decrease\n",
    "    \n",
    "    \n",
    "    "
   ]
  },
  {
   "cell_type": "code",
   "execution_count": 7,
   "id": "9eb8a58e",
   "metadata": {},
   "outputs": [
    {
     "name": "stdout",
     "output_type": "stream",
     "text": [
      "5 4 3 2 1 \n",
      "4 3 2 1 \n",
      "3 2 1 \n",
      "2 1 \n",
      "1 \n"
     ]
    }
   ],
   "source": [
    "i=1\n",
    "while i<=5:\n",
    "    j=5-(i-1)       # when i value increase .. decreasing j value by i no of values\n",
    "    while j>=1:\n",
    "        print(j,end=\" \")\n",
    "        j=j-1\n",
    "    print()\n",
    "    i=i+1\n",
    "    "
   ]
  },
  {
   "cell_type": "markdown",
   "id": "376e52b6",
   "metadata": {},
   "source": [
    "# Practice Program: write a program for following output using nested while\n",
    "    \n",
    "    * * * * *\n",
    "    * * * * \n",
    "    * * *\n",
    "    * * \n",
    "    *"
   ]
  },
  {
   "cell_type": "markdown",
   "id": "5f14e89d",
   "metadata": {},
   "source": [
    "<h1 style=\"color:red\">Nested For Loop</h1>"
   ]
  },
  {
   "cell_type": "markdown",
   "id": "d451c7c5",
   "metadata": {},
   "source": [
    "    Syntax:\n",
    "        \n",
    "        for element in sequence:\n",
    "           \n",
    "           # inner for loop\n",
    "           for element in sequence:\n",
    "               body of inner for loop\n",
    "           \n",
    "           body of outer for loop"
   ]
  },
  {
   "cell_type": "markdown",
   "id": "b4920ca3",
   "metadata": {},
   "source": [
    "# program: write a program for multiplication table using nested for loop"
   ]
  },
  {
   "cell_type": "code",
   "execution_count": 13,
   "id": "0b96fb39",
   "metadata": {},
   "outputs": [
    {
     "name": "stdout",
     "output_type": "stream",
     "text": [
      "1\t2\t3\t4\t5\t6\t7\t8\t9\t10\t\n",
      "2\t4\t6\t8\t10\t12\t14\t16\t18\t20\t\n",
      "3\t6\t9\t12\t15\t18\t21\t24\t27\t30\t\n",
      "4\t8\t12\t16\t20\t24\t28\t32\t36\t40\t\n",
      "5\t10\t15\t20\t25\t30\t35\t40\t45\t50\t\n",
      "6\t12\t18\t24\t30\t36\t42\t48\t54\t60\t\n",
      "7\t14\t21\t28\t35\t42\t49\t56\t63\t70\t\n",
      "8\t16\t24\t32\t40\t48\t56\t64\t72\t80\t\n",
      "9\t18\t27\t36\t45\t54\t63\t72\t81\t90\t\n",
      "10\t20\t30\t40\t50\t60\t70\t80\t90\t100\t\n"
     ]
    }
   ],
   "source": [
    "for i in range(1,11):\n",
    "    for j in range(1,11):\n",
    "        print(i*j,end=\"\\t\")\n",
    "    print()"
   ]
  },
  {
   "cell_type": "markdown",
   "id": "387d327c",
   "metadata": {},
   "source": [
    "# practice program : write a program to get the following output using nested for:\n",
    "\n",
    "\n",
    "    *\n",
    "    * * \n",
    "    * * *\n",
    "    * * * *\n",
    "    * * * * *"
   ]
  },
  {
   "cell_type": "markdown",
   "id": "3d82f0d8",
   "metadata": {},
   "source": [
    "# practice program : write a program for following output using nested for loop\n",
    "\n",
    "\n",
    "        1 2 3 4 5 \n",
    "        1 2 3 4 5 \n",
    "        1 2 3 4 5 \n",
    "        1 2 3 4 5 \n",
    "        1 2 3 4 5 "
   ]
  },
  {
   "cell_type": "markdown",
   "id": "b9c6a9f6",
   "metadata": {},
   "source": [
    "# Program: WRITE A PROGRAM FOR FOLLOWING OUTPUT:\n",
    "\n",
    "        \n",
    "        5 4 3 2 1\n",
    "        4 3 2 1\n",
    "        3 2 1\n",
    "        2 1\n",
    "        1\n",
    "\n",
    "\n"
   ]
  },
  {
   "cell_type": "code",
   "execution_count": null,
   "id": "1263b8a4",
   "metadata": {},
   "outputs": [],
   "source": [
    "# Practic program : write a program for following output:\n",
    "    * * * * * \n",
    "    *       * \n",
    "    *       * \n",
    "    *       * \n",
    "    * * * * *\n",
    "\n",
    "    Expalnation:\n",
    "\n",
    "        total no of rows and colums are : 5\n",
    "\n",
    "    Relation :\n",
    "\n",
    "        stars are printed at : row 1 and 5 , column 1 and 5"
   ]
  }
 ],
 "metadata": {
  "kernelspec": {
   "display_name": "Python 3",
   "language": "python",
   "name": "python3"
  },
  "language_info": {
   "codemirror_mode": {
    "name": "ipython",
    "version": 3
   },
   "file_extension": ".py",
   "mimetype": "text/x-python",
   "name": "python",
   "nbconvert_exporter": "python",
   "pygments_lexer": "ipython3",
   "version": "3.8.8"
  }
 },
 "nbformat": 4,
 "nbformat_minor": 5
}

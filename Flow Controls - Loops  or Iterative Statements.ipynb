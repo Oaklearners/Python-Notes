{
 "cells": [
  {
   "cell_type": "code",
   "execution_count": null,
   "id": "864b17d2",
   "metadata": {},
   "outputs": [],
   "source": []
  },
  {
   "cell_type": "markdown",
   "id": "c0c548c0",
   "metadata": {},
   "source": [
    "<center><h1 style=\"color:red\">Loops In Python Programming</h1></center>"
   ]
  },
  {
   "cell_type": "markdown",
   "id": "7db3e1b7",
   "metadata": {},
   "source": [
    "    if we want to print a block of statement(s) are multiple times until our condition is false then we go for loops"
   ]
  },
  {
   "cell_type": "markdown",
   "id": "0ea2ee2c",
   "metadata": {},
   "source": [
    "    Python provide following types of iterative statements \n",
    "    \n",
    "        1. while loop\n",
    "        2. for loop\n",
    "        3. while with else\n",
    "        4. for with else"
   ]
  },
  {
   "cell_type": "markdown",
   "id": "f54a8f92",
   "metadata": {},
   "source": [
    "<center><h2 style=\"color:red\"><u>1. While Loop:</u></h2></center>"
   ]
  },
  {
   "cell_type": "markdown",
   "id": "829b89a0",
   "metadata": {},
   "source": [
    "    Syntax:\n",
    "    -------\n",
    "        \n",
    "        while boolean_condition:\n",
    "            Statement(s)                   # we must given the space before statements , which are comes under while loop"
   ]
  },
  {
   "cell_type": "markdown",
   "id": "246b9f4a",
   "metadata": {},
   "source": [
    "    Diagramatic Representation:\n",
    "    --------------------------\n",
    "        "
   ]
  },
  {
   "cell_type": "markdown",
   "id": "237a7f58",
   "metadata": {},
   "source": [
    "    Infinte Loop:\n",
    "    -------------\n",
    "        \n",
    "        Syntax:\n",
    "        \n",
    "        while True:             # if we write True at boolean condition , it will execute infinte no of times \n",
    "            statement(s)\n",
    "        "
   ]
  },
  {
   "cell_type": "markdown",
   "id": "23fb3ab8",
   "metadata": {},
   "source": [
    "# Sample Program: Write a Program to print the integer till the given value\n",
    "\n",
    "    Expected Result:\n",
    "    \n",
    "        Enter Range to Print values: 10\n",
    "        the values are: 1\n",
    "        2\n",
    "        3\n",
    "        4\n",
    "        5\n",
    "        6\n",
    "        7\n",
    "        8\n",
    "        9\n",
    "        10\n",
    "        "
   ]
  },
  {
   "cell_type": "code",
   "execution_count": 1,
   "id": "eb0fb838",
   "metadata": {},
   "outputs": [
    {
     "name": "stdout",
     "output_type": "stream",
     "text": [
      "Enter Range to Print values10\n",
      "1\n",
      "2\n",
      "3\n",
      "4\n",
      "5\n",
      "6\n",
      "7\n",
      "8\n",
      "9\n",
      "10\n"
     ]
    }
   ],
   "source": [
    "n = int(input(\"Enter Range to Print values\"))\n",
    "i=1\n",
    "while i<=n:\n",
    "    print(i)\n",
    "    i+=1"
   ]
  },
  {
   "cell_type": "markdown",
   "id": "360205c3",
   "metadata": {},
   "source": [
    "    Note:\n",
    "    \n",
    "        to print the result in horizental ; we need to pass key argurment in print function end value as space (\" \")\n",
    "        \n",
    "        Syntax of print() function:\n",
    "        \n",
    "            print(\"string\",end=\"\\n\") if we dont assign any value to end ; default end value is \"\\n\"; \n",
    "            \n",
    "            if we change end value to \" \" (space) then values will print in same line(horizental)"
   ]
  },
  {
   "cell_type": "code",
   "execution_count": 3,
   "id": "62132d98",
   "metadata": {},
   "outputs": [
    {
     "name": "stdout",
     "output_type": "stream",
     "text": [
      "Enter Range to Print Values10\n",
      "1 2 3 4 5 6 7 8 9 10 "
     ]
    }
   ],
   "source": [
    "n = int(input(\"Enter Range to Print Values\"))\n",
    "i=1\n",
    "while i<=n:\n",
    "    print(i,end=\" \")\n",
    "    i+=1"
   ]
  },
  {
   "cell_type": "markdown",
   "id": "ec9b6388",
   "metadata": {},
   "source": [
    "# Practice Program: Write a program to print first n integers in reverse order\n",
    "\n",
    "    Expeted Result:\n",
    "    ---------------\n",
    "        Enter Range to print values in Reverse order:10\n",
    "        values are:\n",
    "            10\n",
    "            9\n",
    "            8\n",
    "            7\n",
    "            6\n",
    "            5\n",
    "            4\n",
    "            3\n",
    "            2\n",
    "            1\n",
    "            "
   ]
  },
  {
   "cell_type": "code",
   "execution_count": 6,
   "id": "7e752770",
   "metadata": {},
   "outputs": [],
   "source": [
    "# Implementation\n",
    "\n"
   ]
  },
  {
   "cell_type": "markdown",
   "id": "ddddbf6d",
   "metadata": {},
   "source": [
    "# Sample Program: Write a program to find the sum of first n integers using while loop\n",
    "\n",
    "\n",
    "    Expected Result:\n",
    "    ----------------\n",
    "    \n",
    "        Enter Range to find the sum of first N integer : 10\n",
    "        Sum = 55"
   ]
  },
  {
   "cell_type": "code",
   "execution_count": 7,
   "id": "dd911611",
   "metadata": {},
   "outputs": [
    {
     "name": "stdout",
     "output_type": "stream",
     "text": [
      "Enter Range to find the sum of first N integer10\n",
      "sum= 55\n"
     ]
    }
   ],
   "source": [
    "n = int(input(\"Enter Range to find the sum of first N integer\"))\n",
    "sum =0\n",
    "i=1\n",
    "while i<=n:\n",
    "    sum=sum+i\n",
    "    i=i+1\n",
    "print(\"sum=\",sum)"
   ]
  },
  {
   "cell_type": "markdown",
   "id": "25483417",
   "metadata": {},
   "source": [
    "# Practice Program : write a program to find the average of first n integer\n",
    "\n",
    "    Expected Result:\n",
    "    \n",
    "    Enter Range to find the average of first N integers\n",
    "    Average = 5.5"
   ]
  },
  {
   "cell_type": "code",
   "execution_count": 9,
   "id": "6487a467",
   "metadata": {},
   "outputs": [],
   "source": [
    "# Implementation\n",
    "\n"
   ]
  },
  {
   "cell_type": "markdown",
   "id": "9c33efb5",
   "metadata": {},
   "source": [
    "# Program: Write a Program to find how many vowels are in Given String\n",
    "\n",
    "    Enter any String: \"I Love My Country\"\n",
    "    Total No of volwels are : 5"
   ]
  },
  {
   "cell_type": "code",
   "execution_count": 1,
   "id": "562e6b2e",
   "metadata": {},
   "outputs": [
    {
     "name": "stdout",
     "output_type": "stream",
     "text": [
      "Enter any StringI love my county\n",
      "Total No of vowels are 5\n"
     ]
    }
   ],
   "source": [
    "msg =input(\"Enter any String\")\n",
    "i = 0\n",
    "count=0\n",
    "while i<len(msg):\n",
    "    if msg[i] in 'aeiouAEIOU':\n",
    "        count+=1\n",
    "    i+=1\n",
    "print(\"Total No of vowels are: \",count)"
   ]
  },
  {
   "cell_type": "markdown",
   "id": "f7e58bd8",
   "metadata": {},
   "source": [
    "<center><u><h2 style=\"color:red\">2. For Loop</h2></u></center>"
   ]
  },
  {
   "cell_type": "markdown",
   "id": "1299a95b",
   "metadata": {},
   "source": [
    "    Syntax:\n",
    "        \n",
    "        for i in sequence:\n",
    "            statement(s)\n",
    "            \n",
    "            "
   ]
  },
  {
   "cell_type": "markdown",
   "id": "65660adb",
   "metadata": {},
   "source": [
    "    Note:\n",
    "        \n",
    "        here , sequence are range, list, tuple, bytes, bytearray, set, frozenset, generator, string...."
   ]
  },
  {
   "cell_type": "markdown",
   "id": "d8349a28",
   "metadata": {},
   "source": [
    "# Program : write a program to print first N integers using for loop\n",
    "\n",
    "\n",
    "    Expected Result:\n",
    "        \n",
    "        Enter Range to print values :10\n",
    "        Values are : 1\n",
    "        2\n",
    "        3\n",
    "        4\n",
    "        5\n",
    "        6\n",
    "        7\n",
    "        8\n",
    "        9\n",
    "        10\n",
    "        "
   ]
  },
  {
   "cell_type": "code",
   "execution_count": 6,
   "id": "11170098",
   "metadata": {},
   "outputs": [
    {
     "name": "stdout",
     "output_type": "stream",
     "text": [
      "Enter Range to print values:10\n",
      "values are:\n",
      "1\n",
      "2\n",
      "3\n",
      "4\n",
      "5\n",
      "6\n",
      "7\n",
      "8\n",
      "9\n",
      "10\n"
     ]
    }
   ],
   "source": [
    "n = int(input(\"Enter Range to print values:\"))\n",
    "print(\"values are:\")\n",
    "for i in range(1,n+1):\n",
    "    print(i)"
   ]
  },
  {
   "cell_type": "code",
   "execution_count": 7,
   "id": "f9518610",
   "metadata": {},
   "outputs": [
    {
     "name": "stdout",
     "output_type": "stream",
     "text": [
      "Enter Range to print values:10\n",
      "Values are:\n",
      "1 2 3 4 5 6 7 8 9 10 "
     ]
    }
   ],
   "source": [
    "# print values in string line\n",
    "\n",
    "n =int(input(\"Enter Range to print values:\"))\n",
    "print(\"Values are:\")\n",
    "for i in range(1,n+1):\n",
    "    print(i,end=\" \")"
   ]
  },
  {
   "cell_type": "markdown",
   "id": "7ff2e9b3",
   "metadata": {},
   "source": [
    "# Practice Program: Write a program to print even numbers from first N integers:\n",
    "\n",
    "    Expected Result:\n",
    "        \n",
    "        Enter Range to Print Even Numbers: 10\n",
    "        Even values are : 2,4,6,8,10"
   ]
  },
  {
   "cell_type": "code",
   "execution_count": 10,
   "id": "3c14f565",
   "metadata": {},
   "outputs": [],
   "source": [
    "# Implemntation\n",
    "\n"
   ]
  },
  {
   "cell_type": "markdown",
   "id": "3fe3e269",
   "metadata": {},
   "source": [
    "# Practice program :Write a program to print odd numbers from first N integers\n",
    "\n",
    "    Expected Result:\n",
    "    \n",
    "        Enter Range to Print Odd Numbers :10\n",
    "        Odd Values are: 1,3,5,7,9"
   ]
  },
  {
   "cell_type": "code",
   "execution_count": 11,
   "id": "66a310c3",
   "metadata": {},
   "outputs": [],
   "source": [
    "# Implementation\n",
    "\n",
    "\n"
   ]
  },
  {
   "cell_type": "markdown",
   "id": "be527f77",
   "metadata": {},
   "source": [
    "# Practice program : write a program to print the sum of odd and even number from first N integers\n",
    "\n",
    "    Expected Result:\n",
    "    \n",
    "        Enter Range to find the sum of Even and Odd Numbers : 10\n",
    "        sum of even numbers till 10 are :30\n",
    "        sum of odd numbers till 10 are: 25"
   ]
  },
  {
   "cell_type": "code",
   "execution_count": 12,
   "id": "d0642315",
   "metadata": {},
   "outputs": [
    {
     "name": "stdout",
     "output_type": "stream",
     "text": [
      "10\n",
      "30 25\n"
     ]
    }
   ],
   "source": []
  },
  {
   "cell_type": "code",
   "execution_count": null,
   "id": "c560e5d3",
   "metadata": {},
   "outputs": [],
   "source": [
    "|"
   ]
  }
 ],
 "metadata": {
  "kernelspec": {
   "display_name": "Python 3",
   "language": "python",
   "name": "python3"
  },
  "language_info": {
   "codemirror_mode": {
    "name": "ipython",
    "version": 3
   },
   "file_extension": ".py",
   "mimetype": "text/x-python",
   "name": "python",
   "nbconvert_exporter": "python",
   "pygments_lexer": "ipython3",
   "version": "3.9.7"
  }
 },
 "nbformat": 4,
 "nbformat_minor": 5
}

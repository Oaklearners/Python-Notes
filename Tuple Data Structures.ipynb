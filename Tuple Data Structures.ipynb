{
 "cells": [
  {
   "cell_type": "markdown",
   "metadata": {},
   "source": [
    "# Tuple Datastructures\n",
    "\n",
    "     tuple is a collection of hetrogenious type of elements\n",
    "     \n",
    "     tuple is immutable collection. means, we can not modify the tuple value\n",
    "     \n",
    "     tuple elements are enclosed by paranthesis and elements are superated by comma(,)\n",
    "         Note: paranthesis are not mandatory\n",
    "         \n",
    "         "
   ]
  },
  {
   "cell_type": "code",
   "execution_count": 25,
   "metadata": {},
   "outputs": [
    {
     "name": "stdout",
     "output_type": "stream",
     "text": [
      "Type of tu_1 is: (10, 20, 30, 40, 50)\n",
      "Type of tu_2 is: (10, 10.5, 'hello', True, (10+5j))\n"
     ]
    }
   ],
   "source": [
    "tu_1 = (10,20,30,40,50) # all are homogenious type of element \n",
    "tu_2 =(10,10.5,\"hello\",True,10+5j)  # all are hetrogenious type, \n",
    "\n",
    "print(\"Type of tu_1 is:\",tu_1)\n",
    "print(\"Type of tu_2 is:\",tu_2)\n"
   ]
  },
  {
   "cell_type": "code",
   "execution_count": 26,
   "metadata": {},
   "outputs": [
    {
     "data": {
      "text/plain": [
       "tuple"
      ]
     },
     "execution_count": 26,
     "metadata": {},
     "output_type": "execute_result"
    }
   ],
   "source": [
    "tu=10,20,30,40,50   # paranthesis is not mandatory\n",
    "\n",
    "type(tu)"
   ]
  },
  {
   "cell_type": "markdown",
   "metadata": {},
   "source": [
    "# Accessing Tuple Elements\n",
    "\n",
    "    we can access tuple elements two ways\n",
    "    \n",
    "    1. indexing:\n",
    "    ============\n",
    "        python support +ve and -ve indexing\n",
    "        \n",
    "            +ve index:\n",
    "            ----------\n",
    "                from left to right\n",
    "                index begins from 0 to n-1 , where n is the tuple size                \n",
    "                \n",
    "           -ve index:\n",
    "           ----------\n",
    "               from right to left\n",
    "               index begins from -1 to -n. where n is the tuple size\n",
    "               \n",
    "    2. slicing:\n",
    "    ===========\n",
    "        \n",
    "        Slicing with two values : \n",
    "                \n",
    "                tuple_object[start:end]\n",
    "        \n",
    "        Slicing with three values: \n",
    "        \n",
    "                tuple_object[start:end:step]\n",
    "\n",
    "\n",
    "            Default values for slicing:\n",
    "            ===========================\n",
    "            \n",
    "                   start : 0\n",
    "                   end : list size\n",
    "                   step : +1\n",
    "                   \n",
    "\n"
   ]
  },
  {
   "cell_type": "code",
   "execution_count": 9,
   "metadata": {},
   "outputs": [
    {
     "name": "stdout",
     "output_type": "stream",
     "text": [
      "10\n",
      "32\n",
      "44\n",
      "25\n",
      "36\n",
      "77\n"
     ]
    }
   ],
   "source": [
    "# Example : Accessing elements using = index\n",
    "\n",
    "tu = (10,32,44,25,36,77)\n",
    "\n",
    "print(tu[0])\n",
    "print(tu[1])\n",
    "print(tu[2])\n",
    "print(tu[3])\n",
    "print(tu[4])\n",
    "print(tu[5])"
   ]
  },
  {
   "cell_type": "code",
   "execution_count": 12,
   "metadata": {},
   "outputs": [
    {
     "name": "stdout",
     "output_type": "stream",
     "text": [
      "77\n",
      "36\n",
      "25\n",
      "44\n",
      "32\n",
      "10\n"
     ]
    }
   ],
   "source": [
    "# -ve indexing   : left to right\n",
    "\n",
    "tu = (10,32,44,25,36,77)\n",
    "print(tu[-1])\n",
    "print(tu[-2])\n",
    "print(tu[-3])\n",
    "print(tu[-4])\n",
    "print(tu[-5])\n",
    "print(tu[-6])\n",
    "\n"
   ]
  },
  {
   "cell_type": "markdown",
   "metadata": {},
   "source": [
    "# Creating an empty Tuple"
   ]
  },
  {
   "cell_type": "code",
   "execution_count": 3,
   "metadata": {},
   "outputs": [
    {
     "name": "stdout",
     "output_type": "stream",
     "text": [
      "()\n",
      "type of tu is: <class 'tuple'>\n"
     ]
    }
   ],
   "source": [
    "tu = ()\n",
    "print(tu)\n",
    "print(\"type of tu is:\",type(tu))"
   ]
  },
  {
   "cell_type": "markdown",
   "metadata": {},
   "source": [
    "# Tuple with one element\n",
    "\n",
    "    "
   ]
  },
  {
   "cell_type": "code",
   "execution_count": 4,
   "metadata": {},
   "outputs": [
    {
     "name": "stdout",
     "output_type": "stream",
     "text": [
      "type of tu1 is: <class 'tuple'>\n",
      "type of tu2 is: <class 'tuple'>\n"
     ]
    }
   ],
   "source": [
    "\n",
    "tu1 = (10,) # if we dont write comman(,) after 10 . it will be consider as integer\n",
    "tu2 = 20,\n",
    "\n",
    "print(\"type of tu1 is:\",type(tu1))\n",
    "print(\"type of tu2 is:\",type(tu2))"
   ]
  },
  {
   "cell_type": "markdown",
   "metadata": {},
   "source": [
    "# Tuple is immutable :\n",
    "   \n",
    "    once a tuple create, we can not change element value, we can not add new element, and we can not delete an element."
   ]
  },
  {
   "cell_type": "code",
   "execution_count": 6,
   "metadata": {},
   "outputs": [
    {
     "name": "stdout",
     "output_type": "stream",
     "text": [
      "2nd index element is  30\n"
     ]
    }
   ],
   "source": [
    "tu = (10,20,30,40,50,60)\n",
    "\n",
    "print(\"2nd index element is \", tu[2])"
   ]
  },
  {
   "cell_type": "code",
   "execution_count": 9,
   "metadata": {},
   "outputs": [],
   "source": [
    "tu[2] = -100 # it return an error : 'tuple' object does not support item assignment"
   ]
  },
  {
   "cell_type": "markdown",
   "metadata": {},
   "source": [
    "# packing and unpacking of tuple"
   ]
  },
  {
   "cell_type": "code",
   "execution_count": 12,
   "metadata": {},
   "outputs": [
    {
     "name": "stdout",
     "output_type": "stream",
     "text": [
      "type of tu1 is: <class 'tuple'>\n",
      "type of tu2 is: <class 'tuple'>\n"
     ]
    }
   ],
   "source": [
    "# tuple packing\n",
    "\n",
    "x = 10\n",
    "y = 20\n",
    "z = 30\n",
    "\n",
    "tu1 = (x,y,z)  # tuple packing using paranthesis ()\n",
    "tu2 = x,y,z    # tuple packing with out using paranthesis()\n",
    "\n",
    "print(\"type of tu1 is:\",type(tu1))\n",
    "print(\"type of tu2 is:\",type(tu2))"
   ]
  },
  {
   "cell_type": "code",
   "execution_count": 20,
   "metadata": {},
   "outputs": [
    {
     "name": "stdout",
     "output_type": "stream",
     "text": [
      "10\n",
      "20\n",
      "30\n"
     ]
    }
   ],
   "source": [
    "# tuple unpacking : \n",
    "\n",
    "x,y,z = tu1\n",
    "\n",
    "print(x)\n",
    "print(y)\n",
    "print(z)"
   ]
  },
  {
   "cell_type": "markdown",
   "metadata": {},
   "source": [
    "# converting other type of sequences / iterative object to tuple type\n",
    "\n",
    "    tuple() : this function convert other sequce type to tuple type (list,range,set,bytearray,bytes,....)"
   ]
  },
  {
   "cell_type": "code",
   "execution_count": 46,
   "metadata": {},
   "outputs": [
    {
     "name": "stdout",
     "output_type": "stream",
     "text": [
      "(10, 11, 12, 13, 14, 15, 16, 17, 18, 19)  ==> type is  ==>  <class 'tuple'>\n"
     ]
    }
   ],
   "source": [
    "#example: converting range to tuple type\n",
    "\n",
    "x_r = range(10,20)  # x_r is a range object, which return 10 to 19 values\n",
    "\n",
    "x_t = tuple(x_r)   #converting range object ot tuple type and stores in x_t\n",
    "print(x_t,\" ==> type is  ==> \",type(x_t))\n"
   ]
  },
  {
   "cell_type": "code",
   "execution_count": 47,
   "metadata": {},
   "outputs": [
    {
     "name": "stdout",
     "output_type": "stream",
     "text": [
      "(10, 20, 30, 40, 50, 60)  ==> type is  ==>  <class 'tuple'>\n"
     ]
    }
   ],
   "source": [
    "# example : converting list ot tuple type\n",
    "\n",
    "x_l = [10,20,30,40,50,60]  # x_l is list object\n",
    "\n",
    "x_t = tuple(x_l)  # converting list sequence to tuple type\n",
    "\n",
    "print(x_t,\" ==> type is  ==> \",type(x_t))"
   ]
  },
  {
   "cell_type": "markdown",
   "metadata": {},
   "source": [
    "# Tuple Functions:\n",
    "\n",
    "    1. len() : it return an integer number, which return how many elements are present in tuple\n",
    "    \n",
    "    syntax:\n",
    "    \n",
    "        len(tuple_object)"
   ]
  },
  {
   "cell_type": "code",
   "execution_count": 53,
   "metadata": {},
   "outputs": [
    {
     "data": {
      "text/plain": [
       "6"
      ]
     },
     "execution_count": 53,
     "metadata": {},
     "output_type": "execute_result"
    }
   ],
   "source": [
    "tu = (10,20,30,40,50,60)\n",
    "\n",
    "len(tu)"
   ]
  },
  {
   "cell_type": "markdown",
   "metadata": {},
   "source": [
    "    2. count(): it return how many time given element is repeated in tuple\n",
    "    \n",
    "    syntax:\n",
    "        \n",
    "        tuple_object.count(element)\n",
    "    "
   ]
  },
  {
   "cell_type": "code",
   "execution_count": 55,
   "metadata": {},
   "outputs": [
    {
     "data": {
      "text/plain": [
       "5"
      ]
     },
     "execution_count": 55,
     "metadata": {},
     "output_type": "execute_result"
    }
   ],
   "source": [
    "tu = (1,2,3,2,4,5,3,2,2,3,4,5,7,2)\n",
    "\n",
    "tu.count(2)"
   ]
  },
  {
   "cell_type": "markdown",
   "metadata": {},
   "source": [
    "    3. index(): it return integer number, which conveys in whic index the given element is present\n",
    "    \n",
    "        syntax:\n",
    "        \n",
    "            tuple_object.index(element,start,end)\n",
    "            \n",
    "        Note 1: here, start and end are optional.\n",
    "            \n",
    "                start- default value is 0\n",
    "                end - default value is length of tuple\n",
    "                \n",
    "             \n",
    "       Note 2: if the given element not present in list, it return an error as:  x not in tuple\n",
    "            \n",
    "       Note 3: if the given element repeat multiple times, it return first occurance index   "
   ]
  },
  {
   "cell_type": "code",
   "execution_count": 57,
   "metadata": {},
   "outputs": [
    {
     "data": {
      "text/plain": [
       "1"
      ]
     },
     "execution_count": 57,
     "metadata": {},
     "output_type": "execute_result"
    }
   ],
   "source": [
    "tu.index(2)  # 2 will check for entire tuple"
   ]
  },
  {
   "cell_type": "code",
   "execution_count": 58,
   "metadata": {},
   "outputs": [
    {
     "data": {
      "text/plain": [
       "7"
      ]
     },
     "execution_count": 58,
     "metadata": {},
     "output_type": "execute_result"
    }
   ],
   "source": [
    "tu.index(2,4) # 2 element check inbetween 4 to entire list"
   ]
  },
  {
   "cell_type": "code",
   "execution_count": null,
   "metadata": {},
   "outputs": [],
   "source": [
    "tu.index(2,4,6) # 2 elemet checks in between 4 and 6 index "
   ]
  },
  {
   "cell_type": "markdown",
   "metadata": {},
   "source": [
    "    4: min()/ max() : it return min/ max element from given tuple\n",
    "    \n",
    "    syntax:\n",
    "        min(tuple_object)\n",
    "        max(tuple_object)"
   ]
  },
  {
   "cell_type": "code",
   "execution_count": 62,
   "metadata": {},
   "outputs": [
    {
     "name": "stdout",
     "output_type": "stream",
     "text": [
      "MIN element from tuple t is: -10\n",
      "MAX element from tuple t is: 100\n"
     ]
    }
   ],
   "source": [
    "t = (10,-2,-10,7,100)\n",
    "\n",
    "print(\"MIN element from tuple t is:\",min(t))\n",
    "print(\"MAX element from tuple t is:\",max(t))"
   ]
  },
  {
   "cell_type": "markdown",
   "metadata": {},
   "source": [
    "    5: sorted(): \n",
    "            sorted function sort the tuple and return list \n",
    "            \n",
    "            \n",
    "            syntax:\n",
    "            sorted(tuple)\n",
    "            sorted(tuple,reverse=True)\n",
    "            \n",
    "            *** reverse is key argument, default value of reverse is False\n",
    "            \n",
    "            if reverse is True, then it return descending order list\n",
    "        \n",
    "        Note: it return ascending order list of tuple elements\n",
    "        \n",
    "        "
   ]
  },
  {
   "cell_type": "code",
   "execution_count": 69,
   "metadata": {},
   "outputs": [
    {
     "data": {
      "text/plain": [
       "[-100, -4, 10, 20, 300]"
      ]
     },
     "execution_count": 69,
     "metadata": {},
     "output_type": "execute_result"
    }
   ],
   "source": [
    "s = (10,-100,-4,20,300)\n",
    "\n",
    "sorted(s) # it return list ; ascending order"
   ]
  },
  {
   "cell_type": "code",
   "execution_count": 70,
   "metadata": {},
   "outputs": [
    {
     "data": {
      "text/plain": [
       "226"
      ]
     },
     "execution_count": 70,
     "metadata": {},
     "output_type": "execute_result"
    }
   ],
   "source": [
    "# PRACTICE PROGRAMS\n",
    "\n",
    "\n",
    "1. FIND THE SUM OF TUPLE ELEENTS USING FOR AND WHILE LOOP\n",
    "\n",
    "2. FIND THE BIGGEST ELEMENT IN TUPEL/ LIST WITHOUT USING PREDEFINED FUNCTIONS\n",
    "\n",
    "3. WIRTE A PROGRAM TO FIND THE SQUARES, CUBES FOR EVEN AND ODD NUMBER IN GIVEN TUPLE / LIST USING FOR/ WHILE LOOP\n",
    "\n",
    "4."
   ]
  },
  {
   "cell_type": "code",
   "execution_count": null,
   "metadata": {},
   "outputs": [],
   "source": []
  },
  {
   "cell_type": "code",
   "execution_count": null,
   "metadata": {},
   "outputs": [],
   "source": []
  },
  {
   "cell_type": "code",
   "execution_count": null,
   "metadata": {},
   "outputs": [],
   "source": []
  }
 ],
 "metadata": {
  "kernelspec": {
   "display_name": "Python 3",
   "language": "python",
   "name": "python3"
  },
  "language_info": {
   "codemirror_mode": {
    "name": "ipython",
    "version": 3
   },
   "file_extension": ".py",
   "mimetype": "text/x-python",
   "name": "python",
   "nbconvert_exporter": "python",
   "pygments_lexer": "ipython3",
   "version": "3.8.5"
  }
 },
 "nbformat": 4,
 "nbformat_minor": 4
}

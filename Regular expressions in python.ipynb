{
 "cells": [
  {
   "cell_type": "markdown",
   "metadata": {},
   "source": [
    "# Regular Expressions:\n",
    "\n",
    "    The regular expressions can be defined as the sequence of characters which are used to search for a pattern in a string. \n",
    "    \n",
    "    A Regular Expression (RE) in a programming language is a special text string used for describing a search pattern. It is extremely useful for extracting information from the large text. \n",
    "    \n",
    "    to represent a group of string with some patterns we use regular expressions.\n",
    "    \n",
    "    applications:\n",
    "        to validate an email\n",
    "        to validate mobile number\n",
    "        to validate detiails\n",
    "\n",
    "        "
   ]
  },
  {
   "cell_type": "markdown",
   "metadata": {},
   "source": [
    "  \n",
    "    *. We use 're' mddule for regular expressions in python to create the patterns"
   ]
  },
  {
   "cell_type": "code",
   "execution_count": 2,
   "metadata": {},
   "outputs": [],
   "source": [
    "# importing regular expression module\n",
    "\n",
    "import re"
   ]
  },
  {
   "cell_type": "markdown",
   "metadata": {},
   "source": [
    "# Regular expressin functions:\n",
    "    \n",
    "    1. compile():\n",
    "        \n",
    "        this function is used for creating the pattern object\n",
    "        \n",
    "        syntax:\n",
    "            \n",
    "            pattern_object compile(\"string\")\n",
    "            \n",
    "    "
   ]
  },
  {
   "cell_type": "code",
   "execution_count": 3,
   "metadata": {},
   "outputs": [],
   "source": [
    "import re\n",
    "\n",
    "pat = re.compile(\"ab\")\n"
   ]
  },
  {
   "cell_type": "markdown",
   "metadata": {},
   "source": [
    "    2. finditer()\n",
    "    =============\n",
    "    \n",
    "        this method retun the callable_iterator object. which contains list of pattern match object  \n",
    "        \n",
    "        syntax 1:\n",
    "        ---------\n",
    "        \n",
    "            callable_iterator pattern_object.finditer('mainstring')\n",
    "            \n",
    "        syntax 2:\n",
    "        --------- \n",
    "            callable_iterator re.finditer(pattern,mainstring)\n",
    "            \n",
    "            \n",
    "            \n",
    "       Note :\n",
    "       individual object contains information of match string from the mainstring based on the given patterns\n",
    "       \n",
    "       it contains \n",
    "            \n",
    "            1. staring index of match string : we use sratr() method to know the starting point\n",
    "            2. ending index of mathc string : we use end() method to know the end point\n",
    "            3. string - which is matched in the mains string : we use the group() method to know the string matched\n",
    "            \n",
    "            "
   ]
  },
  {
   "cell_type": "code",
   "execution_count": 8,
   "metadata": {},
   "outputs": [
    {
     "data": {
      "text/plain": [
       "callable_iterator"
      ]
     },
     "execution_count": 8,
     "metadata": {},
     "output_type": "execute_result"
    }
   ],
   "source": [
    "# to know the return type of finditer() - syntax 1\n",
    "\n",
    "import re\n",
    "pat = re.compile('ab')\n",
    "match = pat.finditer(\"abcabaaaababbbab\")\n",
    "\n",
    "type(match)"
   ]
  },
  {
   "cell_type": "code",
   "execution_count": 9,
   "metadata": {},
   "outputs": [
    {
     "name": "stdout",
     "output_type": "stream",
     "text": [
      "<class 're.Match'>\n",
      "<class 're.Match'>\n",
      "<class 're.Match'>\n",
      "<class 're.Match'>\n",
      "<class 're.Match'>\n"
     ]
    }
   ],
   "source": [
    "# to know the individual object type callable_iterator \n",
    "\n",
    "import re\n",
    "pat = re.compile('ab')\n",
    "match = pat.finditer(\"abcabaaaababbbab\")\n",
    "\n",
    "for i in match:\n",
    "    print(type(i))"
   ]
  },
  {
   "cell_type": "code",
   "execution_count": 13,
   "metadata": {},
   "outputs": [
    {
     "name": "stdout",
     "output_type": "stream",
     "text": [
      "Start point : 0\n",
      "End point : 2\n",
      "Match string  ab\n",
      "***************************\n",
      "Start point : 3\n",
      "End point : 5\n",
      "Match string  ab\n",
      "***************************\n",
      "Start point : 8\n",
      "End point : 10\n",
      "Match string  ab\n",
      "***************************\n",
      "Start point : 10\n",
      "End point : 12\n",
      "Match string  ab\n",
      "***************************\n",
      "Start point : 14\n",
      "End point : 16\n",
      "Match string  ab\n",
      "***************************\n"
     ]
    }
   ],
   "source": [
    "import re\n",
    "pat = re.compile('ab')\n",
    "match = pat.finditer(\"abcabaaaababbbab\")\n",
    "\n",
    "for i in match:\n",
    "    print(\"Start point :\",i.start())\n",
    "    print(\"End point :\",i.end())\n",
    "    print(\"Match string \",i.group())\n",
    "    print(\"***************************\")"
   ]
  },
  {
   "cell_type": "code",
   "execution_count": 14,
   "metadata": {},
   "outputs": [
    {
     "name": "stdout",
     "output_type": "stream",
     "text": [
      "Start point : 0\n",
      "End point : 2\n",
      "Match string  ab\n",
      "***************************\n",
      "Start point : 4\n",
      "End point : 6\n",
      "Match string  ab\n",
      "***************************\n",
      "Start point : 8\n",
      "End point : 10\n",
      "Match string  ab\n",
      "***************************\n",
      "Start point : 10\n",
      "End point : 12\n",
      "Match string  ab\n",
      "***************************\n",
      "Start point : 15\n",
      "End point : 17\n",
      "Match string  ab\n",
      "***************************\n",
      "Start point : 17\n",
      "End point : 19\n",
      "Match string  ab\n",
      "***************************\n",
      "Start point : 19\n",
      "End point : 21\n",
      "Match string  ab\n",
      "***************************\n",
      "Start point : 24\n",
      "End point : 26\n",
      "Match string  ab\n",
      "***************************\n",
      "Start point : 29\n",
      "End point : 31\n",
      "Match string  ab\n",
      "***************************\n"
     ]
    }
   ],
   "source": [
    "# Second syntax of finditer()\n",
    "\n",
    "import re\n",
    "match = re.finditer(\"ab\",\"abbbabaaababaaaabababbbbabaaaab\")\n",
    "for i in match:\n",
    "    print(\"Start point :\",i.start())\n",
    "    print(\"End point :\",i.end())\n",
    "    print(\"Match string \",i.group())\n",
    "    print(\"***************************\")"
   ]
  },
  {
   "cell_type": "markdown",
   "metadata": {},
   "source": [
    "# character classes\n",
    "\n",
    "    [] - this is for denoting the class of charecters to search charecters from the main string\n",
    "    \n",
    "    [a] - only a\n",
    "    [abc] = eiter a or b or c - lower case\n",
    "    [a-h] = from a to h - lower casee\n",
    "    [a-zA-Z] = lower case and upper case alphabets\n",
    "    [0-9]  = only digits\n",
    "    \n",
    "    Except: we use caps (^) to denote except\n",
    "    \n",
    "    [^abc] = except a or b or c\n",
    "    \n",
    " \n",
    "    \n",
    "   "
   ]
  },
  {
   "cell_type": "code",
   "execution_count": 32,
   "metadata": {},
   "outputs": [
    {
     "name": "stdout",
     "output_type": "stream",
     "text": [
      "Start point : 7\n",
      "End point : 9\n",
      "Match string  hA\n",
      "***************************\n"
     ]
    }
   ],
   "source": [
    "import re\n",
    "\n",
    "match = re.finditer(\"[h][A]\",\"abshdh hA26685d5 d5Bf48w214v 59Bd488883 856A!@#$%^ &*6629j tBBufnskhdfk ahdsV345678\")\n",
    "for i in match:\n",
    "    print(\"Start point :\",i.start())\n",
    "    print(\"End point :\",i.end())\n",
    "    print(\"Match string \",i.group())\n",
    "    print(\"***************************\")"
   ]
  },
  {
   "cell_type": "code",
   "execution_count": 38,
   "metadata": {},
   "outputs": [
    {
     "name": "stdout",
     "output_type": "stream",
     "text": [
      "567 ----> found at ---> 31\n",
      "567 ----> found at ---> 39\n",
      "567 ----> found at ---> 48\n",
      "567 ----> found at ---> 58\n"
     ]
    }
   ],
   "source": [
    "import re\n",
    "match = re.finditer(\"[5-8]{3}\",\"1 12 123 1234 12345 123456 1234567 12345678 123456789 1234567890\")\n",
    "for i in match:\n",
    "    print(i.group(),\"----> found at --->\",i.start())\n"
   ]
  },
  {
   "cell_type": "markdown",
   "metadata": {},
   "source": [
    "# preceding characters:\n",
    "\n",
    "    \\s ==> only spaces\n",
    "    \\S  ==> except space : alphabets digits, spl charecters4\n",
    "    \\d  ==> only digits\n",
    "    \\D ==> except digits\n",
    "    \\w ==> only word charects\n",
    "    \\W ==> except word charecter (only special charecters)\n",
    "    . ==> any charcters (includeing space)"
   ]
  },
  {
   "cell_type": "code",
   "execution_count": 40,
   "metadata": {},
   "outputs": [
    {
     "name": "stdout",
     "output_type": "stream",
     "text": [
      "  ----> found at ---> 4\n"
     ]
    }
   ],
   "source": [
    "import re\n",
    "match = re.finditer(\"\\s\",\"QW!@ 012\")\n",
    "for i in match:\n",
    "    print(i.group(),\"----> found at --->\",i.start())"
   ]
  },
  {
   "cell_type": "code",
   "execution_count": 41,
   "metadata": {},
   "outputs": [
    {
     "name": "stdout",
     "output_type": "stream",
     "text": [
      "Q ----> found at ---> 0\n",
      "W ----> found at ---> 1\n",
      "! ----> found at ---> 2\n",
      "@ ----> found at ---> 3\n",
      "0 ----> found at ---> 5\n",
      "1 ----> found at ---> 6\n",
      "2 ----> found at ---> 7\n"
     ]
    }
   ],
   "source": [
    "import re\n",
    "match = re.finditer(\"\\S\",\"QW!@ 012\")\n",
    "for i in match:\n",
    "    print(i.group(),\"----> found at --->\",i.start())"
   ]
  },
  {
   "cell_type": "code",
   "execution_count": 42,
   "metadata": {},
   "outputs": [
    {
     "name": "stdout",
     "output_type": "stream",
     "text": [
      "0 ----> found at ---> 5\n",
      "1 ----> found at ---> 6\n",
      "2 ----> found at ---> 7\n"
     ]
    }
   ],
   "source": [
    "import re\n",
    "match = re.finditer(\"\\d\",\"QW!@ 012\")\n",
    "for i in match:\n",
    "    print(i.group(),\"----> found at --->\",i.start())"
   ]
  },
  {
   "cell_type": "code",
   "execution_count": 43,
   "metadata": {},
   "outputs": [
    {
     "name": "stdout",
     "output_type": "stream",
     "text": [
      "Q ----> found at ---> 0\n",
      "W ----> found at ---> 1\n",
      "! ----> found at ---> 2\n",
      "@ ----> found at ---> 3\n",
      "  ----> found at ---> 4\n"
     ]
    }
   ],
   "source": [
    "import re\n",
    "match = re.finditer(\"\\D\",\"QW!@ 012\")\n",
    "for i in match:\n",
    "    print(i.group(),\"----> found at --->\",i.start())"
   ]
  },
  {
   "cell_type": "code",
   "execution_count": 44,
   "metadata": {},
   "outputs": [
    {
     "name": "stdout",
     "output_type": "stream",
     "text": [
      "Q ----> found at ---> 0\n",
      "W ----> found at ---> 1\n",
      "0 ----> found at ---> 5\n",
      "1 ----> found at ---> 6\n",
      "2 ----> found at ---> 7\n"
     ]
    }
   ],
   "source": [
    "import re\n",
    "match = re.finditer(\"\\w\",\"QW!@ 012\")\n",
    "for i in match:\n",
    "    print(i.group(),\"----> found at --->\",i.start())"
   ]
  },
  {
   "cell_type": "code",
   "execution_count": 45,
   "metadata": {},
   "outputs": [
    {
     "name": "stdout",
     "output_type": "stream",
     "text": [
      "! ----> found at ---> 2\n",
      "@ ----> found at ---> 3\n",
      "  ----> found at ---> 4\n"
     ]
    }
   ],
   "source": [
    "import re\n",
    "match = re.finditer(\"\\W\",\"QW!@ 012\")\n",
    "for i in match:\n",
    "    print(i.group(),\"----> found at --->\",i.start())"
   ]
  },
  {
   "cell_type": "code",
   "execution_count": 46,
   "metadata": {},
   "outputs": [
    {
     "name": "stdout",
     "output_type": "stream",
     "text": [
      "Q ----> found at ---> 0\n",
      "W ----> found at ---> 1\n",
      "! ----> found at ---> 2\n",
      "@ ----> found at ---> 3\n",
      "  ----> found at ---> 4\n",
      "0 ----> found at ---> 5\n",
      "1 ----> found at ---> 6\n",
      "2 ----> found at ---> 7\n"
     ]
    }
   ],
   "source": [
    "import re\n",
    "match = re.finditer(\".\",\"QW!@ 012\")\n",
    "for i in match:\n",
    "    print(i.group(),\"----> found at --->\",i.start())"
   ]
  },
  {
   "cell_type": "markdown",
   "metadata": {},
   "source": [
    "# Quantifiers \n",
    "\n",
    "    a  => only once\n",
    "    a+ => either one or multiple times\n",
    "    a* => either 0 or multiple times\n",
    "    a? => eitehr 0 or 1 time\n",
    "    a{m} => a charcter m times\n",
    "    a{m,n} = a with minimum m times maximum n times"
   ]
  },
  {
   "cell_type": "code",
   "execution_count": 56,
   "metadata": {},
   "outputs": [
    {
     "name": "stdout",
     "output_type": "stream",
     "text": [
      "aa ----> found at ---> 2\n",
      "aa ----> found at ---> 7\n",
      "aa ----> found at ---> 10\n",
      "aa ----> found at ---> 13\n",
      "aa ----> found at ---> 16\n",
      "aaa ----> found at ---> 19\n",
      "aaa ----> found at ---> 23\n",
      "aaa ----> found at ---> 27\n"
     ]
    }
   ],
   "source": [
    "import re\n",
    "\n",
    "match=re.finditer('a{2,3}','a aa abaa aabaa aavaaa aaavaaa')\n",
    "for i in match:\n",
    "    print(i.group(),\"----> found at --->\",i.start())\n",
    "\n"
   ]
  },
  {
   "cell_type": "code",
   "execution_count": 24,
   "metadata": {},
   "outputs": [
    {
     "name": "stdout",
     "output_type": "stream",
     "text": [
      "<re.Match object; span=(0, 1), match='a'>\n"
     ]
    }
   ],
   "source": [
    "import re\n",
    "\n",
    "match = re.match('[a-z]','abcd efghi')\n",
    "print(match)"
   ]
  },
  {
   "cell_type": "code",
   "execution_count": null,
   "metadata": {},
   "outputs": [],
   "source": []
  }
 ],
 "metadata": {
  "kernelspec": {
   "display_name": "Python 3",
   "language": "python",
   "name": "python3"
  },
  "language_info": {
   "codemirror_mode": {
    "name": "ipython",
    "version": 3
   },
   "file_extension": ".py",
   "mimetype": "text/x-python",
   "name": "python",
   "nbconvert_exporter": "python",
   "pygments_lexer": "ipython3",
   "version": "3.8.8"
  }
 },
 "nbformat": 4,
 "nbformat_minor": 4
}

{
 "cells": [
  {
   "cell_type": "markdown",
   "metadata": {},
   "source": [
    "\n",
    "# Strings in Python : \n",
    "\n",
    "    string is a collection of charecters enclosed by either single or double quortes\n",
    "\n",
    "    python provides two types of strings:\n",
    "    \n",
    "        1. single line strings : one line of string enclosed by either single or double quotation \n",
    "        2. multiline strings :  multiple lines of strings are enclosed by three - single / double quotes\n",
    "\n"
   ]
  },
  {
   "cell_type": "code",
   "execution_count": 40,
   "metadata": {},
   "outputs": [
    {
     "name": "stdout",
     "output_type": "stream",
     "text": [
      "i am indian\n",
      "i am from telangana\n"
     ]
    }
   ],
   "source": [
    "# Example for single line strings\n",
    "\n",
    "x1 = \"i am indian\"    #double quote string\n",
    "x2 = 'i am from telangana'   #single quote string\n",
    "print(x1)\n",
    "print(x2)"
   ]
  },
  {
   "cell_type": "code",
   "execution_count": 41,
   "metadata": {},
   "outputs": [
    {
     "name": "stdout",
     "output_type": "stream",
     "text": [
      "\n",
      "Hi \n",
      "I am Studying B.Tech\n",
      "Department of Computer Science & Engineering\n",
      "Studying in SR University\n",
      "Waraganal Dist\n",
      "\n"
     ]
    }
   ],
   "source": [
    "# Example for multi line strings\n",
    "\n",
    "self_details = \"\"\"\n",
    "Hi \n",
    "I am Studying B.Tech\n",
    "Department of Computer Science & Engineering\n",
    "Studying in SR University\n",
    "Waraganal Dist\n",
    "\"\"\"\n",
    "\n",
    "print(self_details)"
   ]
  },
  {
   "cell_type": "markdown",
   "metadata": {},
   "source": [
    "# Accessing String "
   ]
  },
  {
   "cell_type": "markdown",
   "metadata": {},
   "source": [
    "String Accessing:\n",
    "    \n",
    "    1. using index\n",
    "    2. using Slicing\n",
    "    \n",
    "    \n",
    "1. String Index:\n",
    "    Python provides , +ve and -ve Indexes\n",
    "    \n",
    "    +ve index :- \n",
    "        starts from 0 to N-1 , where N is the length of string, \n",
    "        +ve index starts at left and moves to Right side\n",
    "        \n",
    "        Example : \n",
    "              str =  \"Welcome To SR\"\n",
    "                  here , \n",
    "                  Str[0] is \"W\"\n",
    "                  Str[1] is \"e\"\n",
    "                  Str[1] is \"l\"\n",
    "                  Str[1] is \"c\"\n",
    "                  ....\n",
    "                  Str[12] is \"R\"\n",
    "                  \n",
    "    \n",
    "    -ve index :- \n",
    "        starts from -1 to -N , where N is the length of string\n",
    "        -v index stars at right and moves to Left side\n",
    "        \n",
    "            Example:\n",
    "                str =  \"Welcome To SR\"\n",
    "                  here , \n",
    "                  Str[-13] is \"W\"\n",
    "                  Str[-12] is \"e\"\n",
    "                  Str[-11] is \"l\"\n",
    "                  Str[-10] is \"c\"\n",
    "                  ....\n",
    "                  Str[-3] is \" \"\n",
    "                  Str[-2] is \"S\"\n",
    "                  Str[-1] is \"R\"   #reverse Order"
   ]
  },
  {
   "cell_type": "code",
   "execution_count": 44,
   "metadata": {},
   "outputs": [
    {
     "name": "stdout",
     "output_type": "stream",
     "text": [
      "S\n",
      "R\n",
      " \n",
      "U\n",
      "n\n",
      "i\n",
      "v\n",
      "e\n",
      "r\n",
      "s\n",
      "i\n",
      "t\n",
      "y\n"
     ]
    }
   ],
   "source": [
    "# Example  for +Ve Index\n",
    "\n",
    "Str = \"SR University\"\n",
    "\n",
    "print(Str[0])\n",
    "print(Str[1])\n",
    "print(Str[2])\n",
    "print(Str[3])\n",
    "print(Str[4])\n",
    "print(Str[5])\n",
    "print(Str[6])\n",
    "print(Str[7])\n",
    "print(Str[8])\n",
    "print(Str[9])\n",
    "print(Str[10])\n",
    "print(Str[11])\n",
    "print(Str[12])\n"
   ]
  },
  {
   "cell_type": "code",
   "execution_count": 45,
   "metadata": {},
   "outputs": [
    {
     "name": "stdout",
     "output_type": "stream",
     "text": [
      "y\n",
      "t\n",
      "i\n",
      "s\n",
      "r\n",
      "e\n",
      "v\n",
      "i\n",
      "n\n",
      "U\n",
      " \n",
      "R\n",
      "S\n"
     ]
    }
   ],
   "source": [
    "# Example  for -Ve Index\n",
    "\n",
    "Str = \"SR University\"\n",
    "\n",
    "\n",
    "print(Str[-1])\n",
    "print(Str[-2])\n",
    "print(Str[-3])\n",
    "print(Str[-4])\n",
    "print(Str[-5])\n",
    "print(Str[-6])\n",
    "print(Str[-7])\n",
    "print(Str[-8])\n",
    "print(Str[-9])\n",
    "print(Str[-10])\n",
    "print(Str[-11])\n",
    "print(Str[-12])\n",
    "print(Str[-13])\n"
   ]
  },
  {
   "cell_type": "markdown",
   "metadata": {},
   "source": [
    "# String Accessing Using - Slicing\n",
    "    \n",
    "    Syntax for Slicing:\n",
    "        \n",
    "        1. String_object[Start : end]\n",
    "        2. String_object[Start : end: step]\n",
    "        "
   ]
  },
  {
   "cell_type": "markdown",
   "metadata": {},
   "source": [
    "\n",
    "                @@@@@@@@@@   String - Slicing with two Values   @@@@@@@@@@@@\n",
    "\n",
    "\n",
    "\n",
    "                                   *******  for +ve Index:     *****\n",
    "\n",
    "    1. String_obj[Start:end] - it will print the sting charecters from 'Start' index to 'End-1' index\n",
    "        \n",
    "        Example :\n",
    "            String_obj[10:15] - it prints , 10,11,12, 13 and 14 index charecters\n",
    "            \n",
    "            \n",
    "    2. In Slicing, Start value is optional , if Start is empty, it print string indexes from 0 \n",
    "        \n",
    "        Example :\n",
    "        \n",
    "            Start_object[:10] - it prints , 0,1,2,3,4,5,6,7,8 and 9 index position charecters\n",
    "            \n",
    "         \n",
    "    3. In Slicing, End value is option, if End Value is empty, it will print values , from Given start index to End of String\n",
    "    \n",
    "        Example : if String length is -10 , \n",
    "        \n",
    "        Str_obj[4:] = it print 4,5,6,7,8,9, index position charecters\n",
    "        \n",
    "      \n",
    "Note : Start value should be bigger than end \n",
    "\n",
    "\n",
    "\n",
    "\n",
    "\n",
    "\n",
    "\n",
    "                                    ***** For -ve Indexs *****\n",
    "                                    \n",
    "        Str_object [-Start : -End] :\n",
    "        \n",
    "        Example :\n",
    "        \n",
    "            String[-10: -3]  - it print -10,-9,-8,-7,-6,-5,-4 index positions\n",
    "            String[-10:]  - it print indexs from -10 to -1 indexes\n",
    "            String[:-3] - it print index from len(string) to -1 indexes\n",
    "            \n",
    "            \n",
    "       ***Note***\n",
    "           Start - default value is 0\n",
    "           end - default value is len(string)-1\n",
    "           \n",
    "           Strint[:]  - it print entire String\n",
    "            "
   ]
  },
  {
   "cell_type": "code",
   "execution_count": 51,
   "metadata": {},
   "outputs": [
    {
     "name": "stdout",
     "output_type": "stream",
     "text": [
      "Univ\n",
      "University\n",
      "SR Univ\n",
      "SR University\n"
     ]
    }
   ],
   "source": [
    "# String - Slicing with two arguments\n",
    "\n",
    "x = \"SR University\"\n",
    "\n",
    "print(x[3:7])  # it print Univ   - 3,4,5,6 index\n",
    "print(x[3:])   # it print University - 3,4,5,6,7,8,9,10,11,12\n",
    "print(x[:7])  # it print SR Univ   - 0,1,2,3,4,5,6 indexes\n",
    "print(x[:])  # it print entire string"
   ]
  },
  {
   "cell_type": "code",
   "execution_count": 56,
   "metadata": {},
   "outputs": [
    {
     "name": "stdout",
     "output_type": "stream",
     "text": [
      "Unive\n",
      "University\n",
      "SR Unive\n",
      "SR University\n"
     ]
    }
   ],
   "source": [
    "x= \"SR University\"\n",
    "\n",
    "print(x[-10:-5])  # it print indexs of -10,-9,-8,-7,-6\n",
    "print(x[-10:])   # it print indexes of -10,-9,-8,-7,-6,-5,-4,-3,-2,-1\n",
    "print(x[:-5])\n",
    "print(x[:])"
   ]
  },
  {
   "cell_type": "markdown",
   "metadata": {},
   "source": [
    "                        @@@@@@@@@@@@ Slicing with Three Values @@@@@@@@@@@@\n",
    "                        \n",
    "                        \n",
    "                        \n",
    "        Syntax :\n",
    "        \n",
    "            String_object[Start:End:Step]\n",
    "            \n",
    "            1. Default Value of Step is : +1 / 1  - which denote , traversing (or visiting or moving) from Start to End  by 1 Step\n",
    "            \n",
    "            \n",
    "           2.  IF step is +ve value, it jumps charecters Step no of Jumps\n",
    "            \n",
    "                Example  : String_obj[5,10,2] - it print indexes - 5,7,9 indexed charecters\n",
    "                \n",
    "           3. if step is -ve value, it print in reverse order,and start and end values are interchare\n",
    "           \n",
    "               "
   ]
  },
  {
   "cell_type": "code",
   "execution_count": 60,
   "metadata": {},
   "outputs": [
    {
     "name": "stdout",
     "output_type": "stream",
     "text": [
      "FGHIJ\n",
      "ABCDEFGHIJKLMNOPQRSTUVWXYZ\n",
      "ACEGIKMOQSUWY\n",
      "AFKPUZ\n"
     ]
    }
   ],
   "source": [
    "# Example :\n",
    "\n",
    "Str = \"ABCDEFGHIJKLMNOPQRSTUVWXYZ\"\n",
    "\n",
    "print(Str[5:10:1])  # it print 5,6,7,8,9 index charectrs of Str object  \n",
    "print(Str[::1])  #ABCDEFGHIJKLMNOPQRSTUVWXYZ\n",
    "print(Str[::2])  # it print 0,2,4,6,8,....24 indexed charecters\n",
    "print(Str[::5])   # AFKPUZ"
   ]
  },
  {
   "cell_type": "code",
   "execution_count": 62,
   "metadata": {},
   "outputs": [
    {
     "name": "stdout",
     "output_type": "stream",
     "text": [
      "KJIHG\n",
      "ZYXWVUTSRQPONMLKJIHGFEDCBA\n",
      "ZXVTRPNLJHFDB\n",
      "ZUPKFA\n"
     ]
    }
   ],
   "source": [
    "# Example :\n",
    "\n",
    "Str = \"ABCDEFGHIJKLMNOPQRSTUVWXYZ\"\n",
    "\n",
    "print(Str[10:5:-1])  # it print 10,9,8,7,6 index charectrs of Str object  \n",
    "print(Str[::-1])  #\n",
    "print(Str[::-2])  # \n",
    "print(Str[::-5])   #"
   ]
  },
  {
   "cell_type": "code",
   "execution_count": null,
   "metadata": {},
   "outputs": [],
   "source": []
  },
  {
   "cell_type": "code",
   "execution_count": null,
   "metadata": {},
   "outputs": [],
   "source": []
  },
  {
   "cell_type": "markdown",
   "metadata": {},
   "source": [
    "# String - Operators:\n",
    "    \n",
    "    1. Addtion on string (Concatination operator : +)\n",
    "    2. multiplication (repeation operator : *)\n",
    "    3. Relational operator (<,<=,>,>=,==,!=)\n",
    "    4. membership operators - in, not in\n",
    "    5. identity operator  - is , is not\n"
   ]
  },
  {
   "cell_type": "code",
   "execution_count": 21,
   "metadata": {},
   "outputs": [
    {
     "name": "stdout",
     "output_type": "stream",
     "text": [
      "Welcome To SR University\n"
     ]
    }
   ],
   "source": [
    "# Addtion Operators (+) : concatenate operator\n",
    "\n",
    "Str1 =\"Welcome To\"\n",
    "Str2 =\" SR University\"\n",
    "\n",
    "print(Str1 + Str2)"
   ]
  },
  {
   "cell_type": "code",
   "execution_count": 22,
   "metadata": {},
   "outputs": [
    {
     "name": "stdout",
     "output_type": "stream",
     "text": [
      "SR UniveristySR UniveristySR UniveristySR Univeristy\n",
      "SR UniveristySR UniveristySR UniveristySR Univeristy\n"
     ]
    }
   ],
   "source": [
    "# Multiplicate Operator (*) : \n",
    "\n",
    "Str1 =\"SR Univeristy\"\n",
    "\n",
    "print(Str1 * 4)\n",
    "print(4 * Str1)"
   ]
  },
  {
   "cell_type": "code",
   "execution_count": 28,
   "metadata": {},
   "outputs": [
    {
     "data": {
      "text/plain": [
       "False"
      ]
     },
     "execution_count": 28,
     "metadata": {},
     "output_type": "execute_result"
    }
   ],
   "source": [
    "#Relation Operator\n",
    "\n",
    "# String comparision performs based on ASCII Values\n",
    "\n",
    "\"A\">\"B\"     # background evaluation : 65>67 "
   ]
  },
  {
   "cell_type": "code",
   "execution_count": 30,
   "metadata": {},
   "outputs": [
    {
     "data": {
      "text/plain": [
       "True"
      ]
     },
     "execution_count": 30,
     "metadata": {},
     "output_type": "execute_result"
    }
   ],
   "source": [
    "# if suffix  is same , it moves to the next charecter\n",
    "\n",
    "\"ABCD\" > \"ABCC\"   #ABC is common to both sides, then, it compared D,C "
   ]
  },
  {
   "cell_type": "code",
   "execution_count": 36,
   "metadata": {},
   "outputs": [
    {
     "name": "stdout",
     "output_type": "stream",
     "text": [
      "False\n",
      "True\n",
      "True\n",
      "True\n",
      "False\n",
      "True\n"
     ]
    }
   ],
   "source": [
    "print(\"ABC\">\"DEF\")  # False\n",
    "print(\"ABC\"<\"DEF\")  # True\n",
    "print(\"ABC\"==\"ABC\") #True\n",
    "print(\"ABC\" <= \"ABC\") #False\n",
    "print(\"ABC\" >= \"DEF\") #False\n",
    "print(\"ABC\"!=\"DEF\") #True"
   ]
  },
  {
   "cell_type": "code",
   "execution_count": 37,
   "metadata": {},
   "outputs": [
    {
     "name": "stdout",
     "output_type": "stream",
     "text": [
      "True\n",
      "False\n"
     ]
    }
   ],
   "source": [
    "# Membership Operator  - in\n",
    "\n",
    "print(\"SR\" in \"I am Studying in SR University\")   # SR is present  - True\n",
    "print(\"JNTU\" in \"I am Studying in SR University\")   # JNTU is present  - False"
   ]
  },
  {
   "cell_type": "code",
   "execution_count": null,
   "metadata": {},
   "outputs": [],
   "source": [
    "# Membership Operator  - not in\n",
    "\n",
    "print(\"SR\" not in \"I am Studying in SR University\")   # SR is present - False\n",
    "print(\"JNTU\" not in \"I am Studying in SR University\")   # JNTU is not present  - True"
   ]
  },
  {
   "cell_type": "code",
   "execution_count": 41,
   "metadata": {},
   "outputs": [
    {
     "name": "stdout",
     "output_type": "stream",
     "text": [
      "49728152560\n",
      "49728152688\n",
      "False\n",
      "False\n"
     ]
    }
   ],
   "source": [
    "# Identity Operator\n",
    "\n",
    "# if two different string variable , contains same content, it points same address\n",
    "# but Jupiter , both takes different address\n",
    "\n",
    "\n",
    "Str1 = \"SR University\"\n",
    "Str2 = \"SR University\"\n",
    "\n",
    "print(id(Str1))\n",
    "print(id(Str2))\n",
    "\n",
    "\n",
    "print(Str1 is Str2)   # it return different output in IDLE\n",
    "print(Str1 is Str2)   "
   ]
  },
  {
   "cell_type": "code",
   "execution_count": null,
   "metadata": {},
   "outputs": [],
   "source": []
  },
  {
   "cell_type": "markdown",
   "metadata": {},
   "source": [
    "# String Functions"
   ]
  },
  {
   "cell_type": "markdown",
   "metadata": {},
   "source": [
    "string functions :\n",
    "\n",
    "    1. capitalize()\tIt capitalizes the first character of the String. This function is deprecated in python3\n",
    "\n",
    "    2. count(string,begin,end)\tIt counts the number of occurrences of a substring in a String between begin and end index.\n",
    "    \n",
    "    3. endswith(suffix ,begin=0,end=len(string))\tIt returns a Boolean value if the string terminates with given suffix between begin and end.\n",
    "\n",
    "    4. find(substring ,beginIndex, endIndex)\tIt returns the index value of the string where substring is found between begin index and end index.\n",
    "\n",
    "    5. index(subsring, beginIndex, endIndex)\tIt throws an exception if string is not found. It works same as find() method.\n",
    "\n",
    "    6.  isalnum()\tIt returns true if the characters in the string are alphanumeric i.e., alphabets or numbers and there is at least 1 character. Otherwise, it returns false.\n",
    "\n",
    "    7. isalpha()\tIt returns true if all the characters are alphabets and there is at least one character, otherwise False.\n",
    "\n",
    "    8. isdecimal()\tIt returns true if all the characters of the string are decimals.\n",
    "\n",
    "    9. isdigit()\tIt returns true if all the characters are digits and there is at least one character, otherwise False.\n",
    "\n",
    "    10. islower()\tIt returns true if the characters of a string are in lower case, otherwise false.\n",
    "\n",
    "    11. isnumeric()\tIt returns true if the string contains only numeric characters.\n",
    "\n",
    "    12. isupper()\tIt returns false if characters of a string are in Upper case, otherwise False.\n",
    "\n",
    "    13. isspace()\tIt returns true if the characters of a string are white-space, otherwise false.\n",
    "\n",
    "    14. istitle()\tIt returns true if the string is titled properly and false otherwise. A title string is the one in which the first character is upper-case whereas the other characters are lower-case.\n",
    "\n",
    "    15. isupper()\tIt returns true if all the characters of the string(if exists) is true otherwise it returns false.\n",
    "\n",
    "    16. join(seq)\tIt merges the strings representation of the given sequence.\n",
    "\n",
    "    17. len(string)\tIt returns the length of a string.\n",
    "\n",
    "    18.lower()\tIt converts all the characters of a string to Lower case.\n",
    "\n",
    "    19. lstrip()\tIt removes all leading whitespaces of a string and can also be used to remove particular character from leading.\n",
    "\n",
    "    20. replace(old,new[,count])\tIt replaces the old sequence of characters with the new sequence. The max characters are replaced if max is given.\n",
    "    \n",
    "    21. rfind(str,beg=0,end=len(str))\tIt is similar to find but it traverses the string in backward direction.\n",
    "\n",
    "     22. rindex(str,beg=0,end=len(str))\tIt is same as index but it traverses the string in backward direction.\n",
    "\n",
    "    23. rstrip()\tIt removes all trailing whitespace of a string and can also be used to remove particular character from trailing.\n",
    "\n",
    "    24. split(str,num=string.count(str))\tSplits the string according to the delimiter str. The string splits according to the space if the delimiter is not provided. It returns the list of substring concatenated with the delimiter.\n",
    "\n",
    "    25. startswith(str,beg=0,end=len(str))\tIt returns a Boolean value if the string starts with given str between begin and end.\n",
    "\n",
    "    26. strip([chars])\tIt is used to perform lstrip() and rstrip() on the string.\n",
    "\n",
    "    27. swapcase()\tIt inverts case of all characters in a string.\n",
    "\n",
    "    28. title()\tIt is used to convert the string into the title-case i.e., The string meEruT will be converted to Meerut.\n",
    "\n",
    "    29. upper()\tIt converts all the characters of a string to Upper Case.\n"
   ]
  },
  {
   "cell_type": "markdown",
   "metadata": {},
   "source": [
    "1. len() - finding the length of string\n",
    "\n",
    "syntax : len(string)"
   ]
  },
  {
   "cell_type": "code",
   "execution_count": 48,
   "metadata": {},
   "outputs": [
    {
     "name": "stdout",
     "output_type": "stream",
     "text": [
      "11\n"
     ]
    }
   ],
   "source": [
    "# Function - len() : to find length of stings\n",
    "\n",
    "# note : space also consider as - string\n",
    "\n",
    "x = \"I am Indian\"\n",
    "\n",
    "print(len(x))\n"
   ]
  },
  {
   "cell_type": "code",
   "execution_count": 6,
   "metadata": {},
   "outputs": [
    {
     "name": "stdout",
     "output_type": "stream",
     "text": [
      "    SR University     \n",
      "SR University     \n"
     ]
    }
   ],
   "source": []
  },
  {
   "cell_type": "markdown",
   "metadata": {},
   "source": [
    "# removing white spaces from left ,right of string"
   ]
  },
  {
   "cell_type": "code",
   "execution_count": 7,
   "metadata": {},
   "outputs": [
    {
     "name": "stdout",
     "output_type": "stream",
     "text": [
      "    SR University     \n",
      "SR University     \n"
     ]
    }
   ],
   "source": [
    "#2. lstrip(): remove the white spaces from leftside \n",
    "\n",
    "# Syntax : string.lstrip()\n",
    "\n",
    "\n",
    "x= \"    SR University     \"\n",
    "\n",
    "print(x) # given string as it is prints\n",
    "print(x.lstrip())"
   ]
  },
  {
   "cell_type": "code",
   "execution_count": 4,
   "metadata": {},
   "outputs": [
    {
     "name": "stdout",
     "output_type": "stream",
     "text": [
      "      SR University       \n",
      "      SR University\n"
     ]
    }
   ],
   "source": [
    "#rstrip() : Remove white spaces from right side\n",
    "\n",
    "x= \"      SR University       \"\n",
    "print(x)  #print given Strings.ipynb\n",
    "print(x.rstrip())   #print - by removing right side white space"
   ]
  },
  {
   "cell_type": "code",
   "execution_count": 5,
   "metadata": {},
   "outputs": [
    {
     "name": "stdout",
     "output_type": "stream",
     "text": [
      "      SR University       \n",
      "SR University\n"
     ]
    }
   ],
   "source": [
    "#strip() : Remove white spaces from left and right side of string\n",
    "\n",
    "x= \"      SR University       \"\n",
    "print(x)\n",
    "print(x.strip())"
   ]
  },
  {
   "cell_type": "markdown",
   "metadata": {},
   "source": [
    "# counting how many times substring repeating"
   ]
  },
  {
   "cell_type": "code",
   "execution_count": 9,
   "metadata": {},
   "outputs": [
    {
     "name": "stdout",
     "output_type": "stream",
     "text": [
      "2\n"
     ]
    }
   ],
   "source": [
    "# count() - this function used for finding how many time given substring is repeating in mainstring\n",
    "\n",
    "# syntax : mainstring.count(substing)\n",
    "\n",
    "#Example \n",
    "mainstring = \"I am studying B.Tech in SR University. and I am from Warangal\"\n",
    "substring =\"am\"\n",
    "\n",
    "print(mainstring.count(substring))   #expected output - 2"
   ]
  },
  {
   "cell_type": "markdown",
   "metadata": {},
   "source": [
    "# searching string using find() and index()"
   ]
  },
  {
   "cell_type": "markdown",
   "metadata": {},
   "source": [
    "find() and index() function returns index position of find_string\n",
    "\n",
    "find() syntax :\n",
    "\n",
    "    1.mainstring.find(find_string)\n",
    "    2.mainstring.find(find_string,from_position,end_position)\n",
    "    \n",
    "index() synax:\n",
    "\n",
    "    1.mainstring.index(find_string)\n",
    "    2.mainstring.index(find_string,from_position,end_position)\n",
    "    \n",
    "\n",
    "Note:\n",
    "find() - if search string is not present in the mainstring - it return: -1\n",
    "index() - if search string is not present in the mainstring - it return : error\n"
   ]
  },
  {
   "cell_type": "code",
   "execution_count": 11,
   "metadata": {},
   "outputs": [
    {
     "data": {
      "text/plain": [
       "24"
      ]
     },
     "execution_count": 11,
     "metadata": {},
     "output_type": "execute_result"
    }
   ],
   "source": [
    "mainstring =\"I am studying B.Tech in SR Uinversity, which is located in warangal\"\n",
    "find_string= \"SR\"\n",
    "\n",
    "#if string present using  - find () - function\n",
    "\n",
    "mainstring.find(find_string)"
   ]
  },
  {
   "cell_type": "code",
   "execution_count": 12,
   "metadata": {},
   "outputs": [
    {
     "data": {
      "text/plain": [
       "-1"
      ]
     },
     "execution_count": 12,
     "metadata": {},
     "output_type": "execute_result"
    }
   ],
   "source": [
    "mainstring =\"I am studying B.Tech in SR Uinversity, which is located in warangal\"\n",
    "find_string= \"USA\"\n",
    "\n",
    "#if sting not present using - find() function\n",
    "\n",
    "mainstring.find(find_string)\n"
   ]
  },
  {
   "cell_type": "code",
   "execution_count": 14,
   "metadata": {},
   "outputs": [
    {
     "data": {
      "text/plain": [
       "24"
      ]
     },
     "execution_count": 14,
     "metadata": {},
     "output_type": "execute_result"
    }
   ],
   "source": [
    "# using index function\n",
    "\n",
    "mainstring =\"I am studying B.Tech in SR Uinversity, which is located in warangal\"\n",
    "find_string= \"SR\"\n",
    "\n",
    "# find-string is present in main sting\n",
    "\n",
    "mainstring.index(find_string)\n"
   ]
  },
  {
   "cell_type": "code",
   "execution_count": 15,
   "metadata": {},
   "outputs": [
    {
     "ename": "ValueError",
     "evalue": "substring not found",
     "output_type": "error",
     "traceback": [
      "\u001b[1;31m---------------------------------------------------------------------------\u001b[0m",
      "\u001b[1;31mValueError\u001b[0m                                Traceback (most recent call last)",
      "\u001b[1;32m<ipython-input-15-407e8e55e209>\u001b[0m in \u001b[0;36m<module>\u001b[1;34m\u001b[0m\n\u001b[0;32m      6\u001b[0m \u001b[1;31m# find-string is not present in main sting\u001b[0m\u001b[1;33m\u001b[0m\u001b[1;33m\u001b[0m\u001b[1;33m\u001b[0m\u001b[0m\n\u001b[0;32m      7\u001b[0m \u001b[1;33m\u001b[0m\u001b[0m\n\u001b[1;32m----> 8\u001b[1;33m \u001b[0mmainstring\u001b[0m\u001b[1;33m.\u001b[0m\u001b[0mindex\u001b[0m\u001b[1;33m(\u001b[0m\u001b[0mfind_string\u001b[0m\u001b[1;33m)\u001b[0m\u001b[1;33m\u001b[0m\u001b[1;33m\u001b[0m\u001b[0m\n\u001b[0m",
      "\u001b[1;31mValueError\u001b[0m: substring not found"
     ]
    }
   ],
   "source": [
    "# using index function\n",
    "\n",
    "mainstring =\"I am studying B.Tech in SR Uinversity, which is located in warangal\"\n",
    "find_string= \"USA\"\n",
    "\n",
    "# find-string is not present in main sting\n",
    "\n",
    "mainstring.index(find_string)\n"
   ]
  },
  {
   "cell_type": "markdown",
   "metadata": {},
   "source": [
    "# changing the charecter cases "
   ]
  },
  {
   "cell_type": "markdown",
   "metadata": {},
   "source": [
    "functions:\n",
    "\n",
    "    1. upper() : convert all charecters to upper case\n",
    "    2. lower(): convert all charecters to lower case\n",
    "    3. title() : every word first charecter chages to upper case and remaining all charecters are lower\n",
    "    4. swapcase() : interchage the charecter cases - lower to upper , upper to lower\n",
    "    5. capitalize() : first charecter only upper remaining all charecters becomes lower case"
   ]
  },
  {
   "cell_type": "code",
   "execution_count": 18,
   "metadata": {},
   "outputs": [
    {
     "data": {
      "text/plain": [
       "'I AM STUDYING IN SR UNIVERSITY'"
      ]
     },
     "execution_count": 18,
     "metadata": {},
     "output_type": "execute_result"
    }
   ],
   "source": [
    "# converting to all upper case letters\n",
    "x = \"I am StUdYiNg iN Sr UnIvErSiTy\"      #mixed chaecter sting - lower and upper case\n",
    "\n",
    "x.upper()"
   ]
  },
  {
   "cell_type": "code",
   "execution_count": 19,
   "metadata": {},
   "outputs": [
    {
     "data": {
      "text/plain": [
       "'i am studying in sr university'"
      ]
     },
     "execution_count": 19,
     "metadata": {},
     "output_type": "execute_result"
    }
   ],
   "source": [
    "x.lower()"
   ]
  },
  {
   "cell_type": "code",
   "execution_count": 20,
   "metadata": {},
   "outputs": [
    {
     "data": {
      "text/plain": [
       "'I Am Studying In Sr University'"
      ]
     },
     "execution_count": 20,
     "metadata": {},
     "output_type": "execute_result"
    }
   ],
   "source": [
    "x.title()"
   ]
  },
  {
   "cell_type": "code",
   "execution_count": 21,
   "metadata": {},
   "outputs": [
    {
     "data": {
      "text/plain": [
       "'I am studying in sr university'"
      ]
     },
     "execution_count": 21,
     "metadata": {},
     "output_type": "execute_result"
    }
   ],
   "source": [
    "x.capitalize()"
   ]
  },
  {
   "cell_type": "code",
   "execution_count": 22,
   "metadata": {},
   "outputs": [
    {
     "data": {
      "text/plain": [
       "'i AM sTuDyInG In sR uNiVeRsItY'"
      ]
     },
     "execution_count": 22,
     "metadata": {},
     "output_type": "execute_result"
    }
   ],
   "source": [
    "x.swapcase()"
   ]
  },
  {
   "cell_type": "markdown",
   "metadata": {},
   "source": [
    "# to know what type of charecters present in given string"
   ]
  },
  {
   "cell_type": "markdown",
   "metadata": {},
   "source": [
    "functions :\n",
    "    \n",
    "    1. isalpha() - it check all the charecters are alphabets are not. if all are alphabets it return true , other wise false\n",
    "    \n",
    "    2. isdigit() - it checks all the charecters are digits are not. if all are digits it return True other wise False\n",
    "    \n",
    "    3. isspace() - it checks all the charectres in given string is spaces or not. if all are spaces then it return True , otherwise False\n",
    "    \n",
    "    4. isupper() - it checks all the charecters are in upper case or not. if all are upper case it return True otherwise False\n",
    "    \n",
    "    5.islower() - it checks all the charecters are in lower case or not. if all are lower case it return True otherwise False"
   ]
  },
  {
   "cell_type": "code",
   "execution_count": 3,
   "metadata": {},
   "outputs": [
    {
     "name": "stdout",
     "output_type": "stream",
     "text": [
      "True\n",
      "False\n"
     ]
    }
   ],
   "source": [
    "# isalpha() - example\n",
    "\n",
    "str_1 = \"SRUnviersity\"   # contains all alphabets and mixed type of charecters (upper & lower)\n",
    "str_2 = \"SRUniversity_123\" # contains alphabets and digits\n",
    "\n",
    "# Note : if it contans space, it does not treat as alphabet\n",
    "\n",
    "print(str_1.isalpha())   # it return True\n",
    "print(str_2.isalpha())   # it return False\n"
   ]
  },
  {
   "cell_type": "code",
   "execution_count": 4,
   "metadata": {},
   "outputs": [
    {
     "name": "stdout",
     "output_type": "stream",
     "text": [
      "True\n",
      "False\n"
     ]
    }
   ],
   "source": [
    "# isdigit() - example\n",
    "\n",
    "str_1 = \"123456\"   # contains all digits \n",
    "str_2 = \"SRUniversity_123\" # contains alphabets and digits\n",
    "\n",
    "\n",
    "print(str_1.isdigit())   # it return True\n",
    "print(str_2.isdigit())   # it return False\n"
   ]
  },
  {
   "cell_type": "code",
   "execution_count": 7,
   "metadata": {},
   "outputs": [
    {
     "name": "stdout",
     "output_type": "stream",
     "text": [
      "True\n",
      "False\n"
     ]
    }
   ],
   "source": [
    "# isspace() - example\n",
    "\n",
    "str_1 = \"             \"   # contains all spaces \n",
    "str_2 = \"SRUniversity_123     \" # contains alphabets, digits and spaces\n",
    "\n",
    "# Note : if it contans space, it does not treat as alphabet\n",
    "\n",
    "print(str_1.isspace())   # it return True\n",
    "print(str_2.isspace())   # it return False\n"
   ]
  },
  {
   "cell_type": "code",
   "execution_count": 9,
   "metadata": {},
   "outputs": [
    {
     "name": "stdout",
     "output_type": "stream",
     "text": [
      "True\n",
      "False\n"
     ]
    }
   ],
   "source": [
    "# isupper() - example\n",
    "\n",
    "str_1 = \"SRUNIVERSITY\"   # all  are uppeer case letters \n",
    "str_2 = \"SR University\" # mixed  type\n",
    "\n",
    "# spaces are ignored.\n",
    "\n",
    "print(str_1.isupper())   # it return True\n",
    "print(str_2.isupper())   # it return False\n"
   ]
  },
  {
   "cell_type": "code",
   "execution_count": 11,
   "metadata": {},
   "outputs": [
    {
     "name": "stdout",
     "output_type": "stream",
     "text": [
      "True\n",
      "False\n"
     ]
    }
   ],
   "source": [
    "# isupper() - example\n",
    "\n",
    "str_1 = \"sr university\"   # all  are lower case letters \n",
    "str_2 = \"SR University\" # mixed  type\n",
    "\n",
    "# spaces are ignored.\n",
    "\n",
    "print(str_1.islower())   # it return True\n",
    "print(str_2.islower())   # it return False\n"
   ]
  },
  {
   "cell_type": "code",
   "execution_count": 13,
   "metadata": {},
   "outputs": [
    {
     "name": "stdout",
     "output_type": "stream",
     "text": [
      "True\n",
      "False\n"
     ]
    }
   ],
   "source": [
    "#istitle() - example\n",
    "\n",
    "str_1 = \"Sr University Located In Warangal Dist\"   # all words first charecters is upper case \n",
    "str_2 = \"SR University located in waRangal\" # mixed  type\n",
    "\n",
    "# spaces are ignored.\n",
    "\n",
    "print(str_1.istitle())   # it return True\n",
    "print(str_2.istitle())   # it return False\n",
    "\n"
   ]
  },
  {
   "cell_type": "markdown",
   "metadata": {},
   "source": [
    "# breaking the string based on any charecter/ string"
   ]
  },
  {
   "cell_type": "markdown",
   "metadata": {},
   "source": [
    "split function:\n",
    "    \n",
    "    syntax: mainstring.split(superator) : it break down the string and return the wrods as a list type"
   ]
  },
  {
   "cell_type": "code",
   "execution_count": 14,
   "metadata": {},
   "outputs": [
    {
     "data": {
      "text/plain": [
       "['I', 'am', 'Studing', 'B.Tech', 'in', 'SR', 'University']"
      ]
     },
     "execution_count": 14,
     "metadata": {},
     "output_type": "execute_result"
    }
   ],
   "source": [
    "#split function - example\n",
    "\n",
    "main_string ='I am Studing B.Tech in SR University'\n",
    "\n",
    "#breaking down the string based on - space charecters\n",
    "\n",
    "main_string.split(' ')"
   ]
  },
  {
   "cell_type": "markdown",
   "metadata": {},
   "source": [
    "# joining list of string "
   ]
  },
  {
   "cell_type": "markdown",
   "metadata": {},
   "source": [
    "join() function - Example :\n",
    "    \n",
    "    Syntax : join_charecter.join(list_of_string)\n",
    "    "
   ]
  },
  {
   "cell_type": "code",
   "execution_count": 15,
   "metadata": {},
   "outputs": [
    {
     "name": "stdout",
     "output_type": "stream",
     "text": [
      "I-am-Studing-B.Tech-in-SR-University\n"
     ]
    }
   ],
   "source": [
    "#example:\n",
    "\n",
    "l=['I', 'am', 'Studing', 'B.Tech', 'in', 'SR', 'University']\n",
    "\n",
    "#joining based in '-' charecrer\n",
    "\n",
    "print(\"-\".join(l))\n"
   ]
  },
  {
   "cell_type": "code",
   "execution_count": 16,
   "metadata": {},
   "outputs": [
    {
     "name": "stdout",
     "output_type": "stream",
     "text": [
      "I am Studing B.Tech in SR University\n"
     ]
    }
   ],
   "source": [
    "# joing list of string using ' '(space)\n",
    "\n",
    "print(' '.join(l))"
   ]
  },
  {
   "cell_type": "markdown",
   "metadata": {},
   "source": [
    "# checking prefix and suffixes"
   ]
  },
  {
   "cell_type": "markdown",
   "metadata": {},
   "source": [
    "function:\n",
    "    \n",
    "    startswith(): \n",
    "    endswith"
   ]
  },
  {
   "cell_type": "code",
   "execution_count": 18,
   "metadata": {},
   "outputs": [
    {
     "name": "stdout",
     "output_type": "stream",
     "text": [
      "True\n",
      "False\n"
     ]
    }
   ],
   "source": [
    "#example: \n",
    "\n",
    "#starswith(): it return boolean value, if the string starts with specified sting , other wise false\n",
    "    \n",
    "main_string =\"I am Studying B.Tech\"\n",
    "\n",
    "print(main_string.startswith(\"I am\")) # it return True\n",
    "print(main_string.startswith(\"You are\")) # it return False"
   ]
  },
  {
   "cell_type": "code",
   "execution_count": 19,
   "metadata": {},
   "outputs": [
    {
     "name": "stdout",
     "output_type": "stream",
     "text": [
      "True\n",
      "False\n"
     ]
    }
   ],
   "source": [
    "# Example for endswith()\n",
    "\n",
    "main_string =\"I am Studying B.Tech\"\n",
    "\n",
    "print(main_string.endswith(\"B.Tech\")) # it return True\n",
    "print(main_string.endswith(\"M.Tech\")) # it return False\n"
   ]
  },
  {
   "cell_type": "code",
   "execution_count": 1,
   "metadata": {},
   "outputs": [
    {
     "data": {
      "text/plain": [
       "'C:\\\\Users\\\\Lenovo\\\\SRU notes'"
      ]
     },
     "execution_count": 1,
     "metadata": {},
     "output_type": "execute_result"
    }
   ],
   "source": [
    "pwd()"
   ]
  },
  {
   "cell_type": "code",
   "execution_count": null,
   "metadata": {},
   "outputs": [],
   "source": []
  }
 ],
 "metadata": {
  "kernelspec": {
   "display_name": "Python 3",
   "language": "python",
   "name": "python3"
  },
  "language_info": {
   "codemirror_mode": {
    "name": "ipython",
    "version": 3
   },
   "file_extension": ".py",
   "mimetype": "text/x-python",
   "name": "python",
   "nbconvert_exporter": "python",
   "pygments_lexer": "ipython3",
   "version": "3.8.5"
  }
 },
 "nbformat": 4,
 "nbformat_minor": 4
}

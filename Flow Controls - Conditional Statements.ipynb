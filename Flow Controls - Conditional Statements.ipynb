{
 "cells": [
  {
   "cell_type": "code",
   "execution_count": null,
   "id": "c511131f",
   "metadata": {},
   "outputs": [],
   "source": []
  },
  {
   "cell_type": "markdown",
   "id": "90710829",
   "metadata": {},
   "source": [
    "<center><h1 style=\"color:red\">Flow Controls in Python</h1></center>\n",
    "\n",
    "    1. conditional Statements :\n",
    "        a. simple if\n",
    "        b. if else\n",
    "        c. nested if statements\n",
    "        d. if elif else statement \n",
    "    \n",
    "    2. Iterative Statements / Loops:\n",
    "        a. while \n",
    "        b. while with else\n",
    "        c. for loop\n",
    "        d. for with else\n",
    "    \n",
    "    3. jump statements\n",
    "        a. break\n",
    "        b. continue\n",
    "        c. pass\n",
    "       "
   ]
  },
  {
   "cell_type": "markdown",
   "id": "923be7d3",
   "metadata": {},
   "source": [
    "# Conditional Statements:\n",
    "\n",
    "        Conditional Statement in Python perform different computations or actions depending on whether a specific Boolean condition evaluates to True or False. \n",
    "        \n",
    "        Conditional statements are handled by \"if statemetns \" in Python."
   ]
  },
  {
   "cell_type": "markdown",
   "id": "b9dfbddb",
   "metadata": {},
   "source": [
    " Simple if Statement"
   ]
  },
  {
   "cell_type": "markdown",
   "id": "4f5a03f9",
   "metadata": {},
   "source": [
    "    Syntax:\n",
    "        \n",
    "    if boolean_condition:\n",
    "        statement(s)    \n",
    "        \n",
    "        \n",
    "    Note:\n",
    "        we must give the space befor statements, which are comes under if statements \n",
    "        we calls that statement as - indentation\n",
    "        \n",
    "        \n",
    "        \n",
    "     Diagram:\n",
    "     \n",
    "\n",
    "     \n",
    "        "
   ]
  },
  {
   "cell_type": "markdown",
   "id": "afba50d6",
   "metadata": {},
   "source": [
    "# P1 : Write a program to demonstrate simple if program"
   ]
  },
  {
   "cell_type": "code",
   "execution_count": 13,
   "id": "12436409",
   "metadata": {},
   "outputs": [
    {
     "name": "stdout",
     "output_type": "stream",
     "text": [
      "I am Before - Simple if condition\n",
      "I am first line in if statements\n",
      "I am Second line in if Statements\n",
      "I am After simple if statemnts \n"
     ]
    }
   ],
   "source": [
    "\n",
    "print(\"I am Before - Simple if condition\")\n",
    "if True:                                           # this boolean result is True - so if statements can execute\n",
    "    print(\"I am first line in if statements\")\n",
    "    print(\"I am Second line in if Statements\")\n",
    "    \n",
    "print(\"I am After simple if statemnts \")"
   ]
  },
  {
   "cell_type": "code",
   "execution_count": 10,
   "id": "c582773b",
   "metadata": {},
   "outputs": [
    {
     "name": "stdout",
     "output_type": "stream",
     "text": [
      "I am Before - Simple if condition\n",
      "I am After simple if statemnts \n"
     ]
    }
   ],
   "source": [
    "print(\"I am Before - Simple if condition\")\n",
    "if False:                                            # this boolean result is False - so if statements can not execute\n",
    "    print(\"I am first line in if statements\")\n",
    "    print(\"I am Second line in if Statements\")\n",
    "    \n",
    "print(\"I am After simple if statemnts \")"
   ]
  },
  {
   "cell_type": "markdown",
   "id": "23bc0fdf",
   "metadata": {},
   "source": [
    "# P2 - Write a program to check whether the given Number is lessthan 100 or not\n",
    "\n",
    "    if given number is less than 100 : print- \"given number is less than 100 \" and followed by \"Task has COmpleted\"\n",
    "    \n",
    "    otherwise : \"Task Has Completed\"\n",
    "    \n",
    "    \n",
    "    Expected Output 1 :\n",
    "    -------------------\n",
    "    \n",
    "    Enter Any Integer : 10\n",
    "    Given Number Is Lessthan 100\n",
    "    Task Has Completed\n",
    "    \n",
    "    Expected Output 2:\n",
    "    ------------------\n",
    "    \n",
    "    Enter Any Integer :200\n",
    "    Task Has Completed "
   ]
  },
  {
   "cell_type": "code",
   "execution_count": 16,
   "id": "e11a77d9",
   "metadata": {},
   "outputs": [
    {
     "name": "stdout",
     "output_type": "stream",
     "text": [
      "Enter Any Integer200\n",
      "Task Complted\n"
     ]
    }
   ],
   "source": [
    "x = int(input(\"Enter Any Integer\"))\n",
    "if x<=100:\n",
    "    print(\"Given Number is less than 100\")\n",
    "print(\"Task Complted\")"
   ]
  },
  {
   "cell_type": "markdown",
   "id": "220e637a",
   "metadata": {},
   "source": [
    "<center><h3><u> if else Statement</u> </h3></center>"
   ]
  },
  {
   "cell_type": "markdown",
   "id": "0b5be7fe",
   "metadata": {},
   "source": [
    "    Syntax:\n",
    "        \n",
    "        if boolean_condition:\n",
    "            statement(s)\n",
    "        else:\n",
    "            statement(s)"
   ]
  },
  {
   "cell_type": "markdown",
   "id": "6d175229",
   "metadata": {},
   "source": [
    "    Diagrametic Representation:\n",
    "        \n",
    "        "
   ]
  },
  {
   "cell_type": "markdown",
   "id": "97324257",
   "metadata": {},
   "source": [
    "# P3 : Write a Program to Demonstate if -else Statement\n"
   ]
  },
  {
   "cell_type": "code",
   "execution_count": 22,
   "id": "e57dd7f7",
   "metadata": {},
   "outputs": [
    {
     "name": "stdout",
     "output_type": "stream",
     "text": [
      "I am Befor => if else Statements\n",
      "I am Executing because - If is True\n",
      "I am after if else statements \n"
     ]
    }
   ],
   "source": [
    "print(\"I am Befor => if else Statements\")\n",
    "\n",
    "if True:\n",
    "    print(\"I am Executing because - If is True\")\n",
    "else:\n",
    "    print(\"I am Executing because - if is False\")\n",
    "    \n",
    "print(\"I am after if else statements \")"
   ]
  },
  {
   "cell_type": "code",
   "execution_count": 24,
   "id": "28aa29be",
   "metadata": {},
   "outputs": [
    {
     "name": "stdout",
     "output_type": "stream",
     "text": [
      "I am Befor => if else Statements\n",
      "I am Executing because - if is False\n",
      "I am after if else statements \n"
     ]
    }
   ],
   "source": [
    "print(\"I am Befor => if else Statements\")\n",
    "\n",
    "if False:\n",
    "    print(\"I am Executing because - If is True\")\n",
    "else:\n",
    "    print(\"I am Executing because - if is False\")\n",
    "    \n",
    "print(\"I am after if else statements \")"
   ]
  },
  {
   "cell_type": "markdown",
   "id": "87e16bc2",
   "metadata": {},
   "source": [
    "# p4: write a program to check whether the given number is odd or even\n",
    "\n",
    "    Expected Output:\n",
    "        \n",
    "        Enter an Integer: 10\n",
    "        10 is even number\n",
    "        Task has Completed\n",
    "        \n",
    "    Expected Output 2:\n",
    "        Enter an Integer :11\n",
    "        11 is odd number\n",
    "        Task has completed"
   ]
  },
  {
   "cell_type": "code",
   "execution_count": 25,
   "id": "fddc824f",
   "metadata": {},
   "outputs": [
    {
     "name": "stdout",
     "output_type": "stream",
     "text": [
      "Enter an integer10\n",
      "10 is even number\n",
      "Task has completed\n"
     ]
    }
   ],
   "source": [
    "n = int(input(\"Enter an integer\"))\n",
    "if n%2==0:\n",
    "    print(n,'is even number')\n",
    "else:\n",
    "    print(n,'is odd number')\n",
    "print(\"Task has completed\")"
   ]
  },
  {
   "cell_type": "markdown",
   "id": "bf0cb981",
   "metadata": {},
   "source": [
    "# Practice programs 1 :\n",
    "\n",
    "    ===> write a program to find maximum of two integers\n",
    "    =====================================================\n",
    "    \n",
    "   "
   ]
  },
  {
   "cell_type": "code",
   "execution_count": 34,
   "id": "f5e86830",
   "metadata": {},
   "outputs": [],
   "source": [
    "# Implementation\n",
    "\n",
    "\n",
    "\n",
    "\n"
   ]
  },
  {
   "cell_type": "markdown",
   "id": "c8c22e6e",
   "metadata": {},
   "source": [
    "# Practice Program 2:   \n",
    "   \n",
    "    ===> write a program to find the minimum of two integer\n",
    "    \n",
    "    "
   ]
  },
  {
   "cell_type": "code",
   "execution_count": 33,
   "id": "876eba1e",
   "metadata": {},
   "outputs": [],
   "source": [
    "# Implementation\n",
    "\n",
    "\n"
   ]
  },
  {
   "cell_type": "markdown",
   "id": "34aae5b6",
   "metadata": {},
   "source": [
    "# Practice Program 3:\n",
    "\n",
    "    ===> write a program for follwing scenario\n",
    "    \n",
    "        if the given number is even - find the square of given number\n",
    "        if the givne number is odd - find the cube of given numbers\n",
    "        \n",
    "        Example :\n",
    "            Enter an integer :10\n",
    "            10 square is :100\n",
    "                \n",
    "       Expected output:\n",
    "            Enter an integer :3\n",
    "            3 cube is : 27\n",
    "                \n",
    "    "
   ]
  },
  {
   "cell_type": "code",
   "execution_count": 30,
   "id": "9ac275ff",
   "metadata": {},
   "outputs": [],
   "source": [
    "#Implementation\n",
    "\n"
   ]
  },
  {
   "cell_type": "markdown",
   "id": "b0bfac1c",
   "metadata": {},
   "source": [
    "# Practice Program 4:   \n",
    "    \n",
    "    ==> Write a program to check the given number is +ve intege or -ve integer\n",
    "    \n",
    "        Note : print - 0 also possitive integer\n",
    "    \n",
    "        Expected Result:\n",
    "            Enter an Integer :10\n",
    "            10 is Possitive Integer\n",
    "            \n",
    "        Expected Resutl:\n",
    "            Enter an Integer :-10\n",
    "            -10 is Negative Integer\n",
    "    \n",
    "    "
   ]
  },
  {
   "cell_type": "code",
   "execution_count": 32,
   "id": "849db22c",
   "metadata": {},
   "outputs": [],
   "source": [
    "# Implementation\n",
    "\n",
    "\n",
    "\n",
    "\n"
   ]
  },
  {
   "cell_type": "markdown",
   "id": "5954958c",
   "metadata": {},
   "source": [
    "# Practice Program 5:\n",
    "    ==> write a program to read user name and password\n",
    "    \n",
    "        if username is \"india\" and password is \"1234\" then print- login is success \n",
    "        otherwise - fail to login\n",
    "        \n",
    "        Expected Result 1:\n",
    "            \n",
    "            Enter Username :india\n",
    "            Enter password :1234\n",
    "            \n",
    "            Login in Success\n",
    "        \n",
    "        Expected output 2:\n",
    "            Enter Username :USA\n",
    "            Enter password :12345\n",
    "            \n",
    "            Failed ot Login\n",
    "            "
   ]
  },
  {
   "cell_type": "code",
   "execution_count": 31,
   "id": "3dd0a258",
   "metadata": {},
   "outputs": [],
   "source": [
    "# Implementation\n",
    "\n",
    "\n",
    "\n",
    "\n",
    "\n",
    "\n"
   ]
  },
  {
   "cell_type": "markdown",
   "id": "4235d1e2",
   "metadata": {},
   "source": [
    "<center><h3><u> Nested If Statement </u></h3><center>"
   ]
  },
  {
   "cell_type": "markdown",
   "id": "7cdc011f",
   "metadata": {},
   "source": [
    "       writing an if condition inside another if condition is called \"nested if\" \n",
    "       \n",
    "       Syntax:\n",
    "       ======\n",
    "       \n",
    "           if boolean_condition_1:\n",
    "               \n",
    "               if boolean_condition_2:\n",
    "                   \n",
    "                   if boolean_condition_3:\n",
    "                   \n",
    "                        Statement(s)          # this block execute when condition 1,2 and 3 are True   \n",
    "                   \n",
    "                   else:\n",
    "                   \n",
    "                        Statement(s)          # this block execute when condition 1,2 are True and 3 is False\n",
    "               else:\n",
    "               \n",
    "                   Statement(s)               # this block execute when condition 1 is True and 2 & 3 are False\n",
    "           else:\n",
    "           \n",
    "               Statement(s)                   # this block execute when condition 1,2 and 3 are False\n",
    "                   \n",
    "                   \n"
   ]
  },
  {
   "cell_type": "markdown",
   "id": "52d0e705",
   "metadata": {},
   "source": [
    "    Diagramatic Representation:\n",
    "    ==========================="
   ]
  },
  {
   "cell_type": "markdown",
   "id": "cc276fb8",
   "metadata": {},
   "source": [
    "# Program: Write a program to find the biggest of three integers\n",
    "\n",
    "    Expected Output:\n",
    "    \n",
    "        Enter First Integer : 10\n",
    "        Enter Second Integer : 20\n",
    "        Enter Third Integer : 30\n",
    "        \n",
    "        30 is biggest number\n",
    "    \n"
   ]
  },
  {
   "cell_type": "code",
   "execution_count": 36,
   "id": "15ca3089",
   "metadata": {},
   "outputs": [
    {
     "name": "stdout",
     "output_type": "stream",
     "text": [
      "Enter First Integer10\n",
      "Enter Second Integer20\n",
      "Enter Thrid Integer30\n",
      "30  is biggest Number\n"
     ]
    }
   ],
   "source": [
    "x = int(input(\"Enter First Integer\"))\n",
    "y = int(input(\"Enter Second Integer\"))\n",
    "z = int(input(\"Enter Thrid Integer\"))\n",
    "\n",
    "if x>y:\n",
    "    if x>z:\n",
    "        print(x,\" is biggest Number\")\n",
    "    else:\n",
    "        print(z,\" is biggest Number\")\n",
    "else:\n",
    "    if y>z:\n",
    "        print(y,\" is biggest Number\")\n",
    "    else:\n",
    "        print(z,\" is biggest Number\")\n",
    "        \n",
    "        "
   ]
  },
  {
   "cell_type": "markdown",
   "id": "30b90840",
   "metadata": {},
   "source": [
    "    Note:\n",
    "        in the above program insete of writing \"if\" under \"else\" we can merge them as \"elif\"\n",
    "        \n",
    "        else:\n",
    "            if y>z:\n",
    "    \n",
    "    \n",
    "        elif x>z:\n",
    "            \n",
    "            both evaluates to same result"
   ]
  },
  {
   "cell_type": "code",
   "execution_count": 38,
   "id": "22daa524",
   "metadata": {},
   "outputs": [
    {
     "name": "stdout",
     "output_type": "stream",
     "text": [
      "Enter First Integer20\n",
      "Enter Second Integer30\n",
      "Enter Thrid Integer40\n",
      "40  is biggest Number\n"
     ]
    }
   ],
   "source": [
    "x = int(input(\"Enter First Integer\"))\n",
    "y = int(input(\"Enter Second Integer\"))\n",
    "z = int(input(\"Enter Thrid Integer\"))\n",
    "\n",
    "if x>y:\n",
    "    if x>z:\n",
    "        print(x,\" is biggest Number\")\n",
    "    else:\n",
    "        print(z,\" is biggest Number\")\n",
    "elif y>z:\n",
    "    print(y,\" is biggest Number\")\n",
    "else:\n",
    "    print(z,\" is biggest Number\")\n",
    "        \n",
    "        "
   ]
  },
  {
   "cell_type": "markdown",
   "id": "3a2427ab",
   "metadata": {},
   "source": [
    "# Practice Program: find the smallest of three integers\n",
    "    \n",
    "    Expected Result:\n",
    "        Enter First Integer : 10\n",
    "        Enter Second Integer : 20\n",
    "        Enter Third Integer : 30\n",
    "        \n",
    "        10 is the smallest\n",
    "    \n",
    "    \n",
    "    "
   ]
  },
  {
   "cell_type": "code",
   "execution_count": 39,
   "id": "505b68ce",
   "metadata": {},
   "outputs": [],
   "source": [
    "# Implementation\n",
    "\n",
    "\n",
    "\n",
    "\n"
   ]
  },
  {
   "cell_type": "markdown",
   "id": "68d1348e",
   "metadata": {},
   "source": [
    "<center><h3><u> if elif else </u></h3></center>"
   ]
  },
  {
   "cell_type": "markdown",
   "id": "6a3d5544",
   "metadata": {},
   "source": [
    "    Syntax:\n",
    "        \n",
    "        if condition_1:\n",
    "            \n",
    "            statement(s)     # this block execute when condition -1 is True\n",
    "        \n",
    "        elif condition_2:\n",
    "            \n",
    "            statement(s)     # this block execute when condition -1 is False , condition 2 is True\n",
    "        \n",
    "        elif condition_3:\n",
    "            \n",
    "            statement(s)     # this block execute when condition -1,2 are False , condition 3 is True\n",
    "        \n",
    "        else:\n",
    "            statement(s)      # if all condition fails then this block will execute"
   ]
  },
  {
   "cell_type": "markdown",
   "id": "096cbb75",
   "metadata": {},
   "source": [
    "# Program: Write a program to demonstarte if elif else statements"
   ]
  },
  {
   "cell_type": "code",
   "execution_count": 14,
   "id": "5ac65d91",
   "metadata": {},
   "outputs": [
    {
     "name": "stdout",
     "output_type": "stream",
     "text": [
      "I am  Conditon_1 statement\n"
     ]
    }
   ],
   "source": [
    "condition1 =True     # change from True to False and find the differences\n",
    "condition2 =True\n",
    "condition3 =True\n",
    "condition4 =True\n",
    "\n",
    "if condition1:\n",
    "    print(\"I am  Conditon_1 statement\")\n",
    "elif condition2:\n",
    "    print(\"I am Condition _2 statement\")\n",
    "elif condition3:\n",
    "    print(\"I am Condition_3 statemnt\")\n",
    "elif condition4:\n",
    "    print(\"I am COndition_4 statement\")\n",
    "else:\n",
    "    print(\"All condition Fails\")"
   ]
  },
  {
   "cell_type": "markdown",
   "id": "3f521aa4",
   "metadata": {},
   "source": [
    "<center>****************************</center>"
   ]
  },
  {
   "cell_type": "markdown",
   "id": "0212e8b7",
   "metadata": {},
   "source": [
    "    Note:\n",
    "    \n",
    "        In the above program, change the condition values from \"True\" to \"False\" and find the differences"
   ]
  },
  {
   "cell_type": "markdown",
   "id": "873dc804",
   "metadata": {},
   "source": [
    "# Program : write a program to find the biggest among the 4 integers\n",
    "\n",
    "    Exected Results:\n",
    "    \n",
    "    Enter First Integer: 10\n",
    "    Enter Second Integer : 40\n",
    "    Enter Thrid Integer :30\n",
    "    Enter Fourth Integer : 20\n",
    "    \n",
    "    40 is the biggest integer\n"
   ]
  },
  {
   "cell_type": "code",
   "execution_count": 17,
   "id": "f27d9d04",
   "metadata": {},
   "outputs": [
    {
     "name": "stdout",
     "output_type": "stream",
     "text": [
      "Enter First Integer :10\n",
      "Enter Second Integer :20\n",
      "Enter Third Integer :30\n",
      "Enter Forth Integer :40\n",
      "40 is the biggest integer\n"
     ]
    }
   ],
   "source": [
    "p = int(input(\"Enter First Integer :\"))\n",
    "q = int(input(\"Enter Second Integer :\"))\n",
    "r = int(input(\"Enter Third Integer :\"))\n",
    "s = int(input(\"Enter Forth Integer :\"))\n",
    "\n",
    "if p>q and p>r and p>s:\n",
    "    print(p,\"is the biggest integer\")\n",
    "if q>p and q>r and q>s:\n",
    "    print(q,\"is the biggest integer\")\n",
    "if r>p and r>q and p>s:\n",
    "    print(p,\"is the biggest integer\")\n",
    "else:\n",
    "    print(s,\"is the biggest integer\")\n",
    "    "
   ]
  },
  {
   "cell_type": "markdown",
   "id": "ce37f749",
   "metadata": {},
   "source": [
    "# Program : write a program to demostrate language selection in customer care\n",
    "    \n",
    "    Expected Output:\n",
    "        Select Your Language \n",
    "        press 1 for Telugu\n",
    "        press 2 for Hindi\n",
    "        press 3 for English\n",
    "        \n",
    "        Enter Your Option: 3\n",
    "        You have Selected English Language\n",
    "        \n",
    "        \n",
    "    Note: if user does not give proper input ; it should reprot as \"wrong selection\"\n",
    "        "
   ]
  },
  {
   "cell_type": "code",
   "execution_count": 4,
   "id": "1db65024",
   "metadata": {},
   "outputs": [
    {
     "name": "stdout",
     "output_type": "stream",
     "text": [
      "Select Your Language \n",
      " Press 1 for Telugu \n",
      " Press 2 for Hindi \n",
      " Press 3 for English\n",
      "Enter Your Option:10\n",
      "Wrong selection\n"
     ]
    }
   ],
   "source": [
    "print(\"Select Your Language \\n Press 1 for Telugu \\n Press 2 for Hindi \\n Press 3 for English\")\n",
    "\n",
    "choice = int(input(\"Enter Your Option:\"))\n",
    "if choice==1:\n",
    "    print(\"You have selected Telugu Language\")\n",
    "elif choice==2:\n",
    "    print(\"You have selected Hindi Language\")\n",
    "elif choice==3:\n",
    "    print(\"You have selected English Language\")\n",
    "else:\n",
    "    print(\"Wrong selection\")"
   ]
  },
  {
   "cell_type": "markdown",
   "id": "62ce9a5b",
   "metadata": {},
   "source": [
    "# Program : write a program to perform selected Arithmetic operator using if elif if\n",
    "\n",
    "    Expected Result:\n",
    "        Enter First Integer: 10\n",
    "        Enter Second Integer :3\n",
    "            \n",
    "        Press 1 for Addtion\n",
    "        Press 2 for Subtraction\n",
    "        Press 3 for Multiplication\n",
    "        Press 4 for Division\n",
    "        Press 5 for Modulus\n",
    "        Press 6 for Floor Division\n",
    "        Press 7 for Exponent \n",
    "        \n",
    "        Select Your Option:6\n",
    "        The floor Division of 10 and 3 is : 3"
   ]
  },
  {
   "cell_type": "code",
   "execution_count": 9,
   "id": "426abebc",
   "metadata": {},
   "outputs": [
    {
     "name": "stdout",
     "output_type": "stream",
     "text": [
      "Enter First Integer10\n",
      "Enter Second Integer29\n",
      " Press 1 for Addtion \n",
      " Press 2 for Subtraction \n",
      " Press 3 for Multiplication \n",
      " Press 4 for Division\n",
      " Press 5 for Modulus \n",
      " Press 6 for Floor Division\n",
      " Press 7 for Exponent\n",
      "Enter Your Option1\n",
      "The sum of 10 and 29 is 39\n"
     ]
    }
   ],
   "source": [
    "x = int(input(\"Enter First Integer\"))\n",
    "y = int(input(\"Enter Second Integer\"))\n",
    "\n",
    "print(\" Press 1 for Addtion \\n Press 2 for Subtraction \\n Press 3 for Multiplication \\n Press 4 for Division\")\n",
    "print(\" Press 5 for Modulus \\n Press 6 for Floor Division\\n Press 7 for Exponent\")\n",
    "\n",
    "choice = int(input(\"Enter Your Option\"))\n",
    "\n",
    "if choice==1:\n",
    "    print(\"The sum of\",x,\"and\",y,\"is\",(x+y))\n",
    "elif choice==2:\n",
    "    print(\"The sub of\",x,\"and\",y,\"is\",(x-y))\n",
    "elif choice==3:\n",
    "    print(\"The mul of\",x,\"and\",y,\"is\",(x*y))\n",
    "elif choice==4:\n",
    "    print(\"The div of\",x,\"and\",y,\"is\",(x/y))\n",
    "elif choice==5:\n",
    "    print(\"The mod of\",x,\"and\",y,\"is\",(x%y))\n",
    "elif choice==6:\n",
    "    print(\"The floor Division of\",x,\"and\",y,\"is\",(x//y))\n",
    "elif choice==7:\n",
    "    print(\"The exponent of\",x,\"and\",y,\"is\",(x**y))\n",
    "else:\n",
    "    print(\"Wrong Choice\")"
   ]
  },
  {
   "cell_type": "markdown",
   "id": "005cdee7",
   "metadata": {},
   "source": [
    "# Practice Program : write a program to demonstrate ATM Machine Option selection\n",
    "    \n",
    "\n",
    "    Press 1 for Withdraw\n",
    "    Press 2 for Deposit\n",
    "    Press 3 for Account Transfer\n",
    "    Press 4 for Check Balance\n",
    "    Press 5 for MiniStatement\n",
    " \n",
    "\n",
    "    Select Your Option:2\n",
    "    You have selected Deposit Option\n",
    "  \n",
    "\n",
    "Note:\n",
    "    if user enter other option - it should print as wrogn choice"
   ]
  },
  {
   "cell_type": "code",
   "execution_count": null,
   "id": "ea713cde",
   "metadata": {},
   "outputs": [],
   "source": []
  }
 ],
 "metadata": {
  "kernelspec": {
   "display_name": "Python 3",
   "language": "python",
   "name": "python3"
  },
  "language_info": {
   "codemirror_mode": {
    "name": "ipython",
    "version": 3
   },
   "file_extension": ".py",
   "mimetype": "text/x-python",
   "name": "python",
   "nbconvert_exporter": "python",
   "pygments_lexer": "ipython3",
   "version": "3.8.8"
  }
 },
 "nbformat": 4,
 "nbformat_minor": 5
}

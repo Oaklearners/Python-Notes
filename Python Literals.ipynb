{
 "cells": [
  {
   "cell_type": "markdown",
   "id": "7991eecc",
   "metadata": {},
   "source": [
    "<center><h1 style=\"color:red\">Python Literals</h1></center>\n"
   ]
  },
  {
   "cell_type": "markdown",
   "id": "134358da",
   "metadata": {},
   "source": [
    "\n",
    "    Python provides following types of literals\n",
    "\n",
    "        1. integer literals\n",
    "        2. float literals\n",
    "        3. string literals\n",
    "        4. boolean literals\n",
    "        5. complex literals\n",
    "    "
   ]
  },
  {
   "cell_type": "markdown",
   "id": "bd34f79a",
   "metadata": {},
   "source": [
    "<h1 style=\"color:blue\">Integer Literals</h1>\n",
    "\n",
    "    In python we can assign integer number to a variable by the following ways\n",
    "    \n",
    "    a. decimal representation:\n",
    "        \n",
    "        base : 10\n",
    "        values : 0,1,2,3,4,5,6,7,8,9\n",
    "        \n",
    "        \n",
    "    b. binary representation:\n",
    "        \n",
    "        base :2\n",
    "        values : 0,1\n",
    "        prefix : 0b or oB\n",
    "        \n",
    "    c. octal representation:\n",
    "    \n",
    "        base : 8\n",
    "        values : 0,1,2,3,4,5,6,7\n",
    "        prefix : 0o or 0O\n",
    "        \n",
    "    c. hexa-deciaml representation\n",
    "        \n",
    "        base : 16\n",
    "        values : 0,1,2,3,4,5,6,7,8,9,a,b,c,d,e,f   \n",
    "        prefix : 0x or 0X\n",
    "        \n",
    "        \n",
    "    Note:\n",
    "    \n",
    "        In hexa-decimal represenation from 10 to 16 we can use lower case or upper case english alphabets\n",
    "        \n",
    "        \n",
    "        \n",
    "<h1 style=\"color:blue\">Float Literals</h1>\n",
    "\n",
    "    In python we can assign float values in two ways\n",
    "    \n",
    "    1. Float value in decimal representation\n",
    "    2. Exponential value in decimal representation\n",
    "       \n",
    "    \n",
    "    \n",
    "    Note: like Integer literal , we can not assign float literal in binary, octal and hex decimal representation\n",
    "\n",
    "\n",
    "        \n",
    "        \n",
    "        \n",
    "<h1 style=\"color:blue\">String Literals</h1>\n",
    "\n",
    "    In python we can assign String values in two ways\n",
    "    \n",
    "    1. single quoted strings\n",
    "    2. double quoted string\n",
    "        \n",
    "        \n",
    "        \n",
    "<h1 style=\"color:blue\">Boolean Literals</h1>\n",
    "\n",
    "    we can use only \"True\" and \"False\" Value to assign Boolan values\n",
    "\n",
    "\n",
    "<h1 style=\"color:blue\">Complex Literals</h1>\n",
    "\n",
    "    syntax of complex value is : \n",
    "    \n",
    "                            a+bj\n",
    "    \n",
    "    where a is real number, and b is imaginary number\n",
    "    \n",
    "     real part:\n",
    "     **********\n",
    "     \n",
    "         when integer : \n",
    "             we can assign in binary, octal, decimal and hexa decimal representation\n",
    "             \n",
    "         when float:\n",
    "             we can give float value in float value or exponential form\n",
    "             \n",
    "     imaginary part:\n",
    "     ****************\n",
    "     \n",
    "         we can assign only in decimal representation even it is integer and float value"
   ]
  },
  {
   "cell_type": "markdown",
   "id": "95aa6d68",
   "metadata": {},
   "source": [
    "# Examples"
   ]
  },
  {
   "cell_type": "code",
   "execution_count": 13,
   "id": "5c55341d",
   "metadata": {},
   "outputs": [
    {
     "name": "stdout",
     "output_type": "stream",
     "text": [
      "Decimal Representation : 10\n",
      "Binary Representation : 5\n",
      "Octal Representation : 45\n",
      "Hexdeciamal Representation : 255\n"
     ]
    }
   ],
   "source": [
    "# Integer Literals Examples\n",
    "\n",
    "# decimal representation\n",
    "\n",
    "a = 10\n",
    "print(\"Decimal Representation :\",a)\n",
    "# binary representation\n",
    "\n",
    "b = 0b101\n",
    "print(\"Binary Representation :\",b)\n",
    "\n",
    "# octal representation\n",
    "\n",
    "c = 0o55\n",
    "print(\"Octal Representation :\",c)\n",
    "# hexa decimal representation\n",
    "\n",
    "d = 0xFF\n",
    "print(\"Hexdeciamal Representation :\",d)"
   ]
  },
  {
   "cell_type": "markdown",
   "id": "a7f56800",
   "metadata": {},
   "source": [
    "<h3>Violating rules for Integer Number</h3>\n",
    "*****************************************************"
   ]
  },
  {
   "cell_type": "code",
   "execution_count": 14,
   "id": "9f7b1790",
   "metadata": {},
   "outputs": [
    {
     "ename": "SyntaxError",
     "evalue": "invalid digit '2' in binary literal (<ipython-input-14-f3655eec7d73>, line 4)",
     "output_type": "error",
     "traceback": [
      "\u001b[1;36m  File \u001b[1;32m\"<ipython-input-14-f3655eec7d73>\"\u001b[1;36m, line \u001b[1;32m4\u001b[0m\n\u001b[1;33m    x = 0b102     # Error : invalid digit '2' in binary literal\u001b[0m\n\u001b[1;37m            ^\u001b[0m\n\u001b[1;31mSyntaxError\u001b[0m\u001b[1;31m:\u001b[0m invalid digit '2' in binary literal\n"
     ]
    }
   ],
   "source": [
    "# Example 1: using 2 value in bianry representation\n",
    "\n",
    "\n",
    "x = 0b102     # Error : invalid digit '2' in binary literal\n",
    "print(x)"
   ]
  },
  {
   "cell_type": "code",
   "execution_count": 15,
   "id": "2a96a73c",
   "metadata": {},
   "outputs": [
    {
     "ename": "SyntaxError",
     "evalue": "invalid digit '9' in octal literal (<ipython-input-15-a1ee1738903d>, line 4)",
     "output_type": "error",
     "traceback": [
      "\u001b[1;36m  File \u001b[1;32m\"<ipython-input-15-a1ee1738903d>\"\u001b[1;36m, line \u001b[1;32m4\u001b[0m\n\u001b[1;33m    x = 0o79    # Error : invalid digit '9' in octal literal\u001b[0m\n\u001b[1;37m           ^\u001b[0m\n\u001b[1;31mSyntaxError\u001b[0m\u001b[1;31m:\u001b[0m invalid digit '9' in octal literal\n"
     ]
    }
   ],
   "source": [
    "# Example 2: using 9 value in octal representation\n",
    "\n",
    "\n",
    "x = 0o79    # Error : invalid digit '9' in octal literal\n",
    "\n",
    "print(x)"
   ]
  },
  {
   "cell_type": "code",
   "execution_count": 16,
   "id": "13ceff5b",
   "metadata": {},
   "outputs": [
    {
     "ename": "SyntaxError",
     "evalue": "invalid syntax (<ipython-input-16-a87c2fbd90de>, line 4)",
     "output_type": "error",
     "traceback": [
      "\u001b[1;36m  File \u001b[1;32m\"<ipython-input-16-a87c2fbd90de>\"\u001b[1;36m, line \u001b[1;32m4\u001b[0m\n\u001b[1;33m    x = 0xFP    # Error : invalid syntax\u001b[0m\n\u001b[1;37m           ^\u001b[0m\n\u001b[1;31mSyntaxError\u001b[0m\u001b[1;31m:\u001b[0m invalid syntax\n"
     ]
    }
   ],
   "source": [
    "# Example 2: using 'p' value in hex decimal representation\n",
    "\n",
    "\n",
    "x = 0xFP    # Error : invalid syntax\n",
    "\n",
    "print(x)"
   ]
  },
  {
   "cell_type": "markdown",
   "id": "89570f0e",
   "metadata": {},
   "source": [
    "<h1 style=\"color:blue\">Float Literals</h1>\n",
    "\n",
    "    In python we can assign float values in two ways\n",
    "    \n",
    "    1. Float value in decimal representation\n",
    "    2. Exponential value in decimal representation\n",
    "       \n",
    "    \n",
    "    \n",
    "    Note: like Integer literal , we can not assign float literal in binary, octal and hex decimal representation\n",
    "\n"
   ]
  },
  {
   "cell_type": "code",
   "execution_count": 19,
   "id": "6e4f2369",
   "metadata": {},
   "outputs": [
    {
     "name": "stdout",
     "output_type": "stream",
     "text": [
      "Float value 10.56\n",
      "Exponential Representation:  1040000.0\n"
     ]
    }
   ],
   "source": [
    "x = 10.56\n",
    "print(\"Float value\",x)\n",
    "\n",
    "y = 10.4e5  # where e =10\n",
    "print(\"Exponential Representation: \",y)"
   ]
  },
  {
   "cell_type": "markdown",
   "id": "50075cc7",
   "metadata": {},
   "source": [
    "<h3> violating Rule of float literal</h3>\n",
    "********************************************\n"
   ]
  },
  {
   "cell_type": "code",
   "execution_count": 27,
   "id": "5d19f7ac",
   "metadata": {},
   "outputs": [
    {
     "ename": "SyntaxError",
     "evalue": "invalid syntax (<ipython-input-27-b8f4506b1e52>, line 3)",
     "output_type": "error",
     "traceback": [
      "\u001b[1;36m  File \u001b[1;32m\"<ipython-input-27-b8f4506b1e52>\"\u001b[1;36m, line \u001b[1;32m3\u001b[0m\n\u001b[1;33m    x = 0b101.11     #  SyntaxError: invalid syntax\u001b[0m\n\u001b[1;37m             ^\u001b[0m\n\u001b[1;31mSyntaxError\u001b[0m\u001b[1;31m:\u001b[0m invalid syntax\n"
     ]
    }
   ],
   "source": [
    "# Example 1: assigning float value in binary ,octal and hexadecimal representation\n",
    "\n",
    "x = 0b101.11     #  SyntaxError: invalid syntax\n",
    "y = 0o33.23      #  SyntaxError: invalid syntax\n",
    "z = 0xF.F        #  SyntaxError: invalid syntax\n"
   ]
  },
  {
   "cell_type": "markdown",
   "id": "fbffb379",
   "metadata": {},
   "source": [
    "<h1 style=\"color:blue\">String Literals</h1>\n",
    "\n",
    "    In python we can assign String values in two ways\n",
    "    \n",
    "    1. single quoted strings\n",
    "    2. double quoted string"
   ]
  },
  {
   "cell_type": "code",
   "execution_count": 30,
   "id": "f5029b3f",
   "metadata": {},
   "outputs": [
    {
     "name": "stdout",
     "output_type": "stream",
     "text": [
      "I am an Indian\n",
      "I am an Indian\n"
     ]
    }
   ],
   "source": [
    "x = \"I am an Indian\"\n",
    "\n",
    "y = 'I am an Indian'\n",
    "\n",
    "print(x)\n",
    "print(y)"
   ]
  },
  {
   "cell_type": "code",
   "execution_count": 33,
   "id": "36ed419c",
   "metadata": {},
   "outputs": [
    {
     "ename": "SyntaxError",
     "evalue": "EOL while scanning string literal (<ipython-input-33-c785024399a6>, line 3)",
     "output_type": "error",
     "traceback": [
      "\u001b[1;36m  File \u001b[1;32m\"<ipython-input-33-c785024399a6>\"\u001b[1;36m, line \u001b[1;32m3\u001b[0m\n\u001b[1;33m    x= 'I am an Indian\"\u001b[0m\n\u001b[1;37m                           ^\u001b[0m\n\u001b[1;31mSyntaxError\u001b[0m\u001b[1;31m:\u001b[0m EOL while scanning string literal\n"
     ]
    }
   ],
   "source": [
    "# voilating rules : starting with single quote and ending with double quote\n",
    "\n",
    "x= 'I am an Indian\"    "
   ]
  },
  {
   "cell_type": "markdown",
   "id": "675c99ab",
   "metadata": {},
   "source": [
    "<h1 style=\"color:blue\">Boolean Literals</h1>\n",
    "\n",
    "    we can use only \"True\" and \"False\" Value to assign Boolan values"
   ]
  },
  {
   "cell_type": "code",
   "execution_count": 35,
   "id": "894b6374",
   "metadata": {},
   "outputs": [
    {
     "name": "stdout",
     "output_type": "stream",
     "text": [
      "True\n",
      "False\n"
     ]
    }
   ],
   "source": [
    "x =True\n",
    "print(x)\n",
    "\n",
    "y = False\n",
    "print(y)"
   ]
  },
  {
   "cell_type": "markdown",
   "id": "4caad4a5",
   "metadata": {},
   "source": [
    "<h1 style=\"color:blue\">Complex Literals</h1>\n",
    "\n",
    "    syntax of complex value is : \n",
    "    \n",
    "                            a+bj\n",
    "    \n",
    "    where a is real, and b is imaginary\n",
    "    \n",
    "     real part:\n",
    "     **********\n",
    "     \n",
    "         when integer : \n",
    "             we can assign in binary, octal, decimal and hexa decimal representation\n",
    "             \n",
    "         when float:\n",
    "             we can give float value in float value or exponential form\n",
    "             \n",
    "     imaginary part:\n",
    "     ****************\n",
    "     \n",
    "         we can assign only in decimal representation even it is integer and float value\n",
    "    "
   ]
  },
  {
   "cell_type": "code",
   "execution_count": 37,
   "id": "330e85a4",
   "metadata": {},
   "outputs": [],
   "source": [
    "# real part integer - decimal representation\n",
    "\n",
    "x = 10 + 2j   # valid"
   ]
  },
  {
   "cell_type": "code",
   "execution_count": 38,
   "id": "05fadd96",
   "metadata": {},
   "outputs": [],
   "source": [
    "# real part integer - binary representation\n",
    "\n",
    "x = 0b101 + 2j   # valid"
   ]
  },
  {
   "cell_type": "code",
   "execution_count": 39,
   "id": "2e42e550",
   "metadata": {},
   "outputs": [],
   "source": [
    "# real part integer - octal representation\n",
    "\n",
    "x = 0o55 + 2j   # valid"
   ]
  },
  {
   "cell_type": "code",
   "execution_count": 40,
   "id": "99761477",
   "metadata": {},
   "outputs": [],
   "source": [
    "# real part integer - hexa decimal representation\n",
    "\n",
    "x = 10 + 2j   # valid"
   ]
  },
  {
   "cell_type": "code",
   "execution_count": 42,
   "id": "d4ddd260",
   "metadata": {},
   "outputs": [],
   "source": [
    "# real part float - direct float value\n",
    "\n",
    "x =10.4 + 2j  # valid"
   ]
  },
  {
   "cell_type": "code",
   "execution_count": 43,
   "id": "8c2c938f",
   "metadata": {},
   "outputs": [],
   "source": [
    "# real part float - exponential representation\n",
    "\n",
    "x =10.4e5+ 2j  # valid"
   ]
  },
  {
   "cell_type": "code",
   "execution_count": 46,
   "id": "673d028f",
   "metadata": {},
   "outputs": [],
   "source": [
    "# Imaginary part integer = decimal representation\n",
    "\n",
    "x =10 + 2j  # valid"
   ]
  },
  {
   "cell_type": "code",
   "execution_count": 50,
   "id": "e2459b6f",
   "metadata": {},
   "outputs": [],
   "source": [
    "# imaginary part float = float value\n",
    "\n",
    "x=10+3.5j  #valid"
   ]
  },
  {
   "cell_type": "code",
   "execution_count": null,
   "id": "a7968ed1",
   "metadata": {},
   "outputs": [],
   "source": []
  }
 ],
 "metadata": {
  "kernelspec": {
   "display_name": "Python 3",
   "language": "python",
   "name": "python3"
  },
  "language_info": {
   "codemirror_mode": {
    "name": "ipython",
    "version": 3
   },
   "file_extension": ".py",
   "mimetype": "text/x-python",
   "name": "python",
   "nbconvert_exporter": "python",
   "pygments_lexer": "ipython3",
   "version": "3.9.5"
  }
 },
 "nbformat": 4,
 "nbformat_minor": 5
}

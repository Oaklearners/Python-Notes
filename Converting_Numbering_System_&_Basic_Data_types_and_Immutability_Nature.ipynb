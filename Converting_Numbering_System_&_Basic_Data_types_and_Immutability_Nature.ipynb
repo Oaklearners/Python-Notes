{
  "nbformat": 4,
  "nbformat_minor": 0,
  "metadata": {
    "kernelspec": {
      "display_name": "Python 3",
      "language": "python",
      "name": "python3"
    },
    "language_info": {
      "codemirror_mode": {
        "name": "ipython",
        "version": 3
      },
      "file_extension": ".py",
      "mimetype": "text/x-python",
      "name": "python",
      "nbconvert_exporter": "python",
      "pygments_lexer": "ipython3",
      "version": "3.8.5"
    },
    "colab": {
      "name": "Converting Numbering System  & Basic Data types and Immutability Nature.ipynb",
      "provenance": []
    }
  },
  "cells": [
    {
      "cell_type": "markdown",
      "metadata": {
        "id": "-Ty1wxFKwP-v"
      },
      "source": [
        "# Numbering system in:\n",
        " \n",
        "    1. deciamal \n",
        "    2. octal \n",
        "    3. hexa decimal\n",
        "    4. binary numbering"
      ]
    },
    {
      "cell_type": "markdown",
      "metadata": {
        "id": "9Qp53N1_wP_U"
      },
      "source": [
        "# we need to convert one numbering system to another numbering system\n",
        "\n",
        "1. oct() : this will converty other number numbering system to octal number\n",
        "2. bin() : other number to binary\n",
        "3. hex(): this will converth other number to hexxa \n"
      ]
    },
    {
      "cell_type": "code",
      "metadata": {
        "id": "lyGLfXoCwP_a",
        "outputId": "bf2cc143-48ff-4c1b-bcff-c3f2a039f87e"
      },
      "source": [
        "# we needd to covvert binary, hexadecimal and decilam to ocatal numbers\n",
        "\n",
        "oct(10)"
      ],
      "execution_count": null,
      "outputs": [
        {
          "output_type": "execute_result",
          "data": {
            "text/plain": [
              "'0o12'"
            ]
          },
          "metadata": {
            "tags": []
          },
          "execution_count": 15
        }
      ]
    },
    {
      "cell_type": "code",
      "metadata": {
        "id": "jKRrjwbIwP_l",
        "outputId": "f5c517a7-2129-49dc-c24b-eb529fab4b6b"
      },
      "source": [
        "oct(0xF)"
      ],
      "execution_count": null,
      "outputs": [
        {
          "output_type": "execute_result",
          "data": {
            "text/plain": [
              "'0o17'"
            ]
          },
          "metadata": {
            "tags": []
          },
          "execution_count": 16
        }
      ]
    },
    {
      "cell_type": "code",
      "metadata": {
        "id": "xufE0lRQwP_o",
        "outputId": "51849527-f69a-401a-a21e-f064533608cb"
      },
      "source": [
        "oct(0b1111)"
      ],
      "execution_count": null,
      "outputs": [
        {
          "output_type": "execute_result",
          "data": {
            "text/plain": [
              "'0o17'"
            ]
          },
          "metadata": {
            "tags": []
          },
          "execution_count": 17
        }
      ]
    },
    {
      "cell_type": "code",
      "metadata": {
        "id": "5WzwxpkDwP_r",
        "outputId": "cd7c6088-e2bd-46be-adc4-1c2482d66302"
      },
      "source": [
        "# converting binay, oct, deciamal to hexa deciaml type\n",
        "\n",
        "hex(0b1111)"
      ],
      "execution_count": null,
      "outputs": [
        {
          "output_type": "execute_result",
          "data": {
            "text/plain": [
              "'0xf'"
            ]
          },
          "metadata": {
            "tags": []
          },
          "execution_count": 18
        }
      ]
    },
    {
      "cell_type": "code",
      "metadata": {
        "id": "334i16JbwP_u",
        "outputId": "38f9c87c-4fde-4db9-d713-ec2457c50345"
      },
      "source": [
        "hex(0o17)"
      ],
      "execution_count": null,
      "outputs": [
        {
          "output_type": "execute_result",
          "data": {
            "text/plain": [
              "'0xf'"
            ]
          },
          "metadata": {
            "tags": []
          },
          "execution_count": 19
        }
      ]
    },
    {
      "cell_type": "code",
      "metadata": {
        "id": "4E678wnCwP_w",
        "outputId": "d84ae632-7ae5-4e26-8799-2726c707d126"
      },
      "source": [
        "hex(15)"
      ],
      "execution_count": null,
      "outputs": [
        {
          "output_type": "execute_result",
          "data": {
            "text/plain": [
              "'0xf'"
            ]
          },
          "metadata": {
            "tags": []
          },
          "execution_count": 20
        }
      ]
    },
    {
      "cell_type": "code",
      "metadata": {
        "id": "BO8RppBLwP_z",
        "outputId": "7c4ebe71-f24e-4cad-f715-3ec9791e317f"
      },
      "source": [
        "#converint oct, deci, heax decimal to binary number\n",
        "\n",
        "bin(0o7)"
      ],
      "execution_count": null,
      "outputs": [
        {
          "output_type": "execute_result",
          "data": {
            "text/plain": [
              "'0b111'"
            ]
          },
          "metadata": {
            "tags": []
          },
          "execution_count": 21
        }
      ]
    },
    {
      "cell_type": "code",
      "metadata": {
        "id": "PPW_vz_lwP_0",
        "outputId": "561a372f-e1e3-46ba-8f27-e2b43df6e1a0"
      },
      "source": [
        "bin(8)"
      ],
      "execution_count": null,
      "outputs": [
        {
          "output_type": "execute_result",
          "data": {
            "text/plain": [
              "'0b1000'"
            ]
          },
          "metadata": {
            "tags": []
          },
          "execution_count": 22
        }
      ]
    },
    {
      "cell_type": "code",
      "metadata": {
        "id": "pq-DuMCzwP_2",
        "outputId": "3fcfc23c-7e2b-482f-c378-a0c046104008"
      },
      "source": [
        "bin(0xF)"
      ],
      "execution_count": null,
      "outputs": [
        {
          "output_type": "execute_result",
          "data": {
            "text/plain": [
              "'0b1111'"
            ]
          },
          "metadata": {
            "tags": []
          },
          "execution_count": 23
        }
      ]
    },
    {
      "cell_type": "code",
      "metadata": {
        "id": "B04UOBXgwP_4",
        "outputId": "0585803d-b64b-4462-a5a6-d006112676e8"
      },
      "source": [
        "0xF"
      ],
      "execution_count": null,
      "outputs": [
        {
          "output_type": "execute_result",
          "data": {
            "text/plain": [
              "15"
            ]
          },
          "metadata": {
            "tags": []
          },
          "execution_count": 24
        }
      ]
    },
    {
      "cell_type": "markdown",
      "metadata": {
        "id": "ELdEbTZtwP_5"
      },
      "source": [
        "# <center>Fundamental Datatypes Vs Immutable<center>"
      ]
    },
    {
      "cell_type": "markdown",
      "metadata": {
        "id": "UuKdKIIEwP_6"
      },
      "source": [
        "Fundamental Datatypes Vs Immutable:\n",
        "    \n",
        "    All Fundamental Data types are immutable. i.e once we creates an object,we cannot perform any changes in that object. If we are trying to change then with those changes a new object will be created. This non-chageable behaviour is called immutability."
      ]
    },
    {
      "cell_type": "code",
      "metadata": {
        "scrolled": true,
        "id": "ndp1UZsRwP_9",
        "outputId": "cba3c483-8f6c-42a5-ea21-164014da9ffc"
      },
      "source": [
        "# basic datatypes Vs Immutabile\n",
        "\n",
        "#integer: is immutable\n",
        "\n",
        "x =10\n",
        "id(x)"
      ],
      "execution_count": null,
      "outputs": [
        {
          "output_type": "execute_result",
          "data": {
            "text/plain": [
              "140737220585536"
            ]
          },
          "metadata": {
            "tags": []
          },
          "execution_count": 25
        }
      ]
    },
    {
      "cell_type": "code",
      "metadata": {
        "id": "w2-fUnkowP__",
        "outputId": "12af6957-f248-4b55-e6f9-3cbda1bd1855"
      },
      "source": [
        "# if x value change from 10 to 20. it creates new object and store 20 in new memory.\n",
        "\n",
        "x=20\n",
        "id(x)"
      ],
      "execution_count": null,
      "outputs": [
        {
          "output_type": "execute_result",
          "data": {
            "text/plain": [
              "140737220585856"
            ]
          },
          "metadata": {
            "tags": []
          },
          "execution_count": 26
        }
      ]
    },
    {
      "cell_type": "code",
      "metadata": {
        "id": "tCKZhDUcwQAA",
        "outputId": "81ec4f7d-2446-404a-da58-6ca0f1ff30b8"
      },
      "source": [
        "# floating : immutable\n",
        "x = 10.5\n",
        "print(id(x))\n",
        "x = 10.6\n",
        "print(id(x))"
      ],
      "execution_count": null,
      "outputs": [
        {
          "output_type": "stream",
          "text": [
            "223959768240\n",
            "223949170192\n"
          ],
          "name": "stdout"
        }
      ]
    },
    {
      "cell_type": "code",
      "metadata": {
        "id": "UhPqaTHywQAB",
        "outputId": "f0bf8864-4067-4307-d070-ebbfcffab882"
      },
      "source": [
        "# complex: immutable\n",
        "\n",
        "x=10+2j\n",
        "print(id(x))\n",
        "x=20+5j\n",
        "print(id(x))"
      ],
      "execution_count": null,
      "outputs": [
        {
          "output_type": "stream",
          "text": [
            "223949170096\n",
            "223949170256\n"
          ],
          "name": "stdout"
        }
      ]
    },
    {
      "cell_type": "code",
      "metadata": {
        "id": "oRtoEdTYwQAD",
        "outputId": "96792021-83f4-4e63-c253-c02bf4b4b51e"
      },
      "source": [
        "# boolan type :immutable\n",
        "\n",
        "x = True\n",
        "print(id(x))\n",
        "x =False\n",
        "print(id(x))"
      ],
      "execution_count": null,
      "outputs": [
        {
          "output_type": "stream",
          "text": [
            "140737220302672\n",
            "140737220302704\n"
          ],
          "name": "stdout"
        }
      ]
    },
    {
      "cell_type": "code",
      "metadata": {
        "id": "iUjGoS2twQAE",
        "outputId": "bd38d654-650f-4450-9e81-11509bda60d4"
      },
      "source": [
        "# string : immutable\n",
        "\n",
        "x =\"SRU\"\n",
        "print(id(x))\n",
        "x =\"Sr University\"\n",
        "print(id(x))"
      ],
      "execution_count": null,
      "outputs": [
        {
          "output_type": "stream",
          "text": [
            "223949839728\n",
            "223949839408\n"
          ],
          "name": "stdout"
        }
      ]
    },
    {
      "cell_type": "markdown",
      "metadata": {
        "id": "9kDk4-pSwQAG"
      },
      "source": [
        "Reusalbe of Object:\n",
        "        \n",
        "        In Python if a new object is required, then PVM wont create object immediately. First it will check is any object available with the required content or not. If available then existing object will be reused. If it is not available then only a new object will be created. The advantage of this approach is memory utilization and performance will be improved.\n",
        "        \n",
        "        But the problem in this approach is,several references pointing to the same object,by  using one reference if we are allowed to change the content in the existing object then the  remaining references will be effected. To prevent this immutability concept is required. According to this once creates an object we are not allowed to change content. If we are trying to change with those changes a new object will be created."
      ]
    },
    {
      "cell_type": "code",
      "metadata": {
        "id": "AVQo-aaiwQAI",
        "outputId": "f0af2843-64b3-437b-bf9f-8cc3559dfeee"
      },
      "source": [
        "a=10\n",
        "b=10\n",
        "c=10\n",
        "d=10\n",
        "e=10\n",
        "\n",
        "print(id(a))\n",
        "print(id(b))\n",
        "print(id(c))\n",
        "print(id(d))\n",
        "print(id(e))"
      ],
      "execution_count": null,
      "outputs": [
        {
          "output_type": "stream",
          "text": [
            "140737220585536\n",
            "140737220585536\n",
            "140737220585536\n",
            "140737220585536\n",
            "140737220585536\n"
          ],
          "name": "stdout"
        }
      ]
    },
    {
      "cell_type": "code",
      "metadata": {
        "id": "0lHLGQ5wwQAJ",
        "outputId": "35fe82fb-d159-432d-abd5-992e04e26126"
      },
      "source": [
        "a=\"abc\"\n",
        "b=\"abc\"\n",
        "c=\"abc\"\n",
        "\n",
        "print(id(a))\n",
        "print(id(b))\n",
        "print(id(c))"
      ],
      "execution_count": null,
      "outputs": [
        {
          "output_type": "stream",
          "text": [
            "223875933808\n",
            "223875933808\n",
            "223875933808\n"
          ],
          "name": "stdout"
        }
      ]
    },
    {
      "cell_type": "code",
      "metadata": {
        "id": "92aG7NSiwQAL",
        "outputId": "6b6b9658-fcd6-4a34-ce58-be23a32c6522"
      },
      "source": [
        "a =10.5\n",
        "b =10.5\n",
        "c =10.5\n",
        "print(id(a))\n",
        "print(id(b))\n",
        "print(id(c))"
      ],
      "execution_count": null,
      "outputs": [
        {
          "output_type": "stream",
          "text": [
            "223949170224\n",
            "223949170480\n",
            "223949170192\n"
          ],
          "name": "stdout"
        }
      ]
    },
    {
      "cell_type": "code",
      "metadata": {
        "id": "GXK9qF6LwQAM",
        "outputId": "38dc8874-4c1d-4666-ad75-d4a81cc02b3d"
      },
      "source": [
        "a=True\n",
        "b=True\n",
        "c=True\n",
        "\n",
        "print(id(a))\n",
        "print(id(b))\n",
        "print(id(c))"
      ],
      "execution_count": null,
      "outputs": [
        {
          "output_type": "stream",
          "text": [
            "140737220302672\n",
            "140737220302672\n",
            "140737220302672\n"
          ],
          "name": "stdout"
        }
      ]
    },
    {
      "cell_type": "code",
      "metadata": {
        "id": "yQ7eC50swQAN",
        "outputId": "ee014221-3843-4fc0-988d-a69b72e034aa"
      },
      "source": [
        "a=10+5j\n",
        "b=10+5j\n",
        "c=10+5j\n",
        "\n",
        "print(id(a))\n",
        "print(id(b))\n",
        "print(id(c))\n"
      ],
      "execution_count": null,
      "outputs": [
        {
          "output_type": "stream",
          "text": [
            "223949170992\n",
            "223949170512\n",
            "223949170288\n"
          ],
          "name": "stdout"
        }
      ]
    },
    {
      "cell_type": "code",
      "metadata": {
        "id": "m90c4g9AwQAP"
      },
      "source": [
        ""
      ],
      "execution_count": null,
      "outputs": []
    }
  ]
}
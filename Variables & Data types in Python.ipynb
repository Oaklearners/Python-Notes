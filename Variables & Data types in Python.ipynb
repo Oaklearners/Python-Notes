{
 "cells": [
  {
   "cell_type": "markdown",
   "id": "edcfc889",
   "metadata": {},
   "source": [
    "<center><h1 style=\"color:red\">Variables and Datatypes in Python</h1></center>"
   ]
  },
  {
   "cell_type": "markdown",
   "id": "e98ebcf4",
   "metadata": {},
   "source": [
    "# Variable :\n",
    "        \n",
    "    1. variable is a name of memeroy location to store a value\n",
    "    \n",
    "    2. this variable is to store the value\n",
    "    \n",
    "    3. variable value can be modified\n",
    "    \n",
    "    Syntax:\n",
    "    \n",
    "        Name_of_variable = value\n",
    "        \n",
    "        \n",
    "        Note : in C program before variable name explicitly we define variable type; but , in python we need not to write\n",
    "        \n",
    "        python is dynamically typed programming language; the type of variable can change based on the type of value we assing\n",
    "    \n",
    "    \n",
    "    "
   ]
  },
  {
   "cell_type": "code",
   "execution_count": 3,
   "id": "0b4ee929",
   "metadata": {},
   "outputs": [
    {
     "name": "stdout",
     "output_type": "stream",
     "text": [
      "10\n"
     ]
    }
   ],
   "source": [
    "# Example:\n",
    "\n",
    "a=10  # variable Declaration\n",
    "\n",
    "print(a)  # printing the  value of a"
   ]
  },
  {
   "cell_type": "markdown",
   "id": "bb99013c",
   "metadata": {},
   "source": [
    "# Datatypes\n",
    "\n",
    "\n",
    "    Datatype is an essential concept in programming; every value in a python has its own datatype.\n",
    "    \n",
    "    python provide following kind of datatypes\n",
    "    \n",
    "    1. Basic Datatypes:\n",
    "    \n",
    "       > integer\n",
    "       > float\n",
    "       > str    (String)\n",
    "       > bool      (boolean)\n",
    "       > complex\n",
    "       > None\n",
    "    \n",
    "    2. Data structures \n",
    "        > bytes\n",
    "        > bytearray\n",
    "        > list\n",
    "        > tuple\n",
    "        > set\n",
    "        > frozenset\n",
    "        > dict     (dictionary)\n",
    "        > range \n",
    "    "
   ]
  },
  {
   "cell_type": "markdown",
   "id": "bebf1c82",
   "metadata": {},
   "source": [
    "# Basic Datatype"
   ]
  },
  {
   "cell_type": "code",
   "execution_count": 1,
   "id": "4465e22d",
   "metadata": {},
   "outputs": [
    {
     "data": {
      "text/plain": [
       "int"
      ]
     },
     "execution_count": 1,
     "metadata": {},
     "output_type": "execute_result"
    }
   ],
   "source": [
    "# Example \n",
    "\n",
    "a=10\n",
    "type(a)"
   ]
  },
  {
   "cell_type": "code",
   "execution_count": 2,
   "id": "bcfc3b29",
   "metadata": {},
   "outputs": [
    {
     "data": {
      "text/plain": [
       "float"
      ]
     },
     "execution_count": 2,
     "metadata": {},
     "output_type": "execute_result"
    }
   ],
   "source": [
    "b = 10.5\n",
    "type(b)"
   ]
  },
  {
   "cell_type": "code",
   "execution_count": 3,
   "id": "93124611",
   "metadata": {},
   "outputs": [
    {
     "data": {
      "text/plain": [
       "str"
      ]
     },
     "execution_count": 3,
     "metadata": {},
     "output_type": "execute_result"
    }
   ],
   "source": [
    "c = \"ABC\"\n",
    "type(c)"
   ]
  },
  {
   "cell_type": "code",
   "execution_count": 4,
   "id": "d2fd588b",
   "metadata": {},
   "outputs": [
    {
     "data": {
      "text/plain": [
       "complex"
      ]
     },
     "execution_count": 4,
     "metadata": {},
     "output_type": "execute_result"
    }
   ],
   "source": [
    "d = 10+2j\n",
    "type(d)"
   ]
  },
  {
   "cell_type": "code",
   "execution_count": 5,
   "id": "ff5f008a",
   "metadata": {},
   "outputs": [
    {
     "data": {
      "text/plain": [
       "bool"
      ]
     },
     "execution_count": 5,
     "metadata": {},
     "output_type": "execute_result"
    }
   ],
   "source": [
    "e = True\n",
    "type(e)"
   ]
  },
  {
   "cell_type": "markdown",
   "id": "fe4afebd",
   "metadata": {},
   "source": [
    "# Data Structures"
   ]
  },
  {
   "cell_type": "code",
   "execution_count": 6,
   "id": "4f4d1c6a",
   "metadata": {},
   "outputs": [
    {
     "data": {
      "text/plain": [
       "list"
      ]
     },
     "execution_count": 6,
     "metadata": {},
     "output_type": "execute_result"
    }
   ],
   "source": [
    "# list values are enclosed by square brackets\n",
    "\n",
    "l = [1,2,3,4,5,6]\n",
    "type(l)"
   ]
  },
  {
   "cell_type": "code",
   "execution_count": 8,
   "id": "c73ef723",
   "metadata": {},
   "outputs": [
    {
     "data": {
      "text/plain": [
       "tuple"
      ]
     },
     "execution_count": 8,
     "metadata": {},
     "output_type": "execute_result"
    }
   ],
   "source": [
    "# tuple values are enclosed by paranthesis \n",
    "\n",
    "t = (1,2,3,4,5)\n",
    "type(t)"
   ]
  },
  {
   "cell_type": "code",
   "execution_count": 9,
   "id": "7737f216",
   "metadata": {},
   "outputs": [
    {
     "data": {
      "text/plain": [
       "set"
      ]
     },
     "execution_count": 9,
     "metadata": {},
     "output_type": "execute_result"
    }
   ],
   "source": [
    "# set values are enclosed by curely braces\n",
    "\n",
    "s = {1,2,3,4,5}\n",
    "type(s)"
   ]
  },
  {
   "cell_type": "code",
   "execution_count": 11,
   "id": "3a8e7a04",
   "metadata": {},
   "outputs": [
    {
     "data": {
      "text/plain": [
       "dict"
      ]
     },
     "execution_count": 11,
     "metadata": {},
     "output_type": "execute_result"
    }
   ],
   "source": [
    "# dictionary is key and value pair ; items are enclosed by curely braces\n",
    "\n",
    "s = {1:\"Raju\",2:\"Ramu\"}\n",
    "type(s)"
   ]
  },
  {
   "cell_type": "code",
   "execution_count": 12,
   "id": "244a9049",
   "metadata": {},
   "outputs": [
    {
     "data": {
      "text/plain": [
       "bytes"
      ]
     },
     "execution_count": 12,
     "metadata": {},
     "output_type": "execute_result"
    }
   ],
   "source": [
    "# we can not create byte object directly ; we need to type cast manually\n",
    "\n",
    "b = bytes([1,2,3,4,5])    # list converting to bytes\n",
    "type(b)"
   ]
  },
  {
   "cell_type": "code",
   "execution_count": 13,
   "id": "f7aa51de",
   "metadata": {},
   "outputs": [
    {
     "data": {
      "text/plain": [
       "bytearray"
      ]
     },
     "execution_count": 13,
     "metadata": {},
     "output_type": "execute_result"
    }
   ],
   "source": [
    "# we can not create bytearray object directlly; we need to type cast manually using bytearray() function\n",
    "\n",
    "ba = bytearray([1,2,3,4,5])\n",
    "type(ba)"
   ]
  },
  {
   "cell_type": "code",
   "execution_count": 14,
   "id": "d77b31ca",
   "metadata": {},
   "outputs": [
    {
     "data": {
      "text/plain": [
       "frozenset"
      ]
     },
     "execution_count": 14,
     "metadata": {},
     "output_type": "execute_result"
    }
   ],
   "source": [
    "# we can not create frozenset directly; need to type cast manually by using frozenset() function\n",
    "\n",
    "fs = frozenset([1,2,3,4,5])\n",
    "type(fs)"
   ]
  },
  {
   "cell_type": "code",
   "execution_count": 16,
   "id": "09c2d562",
   "metadata": {},
   "outputs": [
    {
     "data": {
      "text/plain": [
       "range"
      ]
     },
     "execution_count": 16,
     "metadata": {},
     "output_type": "execute_result"
    }
   ],
   "source": [
    "# range function is to create a sequence of values to given\n",
    "\n",
    "x = range(10)   # print 0,1,2,3,4,5,6,7,8,9 values when range is 10\n",
    "type(x)"
   ]
  },
  {
   "cell_type": "code",
   "execution_count": null,
   "id": "74c46bae",
   "metadata": {},
   "outputs": [],
   "source": []
  }
 ],
 "metadata": {
  "kernelspec": {
   "display_name": "Python 3",
   "language": "python",
   "name": "python3"
  },
  "language_info": {
   "codemirror_mode": {
    "name": "ipython",
    "version": 3
   },
   "file_extension": ".py",
   "mimetype": "text/x-python",
   "name": "python",
   "nbconvert_exporter": "python",
   "pygments_lexer": "ipython3",
   "version": "3.8.8"
  }
 },
 "nbformat": 4,
 "nbformat_minor": 5
}

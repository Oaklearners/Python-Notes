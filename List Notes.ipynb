{
 "cells": [
  {
   "cell_type": "markdown",
   "metadata": {},
   "source": [
    "# List DataStructures\n",
    "\n",
    "    1. list is a collection of hetrogenious collection of elements\n",
    "    \n",
    "    2. Python lists are mutable type its mean we can modify its element after it created.\n",
    "    \n",
    "    3. Syntax: list elements are enclosed by []. and the elements in the list are superated by comma(,)\n",
    "    \n",
    "    \n",
    "    \n",
    "    "
   ]
  },
  {
   "cell_type": "markdown",
   "metadata": {},
   "source": [
    "# Characteristics of Lists\n",
    "    \n",
    "    The list has the following characteristics:\n",
    "\n",
    "    => The lists are ordered.\n",
    "    => The element of the list can access by index.\n",
    "    => The lists are the mutable type.\n",
    "    => The lists are mutable types.\n",
    "    => A list can store the number of various elements."
   ]
  },
  {
   "cell_type": "code",
   "execution_count": null,
   "metadata": {},
   "outputs": [],
   "source": [
    "# list is a collection of hetrogenious (diff type of elememnts) collection of elements\n",
    "\n",
    "l = [10,12.5,\"India\",10+5j,True]\n",
    "print(l)\n"
   ]
  },
  {
   "cell_type": "code",
   "execution_count": null,
   "metadata": {},
   "outputs": [],
   "source": [
    "# to chekc the type\n",
    "\n",
    "print(type(l))"
   ]
  },
  {
   "cell_type": "code",
   "execution_count": null,
   "metadata": {},
   "outputs": [],
   "source": [
    "# modify the list value\n",
    "\n",
    "x = [1,2,3,4,5,6]\n",
    "\n",
    "print(\"Befor modify\",)"
   ]
  },
  {
   "cell_type": "markdown",
   "metadata": {},
   "source": [
    "# Accessing List\n",
    "\n",
    "    we can access list elements two ways\n",
    "    \n",
    "    1. indexing:\n",
    "    ============\n",
    "        python support +ve and -ve indexing\n",
    "        \n",
    "            +ve index:\n",
    "            ----------\n",
    "                from left to right\n",
    "                index begins from 0 to n-1 , where n is the list size                \n",
    "                \n",
    "           -ve index:\n",
    "           ----------\n",
    "               from right to left\n",
    "               index begins from -1 to -n. where n is the list size\n",
    "               \n",
    "    2. slicing:\n",
    "    ===========\n",
    "        \n",
    "        Slicing with two values : \n",
    "                \n",
    "                list_object[start:end]\n",
    "        \n",
    "        Slicing with three values: \n",
    "        \n",
    "                list_object[start:end:step]\n",
    "\n",
    "\n",
    "            Default values for slicing:\n",
    "            ===========================\n",
    "            \n",
    "                   start : 0\n",
    "                   end : list size\n",
    "                   step : +1\n",
    "                   \n",
    "\n"
   ]
  },
  {
   "cell_type": "code",
   "execution_count": null,
   "metadata": {},
   "outputs": [],
   "source": [
    "# Example for indexing\n",
    "\n",
    "l = [10,12.5,\"India\",10+5j,True]"
   ]
  },
  {
   "cell_type": "code",
   "execution_count": null,
   "metadata": {},
   "outputs": [],
   "source": [
    "# +ve indexing :right to left\n",
    "\n",
    "print(l[0])\n",
    "print(l[1])\n",
    "print(l[2])\n",
    "print(l[3])\n",
    "print(l[4])\n"
   ]
  },
  {
   "cell_type": "code",
   "execution_count": null,
   "metadata": {},
   "outputs": [],
   "source": [
    "# -ve indexing   : left to right\n",
    "\n",
    "print(l[-1])\n",
    "print(l[-2])\n",
    "print(l[-3])\n",
    "print(l[-4])\n",
    "print(l[-5])\n",
    "\n"
   ]
  },
  {
   "cell_type": "code",
   "execution_count": null,
   "metadata": {},
   "outputs": [],
   "source": [
    "# Example for Slicing\n",
    "\n",
    "l = [10,12.5,\"India\",10+5j,True]\n",
    "\n",
    "\n",
    "#printing all elements using slicing\n",
    "print(l[:])\n",
    "\n"
   ]
  },
  {
   "cell_type": "code",
   "execution_count": null,
   "metadata": {},
   "outputs": [],
   "source": [
    "# printing reverse - using slicing\n",
    "\n",
    "l[::-1]"
   ]
  },
  {
   "cell_type": "code",
   "execution_count": null,
   "metadata": {},
   "outputs": [],
   "source": [
    "# print odd index values\n",
    "\n",
    "l[1::2]"
   ]
  },
  {
   "cell_type": "code",
   "execution_count": null,
   "metadata": {},
   "outputs": [],
   "source": [
    "#printing even index value\n",
    "l[0::2]"
   ]
  },
  {
   "cell_type": "code",
   "execution_count": null,
   "metadata": {},
   "outputs": [],
   "source": [
    "# elemetns between 1,4 elements\n",
    "\n",
    "l[1:4]"
   ]
  },
  {
   "cell_type": "code",
   "execution_count": null,
   "metadata": {},
   "outputs": [],
   "source": [
    "# elemetns between 1,4 elements in reverse\n",
    "\n",
    "l[3:0:-1]"
   ]
  },
  {
   "cell_type": "markdown",
   "metadata": {},
   "source": [
    "# List Operators:\n",
    "\n",
    "    1. Addtion (+) : to concatenate two lists\n",
    "    2. multiplication(*) / repetation operator: repeate the list given number of times\n",
    "    3. Relational operator : all relational operators (<, <=, >,>=, == , !=)\n",
    "    4. membership operator"
   ]
  },
  {
   "cell_type": "code",
   "execution_count": null,
   "metadata": {},
   "outputs": [],
   "source": [
    "# Example for Additon Operator\n",
    "\n",
    "x =[3,6,8,1,5]\n",
    "y =[4,3,7,1,3]\n",
    "\n",
    "x+y"
   ]
  },
  {
   "cell_type": "code",
   "execution_count": null,
   "metadata": {},
   "outputs": [],
   "source": [
    "# Example for Multiplication (*)\n",
    "\n",
    "\n",
    "x =[3,6,8,1,5]\n",
    "\n",
    "x*3\n"
   ]
  },
  {
   "cell_type": "code",
   "execution_count": null,
   "metadata": {},
   "outputs": [],
   "source": [
    "# Relational operator:   lessthan (<)\n",
    "\n",
    "\n",
    "x = [1,2,3,4,5]\n",
    "y = [1,21,3,4,5]\n",
    "\n",
    "# it compare from left side to right side, if first position elements are same it goes to second index. \n",
    "                \n",
    "# here, 0th index elemets are same, then it goes to next element 2< 21 so true       \n",
    "x<y\n"
   ]
  },
  {
   "cell_type": "code",
   "execution_count": null,
   "metadata": {},
   "outputs": [],
   "source": [
    "x>y"
   ]
  },
  {
   "cell_type": "code",
   "execution_count": null,
   "metadata": {},
   "outputs": [],
   "source": [
    "x==y"
   ]
  },
  {
   "cell_type": "code",
   "execution_count": null,
   "metadata": {},
   "outputs": [],
   "source": [
    "x!=y"
   ]
  },
  {
   "cell_type": "code",
   "execution_count": null,
   "metadata": {},
   "outputs": [],
   "source": [
    "# Example for memebership operator\n",
    "\n",
    "x =[3,6,8,1,5]\n",
    "3 in x "
   ]
  },
  {
   "cell_type": "code",
   "execution_count": null,
   "metadata": {},
   "outputs": [],
   "source": [
    "100 not in x"
   ]
  },
  {
   "cell_type": "markdown",
   "metadata": {},
   "source": [
    "# List Functions and Methods:\n",
    "\n",
    "    1. len() function: \n",
    "        it return lenght of list/ it return how many elements are present in list"
   ]
  },
  {
   "cell_type": "code",
   "execution_count": null,
   "metadata": {},
   "outputs": [],
   "source": [
    "x =[3,66,1,7,5]\n",
    "len(x)"
   ]
  },
  {
   "cell_type": "markdown",
   "metadata": {},
   "source": [
    "                                           *******************************\n",
    "  \n",
    "     2. append() method:\n",
    "         adding new element at the end of list, using append we can add only one element at a time\n",
    "     "
   ]
  },
  {
   "cell_type": "code",
   "execution_count": null,
   "metadata": {},
   "outputs": [],
   "source": [
    "x =[3,66,1,7,5]\n",
    "\n",
    "# adding elements/ appending element\n",
    "x.append(-100)\n",
    "\n",
    "\n",
    "# after adding - modified list\n",
    "print(x)"
   ]
  },
  {
   "cell_type": "markdown",
   "metadata": {},
   "source": [
    "                                          *******************************\n",
    "  \n",
    "    3. extend() method:\n",
    "        adding more than one element to the exising list."
   ]
  },
  {
   "cell_type": "code",
   "execution_count": null,
   "metadata": {},
   "outputs": [],
   "source": [
    "x =[3,66,1,7,5]\n",
    "\n",
    "# adding multiple elements\n",
    "x.extend([-100,-200,-300,-400])\n",
    "\n",
    "\n",
    "# after adding elements - modified list\n",
    "print(x)"
   ]
  },
  {
   "cell_type": "markdown",
   "metadata": {},
   "source": [
    "                                            *******************************\n",
    "   \n",
    "   \n",
    "       4. remove() method:\n",
    "        \n",
    "            removing the given element from the list\n",
    "        \n",
    "        Note:\n",
    "         \n",
    "            1. if the given element contains multiple times in list .it removes first occurence element\n",
    "            2. if the given element does not contains in list it return error"
   ]
  },
  {
   "cell_type": "code",
   "execution_count": null,
   "metadata": {},
   "outputs": [],
   "source": [
    "x =[3,66,1,7,5]\n",
    "\n",
    "x.remove(3)\n",
    "\n",
    "\n",
    "# modified list\n",
    "print(x)"
   ]
  },
  {
   "cell_type": "code",
   "execution_count": null,
   "metadata": {},
   "outputs": [],
   "source": [
    "# given element repeat multiple times\n",
    "\n",
    "x =[3,66,1,7,3,5,3]\n",
    "\n",
    "x.remove(3)  # remove first occurence\n",
    "\n",
    "\n",
    "# modified list\n",
    "print(x)"
   ]
  },
  {
   "cell_type": "code",
   "execution_count": null,
   "metadata": {},
   "outputs": [],
   "source": [
    "# given element does not exist\n",
    "\n",
    "x =[3,66,1,7,3,5,3]\n",
    "\n",
    "x.remove(-100)  # error\n",
    "\n",
    "\n",
    "# modified list\n",
    "print(x)"
   ]
  },
  {
   "cell_type": "markdown",
   "metadata": {},
   "source": [
    "                                            *******************************\n",
    "   \n",
    "   \n",
    "       5. pop() method:\n",
    "        \n",
    "            removing the given element from the list, and it return the removed/ deleted element\n",
    "        \n",
    "       syntax:\n",
    "            list_object.pop()   : it removes the last elemetn in list(-1 index)\n",
    "            \n",
    "            list_object.pop(index) : it removes the given index position element\n",
    "            \n",
    "                   Note: if given index is out of raange, then it return error"
   ]
  },
  {
   "cell_type": "code",
   "execution_count": null,
   "metadata": {},
   "outputs": [],
   "source": [
    "x=[2,4,6,8,1,3,5,7,9]\n",
    "\n",
    "# last element delete\n",
    "x.pop()"
   ]
  },
  {
   "cell_type": "code",
   "execution_count": null,
   "metadata": {},
   "outputs": [],
   "source": [
    "x=[2,4,6,8,1,3,5,7,9]\n",
    "\n",
    "# 4th index element delete\n",
    "x.pop(4)"
   ]
  },
  {
   "cell_type": "code",
   "execution_count": null,
   "metadata": {},
   "outputs": [],
   "source": [
    "# if given index not present\n",
    "\n",
    "x=[2,4,6,8,1,3,5,7,9]\n",
    "\n",
    "# error - 100 index not exist\n",
    "x.pop(100)"
   ]
  },
  {
   "cell_type": "markdown",
   "metadata": {},
   "source": [
    "                                            *******************************\n",
    "\n",
    "        6: min() / max() functions:\n",
    "        \n",
    "            it return min and max element in list\n",
    "            \n",
    "            \n",
    "            Note : if list contains same element, min() and max() functions return same value"
   ]
  },
  {
   "cell_type": "code",
   "execution_count": null,
   "metadata": {},
   "outputs": [],
   "source": [
    "x = [1,2,32,44,51,76,7]\n",
    "\n",
    "min(x)"
   ]
  },
  {
   "cell_type": "code",
   "execution_count": null,
   "metadata": {},
   "outputs": [],
   "source": [
    "x = [1,2,32,44,51,76,7]\n",
    "\n",
    "max(x)"
   ]
  },
  {
   "cell_type": "code",
   "execution_count": null,
   "metadata": {},
   "outputs": [],
   "source": [
    "x=[1,1,1,1,1,1,1,1,1,1]\n",
    "min(x)"
   ]
  },
  {
   "cell_type": "code",
   "execution_count": null,
   "metadata": {},
   "outputs": [],
   "source": [
    "max(x)"
   ]
  },
  {
   "cell_type": "markdown",
   "metadata": {},
   "source": [
    "                                          *******************************\n",
    "        7: clear() method:\n",
    "        \n",
    "            it delete all elements in list\n",
    "            "
   ]
  },
  {
   "cell_type": "code",
   "execution_count": null,
   "metadata": {},
   "outputs": [],
   "source": [
    "x = [1,2,32,44,51,76,7]\n",
    "\n",
    "x.clear()\n",
    "print(x)"
   ]
  },
  {
   "cell_type": "markdown",
   "metadata": {},
   "source": [
    "                                         *******************************\n",
    "                                         \n",
    "        8: index() method:\n",
    "            \n",
    "            it return the index positon of given element\n",
    "            \n",
    "            \n",
    "            Note:\n",
    "                \n",
    "               if the given element does not exist in list, it return error\n",
    "            \n",
    " "
   ]
  },
  {
   "cell_type": "code",
   "execution_count": null,
   "metadata": {},
   "outputs": [],
   "source": [
    "x = [1,2,32,44,51,76,7]\n",
    "\n",
    "x.index(32)\n"
   ]
  },
  {
   "cell_type": "code",
   "execution_count": null,
   "metadata": {},
   "outputs": [],
   "source": [
    "x.index(100)"
   ]
  },
  {
   "cell_type": "markdown",
   "metadata": {},
   "source": [
    "                                       *******************************\n",
    "    \n",
    "    9: reverse() method:\n",
    "        to reverse the list , it modifies the original list\n",
    "  "
   ]
  },
  {
   "cell_type": "code",
   "execution_count": null,
   "metadata": {},
   "outputs": [],
   "source": [
    "x = [1,2,32,44,51,76,7]\n",
    "\n",
    "x.reverse()\n",
    "\n",
    "print(x)"
   ]
  },
  {
   "cell_type": "markdown",
   "metadata": {},
   "source": [
    "                                       *******************************\n",
    "    \n",
    "    10: sort() method:\n",
    "        To arrange the list of elements in order (default - ascending order)\n",
    "        \n",
    "        it modifies the original list\n",
    "        \n",
    "        \n",
    "        To arrange list of eleemnts in descending order, we use keyarguement reverse=True (default value is false)\n",
    "        \n",
    "        sort(reverse=True)\n",
    "        \n",
    "        \n",
    "        Note: if we want to sort the list of elements, all the elements in list should be homogenious type, \n",
    "        \n",
    "        and complex comparision also not possible\n",
    "        \n",
    "        \n",
    "  "
   ]
  },
  {
   "cell_type": "code",
   "execution_count": null,
   "metadata": {},
   "outputs": [],
   "source": [
    "x = [1,2,32,44,51,76,7]\n",
    "\n",
    "x.sort()\n",
    "\n",
    "print(x)\n"
   ]
  },
  {
   "cell_type": "code",
   "execution_count": null,
   "metadata": {},
   "outputs": [],
   "source": [
    "x = [1,2,32,44,51,76,7]\n",
    "\n",
    "x.sort(reverse=True)\n",
    "\n",
    "print(x)\n"
   ]
  },
  {
   "cell_type": "code",
   "execution_count": null,
   "metadata": {},
   "outputs": [],
   "source": [
    "# if we try to sort hetrogenious type of elements, it return erro\n",
    "\n",
    "x=[1,5.4,\"sru\",True,10+2j]\n",
    "\n",
    "x.sort()"
   ]
  },
  {
   "cell_type": "code",
   "execution_count": null,
   "metadata": {},
   "outputs": [],
   "source": [
    "# error: no complex sorting\n",
    "\n",
    "x=[10+2j,3+5j]\n",
    "x.sort()"
   ]
  },
  {
   "cell_type": "markdown",
   "metadata": {},
   "source": [
    "# Nested List \n",
    "\n",
    "    list inside a list is called nested list"
   ]
  },
  {
   "cell_type": "code",
   "execution_count": 82,
   "metadata": {},
   "outputs": [],
   "source": [
    " l = [1,2,[3,4,5],6,7,[8,9,0,1,2]]"
   ]
  },
  {
   "cell_type": "code",
   "execution_count": 85,
   "metadata": {},
   "outputs": [
    {
     "name": "stdout",
     "output_type": "stream",
     "text": [
      "1\n",
      "2\n",
      "[3, 4, 5]\n",
      "6\n",
      "7\n",
      "[8, 9, 0, 1, 2]\n"
     ]
    }
   ],
   "source": [
    "# accessing list nested list element\n",
    "print(l[0])\n",
    "print(l[1])\n",
    "print(l[2])\n",
    "print(l[3])\n",
    "print(l[4])\n",
    "print(l[5])"
   ]
  },
  {
   "cell_type": "code",
   "execution_count": 89,
   "metadata": {},
   "outputs": [
    {
     "name": "stdout",
     "output_type": "stream",
     "text": [
      "[3, 4, 5]\n",
      "4\n"
     ]
    }
   ],
   "source": [
    "# accessing nested list element\n",
    "\n",
    "print(l[2])\n",
    "print(l[2][1])"
   ]
  },
  {
   "cell_type": "code",
   "execution_count": null,
   "metadata": {},
   "outputs": [],
   "source": []
  }
 ],
 "metadata": {
  "kernelspec": {
   "display_name": "Python 3",
   "language": "python",
   "name": "python3"
  },
  "language_info": {
   "codemirror_mode": {
    "name": "ipython",
    "version": 3
   },
   "file_extension": ".py",
   "mimetype": "text/x-python",
   "name": "python",
   "nbconvert_exporter": "python",
   "pygments_lexer": "ipython3",
   "version": "3.8.5"
  }
 },
 "nbformat": 4,
 "nbformat_minor": 4
}
